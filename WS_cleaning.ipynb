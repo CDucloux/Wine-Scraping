{
 "cells": [
  {
   "cell_type": "code",
   "execution_count": 97,
   "metadata": {},
   "outputs": [],
   "source": [
    "import src.modules.scraping as sc\n",
    "import polars as pl\n",
    "import re"
   ]
  },
  {
   "cell_type": "code",
   "execution_count": 98,
   "metadata": {},
   "outputs": [
    {
     "name": "stderr",
     "output_type": "stream",
     "text": [
      "c:\\Users\\guill\\OneDrive - Université de Tours\\Bureau\\M2\\ML\\Wine-Scraping\\src\\modules\\scraping.py:11: GuessedAtParserWarning: No parser was explicitly specified, so I'm using the best available HTML parser for this system (\"lxml\"). This usually isn't a problem, but if you run this code on another system, or in a different virtual environment, it may use a different parser and behave differently.\n",
      "\n",
      "The code that caused this warning is on line 11 of the file c:\\Users\\guill\\OneDrive - Université de Tours\\Bureau\\M2\\ML\\Wine-Scraping\\src\\modules\\scraping.py. To get rid of this warning, pass the additional argument 'features=\"lxml\"' to the BeautifulSoup constructor.\n",
      "\n",
      "  soupe = BS(requete.text)\n"
     ]
    }
   ],
   "source": [
    "sc.json_brut(sc.scraping(\"https://www.vinatis.com/52605-vacqueyras-vieilles-vignes-2020-domaine-sandilaure\"))"
   ]
  },
  {
   "cell_type": "code",
   "execution_count": 99,
   "metadata": {},
   "outputs": [],
   "source": [
    "data = pl.read_json(\"data/vins.json\")"
   ]
  },
  {
   "cell_type": "code",
   "execution_count": 100,
   "metadata": {},
   "outputs": [
    {
     "name": "stderr",
     "output_type": "stream",
     "text": [
      "C:\\Users\\guill\\AppData\\Local\\Temp\\ipykernel_8000\\3420030718.py:2: DeprecationWarning: `strip` is deprecated. It has been renamed to `strip_chars`.\n",
      "  \"name\" : data[\"name\"].str.strip(),\n",
      "C:\\Users\\guill\\AppData\\Local\\Temp\\ipykernel_8000\\3420030718.py:3: DeprecationWarning: `strip` is deprecated. It has been renamed to `strip_chars`.\n",
      "  \"capacity\" : data[\"capacity\"].str.strip(),\n",
      "C:\\Users\\guill\\AppData\\Local\\Temp\\ipykernel_8000\\3420030718.py:7: DeprecationWarning: `strip` is deprecated. It has been renamed to `strip_chars`.\n",
      "  \"characteristic\" : data[\"characteristic\"].str.strip(),\n",
      "C:\\Users\\guill\\AppData\\Local\\Temp\\ipykernel_8000\\3420030718.py:8: DeprecationWarning: `strip` is deprecated. It has been renamed to `strip_chars`.\n",
      "  \"note\" : data[\"note\"].str.strip(),\n",
      "C:\\Users\\guill\\AppData\\Local\\Temp\\ipykernel_8000\\3420030718.py:25: DeprecationWarning: `strip` is deprecated. It has been renamed to `strip_chars`.\n",
      "  \"picture\" : data[\"picture\"].str.strip()\n"
     ]
    }
   ],
   "source": [
    "df = {\n",
    "    \"name\" : data[\"name\"].str.strip(),\n",
    "    \"capacity\" : data[\"capacity\"].str.strip(),\n",
    "    \"price\" : data[\"prices\"][0][0].strip(),\n",
    "    \"price_discount_1\" : data[\"prices\"][0][1].strip(),\n",
    "    \"price_discount_2\" : data[\"prices\"][0][2].strip(),\n",
    "    \"characteristic\" : data[\"characteristic\"].str.strip(),\n",
    "    \"note\" : data[\"note\"].str.strip(),\n",
    "    \"keyword_1\": data[\"keyword\"][0][0].strip(),\n",
    "    \"keyword_2\": data[\"keyword\"][0][1].strip(),\n",
    "    \"keyword_3\": data[\"keyword\"][0][2].strip(),\n",
    "    \"vintage\": data[\"informations\"][0][\" \\xa0\\xa0Millésime\"].strip(),\n",
    "    \"grape_variety\": data[\"informations\"][0][' \\xa0\\xa0Goûts'].strip(),\n",
    "    \"taste\": data[\"informations\"][0][' \\xa0\\xa0Goûts'].strip(),\n",
    "    \"taste_type\": data[\"informations\"][0][ ' \\xa0\\xa0Par Goûts'].strip(),\n",
    "    \"eye\": data[\"informations\"][0][ \" \\xa0\\xa0A l'oeil\"].strip(),\n",
    "    \"nose\": data[\"informations\"][0][' \\xa0\\xa0Au nez'].strip(),\n",
    "    \"mouth\": data[\"informations\"][0][' \\xa0\\xa0En bouche'].strip(),\n",
    "    \"temperature\": data[\"informations\"][0][' \\xa0\\xa0Température de service'].strip(),\n",
    "    \"service\": data[\"informations\"][0][' \\xa0\\xa0Service'].strip(),\n",
    "    \"conservation\": data[\"informations\"][0][' \\xa0\\xa0Conservation'].strip(),\n",
    "    \"max_date\": data[\"informations\"][0][\" \\xa0\\xa0Jusqu'à\"].strip(),\n",
    "    \"food\": data[\"informations\"][0][' \\xa0\\xa0Accords mets-vin'].strip(),\n",
    "    \"recomandation\": data[\"informations\"][0][' \\xa0\\xa0Accords recommandés'].strip(),\n",
    "    \"picture\" : data[\"picture\"].str.strip()\n",
    "}"
   ]
  },
  {
   "cell_type": "code",
   "execution_count": 101,
   "metadata": {},
   "outputs": [],
   "source": [
    "df = pl.DataFrame(df)"
   ]
  },
  {
   "cell_type": "code",
   "execution_count": 102,
   "metadata": {},
   "outputs": [
    {
     "data": {
      "text/html": [
       "<div><style>\n",
       ".dataframe > thead > tr > th,\n",
       ".dataframe > tbody > tr > td {\n",
       "  text-align: right;\n",
       "  white-space: pre-wrap;\n",
       "}\n",
       "</style>\n",
       "<small>shape: (1, 24)</small><table border=\"1\" class=\"dataframe\"><thead><tr><th>name</th><th>capacity</th><th>price</th><th>price_discount_1</th><th>price_discount_2</th><th>characteristic</th><th>note</th><th>keyword_1</th><th>keyword_2</th><th>keyword_3</th><th>vintage</th><th>grape_variety</th><th>taste</th><th>taste_type</th><th>eye</th><th>nose</th><th>mouth</th><th>temperature</th><th>service</th><th>conservation</th><th>max_date</th><th>food</th><th>recomandation</th><th>picture</th></tr><tr><td>str</td><td>str</td><td>str</td><td>str</td><td>str</td><td>str</td><td>str</td><td>str</td><td>str</td><td>str</td><td>str</td><td>str</td><td>str</td><td>str</td><td>str</td><td>str</td><td>str</td><td>str</td><td>str</td><td>str</td><td>str</td><td>str</td><td>str</td><td>str</td></tr></thead><tbody><tr><td>&quot;VACQUEYRAS VIE…</td><td>&quot;0,75 L&quot;</td><td>&quot;15,50 €&quot;</td><td>&quot;11,90 €&quot;</td><td>&quot;None&quot;</td><td>&quot;Vin Rouge / Rh…</td><td>&quot;16.9/20  noté …</td><td>&quot;Epicé&quot;</td><td>&quot;Charpenté&quot;</td><td>&quot;Maison inconto…</td><td>&quot;2020&quot;</td><td>&quot;Rouge Puissant…</td><td>&quot;Rouge Puissant…</td><td>&quot;Puissant&quot;</td><td>&quot;Belle robe gre…</td><td>&quot;Complexe et tr…</td><td>&quot;Une bouche int…</td><td>&quot;16-18°C&quot;</td><td>&quot;Ouvrir 1h avan…</td><td>&quot;A boire et à g…</td><td>&quot;2032&quot;</td><td>&quot;Charcuterie, V…</td><td>&quot;Grillades, ent…</td><td>&quot;https://www.vi…</td></tr></tbody></table></div>"
      ],
      "text/plain": [
       "shape: (1, 24)\n",
       "┌────────────┬──────────┬─────────┬────────────┬───┬──────────┬────────────┬───────────┬───────────┐\n",
       "│ name       ┆ capacity ┆ price   ┆ price_disc ┆ … ┆ max_date ┆ food       ┆ recomanda ┆ picture   │\n",
       "│ ---        ┆ ---      ┆ ---     ┆ ount_1     ┆   ┆ ---      ┆ ---        ┆ tion      ┆ ---       │\n",
       "│ str        ┆ str      ┆ str     ┆ ---        ┆   ┆ str      ┆ str        ┆ ---       ┆ str       │\n",
       "│            ┆          ┆         ┆ str        ┆   ┆          ┆            ┆ str       ┆           │\n",
       "╞════════════╪══════════╪═════════╪════════════╪═══╪══════════╪════════════╪═══════════╪═══════════╡\n",
       "│ VACQUEYRAS ┆ 0,75 L   ┆ 15,50 € ┆ 11,90 €    ┆ … ┆ 2032     ┆ Charcuteri ┆ Grillades ┆ https://w │\n",
       "│ VIEILLES   ┆          ┆         ┆            ┆   ┆          ┆ e, Viande  ┆ , entrecô ┆ ww.vinati │\n",
       "│ VIGNES     ┆          ┆         ┆            ┆   ┆          ┆ rouge,     ┆ te, sauté ┆ s.com/659 │\n",
       "│ 2020 …     ┆          ┆         ┆            ┆   ┆          ┆ Viand…     ┆ de c…     ┆ 36-de…    │\n",
       "└────────────┴──────────┴─────────┴────────────┴───┴──────────┴────────────┴───────────┴───────────┘"
      ]
     },
     "execution_count": 102,
     "metadata": {},
     "output_type": "execute_result"
    }
   ],
   "source": [
    "df"
   ]
  },
  {
   "cell_type": "code",
   "execution_count": 103,
   "metadata": {},
   "outputs": [],
   "source": [
    "df = df.with_columns(\n",
    "    pl.col(\"capacity\").str.replace(\" L\",\"\")\n",
    "    .str.replace(\",\",\".\")\n",
    "    .cast(pl.Float64)\n",
    ")"
   ]
  },
  {
   "cell_type": "code",
   "execution_count": 104,
   "metadata": {},
   "outputs": [],
   "source": [
    "df = df.with_columns(\n",
    "    pl.col(\"price\").str.replace(\" €\",\"\")\n",
    "    .str.replace(\",\",\".\")\n",
    "    .cast(pl.Float64),\n",
    ")"
   ]
  },
  {
   "cell_type": "code",
   "execution_count": 105,
   "metadata": {},
   "outputs": [],
   "source": [
    "try:\n",
    "    df = df.with_columns(\n",
    "        pl.col(\"price_discount_1\").str.replace(\" €\",\"\")\n",
    "        .str.replace(\",\",\".\")\n",
    "        .cast(pl.Float64),\n",
    "    )\n",
    "except:\n",
    "    pass"
   ]
  },
  {
   "cell_type": "code",
   "execution_count": 106,
   "metadata": {},
   "outputs": [],
   "source": [
    "try:\n",
    "    df = df.with_columns(\n",
    "        pl.col(\"price_discount_2\").str.replace(\" €\",\"\")\n",
    "        .str.replace(\",\",\".\")\n",
    "        .cast(pl.Float64),\n",
    "    )\n",
    "except:\n",
    "    pass"
   ]
  },
  {
   "cell_type": "code",
   "execution_count": 107,
   "metadata": {},
   "outputs": [],
   "source": [
    "df = df.with_columns(\n",
    "    pl.col(\"vintage\").cast(pl.Int32)\n",
    ")"
   ]
  },
  {
   "cell_type": "code",
   "execution_count": 108,
   "metadata": {},
   "outputs": [],
   "source": [
    "df = df.with_columns(\n",
    "    pl.col(\"max_date\").cast(pl.Int32)\n",
    ")"
   ]
  },
  {
   "cell_type": "code",
   "execution_count": 109,
   "metadata": {},
   "outputs": [],
   "source": [
    "df = df.with_columns(\n",
    "    pl.col(\"note\")\n",
    ")"
   ]
  },
  {
   "cell_type": "code",
   "execution_count": 110,
   "metadata": {},
   "outputs": [
    {
     "name": "stderr",
     "output_type": "stream",
     "text": [
      "C:\\Users\\guill\\AppData\\Local\\Temp\\ipykernel_8000\\1290778878.py:2: DeprecationWarning: `apply` is deprecated. It has been renamed to `map_elements`.\n",
      "  pl.col(\"note\").apply(lambda x: x.split()[0], return_dtype=pl.Utf8)\n",
      "C:\\Users\\guill\\AppData\\Local\\Temp\\ipykernel_8000\\1290778878.py:6: DeprecationWarning: `apply` is deprecated. It has been renamed to `map_elements`.\n",
      "  pl.col(\"note\").apply(lambda x: x.split()[-2], return_dtype=pl.Utf8)\n"
     ]
    }
   ],
   "source": [
    "df = df.with_columns(\n",
    "    pl.col(\"note\").apply(lambda x: x.split()[0], return_dtype=pl.Utf8)\n",
    "    .alias(\"avis\")\n",
    "    .str.replace(\"/20\",\"\")\n",
    "    .cast(pl.Float32),\n",
    "    pl.col(\"note\").apply(lambda x: x.split()[-2], return_dtype=pl.Utf8)\n",
    "    .alias(\"nb_avis\")\n",
    "    .str.replace(\"/20\",\"\")\n",
    "    .cast(pl.Int32)\n",
    ")\n",
    "\n",
    "df = df.drop(\"note\")"
   ]
  },
  {
   "cell_type": "code",
   "execution_count": 125,
   "metadata": {},
   "outputs": [],
   "source": [
    "def extract_charac(text: str) -> int | None:\n",
    "    \"\"\"\n",
    "    Extract the `year` of the wine from unstructured text using a regular expression pattern.\n",
    "    \"\"\"\n",
    "    match = re.findall(r'[^/]+', text)\n",
    "    if match:\n",
    "        return match\n",
    "    else:\n",
    "        return None"
   ]
  },
  {
   "cell_type": "code",
   "execution_count": 128,
   "metadata": {},
   "outputs": [
    {
     "ename": "ComputeError",
     "evalue": "AttributeError: 'str' object has no attribute 'alias'",
     "output_type": "error",
     "traceback": [
      "\u001b[1;31m---------------------------------------------------------------------------\u001b[0m",
      "\u001b[1;31mComputeError\u001b[0m                              Traceback (most recent call last)",
      "\u001b[1;32mc:\\Users\\guill\\OneDrive - Université de Tours\\Bureau\\M2\\ML\\Wine-Scraping\\WS_cleaning.ipynb Cellule 16\u001b[0m line \u001b[0;36m1\n\u001b[1;32m----> <a href='vscode-notebook-cell:/c%3A/Users/guill/OneDrive%20-%20Universit%C3%A9%20de%20Tours/Bureau/M2/ML/Wine-Scraping/WS_cleaning.ipynb#X31sZmlsZQ%3D%3D?line=0'>1</a>\u001b[0m df \u001b[39m=\u001b[39m df\u001b[39m.\u001b[39;49mwith_columns(\n\u001b[0;32m      <a href='vscode-notebook-cell:/c%3A/Users/guill/OneDrive%20-%20Universit%C3%A9%20de%20Tours/Bureau/M2/ML/Wine-Scraping/WS_cleaning.ipynb#X31sZmlsZQ%3D%3D?line=1'>2</a>\u001b[0m     pl\u001b[39m.\u001b[39;49mcol(\u001b[39m\"\u001b[39;49m\u001b[39mcharacteristic\u001b[39;49m\u001b[39m\"\u001b[39;49m)\u001b[39m.\u001b[39;49mmap_elements(\u001b[39mlambda\u001b[39;49;00m x: extract_charac(x[\u001b[39m0\u001b[39;49m])[\u001b[39m0\u001b[39;49m]\u001b[39m.\u001b[39;49malias(\u001b[39m\"\u001b[39;49m\u001b[39mcolor\u001b[39;49m\u001b[39m\"\u001b[39;49m))\n\u001b[0;32m      <a href='vscode-notebook-cell:/c%3A/Users/guill/OneDrive%20-%20Universit%C3%A9%20de%20Tours/Bureau/M2/ML/Wine-Scraping/WS_cleaning.ipynb#X31sZmlsZQ%3D%3D?line=2'>3</a>\u001b[0m )\n",
      "File \u001b[1;32mc:\\Users\\guill\\AppData\\Local\\Programs\\Python\\Python311\\Lib\\site-packages\\polars\\dataframe\\frame.py:7903\u001b[0m, in \u001b[0;36mDataFrame.with_columns\u001b[1;34m(self, *exprs, **named_exprs)\u001b[0m\n\u001b[0;32m   7755\u001b[0m \u001b[39mdef\u001b[39;00m \u001b[39mwith_columns\u001b[39m(\n\u001b[0;32m   7756\u001b[0m     \u001b[39mself\u001b[39m,\n\u001b[0;32m   7757\u001b[0m     \u001b[39m*\u001b[39mexprs: IntoExpr \u001b[39m|\u001b[39m Iterable[IntoExpr],\n\u001b[0;32m   7758\u001b[0m     \u001b[39m*\u001b[39m\u001b[39m*\u001b[39mnamed_exprs: IntoExpr,\n\u001b[0;32m   7759\u001b[0m ) \u001b[39m-\u001b[39m\u001b[39m>\u001b[39m DataFrame:\n\u001b[0;32m   7760\u001b[0m \u001b[39m    \u001b[39m\u001b[39m\"\"\"\u001b[39;00m\n\u001b[0;32m   7761\u001b[0m \u001b[39m    Add columns to this DataFrame.\u001b[39;00m\n\u001b[0;32m   7762\u001b[0m \n\u001b[1;32m   (...)\u001b[0m\n\u001b[0;32m   7901\u001b[0m \n\u001b[0;32m   7902\u001b[0m \u001b[39m    \"\"\"\u001b[39;00m\n\u001b[1;32m-> 7903\u001b[0m     \u001b[39mreturn\u001b[39;00m \u001b[39mself\u001b[39;49m\u001b[39m.\u001b[39;49mlazy()\u001b[39m.\u001b[39;49mwith_columns(\u001b[39m*\u001b[39;49mexprs, \u001b[39m*\u001b[39;49m\u001b[39m*\u001b[39;49mnamed_exprs)\u001b[39m.\u001b[39;49mcollect(eager\u001b[39m=\u001b[39;49m\u001b[39mTrue\u001b[39;49;00m)\n",
      "File \u001b[1;32mc:\\Users\\guill\\AppData\\Local\\Programs\\Python\\Python311\\Lib\\site-packages\\polars\\utils\\deprecation.py:95\u001b[0m, in \u001b[0;36mdeprecate_renamed_parameter.<locals>.decorate.<locals>.wrapper\u001b[1;34m(*args, **kwargs)\u001b[0m\n\u001b[0;32m     90\u001b[0m \u001b[39m@wraps\u001b[39m(function)\n\u001b[0;32m     91\u001b[0m \u001b[39mdef\u001b[39;00m \u001b[39mwrapper\u001b[39m(\u001b[39m*\u001b[39margs: P\u001b[39m.\u001b[39margs, \u001b[39m*\u001b[39m\u001b[39m*\u001b[39mkwargs: P\u001b[39m.\u001b[39mkwargs) \u001b[39m-\u001b[39m\u001b[39m>\u001b[39m T:\n\u001b[0;32m     92\u001b[0m     _rename_keyword_argument(\n\u001b[0;32m     93\u001b[0m         old_name, new_name, kwargs, function\u001b[39m.\u001b[39m\u001b[39m__name__\u001b[39m, version\n\u001b[0;32m     94\u001b[0m     )\n\u001b[1;32m---> 95\u001b[0m     \u001b[39mreturn\u001b[39;00m function(\u001b[39m*\u001b[39;49margs, \u001b[39m*\u001b[39;49m\u001b[39m*\u001b[39;49mkwargs)\n",
      "File \u001b[1;32mc:\\Users\\guill\\AppData\\Local\\Programs\\Python\\Python311\\Lib\\site-packages\\polars\\lazyframe\\frame.py:1713\u001b[0m, in \u001b[0;36mLazyFrame.collect\u001b[1;34m(self, type_coercion, predicate_pushdown, projection_pushdown, simplify_expression, no_optimization, slice_pushdown, comm_subplan_elim, comm_subexpr_elim, streaming, **kwargs)\u001b[0m\n\u001b[0;32m   1700\u001b[0m     comm_subplan_elim \u001b[39m=\u001b[39m \u001b[39mFalse\u001b[39;00m\n\u001b[0;32m   1702\u001b[0m ldf \u001b[39m=\u001b[39m \u001b[39mself\u001b[39m\u001b[39m.\u001b[39m_ldf\u001b[39m.\u001b[39moptimization_toggle(\n\u001b[0;32m   1703\u001b[0m     type_coercion,\n\u001b[0;32m   1704\u001b[0m     predicate_pushdown,\n\u001b[1;32m   (...)\u001b[0m\n\u001b[0;32m   1711\u001b[0m     eager,\n\u001b[0;32m   1712\u001b[0m )\n\u001b[1;32m-> 1713\u001b[0m \u001b[39mreturn\u001b[39;00m wrap_df(ldf\u001b[39m.\u001b[39mcollect())\n",
      "\u001b[1;31mComputeError\u001b[0m: AttributeError: 'str' object has no attribute 'alias'"
     ]
    }
   ],
   "source": [
    "df = df.with_columns(\n",
    "    pl.col(\"characteristic\").map_elements(lambda x: extract_charac(x[0])[0].alias(\"color\"))\n",
    ")"
   ]
  },
  {
   "cell_type": "code",
   "execution_count": 121,
   "metadata": {},
   "outputs": [
    {
     "data": {
      "text/plain": [
       "['Vin Rouge ', ' Rhône ', ' Vacqueyras AOC ', ' 14 % vol']"
      ]
     },
     "execution_count": 121,
     "metadata": {},
     "output_type": "execute_result"
    }
   ],
   "source": [
    "extract_year(df[\"characteristic\"][0])"
   ]
  },
  {
   "cell_type": "code",
   "execution_count": 112,
   "metadata": {},
   "outputs": [
    {
     "data": {
      "text/plain": [
       "'Vin Rouge / Rhône / Vacqueyras AOC / 14 % vol'"
      ]
     },
     "execution_count": 112,
     "metadata": {},
     "output_type": "execute_result"
    }
   ],
   "source": [
    "df[\"characteristic\"][0]"
   ]
  },
  {
   "cell_type": "code",
   "execution_count": 95,
   "metadata": {},
   "outputs": [],
   "source": [
    "lf = df.lazy()"
   ]
  },
  {
   "cell_type": "code",
   "execution_count": 96,
   "metadata": {},
   "outputs": [
    {
     "data": {
      "text/html": [
       "<h4>NAIVE QUERY PLAN</h4><p>run <b>LazyFrame.show_graph()</b> to see the optimized version</p><?xml version=\"1.0\" encoding=\"UTF-8\" standalone=\"no\"?>\r\n",
       "<!DOCTYPE svg PUBLIC \"-//W3C//DTD SVG 1.1//EN\"\r\n",
       " \"http://www.w3.org/Graphics/SVG/1.1/DTD/svg11.dtd\">\r\n",
       "<!-- Generated by graphviz version 7.1.0 (20230121.1956)\r\n",
       " -->\r\n",
       "<!-- Title: polars_query Pages: 1 -->\r\n",
       "<svg width=\"73pt\" height=\"61pt\"\r\n",
       " viewBox=\"0.00 0.00 73.00 61.00\" xmlns=\"http://www.w3.org/2000/svg\" xmlns:xlink=\"http://www.w3.org/1999/xlink\">\r\n",
       "<g id=\"graph0\" class=\"graph\" transform=\"scale(1 1) rotate(0) translate(4 57)\">\r\n",
       "<title>polars_query</title>\r\n",
       "<polygon fill=\"white\" stroke=\"none\" points=\"-4,4 -4,-57 69,-57 69,4 -4,4\"/>\r\n",
       "<!-- [TABLE\r\n",
       "π */25;\r\n",
       "σ &#45;;] -->\r\n",
       "<g id=\"node1\" class=\"node\">\r\n",
       "<title>[TABLE\r\n",
       "π */25;\r\n",
       "σ &#45;;]</title>\r\n",
       "<polygon fill=\"none\" stroke=\"black\" points=\"65,-53 0,-53 0,0 65,0 65,-53\"/>\r\n",
       "<text text-anchor=\"middle\" x=\"32.5\" y=\"-37.8\" font-family=\"Times New Roman,serif\" font-size=\"14.00\">[TABLE</text>\r\n",
       "<text text-anchor=\"middle\" x=\"32.5\" y=\"-22.8\" font-family=\"Times New Roman,serif\" font-size=\"14.00\">π */25;</text>\r\n",
       "<text text-anchor=\"middle\" x=\"32.5\" y=\"-7.8\" font-family=\"Times New Roman,serif\" font-size=\"14.00\">σ &#45;;]</text>\r\n",
       "</g>\r\n",
       "</g>\r\n",
       "</svg>\r\n"
      ],
      "text/plain": [
       "<LazyFrame [25 cols, {\"name\": Utf8 … \"nb_avis\": Int32}] at 0x2326E767FD0>"
      ]
     },
     "execution_count": 96,
     "metadata": {},
     "output_type": "execute_result"
    }
   ],
   "source": [
    "lf"
   ]
  }
 ],
 "metadata": {
  "kernelspec": {
   "display_name": "Python 3",
   "language": "python",
   "name": "python3"
  },
  "language_info": {
   "codemirror_mode": {
    "name": "ipython",
    "version": 3
   },
   "file_extension": ".py",
   "mimetype": "text/x-python",
   "name": "python",
   "nbconvert_exporter": "python",
   "pygments_lexer": "ipython3",
   "version": "3.11.1"
  }
 },
 "nbformat": 4,
 "nbformat_minor": 2
}
