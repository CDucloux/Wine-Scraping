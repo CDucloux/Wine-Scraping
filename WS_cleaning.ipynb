{
 "cells": [
  {
   "cell_type": "code",
   "execution_count": 1,
   "metadata": {},
   "outputs": [],
   "source": [
    "import src.modules.scraping as sc\n",
    "import polars as pl\n",
    "import re"
   ]
  },
  {
   "cell_type": "code",
   "execution_count": 2,
   "metadata": {},
   "outputs": [
    {
     "name": "stderr",
     "output_type": "stream",
     "text": [
      "c:\\Users\\guill\\OneDrive - Université de Tours\\Bureau\\M2\\ML\\Wine-Scraping\\src\\modules\\scraping.py:11: GuessedAtParserWarning: No parser was explicitly specified, so I'm using the best available HTML parser for this system (\"lxml\"). This usually isn't a problem, but if you run this code on another system, or in a different virtual environment, it may use a different parser and behave differently.\n",
      "\n",
      "The code that caused this warning is on line 11 of the file c:\\Users\\guill\\OneDrive - Université de Tours\\Bureau\\M2\\ML\\Wine-Scraping\\src\\modules\\scraping.py. To get rid of this warning, pass the additional argument 'features=\"lxml\"' to the BeautifulSoup constructor.\n",
      "\n",
      "  soupe = BS(requete.text)\n"
     ]
    }
   ],
   "source": [
    "sc.json_brut(sc.scraping(\"https://www.vinatis.com/60960-reserve-blanc-2022-perrin-et-fils\"))"
   ]
  },
  {
   "cell_type": "code",
   "execution_count": 3,
   "metadata": {},
   "outputs": [],
   "source": [
    "data = pl.read_json(\"data/vins.json\")"
   ]
  },
  {
   "cell_type": "code",
   "execution_count": 4,
   "metadata": {},
   "outputs": [],
   "source": [
    "def structure_clean(data):\n",
    "    df = {\n",
    "        \"name\" : data[\"name\"].str.strip(),\n",
    "        \"capacity\" : data[\"capacity\"].str.strip(),\n",
    "        \"price\" : data[\"prices\"][0][0].strip(),\n",
    "        \"price_discount_1\" : data[\"prices\"][0][1].strip(),\n",
    "        \"price_discount_2\" : data[\"prices\"][0][2].strip(),\n",
    "        \"characteristic\" : data[\"characteristic\"].str.strip(),\n",
    "        \"note\" : data[\"note\"].str.strip(),\n",
    "        \"keyword_1\": data[\"keyword\"][0][0].strip(),\n",
    "        \"keyword_2\": data[\"keyword\"][0][1].strip(),\n",
    "        \"keyword_3\": data[\"keyword\"][0][2].strip(),\n",
    "        \"vintage\": data[\"informations\"][0][\" \\xa0\\xa0Millésime\"].strip(),\n",
    "        \"grape_variety\": data[\"informations\"][0][' \\xa0\\xa0Cépage'].strip(),\n",
    "        \"taste\": data[\"informations\"][0][' \\xa0\\xa0Goûts'].strip(),\n",
    "        \"taste_type\": data[\"informations\"][0][ ' \\xa0\\xa0Par Goûts'].strip(),\n",
    "        \"eye\": data[\"informations\"][0][ \" \\xa0\\xa0A l'oeil\"].strip(),\n",
    "        \"nose\": data[\"informations\"][0][' \\xa0\\xa0Au nez'].strip(),\n",
    "        \"mouth\": data[\"informations\"][0][' \\xa0\\xa0En bouche'].strip(),\n",
    "        \"temperature\": data[\"informations\"][0][' \\xa0\\xa0Température de service'].strip(),\n",
    "        \"service\": data[\"informations\"][0][' \\xa0\\xa0Service'].strip(),\n",
    "        \"conservation\": data[\"informations\"][0][' \\xa0\\xa0Conservation'].strip(),\n",
    "        \"max_date\": data[\"informations\"][0][\" \\xa0\\xa0Jusqu'à\"].strip(),\n",
    "        \"food\": data[\"informations\"][0][' \\xa0\\xa0Accords mets-vin'].strip(),\n",
    "        \"recomandation\": data[\"informations\"][0][' \\xa0\\xa0Accords recommandés'].strip(),\n",
    "        \"picture\" : data[\"picture\"].str.strip()\n",
    "    }\n",
    "    return df"
   ]
  },
  {
   "cell_type": "code",
   "execution_count": 8,
   "metadata": {},
   "outputs": [
    {
     "name": "stderr",
     "output_type": "stream",
     "text": [
      "C:\\Users\\guill\\AppData\\Local\\Temp\\ipykernel_20372\\3578820229.py:3: DeprecationWarning: `strip` is deprecated. It has been renamed to `strip_chars`.\n",
      "  \"name\" : data[\"name\"].str.strip(),\n",
      "C:\\Users\\guill\\AppData\\Local\\Temp\\ipykernel_20372\\3578820229.py:4: DeprecationWarning: `strip` is deprecated. It has been renamed to `strip_chars`.\n",
      "  \"capacity\" : data[\"capacity\"].str.strip(),\n",
      "C:\\Users\\guill\\AppData\\Local\\Temp\\ipykernel_20372\\3578820229.py:8: DeprecationWarning: `strip` is deprecated. It has been renamed to `strip_chars`.\n",
      "  \"characteristic\" : data[\"characteristic\"].str.strip(),\n",
      "C:\\Users\\guill\\AppData\\Local\\Temp\\ipykernel_20372\\3578820229.py:9: DeprecationWarning: `strip` is deprecated. It has been renamed to `strip_chars`.\n",
      "  \"note\" : data[\"note\"].str.strip(),\n",
      "C:\\Users\\guill\\AppData\\Local\\Temp\\ipykernel_20372\\3578820229.py:26: DeprecationWarning: `strip` is deprecated. It has been renamed to `strip_chars`.\n",
      "  \"picture\" : data[\"picture\"].str.strip()\n"
     ]
    },
    {
     "data": {
      "text/plain": [
       "{'name': shape: (1,)\n",
       " Series: 'name' [str]\n",
       " [\n",
       " \t\"RESERVE BLANC …\n",
       " ],\n",
       " 'capacity': shape: (1,)\n",
       " Series: 'capacity' [str]\n",
       " [\n",
       " \t\"0,75 L\"\n",
       " ],\n",
       " 'price': '9,99 €',\n",
       " 'price_discount_1': '7,90 €',\n",
       " 'price_discount_2': 'None',\n",
       " 'characteristic': shape: (1,)\n",
       " Series: 'characteristic' [str]\n",
       " [\n",
       " \t\"Vin Blanc / Rh…\n",
       " ],\n",
       " 'note': shape: (1,)\n",
       " Series: 'note' [str]\n",
       " [\n",
       " \t\"17.0/20  noté …\n",
       " ],\n",
       " 'keyword_1': 'Valeur sûre',\n",
       " 'keyword_2': 'Accessible',\n",
       " 'keyword_3': 'Structuré',\n",
       " 'vintage': '2022',\n",
       " 'grape_variety': 'Grenache blanc, Marsanne, Roussanne, Viognier',\n",
       " 'taste': 'Blanc Sec léger et nerveux',\n",
       " 'taste_type': 'Fruité',\n",
       " 'eye': 'Jolie robe jaune pâle aux reflets verts brillants.',\n",
       " 'nose': 'Fraîcheur, avec des notes florales (aubépine, fleur de vigne) et des arômes fruités et gourmands d’agrumes (citron vert), de pêche et d’épices douces.',\n",
       " 'mouth': 'Riche avec une belle tension et une longue finale savoureuse et fruitée.',\n",
       " 'temperature': '16°C',\n",
       " 'service': 'En bouteille',\n",
       " 'conservation': 'None',\n",
       " 'max_date': '2026',\n",
       " 'food': 'Poisson, Volaille, Barbecue, Cuisine du monde, Fromage, Dessert fruité',\n",
       " 'recomandation': 'Avec plats délicats ou relevés (safran), poissons grillés, bouillabaisse',\n",
       " 'picture': shape: (1,)\n",
       " Series: 'picture' [str]\n",
       " [\n",
       " \t\"https://www.vi…\n",
       " ]}"
      ]
     },
     "execution_count": 8,
     "metadata": {},
     "output_type": "execute_result"
    }
   ],
   "source": [
    "df = structure_clean(data)"
   ]
  },
  {
   "cell_type": "code",
   "execution_count": 9,
   "metadata": {},
   "outputs": [],
   "source": [
    "df = pl.DataFrame(df)"
   ]
  },
  {
   "cell_type": "code",
   "execution_count": 10,
   "metadata": {},
   "outputs": [
    {
     "data": {
      "text/html": [
       "<div><style>\n",
       ".dataframe > thead > tr > th,\n",
       ".dataframe > tbody > tr > td {\n",
       "  text-align: right;\n",
       "  white-space: pre-wrap;\n",
       "}\n",
       "</style>\n",
       "<small>shape: (1, 24)</small><table border=\"1\" class=\"dataframe\"><thead><tr><th>name</th><th>capacity</th><th>price</th><th>price_discount_1</th><th>price_discount_2</th><th>characteristic</th><th>note</th><th>keyword_1</th><th>keyword_2</th><th>keyword_3</th><th>vintage</th><th>grape_variety</th><th>taste</th><th>taste_type</th><th>eye</th><th>nose</th><th>mouth</th><th>temperature</th><th>service</th><th>conservation</th><th>max_date</th><th>food</th><th>recomandation</th><th>picture</th></tr><tr><td>str</td><td>str</td><td>str</td><td>str</td><td>str</td><td>str</td><td>str</td><td>str</td><td>str</td><td>str</td><td>str</td><td>str</td><td>str</td><td>str</td><td>str</td><td>str</td><td>str</td><td>str</td><td>str</td><td>str</td><td>str</td><td>str</td><td>str</td><td>str</td></tr></thead><tbody><tr><td>&quot;RESERVE BLANC …</td><td>&quot;0,75 L&quot;</td><td>&quot;9,99 €&quot;</td><td>&quot;7,90 €&quot;</td><td>&quot;None&quot;</td><td>&quot;Vin Blanc / Rh…</td><td>&quot;17.0/20  noté …</td><td>&quot;Valeur sûre&quot;</td><td>&quot;Accessible&quot;</td><td>&quot;Structuré&quot;</td><td>&quot;2022&quot;</td><td>&quot;Grenache blanc…</td><td>&quot;Blanc Sec lége…</td><td>&quot;Fruité&quot;</td><td>&quot;Jolie robe jau…</td><td>&quot;Fraîcheur, ave…</td><td>&quot;Riche avec une…</td><td>&quot;16°C&quot;</td><td>&quot;En bouteille&quot;</td><td>&quot;None&quot;</td><td>&quot;2026&quot;</td><td>&quot;Poisson, Volai…</td><td>&quot;Avec plats dél…</td><td>&quot;https://www.vi…</td></tr></tbody></table></div>"
      ],
      "text/plain": [
       "shape: (1, 24)\n",
       "┌────────────┬──────────┬────────┬────────────┬───┬──────────┬────────────┬────────────┬───────────┐\n",
       "│ name       ┆ capacity ┆ price  ┆ price_disc ┆ … ┆ max_date ┆ food       ┆ recomandat ┆ picture   │\n",
       "│ ---        ┆ ---      ┆ ---    ┆ ount_1     ┆   ┆ ---      ┆ ---        ┆ ion        ┆ ---       │\n",
       "│ str        ┆ str      ┆ str    ┆ ---        ┆   ┆ str      ┆ str        ┆ ---        ┆ str       │\n",
       "│            ┆          ┆        ┆ str        ┆   ┆          ┆            ┆ str        ┆           │\n",
       "╞════════════╪══════════╪════════╪════════════╪═══╪══════════╪════════════╪════════════╪═══════════╡\n",
       "│ RESERVE    ┆ 0,75 L   ┆ 9,99 € ┆ 7,90 €     ┆ … ┆ 2026     ┆ Poisson,   ┆ Avec plats ┆ https://w │\n",
       "│ BLANC 2022 ┆          ┆        ┆            ┆   ┆          ┆ Volaille,  ┆ délicats   ┆ ww.vinati │\n",
       "│ - PERRIN   ┆          ┆        ┆            ┆   ┆          ┆ Barbecue,  ┆ ou relevés ┆ s.com/786 │\n",
       "│ ET F…      ┆          ┆        ┆            ┆   ┆          ┆ Cui…       ┆ (…         ┆ 38-de…    │\n",
       "└────────────┴──────────┴────────┴────────────┴───┴──────────┴────────────┴────────────┴───────────┘"
      ]
     },
     "execution_count": 10,
     "metadata": {},
     "output_type": "execute_result"
    }
   ],
   "source": [
    "df"
   ]
  },
  {
   "cell_type": "code",
   "execution_count": 13,
   "metadata": {},
   "outputs": [],
   "source": [
    "def clean_capacity(df):\n",
    "    df = df.with_columns(\n",
    "        pl.col(\"capacity\").str.replace(\" L\",\"\")\n",
    "        .str.replace(\",\",\".\")\n",
    "        .cast(pl.Float64)\n",
    "    )\n",
    "    return df"
   ]
  },
  {
   "cell_type": "code",
   "execution_count": 14,
   "metadata": {},
   "outputs": [],
   "source": [
    "def clean_price(df):\n",
    "    df = df.with_columns(\n",
    "        pl.col(\"price\").str.replace(\" €\",\"\")\n",
    "        .str.replace(\",\",\".\")\n",
    "        .cast(pl.Float64),\n",
    "    )\n",
    "    return df"
   ]
  },
  {
   "cell_type": "code",
   "execution_count": 15,
   "metadata": {},
   "outputs": [],
   "source": [
    "def clean_price_discount_1(df):\n",
    "    try:\n",
    "        df = df.with_columns(\n",
    "            pl.col(\"price_discount_1\").str.replace(\" €\",\"\")\n",
    "            .str.replace(\",\",\".\")\n",
    "            .cast(pl.Float64),\n",
    "        )\n",
    "    except:\n",
    "        pass\n",
    "    return df"
   ]
  },
  {
   "cell_type": "code",
   "execution_count": 16,
   "metadata": {},
   "outputs": [],
   "source": [
    "def clean_price_discount_2(df):\n",
    "    try:\n",
    "        df = df.with_columns(\n",
    "            pl.col(\"price_discount_2\").str.replace(\" €\",\"\")\n",
    "            .str.replace(\",\",\".\")\n",
    "            .cast(pl.Float64),\n",
    "        )\n",
    "    except:\n",
    "        pass\n",
    "    return df"
   ]
  },
  {
   "cell_type": "code",
   "execution_count": 17,
   "metadata": {},
   "outputs": [],
   "source": [
    "def clean_vintage(df):\n",
    "    df = df.with_columns(\n",
    "        pl.col(\"vintage\").cast(pl.Int32)\n",
    "    )\n",
    "    return df"
   ]
  },
  {
   "cell_type": "code",
   "execution_count": 18,
   "metadata": {},
   "outputs": [],
   "source": [
    "def clean_max_date(df):\n",
    "    df = df.with_columns(\n",
    "        pl.col(\"max_date\").cast(pl.Int32)\n",
    "    )\n",
    "    return df"
   ]
  },
  {
   "cell_type": "code",
   "execution_count": 19,
   "metadata": {},
   "outputs": [],
   "source": [
    "def clean_note(df):\n",
    "    df = df.with_columns(\n",
    "        pl.col(\"note\").apply(lambda x: x.split()[0], return_dtype=pl.Utf8)\n",
    "        .alias(\"avis\")\n",
    "        .str.replace(\"/20\",\"\")\n",
    "        .cast(pl.Float32),\n",
    "        pl.col(\"note\").apply(lambda x: x.split()[-2], return_dtype=pl.Utf8)\n",
    "        .alias(\"nb_avis\")\n",
    "        .str.replace(\"/20\",\"\")\n",
    "        .cast(pl.Int32)\n",
    "    )\n",
    "    df = df.drop(\"note\")\n",
    "    return df"
   ]
  },
  {
   "cell_type": "code",
   "execution_count": 20,
   "metadata": {},
   "outputs": [],
   "source": [
    "def extract_charac(text: str) -> int | None:\n",
    "    \"\"\"\n",
    "    Extract the `year` of the wine from unstructured text using a regular expression pattern.\n",
    "    \"\"\"\n",
    "    match = re.findall(r'[^/]+', text)\n",
    "    if match:\n",
    "        return match\n",
    "    else:\n",
    "        return None"
   ]
  },
  {
   "cell_type": "code",
   "execution_count": 21,
   "metadata": {},
   "outputs": [],
   "source": [
    "def clean_characteristic(df):\n",
    "    df = df.with_columns(\n",
    "        pl.col(\"characteristic\").apply(lambda x: extract_charac(x)[0]).alias(\"color\"),\n",
    "        pl.col(\"characteristic\").apply(lambda x: extract_charac(x)[1]).alias(\"localisation\"),\n",
    "        pl.col(\"characteristic\").apply(lambda x: extract_charac(x)[2]).alias(\"cru\"),\n",
    "        pl.col(\"characteristic\").apply(lambda x: extract_charac(x)[3]).alias(\"degree\")\n",
    "    )\n",
    "    df = df.drop(\"characteristic\")\n",
    "    return df"
   ]
  },
  {
   "cell_type": "code",
   "execution_count": 22,
   "metadata": {},
   "outputs": [],
   "source": [
    "def extract_number(text: str) -> int | None:\n",
    "    \"\"\"\n",
    "    Extract the `year` of the wine from unstructured text using a regular expression pattern.\n",
    "    \"\"\"\n",
    "    match = re.findall(r'\\d+', text)\n",
    "    if match:\n",
    "        return match\n",
    "    else:\n",
    "        return None"
   ]
  },
  {
   "cell_type": "code",
   "execution_count": 23,
   "metadata": {},
   "outputs": [],
   "source": [
    "def clean_degree(df):\n",
    "    df = df.with_columns(\n",
    "        pl.col(\"degree\").apply(lambda x: extract_number(x)[0]).cast(pl.Float32)\n",
    "    )\n",
    "    return df"
   ]
  },
  {
   "cell_type": "code",
   "execution_count": 24,
   "metadata": {},
   "outputs": [],
   "source": [
    "def clean_service(df):\n",
    "    try:\n",
    "        df = df.with_columns(\n",
    "            pl.col(\"service\").apply(lambda x: extract_number(x)[0])\n",
    "        )\n",
    "    except:\n",
    "        df = df.with_columns(\n",
    "            pl.col(\"service\").apply(lambda x: \"None\")\n",
    "        )\n",
    "    return df"
   ]
  },
  {
   "cell_type": "code",
   "execution_count": 25,
   "metadata": {},
   "outputs": [],
   "source": [
    "def clean_temperature(df):\n",
    "    df = df.with_columns(\n",
    "        pl.col(\"temperature\").apply(lambda x:extract_number(x)[0]).cast(pl.Float32)\n",
    "    )\n",
    "    return df"
   ]
  },
  {
   "cell_type": "code",
   "execution_count": 26,
   "metadata": {},
   "outputs": [],
   "source": [
    "def clean_col(df):\n",
    "    df = df.drop(\"taste\")\n",
    "    df = df.drop(\"eye\")\n",
    "    df = df.drop(\"nose\")\n",
    "    df = df.drop(\"mouth\")\n",
    "    df = df.drop(\"food\")\n",
    "    df = df.drop(\"recomandation\")\n",
    "    return df"
   ]
  },
  {
   "cell_type": "code",
   "execution_count": 27,
   "metadata": {},
   "outputs": [],
   "source": [
    "def extract_cepages(text: str) -> str:\n",
    "    \"\"\"\n",
    "    Extract the `name` of the wine from unstructured text.\n",
    "    \"\"\"\n",
    "    match = re.split(r',\\s*', text)\n",
    "    if match:\n",
    "        try:\n",
    "            nouvelle_liste = [re.sub(r'\\d+%', '', element).strip() for element in match]\n",
    "            return nouvelle_liste\n",
    "        except:\n",
    "            return match\n",
    "    else:\n",
    "        return None"
   ]
  },
  {
   "cell_type": "code",
   "execution_count": 28,
   "metadata": {},
   "outputs": [],
   "source": [
    "def clean_grape_variety(df):\n",
    "    df = df.with_columns(\n",
    "        pl.col(\"grape_variety\").apply(lambda x:extract_cepages(x)[0])\n",
    "    )\n",
    "    return df"
   ]
  },
  {
   "cell_type": "code",
   "execution_count": 29,
   "metadata": {},
   "outputs": [],
   "source": [
    "def clean_pipe(df):\n",
    "    df = (\n",
    "        df\n",
    "        .pipe(clean_capacity)\n",
    "        .pipe(clean_price)\n",
    "        .pipe(clean_price_discount_1)\n",
    "        .pipe(clean_price_discount_2)\n",
    "        .pipe(clean_vintage)\n",
    "        .pipe(clean_max_date)\n",
    "        .pipe(clean_note)\n",
    "        .pipe(clean_characteristic)\n",
    "        .pipe(clean_service)\n",
    "        .pipe(clean_temperature)\n",
    "        .pipe(clean_col)\n",
    "        .pipe(clean_grape_variety)\n",
    "        .pipe(clean_degree)\n",
    "    )\n",
    "    return df"
   ]
  },
  {
   "cell_type": "code",
   "execution_count": null,
   "metadata": {},
   "outputs": [],
   "source": []
  },
  {
   "cell_type": "code",
   "execution_count": 95,
   "metadata": {},
   "outputs": [],
   "source": [
    "lf = df.lazy()"
   ]
  },
  {
   "cell_type": "code",
   "execution_count": 96,
   "metadata": {},
   "outputs": [
    {
     "data": {
      "text/html": [
       "<h4>NAIVE QUERY PLAN</h4><p>run <b>LazyFrame.show_graph()</b> to see the optimized version</p><?xml version=\"1.0\" encoding=\"UTF-8\" standalone=\"no\"?>\r\n",
       "<!DOCTYPE svg PUBLIC \"-//W3C//DTD SVG 1.1//EN\"\r\n",
       " \"http://www.w3.org/Graphics/SVG/1.1/DTD/svg11.dtd\">\r\n",
       "<!-- Generated by graphviz version 7.1.0 (20230121.1956)\r\n",
       " -->\r\n",
       "<!-- Title: polars_query Pages: 1 -->\r\n",
       "<svg width=\"73pt\" height=\"61pt\"\r\n",
       " viewBox=\"0.00 0.00 73.00 61.00\" xmlns=\"http://www.w3.org/2000/svg\" xmlns:xlink=\"http://www.w3.org/1999/xlink\">\r\n",
       "<g id=\"graph0\" class=\"graph\" transform=\"scale(1 1) rotate(0) translate(4 57)\">\r\n",
       "<title>polars_query</title>\r\n",
       "<polygon fill=\"white\" stroke=\"none\" points=\"-4,4 -4,-57 69,-57 69,4 -4,4\"/>\r\n",
       "<!-- [TABLE\r\n",
       "π */25;\r\n",
       "σ &#45;;] -->\r\n",
       "<g id=\"node1\" class=\"node\">\r\n",
       "<title>[TABLE\r\n",
       "π */25;\r\n",
       "σ &#45;;]</title>\r\n",
       "<polygon fill=\"none\" stroke=\"black\" points=\"65,-53 0,-53 0,0 65,0 65,-53\"/>\r\n",
       "<text text-anchor=\"middle\" x=\"32.5\" y=\"-37.8\" font-family=\"Times New Roman,serif\" font-size=\"14.00\">[TABLE</text>\r\n",
       "<text text-anchor=\"middle\" x=\"32.5\" y=\"-22.8\" font-family=\"Times New Roman,serif\" font-size=\"14.00\">π */25;</text>\r\n",
       "<text text-anchor=\"middle\" x=\"32.5\" y=\"-7.8\" font-family=\"Times New Roman,serif\" font-size=\"14.00\">σ &#45;;]</text>\r\n",
       "</g>\r\n",
       "</g>\r\n",
       "</svg>\r\n"
      ],
      "text/plain": [
       "<LazyFrame [25 cols, {\"name\": Utf8 … \"nb_avis\": Int32}] at 0x2326E767FD0>"
      ]
     },
     "execution_count": 96,
     "metadata": {},
     "output_type": "execute_result"
    }
   ],
   "source": [
    "lf"
   ]
  },
  {
   "cell_type": "markdown",
   "metadata": {},
   "source": [
    "# TEST"
   ]
  },
  {
   "cell_type": "code",
   "execution_count": 1,
   "metadata": {},
   "outputs": [],
   "source": [
    "import src.modules.cleaning as cl\n",
    "import src.modules.scraping as sc\n",
    "import polars as pl"
   ]
  },
  {
   "cell_type": "code",
   "execution_count": 2,
   "metadata": {},
   "outputs": [
    {
     "name": "stderr",
     "output_type": "stream",
     "text": [
      "c:\\Users\\guill\\OneDrive - Université de Tours\\Bureau\\M2\\ML\\Wine-Scraping\\src\\modules\\scraping.py:11: GuessedAtParserWarning: No parser was explicitly specified, so I'm using the best available HTML parser for this system (\"lxml\"). This usually isn't a problem, but if you run this code on another system, or in a different virtual environment, it may use a different parser and behave differently.\n",
      "\n",
      "The code that caused this warning is on line 11 of the file c:\\Users\\guill\\OneDrive - Université de Tours\\Bureau\\M2\\ML\\Wine-Scraping\\src\\modules\\scraping.py. To get rid of this warning, pass the additional argument 'features=\"lxml\"' to the BeautifulSoup constructor.\n",
      "\n",
      "  soupe = BS(requete.text)\n"
     ]
    }
   ],
   "source": [
    "data_scrap = sc.scraping(\"https://www.vinatis.com/60627-amiral-de-beychevelle-2020-second-vin-du-chateau-beychevelle\")\n",
    "data_scrap2 = sc.scraping(\"https://www.vinatis.com/62340-chateau-montlabert-2019\")\n",
    "data_scrap3 = sc.scraping(\"https://www.vinatis.com/61800-chateau-latour-martillac-2020\")\n",
    "sc.json_brut([data_scrap, data_scrap2,data_scrap3])"
   ]
  },
  {
   "cell_type": "code",
   "execution_count": 3,
   "metadata": {},
   "outputs": [],
   "source": [
    "data = pl.read_json(\"data/vins.json\")"
   ]
  },
  {
   "cell_type": "code",
   "execution_count": 4,
   "metadata": {},
   "outputs": [
    {
     "data": {
      "text/html": [
       "<div><style>\n",
       ".dataframe > thead > tr > th,\n",
       ".dataframe > tbody > tr > td {\n",
       "  text-align: right;\n",
       "  white-space: pre-wrap;\n",
       "}\n",
       "</style>\n",
       "<small>shape: (3, 8)</small><table border=\"1\" class=\"dataframe\"><thead><tr><th>name</th><th>capacity</th><th>prices</th><th>characteristic</th><th>note</th><th>keyword</th><th>informations</th><th>picture</th></tr><tr><td>str</td><td>str</td><td>list[str]</td><td>str</td><td>str</td><td>list[str]</td><td>struct[14]</td><td>str</td></tr></thead><tbody><tr><td>&quot;AMIRAL DE BEYC…</td><td>&quot; 0,75 L &quot;</td><td>[&quot;  48,00 €    &quot;, &quot; 43,20 € &quot;, &quot;None&quot;]</td><td>&quot;Vin Rouge / Bo…</td><td>&quot;&quot;</td><td>[&quot;Riche&quot;, &quot;Velouté&quot;, &quot;Texturé&quot;]</td><td>{&quot; Seconds vins&quot;,&quot; 2020&quot;,&quot; 54% Cabernet-Sauvignon, 42% Merlot, 3% Cabernet-Franc&quot;,&quot; Rouge Complexe, tannique et racé&quot;,&quot; Boisé&quot;,&quot; Grenat sombre&quot;,&quot; Nez riche et juteux de fruits rouges et bleus mûrs, de fleurs printanières, d&#x27;épices de Noël et de tabac&quot;,&quot; Puissant, tannique, agréablement texturé, doté de tanins veloutés, d&#x27;une bonne profondeur.&quot;,&quot; 16-18°C&quot;,&quot; Ouvrir 1h avant le service&quot;,&quot; A boire et à garder&quot;,&quot; 2037&quot;,&quot; Charcuterie, Viande rouge, Viande blanche, Volaille, Gibier, Champignon, Fromage&quot;,&quot;None&quot;}</td><td>&quot;https://www.vi…</td></tr><tr><td>&quot;CHÂTEAU MONTLA…</td><td>&quot; 0,75 L &quot;</td><td>[&quot;  39,90 €    &quot;, &quot; 34,90 € &quot;, &quot;None&quot;]</td><td>&quot;Vin Rouge / Bo…</td><td>&quot; 18.5/20  noté…</td><td>[&quot;Caractère&quot;, &quot;Élégance&quot;, &quot;Notes grillées&quot;]</td><td>{&quot;None&quot;,&quot; 2019&quot;,&quot; 77% Merlot, 23% Cabernet-Franc&quot;,&quot; Rouge Complexe, tannique et racé&quot;,&quot; Fruité&quot;,&quot; Robe rubis aux reflets carmins&quot;,&quot; Parfums puissants de fruits noirs et de vanille, notes grillées&quot;,&quot; Dense, pleine de caractère, parfait équilibre, tanins de belle constitution, finale persistante&quot;,&quot; 16-18°C&quot;,&quot; Ouvrir 2h avant le service&quot;,&quot; A boire et à garder&quot;,&quot; 2040&quot;,&quot; Charcuterie, Viande rouge, Viande blanche, Volaille, Gibier, Barbecue, Fromage, Dessert chocolaté&quot;,&quot; Terrine de lièvre au foie gras et aux figues, les belles volailles rôties, carré d’agneau dans son jus, entrecôte Bordelaise, fromages affinés&quot;}</td><td>&quot;https://www.vi…</td></tr><tr><td>&quot;CHATEAU LATOUR…</td><td>&quot; 0,75 L &quot;</td><td>[&quot;  34,90 €    &quot;, &quot;None&quot;, &quot;None&quot;]</td><td>&quot;Vin Rouge / Bo…</td><td>&quot;&quot;</td><td>[&quot;Gourmand&quot;, &quot;Intense&quot;, &quot;Tanins enrobés&quot;]</td><td>{&quot;None&quot;,&quot; 2020&quot;,&quot; 55% Cabernet-Sauvignon, 40% Merlot, 5% Petit-verdot&quot;,&quot; Rouge Puissant et généreux&quot;,&quot; Puissant&quot;,&quot; Robe très foncée, profonde, pourpre, violacée&quot;,&quot; Nez intense, notes de cassis, de cerise noire, de fruits frais, touche de réglisse et d’épices&quot;,&quot; Gourmande, puissante, juteuse et charnue, tannins enrobés, veloutés, finale fraîche, fruitée, persistante&quot;,&quot; 16-18°C&quot;,&quot; Passer en carafe 1h avant le service&quot;,&quot; A boire et à garder&quot;,&quot; 2045&quot;,&quot; Charcuterie, Viande rouge, Viande blanche, Gibier, Barbecue, Fromage&quot;,&quot; Avec un rôti d&#x27;agneau ou de magret de canard grillé&quot;}</td><td>&quot;https://www.vi…</td></tr></tbody></table></div>"
      ],
      "text/plain": [
       "shape: (3, 8)\n",
       "┌────────────┬──────────┬────────────┬────────────┬────────────┬───────────┬───────────┬───────────┐\n",
       "│ name       ┆ capacity ┆ prices     ┆ characteri ┆ note       ┆ keyword   ┆ informati ┆ picture   │\n",
       "│ ---        ┆ ---      ┆ ---        ┆ stic       ┆ ---        ┆ ---       ┆ ons       ┆ ---       │\n",
       "│ str        ┆ str      ┆ list[str]  ┆ ---        ┆ str        ┆ list[str] ┆ ---       ┆ str       │\n",
       "│            ┆          ┆            ┆ str        ┆            ┆           ┆ struct[14 ┆           │\n",
       "│            ┆          ┆            ┆            ┆            ┆           ┆ ]         ┆           │\n",
       "╞════════════╪══════════╪════════════╪════════════╪════════════╪═══════════╪═══════════╪═══════════╡\n",
       "│ AMIRAL DE  ┆  0,75 L  ┆ [\"  48,00  ┆ Vin Rouge  ┆            ┆ [\"Riche\", ┆ {\"        ┆ https://w │\n",
       "│ BEYCHEVELL ┆          ┆ €    \", \"  ┆ / Bordeaux ┆            ┆ \"Velouté\" ┆ Seconds   ┆ ww.vinati │\n",
       "│ E 2020 -   ┆          ┆ 43,20 € \", ┆ /          ┆            ┆ , \"Textur ┆ vins\",\"   ┆ s.com/843 │\n",
       "│ SEC…       ┆          ┆ \"…         ┆ Saint-Jul… ┆            ┆ é\"]       ┆ 2020\",\"   ┆ 41-de…    │\n",
       "│            ┆          ┆            ┆            ┆            ┆           ┆ 54% C…    ┆           │\n",
       "│ CHÂTEAU    ┆  0,75 L  ┆ [\"  39,90  ┆ Vin Rouge  ┆ 18.5/20    ┆ [\"Caractè ┆ {\"None\",\" ┆ https://w │\n",
       "│ MONTLABERT ┆          ┆ €    \", \"  ┆ / Bordeaux ┆ noté par 8 ┆ re\", \"Élé ┆ 2019\",\"   ┆ ww.vinati │\n",
       "│ 2019       ┆          ┆ 34,90 € \", ┆ /          ┆ clients    ┆ gance\",   ┆ 77%       ┆ s.com/808 │\n",
       "│            ┆          ┆ \"…         ┆ Saint-Emi… ┆            ┆ \"Notes…   ┆ Merlot,   ┆ 72-de…    │\n",
       "│            ┆          ┆            ┆            ┆            ┆           ┆ 23…       ┆           │\n",
       "│ CHATEAU    ┆  0,75 L  ┆ [\"  34,90  ┆ Vin Rouge  ┆            ┆ [\"Gourman ┆ {\"None\",\" ┆ https://w │\n",
       "│ LATOUR-MAR ┆          ┆ €    \",    ┆ / Bordeaux ┆            ┆ d\", \"Inte ┆ 2020\",\"   ┆ ww.vinati │\n",
       "│ TILLAC     ┆          ┆ \"None\",    ┆ /          ┆            ┆ nse\",     ┆ 55% Caber ┆ s.com/791 │\n",
       "│ 2020       ┆          ┆ \"None\"…    ┆ Pessac-Lé… ┆            ┆ \"Tanins … ┆ net-S…    ┆ 00-de…    │\n",
       "└────────────┴──────────┴────────────┴────────────┴────────────┴───────────┴───────────┴───────────┘"
      ]
     },
     "execution_count": 4,
     "metadata": {},
     "output_type": "execute_result"
    }
   ],
   "source": [
    "data"
   ]
  },
  {
   "cell_type": "code",
   "execution_count": 5,
   "metadata": {},
   "outputs": [],
   "source": [
    "a = []\n",
    "for i in range(len(data)):\n",
    "    a.append(cl.clean_pipe(data[i]))"
   ]
  },
  {
   "cell_type": "code",
   "execution_count": 6,
   "metadata": {},
   "outputs": [
    {
     "data": {
      "text/html": [
       "<div><style>\n",
       ".dataframe > thead > tr > th,\n",
       ".dataframe > tbody > tr > td {\n",
       "  text-align: right;\n",
       "  white-space: pre-wrap;\n",
       "}\n",
       "</style>\n",
       "<small>shape: (3, 23)</small><table border=\"1\" class=\"dataframe\"><thead><tr><th>name</th><th>capacity</th><th>price</th><th>price_discount_1</th><th>price_discount_2</th><th>keyword_1</th><th>keyword_2</th><th>keyword_3</th><th>wine_classification</th><th>vintage</th><th>grape_variety</th><th>taste_type</th><th>temperature</th><th>service</th><th>conservation</th><th>max_date</th><th>picture</th><th>avis</th><th>nb_avis</th><th>color</th><th>localisation</th><th>cru</th><th>degree</th></tr><tr><td>str</td><td>f64</td><td>f64</td><td>f64</td><td>f64</td><td>str</td><td>str</td><td>str</td><td>str</td><td>i32</td><td>str</td><td>str</td><td>f32</td><td>str</td><td>str</td><td>i32</td><td>str</td><td>f32</td><td>i32</td><td>str</td><td>str</td><td>str</td><td>f32</td></tr></thead><tbody><tr><td>&quot;AMIRAL DE BEYC…</td><td>0.75</td><td>48.0</td><td>43.2</td><td>null</td><td>&quot;Riche&quot;</td><td>&quot;Velouté&quot;</td><td>&quot;Texturé&quot;</td><td>&quot;Seconds vins&quot;</td><td>2020</td><td>&quot;Cabernet-Sauvi…</td><td>&quot;Boisé&quot;</td><td>16.0</td><td>&quot;1&quot;</td><td>&quot;A boire et à g…</td><td>2037</td><td>&quot;https://www.vi…</td><td>null</td><td>null</td><td>&quot;Vin Rouge &quot;</td><td>&quot; Bordeaux &quot;</td><td>&quot; Saint-Julien …</td><td>13.0</td></tr><tr><td>&quot;CHÂTEAU MONTLA…</td><td>0.75</td><td>39.9</td><td>34.9</td><td>null</td><td>&quot;Caractère&quot;</td><td>&quot;Élégance&quot;</td><td>&quot;Notes grillées…</td><td>&quot;None&quot;</td><td>2019</td><td>&quot;Merlot&quot;</td><td>&quot;Fruité&quot;</td><td>16.0</td><td>&quot;2&quot;</td><td>&quot;A boire et à g…</td><td>2040</td><td>&quot;https://www.vi…</td><td>18.5</td><td>8</td><td>&quot;Vin Rouge &quot;</td><td>&quot; Bordeaux &quot;</td><td>&quot; Saint-Emilion…</td><td>14.0</td></tr><tr><td>&quot;CHATEAU LATOUR…</td><td>0.75</td><td>34.9</td><td>null</td><td>null</td><td>&quot;Gourmand&quot;</td><td>&quot;Intense&quot;</td><td>&quot;Tanins enrobés…</td><td>&quot;None&quot;</td><td>2020</td><td>&quot;Cabernet-Sauvi…</td><td>&quot;Puissant&quot;</td><td>16.0</td><td>&quot;1&quot;</td><td>&quot;A boire et à g…</td><td>2045</td><td>&quot;https://www.vi…</td><td>null</td><td>null</td><td>&quot;Vin Rouge &quot;</td><td>&quot; Bordeaux &quot;</td><td>&quot; Pessac-Léogna…</td><td>14.0</td></tr></tbody></table></div>"
      ],
      "text/plain": [
       "shape: (3, 23)\n",
       "┌─────────────┬──────────┬───────┬─────────────┬───┬────────────┬────────────┬────────────┬────────┐\n",
       "│ name        ┆ capacity ┆ price ┆ price_disco ┆ … ┆ color      ┆ localisati ┆ cru        ┆ degree │\n",
       "│ ---         ┆ ---      ┆ ---   ┆ unt_1       ┆   ┆ ---        ┆ on         ┆ ---        ┆ ---    │\n",
       "│ str         ┆ f64      ┆ f64   ┆ ---         ┆   ┆ str        ┆ ---        ┆ str        ┆ f32    │\n",
       "│             ┆          ┆       ┆ f64         ┆   ┆            ┆ str        ┆            ┆        │\n",
       "╞═════════════╪══════════╪═══════╪═════════════╪═══╪════════════╪════════════╪════════════╪════════╡\n",
       "│ AMIRAL DE   ┆ 0.75     ┆ 48.0  ┆ 43.2        ┆ … ┆ Vin Rouge  ┆  Bordeaux  ┆ Saint-Juli ┆ 13.0   │\n",
       "│ BEYCHEVELLE ┆          ┆       ┆             ┆   ┆            ┆            ┆ en AOC     ┆        │\n",
       "│ 2020 - SEC… ┆          ┆       ┆             ┆   ┆            ┆            ┆            ┆        │\n",
       "│ CHÂTEAU     ┆ 0.75     ┆ 39.9  ┆ 34.9        ┆ … ┆ Vin Rouge  ┆  Bordeaux  ┆ Saint-Emil ┆ 14.0   │\n",
       "│ MONTLABERT  ┆          ┆       ┆             ┆   ┆            ┆            ┆ ion Grand  ┆        │\n",
       "│ 2019        ┆          ┆       ┆             ┆   ┆            ┆            ┆ Cru AOC    ┆        │\n",
       "│ CHATEAU LAT ┆ 0.75     ┆ 34.9  ┆ null        ┆ … ┆ Vin Rouge  ┆  Bordeaux  ┆ Pessac-Léo ┆ 14.0   │\n",
       "│ OUR-MARTILL ┆          ┆       ┆             ┆   ┆            ┆            ┆ gnan AOC   ┆        │\n",
       "│ AC 2020     ┆          ┆       ┆             ┆   ┆            ┆            ┆            ┆        │\n",
       "└─────────────┴──────────┴───────┴─────────────┴───┴────────────┴────────────┴────────────┴────────┘"
      ]
     },
     "execution_count": 6,
     "metadata": {},
     "output_type": "execute_result"
    }
   ],
   "source": [
    "pl.concat(a)"
   ]
  }
 ],
 "metadata": {
  "kernelspec": {
   "display_name": "Python 3",
   "language": "python",
   "name": "python3"
  },
  "language_info": {
   "codemirror_mode": {
    "name": "ipython",
    "version": 3
   },
   "file_extension": ".py",
   "mimetype": "text/x-python",
   "name": "python",
   "nbconvert_exporter": "python",
   "pygments_lexer": "ipython3",
   "version": "3.11.1"
  }
 },
 "nbformat": 4,
 "nbformat_minor": 2
}
