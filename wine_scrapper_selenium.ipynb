{
 "cells": [
  {
   "cell_type": "code",
   "execution_count": 1,
   "metadata": {},
   "outputs": [],
   "source": [
    "from src.modules.vin_dataclass import Vin\n",
    "import src.modules.data_extractor as de\n",
    "from bs4 import BeautifulSoup as BS\n",
    "from pathlib import Path\n",
    "from serde.json import to_json\n",
    "import polars as pl\n",
    "\n",
    "from dataclasses import dataclass\n",
    "from selenium import webdriver\n",
    "from selenium.webdriver.chrome.service import Service\n",
    "from selenium.webdriver.common.keys import Keys\n",
    "from selenium.webdriver.common.by import By\n",
    "from selenium.webdriver.common.action_chains import ActionChains\n",
    "import time\n",
    "\n",
    "import numpy as np\n",
    "import re\n",
    "\n",
    "import requests as rq"
   ]
  },
  {
   "cell_type": "code",
   "execution_count": 4,
   "metadata": {},
   "outputs": [],
   "source": [
    "def scrapeur(lien : str): #\"https://www.vinatis.com/achat-vin-rouge\"\n",
    "    ## LANCE CHROME ##\n",
    "    service = Service(executable_path='./chromedriver.exe')\n",
    "    driver = webdriver.Chrome(service=service)\n",
    "    driver.get(lien)\n",
    "\n",
    "    ## FERME LES COOKIES ##\n",
    "    cookie_accept_button = driver.find_element(By.XPATH, \"//button[contains(text(), 'Accepter et continuer')]\")\n",
    "    cookie_accept_button.click()\n",
    "\n",
    "    ## FERME POPUP ## pop-up \"Inscription\" apparait de manière aléatoire\n",
    "    time.sleep(2)\n",
    "    driver.execute_script(\"window.scrollBy(0, -500);\")\n",
    "    while True:\n",
    "        try:\n",
    "            time.sleep(10)\n",
    "            driver.find_element(By.CLASS_NAME, 'close_modal_vinatis').click()\n",
    "        except :\n",
    "            continue  \n",
    "        break \n",
    "\n",
    "    ## RECUPERE NB PAGE à SCRAPER##\n",
    "    page_source = driver.page_source\n",
    "    soupe = BS(page_source)\n",
    "    result_nb_pages = soupe.find_all(name=\"span\", attrs={\"class\": \"margin-right-10\"})\n",
    "    NOMBRE_PAGE = int(re.findall(r'\\d+', result_nb_pages[0].text)[0])\n",
    "\n",
    "    ## BOUCLE POUR PARCOURIR LES PAGES ##\n",
    "    i = 1\n",
    "    vins = list()\n",
    "    while i < 2:\n",
    "        ## SCRAPING ##\n",
    "        page_source = driver.page_source\n",
    "        soupe = BS(page_source)\n",
    "        \n",
    "        for (item_1, item_2, item_3, item_4, item_5) in zip(\n",
    "            de.extract_result(soupe)[\"result_title\"], \n",
    "            de.extract_result(soupe)[\"result_price\"], \n",
    "            de.extract_result(soupe)[\"result_avis\"],\n",
    "            de.extract_result(soupe)[\"result_type\"],\n",
    "            de.extract_result(soupe)[\"result_title_notxt\"]\n",
    "        ):\n",
    "            vins.append(de.extract_vin(item_1, item_2, item_3, item_4, item_5))\n",
    "        \n",
    "        ## CHANGEMENT DE PAGE ##\n",
    "        time.sleep(2)\n",
    "        bouton = driver.find_element(By.CLASS_NAME, 'icon-chevron-right')\n",
    "        time.sleep(2)\n",
    "        driver.execute_script(\"arguments[0].scrollIntoView();\", bouton)\n",
    "        time.sleep(2)\n",
    "        driver.execute_script(\"window.scrollBy(0, -500);\")\n",
    "        time.sleep(2)\n",
    "        bouton.click()\n",
    "        time.sleep(2)\n",
    "        i = i + 1\n",
    "\n",
    "    ## FERME CHROME ##\n",
    "    driver.quit()\n",
    "    \n",
    "    return vins\n"
   ]
  },
  {
   "cell_type": "code",
   "execution_count": 5,
   "metadata": {},
   "outputs": [],
   "source": [
    "vins = scrapeur(\"https://www.vinatis.com/achat-vin-rouge\")"
   ]
  },
  {
   "cell_type": "markdown",
   "metadata": {},
   "source": [
    "# RECUP ELEMENT PAGE"
   ]
  },
  {
   "cell_type": "code",
   "execution_count": 4,
   "metadata": {},
   "outputs": [],
   "source": [
    "def infos(text: str):\n",
    "    match = re.findall(r'[^/]+', text)\n",
    "    return match"
   ]
  },
  {
   "cell_type": "code",
   "execution_count": 5,
   "metadata": {},
   "outputs": [],
   "source": [
    "def extract_infos(vins: Vin):\n",
    "    adjectif = list()\n",
    "    type = list()\n",
    "    vol = list()\n",
    "\n",
    "    for i in range(len(vins)):\n",
    "        requete = rq.get(url=vins[i].lien)\n",
    "        soupe = BS(requete.text)\n",
    "        \n",
    "        carac = soupe.find_all(name=\"span\", \n",
    "                attrs={\"class\": \"ss-titre color-gray-darker taille-xs line-height-15-xs no-padding-horizontal\"}\n",
    "                )[0].text\n",
    "        type.append(infos(carac)[0])\n",
    "        \n",
    "        if infos(carac)[-1].endswith(\"vol\"):\n",
    "            vol.append(infos(carac)[-1])\n",
    "        else:\n",
    "            vol.append(infos(carac)[-2])\n",
    "        \n",
    "        adjectif.append(soupe.find_all(name=\"div\", attrs={\"class\": \"margin-top-5 hide-xs\"})[0].text)\n",
    "        \n",
    "    return {\n",
    "        \"adjectif\" : adjectif,\n",
    "        \"type\" : type,\n",
    "        \"vol\" : vol\n",
    "        }"
   ]
  },
  {
   "cell_type": "code",
   "execution_count": 22,
   "metadata": {},
   "outputs": [],
   "source": [
    "def actualisation_vin(vins : Vin):\n",
    "    extraction = extract_infos(vins)\n",
    "    for i in range(len(vins)):\n",
    "        vins[i].vol = extraction[\"vol\"][i]\n",
    "        vins[i].adjectifs = extraction[\"adjectif\"][i]\n",
    "    return vins"
   ]
  },
  {
   "cell_type": "code",
   "execution_count": 23,
   "metadata": {},
   "outputs": [
    {
     "data": {
      "text/plain": [
       "[Vin(name='GIGONDAS - LE VIEUX CLOCHER 2019 - MAISON ARNOUX & FILS', capacity=0.75, year=2019, price=216.7, promo='-20%', prix_promo=None, note=16.8, nb_avis=51, type='VIN ROUGE', lien='https://www.vinatis.com/52548-gigondas-le-vieux-clocher-2019-maison-arnoux-fils', vol=' 15 % vol', adjectifs=' Structure Souplesse Harmonie'),\n",
       " Vin(name=\"PETIT PONT ROUGE RESERVE - PAYS D'OC 2022 -  DOMAINES ROBERT VIC\", capacity=0.75, year=2022, price=34.99, promo='-23%', prix_promo=None, note=16.1, nb_avis=13, type='VIN ROUGE', lien='https://www.vinatis.com/61066-petit-pont-rouge-reserve-pays-d-oc-2022-domaines-robert-vic', vol=' 12,5 % vol', adjectifs=' FRUITE JUTEUX PRIX/PLAISIR'),\n",
       " Vin(name='LIRAC 2019 - XAVIER VIGNON', capacity=0.75, year=2019, price=310.4, promo='-20%', prix_promo=None, note=16.2, nb_avis=154, type='VIN ROUGE', lien='https://www.vinatis.com/42740-lirac-2019-xavier-vignon', vol=' 15 % vol', adjectifs=' Gourmand Fruité Prix plaisir'),\n",
       " Vin(name='VILLA DES ANGES RESERVE 2021 - JEFF CARREL', capacity=0.75, year=2021, price=66.6, promo='-30%', prix_promo=None, note=16.6, nb_avis=148, type='VIN ROUGE', lien='https://www.vinatis.com/57419-villa-des-anges-reserve-2021-jeff-carrel', vol=' 14 % vol', adjectifs=' BOISE EQUILIBRE VANILLE'),\n",
       " Vin(name='LES DARONS 2022 - BY JEFF CARREL', capacity=0.75, year=2022, price=126.8, promo='-25%', prix_promo=None, note=16.8, nb_avis=15, type='VIN ROUGE', lien='https://www.vinatis.com/61101-les-darons-2022-by-jeff-carrel', vol=' 14 % vol', adjectifs=' Gourmand Meilleure Vente N°1 Languedoc-Roussillon'),\n",
       " Vin(name='LE TRIPORTEUR ROUGE 2020', capacity=0.75, year=2020, price=34.95, promo='-23%', prix_promo=None, note=15.6, nb_avis=97, type='VIN ROUGE', lien='https://www.vinatis.com/52838-le-triporteur-rouge-2020', vol=' 14,5 % vol', adjectifs=' Gourmand Original Partage'),\n",
       " Vin(name='LUPO MERAVIGLIA TRE DI TRE 2022 - BOTTER', capacity=0.75, year=2022, price=38.9, promo='-25%', prix_promo=None, note=16.9, nb_avis=20, type='VIN ROUGE', lien='https://www.vinatis.com/63000-lupo-meraviglia-tre-di-tre-2022-botter', vol=' 14,5 % vol', adjectifs=' Fruité Intense Douceur'),\n",
       " Vin(name='COTES DU RHONE - LES BORIES 2019 - ROMAIN DUVERNAY', capacity=0.75, year=2019, price=36.3, promo='-21%', prix_promo=None, note=15.7, nb_avis=145, type='VIN ROUGE', lien='https://www.vinatis.com/41882-cotes-du-rhone-les-bories-2019-romain-duvernay', vol=' 14 % vol', adjectifs=' Fruité Velours Ensoleillé'),\n",
       " Vin(name='COTES DU RHONE 2020 - E. GUIGAL', capacity=0.75, year=2020, price=69.9, promo='-16%', prix_promo=None, note=16.9, nb_avis=9, type='VIN ROUGE', lien='https://www.vinatis.com/62570-cotes-du-rhone-2020-e-guigal', vol=' 15 % vol', adjectifs=' Incontournable Souple Savoir-faire'),\n",
       " Vin(name='CHATEAU MOULIN BELLEGRAVE 2020', capacity=0.75, year=2020, price=614.6, promo='-25%', prix_promo=None, note=16.3, nb_avis=3, type='VIN ROUGE', lien='https://www.vinatis.com/60679-chateau-moulin-bellegrave-2020', vol=' 14,5 % vol', adjectifs=' Dense Longue finale Tanins élégants'),\n",
       " Vin(name='MOURVEDRE 2020 - LES JAMELLES', capacity=0.75, year=2020, price=9.5, promo='-34%', prix_promo=6.2, note=16.6, nb_avis=42, type='VIN ROUGE', lien='https://www.vinatis.com/58096-mourvedre-2020-les-jamelles', vol=' 13,5 % vol ', adjectifs=' Généreux Vin de Copains 100% Mourvèdre'),\n",
       " Vin(name='RIOJA CRIANZA 2019 - BODEGAS BURGO VIEJO', capacity=0.75, year=2019, price=66.9, promo='-30%', prix_promo=None, note=15.8, nb_avis=76, type='VIN ROUGE', lien='https://www.vinatis.com/50860-rioja-crianza-2019-bodegas-burgo-viejo', vol=' 13,5 % vol ', adjectifs=\" Elégance Complexité aromatique 24 mois d'élevage\"),\n",
       " Vin(name='BASTIDE MIRAFLORS 2020 - DOMAINE LAFAGE', capacity=0.75, year=2020, price=28.95, promo='-25%', prix_promo=None, note=16.1, nb_avis=13, type='VIN ROUGE', lien='https://www.vinatis.com/59102-bastide-miraflors-2020-domaine-lafage', vol=' 14,5 % vol', adjectifs=' EQUILIBRE TERROIR PUISSANCE'),\n",
       " Vin(name='YLIRUM 2021 - VEGA DEMARA', capacity=0.75, year=2021, price=64.99, promo='-15%', prix_promo=None, note=16.3, nb_avis=32, type='VIN ROUGE', lien='https://www.vinatis.com/57574-ylirum-2021-vega-demara', vol=' 13 % vol ', adjectifs=' Gouleyant 100% Valeur Sûre N°1 Espagne'),\n",
       " Vin(name='MOUTON CADET 2020 90EME ANNIVERSAIRE - BARON PHILIPPE DE ROTHSCHILD', capacity=0.75, year=2020, price=68.9, promo='-19%', prix_promo=None, note=17.1, nb_avis=30, type='VIN ROUGE', lien='https://www.vinatis.com/55936-mouton-cadet-2020-90eme-anniversaire-baron-philippe-de-rothschild', vol=' 14 % vol', adjectifs=' Puissance Fruits rouges mûrs Épices fraîches'),\n",
       " Vin(name='COTES DU RHONE - RICHETTE 2016 - PATRICK LESEC', capacity=0.75, year=2016, price=37.5, promo='-21%', prix_promo=None, note=15.9, nb_avis=180, type='VIN ROUGE', lien='https://www.vinatis.com/29469-cotes-du-rhone-richette-2016-patrick-lesec', vol=' 14 % vol', adjectifs=' Richesse aromatique Découverte Top Affaire'),\n",
       " Vin(name='COW MALBEC 2022 - TUSSOCK JUMPER', capacity=0.75, year=2022, price=66.2, promo='-30%', prix_promo=None, note=16.4, nb_avis=20, type='VIN ROUGE', lien='https://www.vinatis.com/58118-cow-malbec-2022-tussock-jumper', vol=' 13 % vol ', adjectifs=' Gourmand Plaisir Autochtone'),\n",
       " Vin(name='PRIMITIVO WRAP ORGANIC 2021 - UCCELLINI', capacity=0.75, year=2021, price=66.5, promo='-27%', prix_promo=None, note=15.9, nb_avis=62, type='VIN ROUGE', lien='https://www.vinatis.com/51211-primitivo-wrap-organic-2021-uccellini', vol=' 13,5 % vol ', adjectifs=' Fraîcheur Equilibre Simplicité'),\n",
       " Vin(name='CUVEE CONSTANCE 2019 - THUNEVIN-CALVET', capacity=0.75, year=2019, price=28.9, promo='-23%', prix_promo=None, note=16.6, nb_avis=11, type='VIN ROUGE', lien='https://www.vinatis.com/61074-cuvee-constance-2019-thunevin-calvet', vol=' 15 % vol', adjectifs=' VALEUR SÛRE SOYEUX BARBECUE'),\n",
       " Vin(name='LA TIRE 2022 - BY JEFF CARREL', capacity=0.75, year=2022, price=28.9, promo='-19%', prix_promo=None, note=16.0, nb_avis=1, type='VIN ROUGE', lien='https://www.vinatis.com/58168-la-tire-2022-by-jeff-carrel', vol=' 14,5 % vol', adjectifs=' Original Plaisir Viandes rouges'),\n",
       " Vin(name='GIGONDAS - LE VIEUX CLOCHER 2019 - MAISON ARNOUX & FILS', capacity=0.75, year=2019, price=216.7, promo='-20%', prix_promo=None, note=16.8, nb_avis=51, type='VIN ROUGE', lien='https://www.vinatis.com/52548-gigondas-le-vieux-clocher-2019-maison-arnoux-fils', vol=' 15 % vol', adjectifs=' Structure Souplesse Harmonie'),\n",
       " Vin(name=\"PETIT PONT ROUGE RESERVE - PAYS D'OC 2022 -  DOMAINES ROBERT VIC\", capacity=0.75, year=2022, price=34.99, promo='-23%', prix_promo=None, note=16.1, nb_avis=13, type='VIN ROUGE', lien='https://www.vinatis.com/61066-petit-pont-rouge-reserve-pays-d-oc-2022-domaines-robert-vic', vol=' 12,5 % vol', adjectifs=' FRUITE JUTEUX PRIX/PLAISIR'),\n",
       " Vin(name='LIRAC 2019 - XAVIER VIGNON', capacity=0.75, year=2019, price=310.4, promo='-20%', prix_promo=None, note=16.2, nb_avis=154, type='VIN ROUGE', lien='https://www.vinatis.com/42740-lirac-2019-xavier-vignon', vol=' 15 % vol', adjectifs=' Gourmand Fruité Prix plaisir'),\n",
       " Vin(name='VILLA DES ANGES RESERVE 2021 - JEFF CARREL', capacity=0.75, year=2021, price=66.6, promo='-30%', prix_promo=None, note=16.6, nb_avis=148, type='VIN ROUGE', lien='https://www.vinatis.com/57419-villa-des-anges-reserve-2021-jeff-carrel', vol=' 14 % vol', adjectifs=' BOISE EQUILIBRE VANILLE'),\n",
       " Vin(name='LES DARONS 2022 - BY JEFF CARREL', capacity=0.75, year=2022, price=126.8, promo='-25%', prix_promo=None, note=16.8, nb_avis=15, type='VIN ROUGE', lien='https://www.vinatis.com/61101-les-darons-2022-by-jeff-carrel', vol=' 14 % vol', adjectifs=' Gourmand Meilleure Vente N°1 Languedoc-Roussillon'),\n",
       " Vin(name='LE TRIPORTEUR ROUGE 2020', capacity=0.75, year=2020, price=34.95, promo='-23%', prix_promo=None, note=15.6, nb_avis=97, type='VIN ROUGE', lien='https://www.vinatis.com/52838-le-triporteur-rouge-2020', vol=' 14,5 % vol', adjectifs=' Gourmand Original Partage'),\n",
       " Vin(name='CHATEAU MOULIN BELLEGRAVE 2020', capacity=0.75, year=2020, price=614.6, promo='-25%', prix_promo=None, note=16.3, nb_avis=3, type='VIN ROUGE', lien='https://www.vinatis.com/60679-chateau-moulin-bellegrave-2020', vol=' 14,5 % vol', adjectifs=' Dense Longue finale Tanins élégants'),\n",
       " Vin(name='GRANDE RÉSERVE MÉDOC 2019 - TOUR PRIGNAC - CRU BOURGEOIS', capacity=0.75, year=2019, price=216.7, promo='-20%', prix_promo=None, note=19.2, nb_avis=6, type='VIN ROUGE', lien='https://www.vinatis.com/61917-grande-reserve-medoc-2019-tour-prignac-cru-bourgeois', vol=' 14 % vol', adjectifs=' Onctueux Puissant Distingué'),\n",
       " Vin(name='CHATEAU MALBEC 2020', capacity=0.75, year=2020, price=28.5, promo='-10%', prix_promo=None, note=17.3, nb_avis=9, type='VIN ROUGE', lien='https://www.vinatis.com/60636-chateau-malbec-2020', vol=' 14 % vol', adjectifs=' Puissant Belle longueur Structuré'),\n",
       " Vin(name='CHÂTEAU MONTLABERT 2019', capacity=0.75, year=2019, price=234.9, promo='-12%', prix_promo=None, note=18.3, nb_avis=6, type='VIN ROUGE', lien='https://www.vinatis.com/62340-chateau-montlabert-2019', vol=' 14 % vol', adjectifs=' Caractère Élégance Notes grillées'),\n",
       " Vin(name='DEMI-BOUTEILLE - CHATEAU DAUZAC 2019', capacity=0.375, year=2019, price=222.4, promo='-25%', prix_promo=None, note=16.9, nb_avis=10, type='VIN ROUGE', lien='https://www.vinatis.com/44495-demi-bouteille-chateau-dauzac-2019', vol=' 14 % vol', adjectifs=' Complexe Savoureux Élégant'),\n",
       " Vin(name=\"DOMAINE DE L'ECRIVAIN 2019\", capacity=0.75, year=2019, price=55.0, promo=None, prix_promo=None, note=None, nb_avis=0, type='VIN ROUGE', lien='https://www.vinatis.com/60354-domaine-de-l-ecrivain-2019', vol=' 15 % vol', adjectifs=' Raffiné Longue finale Grande découverte'),\n",
       " Vin(name='CUVEE S.M 2 - XAVIER VIGNON', capacity=0.75, year=None, price=216.4, promo='-15%', prix_promo=None, note=16.3, nb_avis=95, type='VIN ROUGE', lien='https://www.vinatis.com/31893-cuvee-sm-2-xavier-vignon', vol=' 14 % vol', adjectifs=' Finesse Concentration Incomparable'),\n",
       " Vin(name='CHATEAU PRADEAUX ROUGE 2018', capacity=0.75, year=2018, price=32.0, promo=None, prix_promo=None, note=17.6, nb_avis=5, type='VIN ROUGE', lien='https://www.vinatis.com/56113-chateau-pradeaux-rouge-2018', vol=' 14,5 % vol', adjectifs=' Délicat Ensorcelant Fameux'),\n",
       " Vin(name='LES TOURS DE LAROQUE 2019 - SECOND VIN DU CHATEAU LAROQUE', capacity=0.75, year=2019, price=216.4, promo='-15%', prix_promo=None, note=None, nb_avis=0, type='VIN ROUGE', lien='https://www.vinatis.com/58748-les-tours-de-laroque-2019-second-vin-du-chateau-laroque', vol=' 14,5 % vol', adjectifs=' Elégant Velouté Savoureux'),\n",
       " Vin(name='DIANE CABERNET SAUVIGNON SANS SOUFRE \"L\\'AUDACIEUSE\" 2020', capacity=0.75, year=2020, price=13.4, promo='-20%', prix_promo=10.7, note=15.0, nb_avis=1, type='VIN ROUGE', lien='https://www.vinatis.com/46876-diane-cabernet-sauvignon-sans-soufre-l-audacieuse-2020', vol=' 13 % vol ', adjectifs=' Éclatant Sur le fruit Sans soufre'),\n",
       " Vin(name='GRANDE CUVEE 2018 - DOMAINE DES FERAUD', capacity=0.75, year=2018, price=20.0, promo='-15%', prix_promo=17.0, note=None, nb_avis=0, type='VIN ROUGE', lien='https://www.vinatis.com/54443-grande-cuvee-2018-domaine-des-feraud', vol=' 14,5 % vol', adjectifs=' Intense Finesse Puissant'),\n",
       " Vin(name='MADEMOISELLE 2020 - CHATEAU AUZIAS', capacity=0.75, year=2020, price=34.99, promo='-23%', prix_promo=None, note=16.4, nb_avis=95, type='VIN ROUGE', lien='https://www.vinatis.com/55631-mademoiselle-2020-chateau-auzias', vol=' 14 % vol', adjectifs=' TOP AFFAIRE GOURMAND CHARNU'),\n",
       " Vin(name=\"PETIT PONT ROUGE RESERVE - PAYS D'OC 2022 -  DOMAINES ROBERT VIC\", capacity=0.75, year=2022, price=27.9, promo='-16%', prix_promo=None, note=16.1, nb_avis=13, type='VIN ROUGE', lien='https://www.vinatis.com/61066-petit-pont-rouge-reserve-pays-d-oc-2022-domaines-robert-vic', vol=' 12,5 % vol', adjectifs=' FRUITE JUTEUX PRIX/PLAISIR'),\n",
       " Vin(name='PINOT NOIR  RESERVE 2022 - BARTON & GUESTIER', capacity=0.75, year=2022, price=64.99, promo='-15%', prix_promo=None, note=17.2, nb_avis=6, type='VIN ROUGE', lien='https://www.vinatis.com/62417-pinot-noir-reserve-2022-barton-guestier', vol=' 12 % vol ', adjectifs=' Aromatique Richesse Explosif'),\n",
       " Vin(name='YLIRUM 2021 - VEGA DEMARA', capacity=0.75, year=2021, price=27.5, promo='-15%', prix_promo=None, note=16.3, nb_avis=32, type='VIN ROUGE', lien='https://www.vinatis.com/57574-ylirum-2021-vega-demara', vol=' 13 % vol ', adjectifs=' Gouleyant 100% Valeur Sûre N°1 Espagne'),\n",
       " Vin(name='COTES DU RHONE - SAINTE CECILE BIO 2021 - LES JARLOTIERS', capacity=0.75, year=2021, price=66.6, promo='-30%', prix_promo=None, note=17.2, nb_avis=11, type='VIN ROUGE', lien='https://www.vinatis.com/61904-cotes-du-rhone-sainte-cecile-bio-2021-les-jarlotiers', vol=' 14,5 % vol', adjectifs=' Subtil Expressif Solaire'),\n",
       " Vin(name='VILLA DES ANGES RESERVE 2021 - JEFF CARREL', capacity=0.75, year=2021, price=25.8, promo='-15%', prix_promo=None, note=16.6, nb_avis=148, type='VIN ROUGE', lien='https://www.vinatis.com/57419-villa-des-anges-reserve-2021-jeff-carrel', vol=' 14 % vol', adjectifs=' BOISE EQUILIBRE VANILLE'),\n",
       " Vin(name='GRANDE RÉSERVE SYRAH 2021 - MAISON CASTEL', capacity=0.75, year=2021, price=68.9, promo=None, prix_promo=None, note=16.8, nb_avis=17, type='VIN ROUGE', lien='https://www.vinatis.com/61906-grande-reserve-syrah-2021-maison-castel', vol=' 13,5 % vol ', adjectifs=' INCONTOURNABLE VELOURS ELEGANT'),\n",
       " Vin(name='DOMAINE DE CHEVALIER 2014', capacity=0.75, year=2014, price=37.5, promo='-21%', prix_promo=None, note=None, nb_avis=0, type='VIN ROUGE', lien='https://www.vinatis.com/25159-domaine-de-chevalier-2014', vol=' 13,5 % vol', adjectifs=' Réussite Pépite Grand potentiel'),\n",
       " Vin(name='COTES DU RHONE - RICHETTE 2016 - PATRICK LESEC', capacity=0.75, year=2016, price=66.2, promo='-25%', prix_promo=None, note=15.9, nb_avis=180, type='VIN ROUGE', lien='https://www.vinatis.com/29469-cotes-du-rhone-richette-2016-patrick-lesec', vol=' 14 % vol', adjectifs=' Richesse aromatique Découverte Top Affaire'),\n",
       " Vin(name='CHATEAU BRIOT 2016', capacity=0.75, year=2016, price=214.75, promo='-10%', prix_promo=None, note=15.5, nb_avis=73, type='VIN ROUGE', lien='https://www.vinatis.com/45588-chateau-briot-2016', vol=' 13,5 % vol', adjectifs=' Fruité Souple Accessible'),\n",
       " Vin(name=\"CHATEAU D'ARCINS 2019 - CRU BOURGEOIS\", capacity=0.75, year=2019, price=66.1, promo='-28%', prix_promo=None, note=17.6, nb_avis=13, type='VIN ROUGE', lien='https://www.vinatis.com/60641-chateau-d-arcins-2019-cru-bourgeois', vol=' 13,5 % vol', adjectifs=' Riche Complexe Belle allonge'),\n",
       " Vin(name='COL DE LAIROLE 2021 - CAVE DE ROQUEBRUN', capacity=0.75, year=2021, price=28.5, promo='-15%', prix_promo=None, note=16.6, nb_avis=9, type='VIN ROUGE', lien='https://www.vinatis.com/56993-col-de-lairole-2021-cave-de-roquebrun', vol=' 13,5 % vol', adjectifs=' FRAICHEUR SAVOUREUX HARMONIE'),\n",
       " Vin(name='BOURGUEIL - CUVEE VIEILLES VIGNES 2020 - DOMAINE OLIVIER', capacity=0.75, year=2020, price=66.2, promo='-30%', prix_promo=None, note=16.2, nb_avis=14, type='VIN ROUGE', lien='https://www.vinatis.com/57988-bourgueil-cuvee-vieilles-vignes-2020-domaine-olivier', vol=' 13 % vol ', adjectifs=' Généreux Vif Ample'),\n",
       " Vin(name='COW MALBEC 2022 - TUSSOCK JUMPER', capacity=0.75, year=2022, price=66.9, promo='-30%', prix_promo=None, note=16.4, nb_avis=20, type='VIN ROUGE', lien='https://www.vinatis.com/58118-cow-malbec-2022-tussock-jumper', vol=' 13 % vol ', adjectifs=' Gourmand Plaisir Autochtone'),\n",
       " Vin(name='RIOJA CRIANZA 2019 - BODEGAS BURGO VIEJO', capacity=0.75, year=2019, price=248.0, promo='-10%', prix_promo=None, note=15.8, nb_avis=76, type='VIN ROUGE', lien='https://www.vinatis.com/50860-rioja-crianza-2019-bodegas-burgo-viejo', vol=' 13,5 % vol ', adjectifs=\" Elégance Complexité aromatique 24 mois d'élevage\"),\n",
       " Vin(name='CHATEAU VILLEMAURINE 2019', capacity=0.75, year=2019, price=66.3, promo='-26%', prix_promo=None, note=None, nb_avis=0, type='VIN ROUGE', lien='https://www.vinatis.com/50970-chateau-villemaurine-2019', vol=' 14,5 % vol', adjectifs=' Concentration Grande fraîcheur Élégante finesse'),\n",
       " Vin(name='LA CITE DES VENTS - LANGUEDOC 2019 - CHATEAU AUZIAS', capacity=0.75, year=2019, price=38.9, promo='-25%', prix_promo=None, note=16.1, nb_avis=168, type='VIN ROUGE', lien='https://www.vinatis.com/51707-la-cite-des-vents-languedoc-2019-chateau-auzias', vol=' 14 % vol', adjectifs=' GOURMAND CARACTERE HARMONIEUX'),\n",
       " Vin(name='LUPO MERAVIGLIA TRE DI TRE 2022 - BOTTER', capacity=0.75, year=2022, price=28.95, promo='-25%', prix_promo=None, note=16.9, nb_avis=20, type='VIN ROUGE', lien='https://www.vinatis.com/63000-lupo-meraviglia-tre-di-tre-2022-botter', vol=' 14,5 % vol', adjectifs=' Fruité Intense Douceur')]"
      ]
     },
     "execution_count": 23,
     "metadata": {},
     "output_type": "execute_result"
    }
   ],
   "source": [
    "actualisation_vin(vins)"
   ]
  },
  {
   "cell_type": "markdown",
   "metadata": {},
   "source": [
    "# JSON"
   ]
  },
  {
   "cell_type": "code",
   "execution_count": 24,
   "metadata": {},
   "outputs": [],
   "source": [
    "vins_json = to_json(vins)"
   ]
  },
  {
   "cell_type": "code",
   "execution_count": 25,
   "metadata": {},
   "outputs": [],
   "source": [
    "file_path = \"data/vins.json\"\n",
    "\n",
    "with open(file_path, \"w\",  encoding='utf-8') as json_file:\n",
    "    json_file.write(vins_json)"
   ]
  },
  {
   "cell_type": "code",
   "execution_count": 26,
   "metadata": {},
   "outputs": [
    {
     "data": {
      "text/html": [
       "<div><style>\n",
       ".dataframe > thead > tr > th,\n",
       ".dataframe > tbody > tr > td {\n",
       "  text-align: right;\n",
       "  white-space: pre-wrap;\n",
       "}\n",
       "</style>\n",
       "<small>shape: (55, 12)</small><table border=\"1\" class=\"dataframe\"><thead><tr><th>name</th><th>capacity</th><th>year</th><th>price</th><th>promo</th><th>prix_promo</th><th>note</th><th>nb_avis</th><th>type</th><th>lien</th><th>vol</th><th>adjectifs</th></tr><tr><td>str</td><td>f64</td><td>i64</td><td>f64</td><td>str</td><td>f64</td><td>f64</td><td>i64</td><td>str</td><td>str</td><td>str</td><td>str</td></tr></thead><tbody><tr><td>&quot;GIGONDAS - LE …</td><td>0.75</td><td>2019</td><td>216.7</td><td>&quot;-20%&quot;</td><td>null</td><td>16.8</td><td>51</td><td>&quot;VIN ROUGE&quot;</td><td>&quot;https://www.vi…</td><td>&quot; 15 % vol&quot;</td><td>&quot; Structure Sou…</td></tr><tr><td>&quot;PETIT PONT ROU…</td><td>0.75</td><td>2022</td><td>34.99</td><td>&quot;-23%&quot;</td><td>null</td><td>16.1</td><td>13</td><td>&quot;VIN ROUGE&quot;</td><td>&quot;https://www.vi…</td><td>&quot; 12,5 % vol&quot;</td><td>&quot; FRUITE JUTEUX…</td></tr><tr><td>&quot;LIRAC 2019 - X…</td><td>0.75</td><td>2019</td><td>310.4</td><td>&quot;-20%&quot;</td><td>null</td><td>16.2</td><td>154</td><td>&quot;VIN ROUGE&quot;</td><td>&quot;https://www.vi…</td><td>&quot; 15 % vol&quot;</td><td>&quot; Gourmand Frui…</td></tr><tr><td>&quot;VILLA DES ANGE…</td><td>0.75</td><td>2021</td><td>66.6</td><td>&quot;-30%&quot;</td><td>null</td><td>16.6</td><td>148</td><td>&quot;VIN ROUGE&quot;</td><td>&quot;https://www.vi…</td><td>&quot; 14 % vol&quot;</td><td>&quot; BOISE EQUILIB…</td></tr><tr><td>&quot;LES DARONS 202…</td><td>0.75</td><td>2022</td><td>126.8</td><td>&quot;-25%&quot;</td><td>null</td><td>16.8</td><td>15</td><td>&quot;VIN ROUGE&quot;</td><td>&quot;https://www.vi…</td><td>&quot; 14 % vol&quot;</td><td>&quot; Gourmand Meil…</td></tr><tr><td>&quot;LE TRIPORTEUR …</td><td>0.75</td><td>2020</td><td>34.95</td><td>&quot;-23%&quot;</td><td>null</td><td>15.6</td><td>97</td><td>&quot;VIN ROUGE&quot;</td><td>&quot;https://www.vi…</td><td>&quot; 14,5 % vol&quot;</td><td>&quot; Gourmand Orig…</td></tr><tr><td>&quot;LUPO MERAVIGLI…</td><td>0.75</td><td>2022</td><td>38.9</td><td>&quot;-25%&quot;</td><td>null</td><td>16.9</td><td>20</td><td>&quot;VIN ROUGE&quot;</td><td>&quot;https://www.vi…</td><td>&quot; 14,5 % vol&quot;</td><td>&quot; Fruité Intens…</td></tr><tr><td>&quot;COTES DU RHONE…</td><td>0.75</td><td>2019</td><td>36.3</td><td>&quot;-21%&quot;</td><td>null</td><td>15.7</td><td>145</td><td>&quot;VIN ROUGE&quot;</td><td>&quot;https://www.vi…</td><td>&quot; 14 % vol&quot;</td><td>&quot; Fruité Velour…</td></tr><tr><td>&quot;COTES DU RHONE…</td><td>0.75</td><td>2020</td><td>69.9</td><td>&quot;-16%&quot;</td><td>null</td><td>16.9</td><td>9</td><td>&quot;VIN ROUGE&quot;</td><td>&quot;https://www.vi…</td><td>&quot; 15 % vol&quot;</td><td>&quot; Incontournabl…</td></tr><tr><td>&quot;CHATEAU MOULIN…</td><td>0.75</td><td>2020</td><td>614.6</td><td>&quot;-25%&quot;</td><td>null</td><td>16.3</td><td>3</td><td>&quot;VIN ROUGE&quot;</td><td>&quot;https://www.vi…</td><td>&quot; 14,5 % vol&quot;</td><td>&quot; Dense Longue …</td></tr><tr><td>&quot;MOURVEDRE 2020…</td><td>0.75</td><td>2020</td><td>9.5</td><td>&quot;-34%&quot;</td><td>6.2</td><td>16.6</td><td>42</td><td>&quot;VIN ROUGE&quot;</td><td>&quot;https://www.vi…</td><td>&quot; 13,5 % vol &quot;</td><td>&quot; Généreux Vin …</td></tr><tr><td>&quot;RIOJA CRIANZA …</td><td>0.75</td><td>2019</td><td>66.9</td><td>&quot;-30%&quot;</td><td>null</td><td>15.8</td><td>76</td><td>&quot;VIN ROUGE&quot;</td><td>&quot;https://www.vi…</td><td>&quot; 13,5 % vol &quot;</td><td>&quot; Elégance Comp…</td></tr><tr><td>&hellip;</td><td>&hellip;</td><td>&hellip;</td><td>&hellip;</td><td>&hellip;</td><td>&hellip;</td><td>&hellip;</td><td>&hellip;</td><td>&hellip;</td><td>&hellip;</td><td>&hellip;</td><td>&hellip;</td></tr><tr><td>&quot;GRANDE RÉSERVE…</td><td>0.75</td><td>2021</td><td>68.9</td><td>null</td><td>null</td><td>16.8</td><td>17</td><td>&quot;VIN ROUGE&quot;</td><td>&quot;https://www.vi…</td><td>&quot; 13,5 % vol &quot;</td><td>&quot; INCONTOURNABL…</td></tr><tr><td>&quot;DOMAINE DE CHE…</td><td>0.75</td><td>2014</td><td>37.5</td><td>&quot;-21%&quot;</td><td>null</td><td>null</td><td>0</td><td>&quot;VIN ROUGE&quot;</td><td>&quot;https://www.vi…</td><td>&quot; 13,5 % vol&quot;</td><td>&quot; Réussite Pépi…</td></tr><tr><td>&quot;COTES DU RHONE…</td><td>0.75</td><td>2016</td><td>66.2</td><td>&quot;-25%&quot;</td><td>null</td><td>15.9</td><td>180</td><td>&quot;VIN ROUGE&quot;</td><td>&quot;https://www.vi…</td><td>&quot; 14 % vol&quot;</td><td>&quot; Richesse arom…</td></tr><tr><td>&quot;CHATEAU BRIOT …</td><td>0.75</td><td>2016</td><td>214.75</td><td>&quot;-10%&quot;</td><td>null</td><td>15.5</td><td>73</td><td>&quot;VIN ROUGE&quot;</td><td>&quot;https://www.vi…</td><td>&quot; 13,5 % vol&quot;</td><td>&quot; Fruité Souple…</td></tr><tr><td>&quot;CHATEAU D&#x27;ARCI…</td><td>0.75</td><td>2019</td><td>66.1</td><td>&quot;-28%&quot;</td><td>null</td><td>17.6</td><td>13</td><td>&quot;VIN ROUGE&quot;</td><td>&quot;https://www.vi…</td><td>&quot; 13,5 % vol&quot;</td><td>&quot; Riche Complex…</td></tr><tr><td>&quot;COL DE LAIROLE…</td><td>0.75</td><td>2021</td><td>28.5</td><td>&quot;-15%&quot;</td><td>null</td><td>16.6</td><td>9</td><td>&quot;VIN ROUGE&quot;</td><td>&quot;https://www.vi…</td><td>&quot; 13,5 % vol&quot;</td><td>&quot; FRAICHEUR SAV…</td></tr><tr><td>&quot;BOURGUEIL - CU…</td><td>0.75</td><td>2020</td><td>66.2</td><td>&quot;-30%&quot;</td><td>null</td><td>16.2</td><td>14</td><td>&quot;VIN ROUGE&quot;</td><td>&quot;https://www.vi…</td><td>&quot; 13 % vol &quot;</td><td>&quot; Généreux Vif …</td></tr><tr><td>&quot;COW MALBEC 202…</td><td>0.75</td><td>2022</td><td>66.9</td><td>&quot;-30%&quot;</td><td>null</td><td>16.4</td><td>20</td><td>&quot;VIN ROUGE&quot;</td><td>&quot;https://www.vi…</td><td>&quot; 13 % vol &quot;</td><td>&quot; Gourmand Plai…</td></tr><tr><td>&quot;RIOJA CRIANZA …</td><td>0.75</td><td>2019</td><td>248.0</td><td>&quot;-10%&quot;</td><td>null</td><td>15.8</td><td>76</td><td>&quot;VIN ROUGE&quot;</td><td>&quot;https://www.vi…</td><td>&quot; 13,5 % vol &quot;</td><td>&quot; Elégance Comp…</td></tr><tr><td>&quot;CHATEAU VILLEM…</td><td>0.75</td><td>2019</td><td>66.3</td><td>&quot;-26%&quot;</td><td>null</td><td>null</td><td>0</td><td>&quot;VIN ROUGE&quot;</td><td>&quot;https://www.vi…</td><td>&quot; 14,5 % vol&quot;</td><td>&quot; Concentration…</td></tr><tr><td>&quot;LA CITE DES VE…</td><td>0.75</td><td>2019</td><td>38.9</td><td>&quot;-25%&quot;</td><td>null</td><td>16.1</td><td>168</td><td>&quot;VIN ROUGE&quot;</td><td>&quot;https://www.vi…</td><td>&quot; 14 % vol&quot;</td><td>&quot; GOURMAND CARA…</td></tr><tr><td>&quot;LUPO MERAVIGLI…</td><td>0.75</td><td>2022</td><td>28.95</td><td>&quot;-25%&quot;</td><td>null</td><td>16.9</td><td>20</td><td>&quot;VIN ROUGE&quot;</td><td>&quot;https://www.vi…</td><td>&quot; 14,5 % vol&quot;</td><td>&quot; Fruité Intens…</td></tr></tbody></table></div>"
      ],
      "text/plain": [
       "shape: (55, 12)\n",
       "┌──────────────┬──────────┬──────┬───────┬───┬───────────┬─────────────┬─────────────┬─────────────┐\n",
       "│ name         ┆ capacity ┆ year ┆ price ┆ … ┆ type      ┆ lien        ┆ vol         ┆ adjectifs   │\n",
       "│ ---          ┆ ---      ┆ ---  ┆ ---   ┆   ┆ ---       ┆ ---         ┆ ---         ┆ ---         │\n",
       "│ str          ┆ f64      ┆ i64  ┆ f64   ┆   ┆ str       ┆ str         ┆ str         ┆ str         │\n",
       "╞══════════════╪══════════╪══════╪═══════╪═══╪═══════════╪═════════════╪═════════════╪═════════════╡\n",
       "│ GIGONDAS -   ┆ 0.75     ┆ 2019 ┆ 216.7 ┆ … ┆ VIN ROUGE ┆ https://www ┆  15 % vol   ┆ Structure   │\n",
       "│ LE VIEUX     ┆          ┆      ┆       ┆   ┆           ┆ .vinatis.co ┆             ┆ Souplesse   │\n",
       "│ CLOCHER      ┆          ┆      ┆       ┆   ┆           ┆ m/52548-gi… ┆             ┆ Harmonie    │\n",
       "│ 2019…        ┆          ┆      ┆       ┆   ┆           ┆             ┆             ┆             │\n",
       "│ PETIT PONT   ┆ 0.75     ┆ 2022 ┆ 34.99 ┆ … ┆ VIN ROUGE ┆ https://www ┆  12,5 % vol ┆ FRUITE      │\n",
       "│ ROUGE        ┆          ┆      ┆       ┆   ┆           ┆ .vinatis.co ┆             ┆ JUTEUX PRIX │\n",
       "│ RESERVE -    ┆          ┆      ┆       ┆   ┆           ┆ m/61066-pe… ┆             ┆ /PLAISIR    │\n",
       "│ PAYS …       ┆          ┆      ┆       ┆   ┆           ┆             ┆             ┆             │\n",
       "│ LIRAC 2019 - ┆ 0.75     ┆ 2019 ┆ 310.4 ┆ … ┆ VIN ROUGE ┆ https://www ┆  15 % vol   ┆ Gourmand    │\n",
       "│ XAVIER       ┆          ┆      ┆       ┆   ┆           ┆ .vinatis.co ┆             ┆ Fruité Prix │\n",
       "│ VIGNON       ┆          ┆      ┆       ┆   ┆           ┆ m/42740-li… ┆             ┆ plaisir     │\n",
       "│ VILLA DES    ┆ 0.75     ┆ 2021 ┆ 66.6  ┆ … ┆ VIN ROUGE ┆ https://www ┆  14 % vol   ┆ BOISE       │\n",
       "│ ANGES        ┆          ┆      ┆       ┆   ┆           ┆ .vinatis.co ┆             ┆ EQUILIBRE   │\n",
       "│ RESERVE 2021 ┆          ┆      ┆       ┆   ┆           ┆ m/57419-vi… ┆             ┆ VANILLE     │\n",
       "│ - J…         ┆          ┆      ┆       ┆   ┆           ┆             ┆             ┆             │\n",
       "│ …            ┆ …        ┆ …    ┆ …     ┆ … ┆ …         ┆ …           ┆ …           ┆ …           │\n",
       "│ RIOJA        ┆ 0.75     ┆ 2019 ┆ 248.0 ┆ … ┆ VIN ROUGE ┆ https://www ┆ 13,5 % vol  ┆ Elégance    │\n",
       "│ CRIANZA 2019 ┆          ┆      ┆       ┆   ┆           ┆ .vinatis.co ┆             ┆ Complexité  │\n",
       "│ - BODEGAS    ┆          ┆      ┆       ┆   ┆           ┆ m/50860-ri… ┆             ┆ aromatique  │\n",
       "│ BUR…         ┆          ┆      ┆       ┆   ┆           ┆             ┆             ┆ …           │\n",
       "│ CHATEAU      ┆ 0.75     ┆ 2019 ┆ 66.3  ┆ … ┆ VIN ROUGE ┆ https://www ┆  14,5 % vol ┆ Concentrati │\n",
       "│ VILLEMAURINE ┆          ┆      ┆       ┆   ┆           ┆ .vinatis.co ┆             ┆ on Grande   │\n",
       "│ 2019         ┆          ┆      ┆       ┆   ┆           ┆ m/50970-ch… ┆             ┆ fraîcheur … │\n",
       "│ LA CITE DES  ┆ 0.75     ┆ 2019 ┆ 38.9  ┆ … ┆ VIN ROUGE ┆ https://www ┆  14 % vol   ┆ GOURMAND    │\n",
       "│ VENTS -      ┆          ┆      ┆       ┆   ┆           ┆ .vinatis.co ┆             ┆ CARACTERE   │\n",
       "│ LANGUEDOC    ┆          ┆      ┆       ┆   ┆           ┆ m/51707-la… ┆             ┆ HARMONIEUX  │\n",
       "│ 20…          ┆          ┆      ┆       ┆   ┆           ┆             ┆             ┆             │\n",
       "│ LUPO         ┆ 0.75     ┆ 2022 ┆ 28.95 ┆ … ┆ VIN ROUGE ┆ https://www ┆  14,5 % vol ┆ Fruité      │\n",
       "│ MERAVIGLIA   ┆          ┆      ┆       ┆   ┆           ┆ .vinatis.co ┆             ┆ Intense     │\n",
       "│ TRE DI TRE   ┆          ┆      ┆       ┆   ┆           ┆ m/63000-lu… ┆             ┆ Douceur     │\n",
       "│ 2022 …       ┆          ┆      ┆       ┆   ┆           ┆             ┆             ┆             │\n",
       "└──────────────┴──────────┴──────┴───────┴───┴───────────┴─────────────┴─────────────┴─────────────┘"
      ]
     },
     "execution_count": 26,
     "metadata": {},
     "output_type": "execute_result"
    }
   ],
   "source": [
    "pl.read_json(file_path)"
   ]
  }
 ],
 "metadata": {
  "kernelspec": {
   "display_name": "Python 3",
   "language": "python",
   "name": "python3"
  },
  "language_info": {
   "codemirror_mode": {
    "name": "ipython",
    "version": 3
   },
   "file_extension": ".py",
   "mimetype": "text/x-python",
   "name": "python",
   "nbconvert_exporter": "python",
   "pygments_lexer": "ipython3",
   "version": "3.11.1"
  },
  "orig_nbformat": 4
 },
 "nbformat": 4,
 "nbformat_minor": 2
}
