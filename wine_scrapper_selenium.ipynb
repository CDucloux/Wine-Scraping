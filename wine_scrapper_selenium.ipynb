{
 "cells": [
  {
   "cell_type": "code",
   "execution_count": 1,
   "metadata": {},
   "outputs": [],
   "source": [
    "from src.modules.vin_dataclass import Vin\n",
    "import src.modules.data_extractor as de\n",
    "from bs4 import BeautifulSoup as BS\n",
    "from pathlib import Path\n",
    "from serde.json import to_json\n",
    "import polars as pl\n",
    "\n",
    "from dataclasses import dataclass\n",
    "from selenium import webdriver\n",
    "from selenium.webdriver.chrome.service import Service\n",
    "from selenium.webdriver.common.keys import Keys\n",
    "from selenium.webdriver.common.by import By\n",
    "from selenium.webdriver.common.action_chains import ActionChains\n",
    "import time\n",
    "\n",
    "import numpy as np\n",
    "import re"
   ]
  },
  {
   "cell_type": "code",
   "execution_count": 26,
   "metadata": {},
   "outputs": [],
   "source": [
    "def scrapeur(lien : str): #\"https://www.vinatis.com/achat-vin-rouge\"\n",
    "    ## LANCE CHROME ##\n",
    "    service = Service(executable_path='./chromedriver.exe')\n",
    "    driver = webdriver.Chrome(service=service)\n",
    "    driver.get(lien)\n",
    "\n",
    "    ## FERME LES COOKIES ##\n",
    "    cookie_accept_button = driver.find_element(By.XPATH, \"//button[contains(text(), 'Accepter et continuer')]\")\n",
    "    cookie_accept_button.click()\n",
    "\n",
    "    ## FERME POPUP ## pop-up \"Inscription\" apparait de manière aléatoire\n",
    "    while True:\n",
    "        try:\n",
    "            time.sleep(10)\n",
    "            driver.find_element(By.CLASS_NAME, 'close_modal_vinatis').click()\n",
    "        except :\n",
    "            continue  \n",
    "        break \n",
    "\n",
    "    ## RECUPERE NB PAGE à SCRAPER##\n",
    "    page_source = driver.page_source\n",
    "    soupe = BS(page_source)\n",
    "    result_nb_pages = soupe.find_all(name=\"span\", attrs={\"class\": \"margin-right-10\"})\n",
    "    NOMBRE_PAGE = int(re.findall(r'\\d+', result_nb_pages[0].text)[0])\n",
    "\n",
    "    ## BOUCLE POUR PARCOURIR LES PAGES ##\n",
    "    i = 1\n",
    "    vins = list()\n",
    "    while i < NOMBRE_PAGE:\n",
    "        ## SCRAPING ##\n",
    "        page_source = driver.page_source\n",
    "        soupe = BS(page_source)\n",
    "        \n",
    "        for (item_1, item_2, item_3, item_4) in zip(\n",
    "            de.extract_result(soupe)[\"result_title\"], \n",
    "            de.extract_result(soupe)[\"result_price\"], \n",
    "            de.extract_result(soupe)[\"result_avis\"],\n",
    "            de.extract_result(soupe)[\"result_type\"]\n",
    "        ):\n",
    "            vins.append(de.extract_vin(item_1, item_2, item_3, item_4))\n",
    "        \n",
    "        ## CHANGEMENT DE PAGE ##\n",
    "        time.sleep(2)\n",
    "        bouton = driver.find_element(By.CLASS_NAME, 'icon-chevron-right')\n",
    "        time.sleep(2)\n",
    "        driver.execute_script(\"arguments[0].scrollIntoView();\", bouton)\n",
    "        time.sleep(2)\n",
    "        driver.execute_script(\"window.scrollBy(0, -500);\")\n",
    "        time.sleep(2)\n",
    "        bouton.click()\n",
    "        time.sleep(2)\n",
    "        i = i + 1\n",
    "\n",
    "    ## FERME CHROME ##\n",
    "    driver.quit()\n",
    "    \n",
    "    return vins\n"
   ]
  },
  {
   "cell_type": "code",
   "execution_count": 29,
   "metadata": {},
   "outputs": [],
   "source": [
    "vins = scrapeur(\"https://www.vinatis.com/champagne-brut\")"
   ]
  },
  {
   "cell_type": "code",
   "execution_count": 30,
   "metadata": {},
   "outputs": [],
   "source": [
    "vins_json = to_json(vins)"
   ]
  },
  {
   "cell_type": "code",
   "execution_count": 31,
   "metadata": {},
   "outputs": [],
   "source": [
    "file_path = \"data/vins.json\"\n",
    "\n",
    "with open(file_path, \"w\",  encoding='utf-8') as json_file:\n",
    "    json_file.write(vins_json)"
   ]
  },
  {
   "cell_type": "code",
   "execution_count": 32,
   "metadata": {},
   "outputs": [
    {
     "data": {
      "text/html": [
       "<div><style>\n",
       ".dataframe > thead > tr > th,\n",
       ".dataframe > tbody > tr > td {\n",
       "  text-align: right;\n",
       "  white-space: pre-wrap;\n",
       "}\n",
       "</style>\n",
       "<small>shape: (202, 9)</small><table border=\"1\" class=\"dataframe\"><thead><tr><th>name</th><th>capacity</th><th>price</th><th>promo</th><th>prix_promo</th><th>note</th><th>nb_avis</th><th>type</th><th>year</th></tr><tr><td>str</td><td>f64</td><td>f64</td><td>str</td><td>f64</td><td>f64</td><td>i64</td><td>str</td><td>i64</td></tr></thead><tbody><tr><td>&quot;CHAMPAGNE JEAN…</td><td>0.75</td><td>29.9</td><td>&quot;-27%&quot;</td><td>21.7</td><td>16.7</td><td>115</td><td>&quot;x&quot;</td><td>null</td></tr><tr><td>&quot;CHAMPAGNE CL D…</td><td>0.75</td><td>620.5</td><td>&quot;-14%&quot;</td><td>null</td><td>16.8</td><td>34</td><td>&quot;x&quot;</td><td>null</td></tr><tr><td>&quot;CHAMPAGNE HATO…</td><td>0.75</td><td>221.5</td><td>&quot;-12%&quot;</td><td>null</td><td>16.4</td><td>159</td><td>&quot;x&quot;</td><td>null</td></tr><tr><td>&quot;CHAMPAGNE ANGE…</td><td>0.75</td><td>69.9</td><td>&quot;-17%&quot;</td><td>57.9</td><td>16.8</td><td>12</td><td>&quot;x&quot;</td><td>null</td></tr><tr><td>&quot;CHAMPAGNE LECL…</td><td>0.75</td><td>49.9</td><td>&quot;-20%&quot;</td><td>39.9</td><td>17.1</td><td>38</td><td>&quot;x&quot;</td><td>null</td></tr><tr><td>&quot;CHAMPAGNE MUMM…</td><td>0.75</td><td>249.9</td><td>&quot;-11%&quot;</td><td>null</td><td>18.3</td><td>11</td><td>&quot;x&quot;</td><td>null</td></tr><tr><td>&quot;CHAMPAGNE MUMM…</td><td>0.75</td><td>24.9</td><td>null</td><td>null</td><td>18.3</td><td>3</td><td>&quot;x&quot;</td><td>null</td></tr><tr><td>&quot;CHAMPAGNE MOET…</td><td>0.75</td><td>58.9</td><td>null</td><td>null</td><td>19.1</td><td>9</td><td>&quot;x&quot;</td><td>null</td></tr><tr><td>&quot;CHAMPAGNE MICH…</td><td>0.75</td><td>240.9</td><td>null</td><td>null</td><td>16.8</td><td>87</td><td>&quot;x&quot;</td><td>null</td></tr><tr><td>&quot;CHAMPAGNE RUIN…</td><td>0.75</td><td>94.9</td><td>null</td><td>null</td><td>18.5</td><td>22</td><td>&quot;x&quot;</td><td>null</td></tr><tr><td>&quot;CHAMPAGNE MOET…</td><td>0.75</td><td>59.9</td><td>null</td><td>null</td><td>18.2</td><td>22</td><td>&quot;x&quot;</td><td>null</td></tr><tr><td>&quot;CHAMPAGNE RUIN…</td><td>0.75</td><td>248.5</td><td>null</td><td>null</td><td>19.3</td><td>4</td><td>&quot;x&quot;</td><td>null</td></tr><tr><td>&hellip;</td><td>&hellip;</td><td>&hellip;</td><td>&hellip;</td><td>&hellip;</td><td>&hellip;</td><td>&hellip;</td><td>&hellip;</td><td>&hellip;</td></tr><tr><td>&quot;CHAMPAGNE HEID…</td><td>0.75</td><td>44.9</td><td>null</td><td>null</td><td>null</td><td>0</td><td>&quot;x&quot;</td><td>2010</td></tr><tr><td>&quot;CHAMPAGNE MUMM…</td><td>0.75</td><td>59.9</td><td>null</td><td>null</td><td>null</td><td>0</td><td>&quot;x&quot;</td><td>null</td></tr><tr><td>&quot;CHAMPAGNE AYAL…</td><td>0.75</td><td>49.9</td><td>null</td><td>null</td><td>null</td><td>0</td><td>&quot;x&quot;</td><td>null</td></tr><tr><td>&quot;CHAMPAGNE BOLL…</td><td>0.75</td><td>110.0</td><td>null</td><td>null</td><td>null</td><td>0</td><td>&quot;x&quot;</td><td>null</td></tr><tr><td>&quot;CHAMPAGNE BARO…</td><td>0.75</td><td>71.0</td><td>null</td><td>null</td><td>null</td><td>0</td><td>&quot;x&quot;</td><td>null</td></tr><tr><td>&quot;CHAMPAGNE BILL…</td><td>0.75</td><td>189.9</td><td>null</td><td>null</td><td>null</td><td>0</td><td>&quot;x&quot;</td><td>null</td></tr><tr><td>&quot;CHAMPAGNE LANS…</td><td>0.75</td><td>352.0</td><td>&quot;-14%&quot;</td><td>null</td><td>null</td><td>0</td><td>&quot;x&quot;</td><td>2012</td></tr><tr><td>&quot;CHAMPAGNE BILL…</td><td>0.75</td><td>265.0</td><td>null</td><td>null</td><td>null</td><td>0</td><td>&quot;x&quot;</td><td>null</td></tr><tr><td>&quot;CHAMPAGNE BARO…</td><td>0.75</td><td>63.0</td><td>null</td><td>null</td><td>null</td><td>0</td><td>&quot;x&quot;</td><td>null</td></tr><tr><td>&quot;CHAMPAGNE VALE…</td><td>0.75</td><td>648.0</td><td>&quot;-14%&quot;</td><td>null</td><td>null</td><td>0</td><td>&quot;x&quot;</td><td>null</td></tr><tr><td>&quot;CHAMPAGNE HENR…</td><td>0.75</td><td>94.0</td><td>null</td><td>null</td><td>null</td><td>0</td><td>&quot;x&quot;</td><td>null</td></tr><tr><td>&quot;CHAMPAGNE RARE…</td><td>0.75</td><td>94.0</td><td>null</td><td>null</td><td>null</td><td>0</td><td>&quot;x&quot;</td><td>2008</td></tr></tbody></table></div>"
      ],
      "text/plain": [
       "shape: (202, 9)\n",
       "┌───────────────────────────────────┬──────────┬───────┬───────┬───┬──────┬─────────┬──────┬──────┐\n",
       "│ name                              ┆ capacity ┆ price ┆ promo ┆ … ┆ note ┆ nb_avis ┆ type ┆ year │\n",
       "│ ---                               ┆ ---      ┆ ---   ┆ ---   ┆   ┆ ---  ┆ ---     ┆ ---  ┆ ---  │\n",
       "│ str                               ┆ f64      ┆ f64   ┆ str   ┆   ┆ f64  ┆ i64     ┆ str  ┆ i64  │\n",
       "╞═══════════════════════════════════╪══════════╪═══════╪═══════╪═══╪══════╪═════════╪══════╪══════╡\n",
       "│ CHAMPAGNE JEAN DE LA FONTAINE - … ┆ 0.75     ┆ 29.9  ┆ -27%  ┆ … ┆ 16.7 ┆ 115     ┆ x    ┆ null │\n",
       "│ CHAMPAGNE CL DE LA CHAPELLE - EC… ┆ 0.75     ┆ 620.5 ┆ -14%  ┆ … ┆ 16.8 ┆ 34      ┆ x    ┆ null │\n",
       "│ CHAMPAGNE HATON et FILLES - CART… ┆ 0.75     ┆ 221.5 ┆ -12%  ┆ … ┆ 16.4 ┆ 159     ┆ x    ┆ null │\n",
       "│ CHAMPAGNE ANGELLIS - BRUT TRADIT… ┆ 0.75     ┆ 69.9  ┆ -17%  ┆ … ┆ 16.8 ┆ 12      ┆ x    ┆ null │\n",
       "│ …                                 ┆ …        ┆ …     ┆ …     ┆ … ┆ …    ┆ …       ┆ …    ┆ …    │\n",
       "│ CHAMPAGNE BARONS DE ROTHSCHILD -… ┆ 0.75     ┆ 63.0  ┆ null  ┆ … ┆ null ┆ 0       ┆ x    ┆ null │\n",
       "│ CHAMPAGNE VALENTIN LEFLAIVE - BR… ┆ 0.75     ┆ 648.0 ┆ -14%  ┆ … ┆ null ┆ 0       ┆ x    ┆ null │\n",
       "│ CHAMPAGNE HENRIOT - BRUT ROSE     ┆ 0.75     ┆ 94.0  ┆ null  ┆ … ┆ null ┆ 0       ┆ x    ┆ null │\n",
       "│ CHAMPAGNE RARE - MILLESIME 2008 … ┆ 0.75     ┆ 94.0  ┆ null  ┆ … ┆ null ┆ 0       ┆ x    ┆ 2008 │\n",
       "└───────────────────────────────────┴──────────┴───────┴───────┴───┴──────┴─────────┴──────┴──────┘"
      ]
     },
     "execution_count": 32,
     "metadata": {},
     "output_type": "execute_result"
    }
   ],
   "source": [
    "pl.read_json(file_path)"
   ]
  }
 ],
 "metadata": {
  "kernelspec": {
   "display_name": "Python 3",
   "language": "python",
   "name": "python3"
  },
  "language_info": {
   "codemirror_mode": {
    "name": "ipython",
    "version": 3
   },
   "file_extension": ".py",
   "mimetype": "text/x-python",
   "name": "python",
   "nbconvert_exporter": "python",
   "pygments_lexer": "ipython3",
   "version": "3.11.1"
  },
  "orig_nbformat": 4
 },
 "nbformat": 4,
 "nbformat_minor": 2
}
