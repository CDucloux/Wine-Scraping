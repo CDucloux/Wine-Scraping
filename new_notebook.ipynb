{
 "cells": [
  {
   "cell_type": "markdown",
   "metadata": {},
   "source": [
    "# Notebook `Data Extractor`\n",
    "***"
   ]
  },
  {
   "cell_type": "code",
   "execution_count": 1,
   "metadata": {},
   "outputs": [],
   "source": [
    "from pathlib import Path\n",
    "from src.modules.scraping_functions import *\n",
    "import polars as pl"
   ]
  },
  {
   "cell_type": "markdown",
   "metadata": {},
   "source": [
    "**Note** : dans le folder `data`, tu trouveras le fichier `wine_links.csv`, il contient l'ensemble des href trouvés après le lancement du module `scraper.py`\n",
    "\n",
    "- Dans le fichier actuel, il y en a *540*, mais en modifiant les **range** de la fonction `create_urls_browse_list` du module `scraping_functions.py`, tu peux récupérer l'ensemble des hrefs.\n",
    "- `⚠` ! Pour récupérer les hrefs il faut obligatoirement faire tourner le module `scraper.py` car les hrefs sont générés post-javascript (évidemment ça ne marche pas dans les notebooks...) mais pour les caractéristiques des vins, prix et autres, c'est avant le javascript que c'est généré donc tu peux le faire ici ! "
   ]
  },
  {
   "cell_type": "code",
   "execution_count": 2,
   "metadata": {},
   "outputs": [],
   "source": [
    "root = Path(\".\").resolve()\n",
    "data_folder = root / \"data\"\n",
    "file_path = data_folder / \"wine_links.csv\""
   ]
  },
  {
   "cell_type": "code",
   "execution_count": null,
   "metadata": {},
   "outputs": [],
   "source": [
    "session = create_session()"
   ]
  },
  {
   "cell_type": "markdown",
   "metadata": {},
   "source": [
    "Voir `MLFlow` pour un package qui permet d'obtenir rapidement des metrics de Machine Learning"
   ]
  },
  {
   "cell_type": "markdown",
   "metadata": {},
   "source": [
    "Donc on importe plutôt les données du folder data en polars puis on retransforme en liste"
   ]
  },
  {
   "cell_type": "code",
   "execution_count": 123,
   "metadata": {},
   "outputs": [],
   "source": [
    "all_wine_urls = list(\n",
    "    chain.from_iterable(pl.read_csv(file_path, has_header=False).to_numpy().tolist())\n",
    ")"
   ]
  },
  {
   "cell_type": "code",
   "execution_count": 124,
   "metadata": {},
   "outputs": [
    {
     "data": {
      "text/plain": [
       "4341"
      ]
     },
     "execution_count": 124,
     "metadata": {},
     "output_type": "execute_result"
    }
   ],
   "source": [
    "len(all_wine_urls)"
   ]
  },
  {
   "cell_type": "code",
   "execution_count": 125,
   "metadata": {},
   "outputs": [],
   "source": [
    "all_wine_urls = all_wine_urls[0:500]"
   ]
  },
  {
   "cell_type": "code",
   "execution_count": 126,
   "metadata": {},
   "outputs": [
    {
     "data": {
      "text/plain": [
       "500"
      ]
     },
     "execution_count": 126,
     "metadata": {},
     "output_type": "execute_result"
    }
   ],
   "source": [
    "len(all_wine_urls)"
   ]
  },
  {
   "cell_type": "markdown",
   "metadata": {},
   "source": [
    "Enfin, on extrait tout le contenu des pages avec `extract_all_pages`. Ensuite..c'est à toi ! 🤪"
   ]
  },
  {
   "cell_type": "code",
   "execution_count": null,
   "metadata": {},
   "outputs": [],
   "source": [
    "all_html_pages = extract_all_pages(session, all_wine_urls)"
   ]
  },
  {
   "cell_type": "code",
   "execution_count": 129,
   "metadata": {},
   "outputs": [
    {
     "data": {
      "text/plain": [
       "499"
      ]
     },
     "execution_count": 129,
     "metadata": {},
     "output_type": "execute_result"
    }
   ],
   "source": [
    "len(all_html_pages)"
   ]
  },
  {
   "cell_type": "code",
   "execution_count": 4,
   "metadata": {},
   "outputs": [],
   "source": [
    "from src.modules.mystical_soup import *"
   ]
  },
  {
   "cell_type": "code",
   "execution_count": 131,
   "metadata": {},
   "outputs": [
    {
     "name": "stdout",
     "output_type": "stream",
     "text": [
      "Export en JSON réalisé avec succès dans D:\\Cours Mecen (M2)\\Machine Learning\\Wine Scraping\\data !\n"
     ]
    }
   ],
   "source": [
    "create_json(all_html_pages)"
   ]
  },
  {
   "cell_type": "markdown",
   "metadata": {},
   "source": [
    "**IDEE** : Faire une carte de la provenance géographique des vins\n",
    "\n",
    "- slicer par type de vin\n",
    "- par prix\n",
    "- etc."
   ]
  },
  {
   "cell_type": "code",
   "execution_count": 3,
   "metadata": {},
   "outputs": [],
   "source": [
    "from src.modules.bear_cleaner import *"
   ]
  },
  {
   "cell_type": "code",
   "execution_count": 4,
   "metadata": {},
   "outputs": [],
   "source": [
    "df = pl.read_json(data_folder / \"vins.json\")"
   ]
  },
  {
   "cell_type": "markdown",
   "metadata": {},
   "source": [
    "Pour tout ce qui est texte *gouts, oeil, nez, bouche, etc.* $\\Rightarrow$ Utiliser le package `NTLK` (qui fait du Natural Language Processing)"
   ]
  },
  {
   "cell_type": "code",
   "execution_count": 5,
   "metadata": {},
   "outputs": [],
   "source": [
    "df = super_pipe(df)"
   ]
  },
  {
   "cell_type": "code",
   "execution_count": 46,
   "metadata": {},
   "outputs": [
    {
     "data": {
      "text/html": [
       "<div><style>\n",
       ".dataframe > thead > tr > th,\n",
       ".dataframe > tbody > tr > td {\n",
       "  text-align: right;\n",
       "  white-space: pre-wrap;\n",
       "}\n",
       "</style>\n",
       "<small>shape: (4_006, 39)</small><table border=\"1\" class=\"dataframe\"><thead><tr><th>name</th><th>capacity</th><th>unit_price</th><th>offer_price</th><th>price_bundle</th><th>characteristics</th><th>keywords</th><th>picture</th><th>millesime</th><th>cepage</th><th>gouts</th><th>par_gouts</th><th>oeil</th><th>nez</th><th>bouche</th><th>temp_low</th><th>temp_high</th><th>service</th><th>accords_vins</th><th>accords_reco</th><th>avg_temp</th><th>conservation_date</th><th>keyword_1</th><th>keyword_2</th><th>keyword_3</th><th>bio</th><th>customer_fav</th><th>is_new</th><th>top_100</th><th>destock</th><th>sulphite_free</th><th>alcohol_volume</th><th>type</th><th>country</th><th>iso_code</th><th>bubbles</th><th>wine_note</th><th>nb_reviews</th><th>conservation_time</th></tr><tr><td>str</td><td>f64</td><td>f64</td><td>f64</td><td>str</td><td>str</td><td>list[str]</td><td>str</td><td>i64</td><td>str</td><td>str</td><td>str</td><td>str</td><td>str</td><td>str</td><td>f64</td><td>f64</td><td>str</td><td>str</td><td>str</td><td>f64</td><td>i64</td><td>str</td><td>str</td><td>str</td><td>i32</td><td>i32</td><td>i32</td><td>i32</td><td>i32</td><td>i32</td><td>f64</td><td>str</td><td>str</td><td>str</td><td>i32</td><td>f64</td><td>i64</td><td>i64</td></tr></thead><tbody><tr><td>&quot;ABYMES 2021 - …</td><td>0.75</td><td>9.5</td><td>null</td><td>&quot;7,60 € par 2&quot;</td><td>&quot;Vin Blanc / Sa…</td><td>[&quot;Intense&quot;, &quot;Minéral&quot;, &quot;Superbe&quot;]</td><td>&quot;https://www.vi…</td><td>2021</td><td>&quot;Jacquère&quot;</td><td>&quot;Blanc Sec soup…</td><td>&quot;Fruité&quot;</td><td>&quot;Robe or blanc …</td><td>&quot;Des arômes de …</td><td>&quot;L&#x27;attaque est …</td><td>8.0</td><td>10.0</td><td>&quot;En bouteille&quot;</td><td>&quot;Apéritif, Entr…</td><td>&quot;Plateau de fru…</td><td>9.0</td><td>2023</td><td>&quot;Intense&quot;</td><td>&quot;Minéral&quot;</td><td>&quot;Superbe&quot;</td><td>0</td><td>0</td><td>0</td><td>0</td><td>0</td><td>0</td><td>11.5</td><td>&quot;Vin Blanc&quot;</td><td>&quot;France&quot;</td><td>&quot;FRA&quot;</td><td>0</td><td>3.975</td><td>10</td><td>2</td></tr><tr><td>&quot;PINOT NOIR 201…</td><td>0.75</td><td>94.9</td><td>null</td><td>null</td><td>&quot;Vin Rouge / Ch…</td><td>[&quot;Elégance&quot;, &quot;Finesse&quot;, &quot;Harmonie&quot;]</td><td>&quot;https://www.vi…</td><td>2019</td><td>&quot;Pinot noir&quot;</td><td>&quot;Rouge Charnu e…</td><td>&quot;Puissant&quot;</td><td>&quot;Robe rubis aux…</td><td>&quot;Nez complexe s…</td><td>&quot;Bouche fruitée…</td><td>8.0</td><td>10.0</td><td>&quot;En bouteille o…</td><td>&quot;Apéritif, Entr…</td><td>&quot;Gigot d&#x27;agneau…</td><td>9.0</td><td>2026</td><td>&quot;Elégance&quot;</td><td>&quot;Finesse&quot;</td><td>&quot;Harmonie&quot;</td><td>0</td><td>0</td><td>0</td><td>0</td><td>0</td><td>0</td><td>13.5</td><td>&quot;Vin Rouge&quot;</td><td>&quot;Chili&quot;</td><td>&quot;CHL&quot;</td><td>0</td><td>null</td><td>0</td><td>7</td></tr><tr><td>&quot;SAUMUR BLANC T…</td><td>0.75</td><td>11.7</td><td>null</td><td>&quot;9,90 € par 2&quot;</td><td>&quot;Vin Blanc / Lo…</td><td>[&quot;Fraîcheur&quot;, &quot;100% Chenin&quot;, &quot;Équilibre&quot;]</td><td>&quot;https://www.vi…</td><td>2022</td><td>&quot;Chenin&quot;</td><td>&quot;Blanc Sec soup…</td><td>&quot;Minéral&quot;</td><td>&quot;Couleur jaune …</td><td>&quot;Arômes de frui…</td><td>&quot;Frais et minér…</td><td>6.0</td><td>8.0</td><td>&quot;En bouteille&quot;</td><td>&quot;Apéritif, Entr…</td><td>&quot;Apéritifs, poi…</td><td>7.0</td><td>2027</td><td>&quot;Fraîcheur&quot;</td><td>&quot;100% Chenin&quot;</td><td>&quot;Équilibre&quot;</td><td>0</td><td>1</td><td>0</td><td>0</td><td>0</td><td>0</td><td>13.0</td><td>&quot;Vin Blanc&quot;</td><td>&quot;France&quot;</td><td>&quot;FRA&quot;</td><td>0</td><td>4.3</td><td>10</td><td>5</td></tr><tr><td>&quot;CHÂTEAU BELLE …</td><td>0.75</td><td>16.95</td><td>null</td><td>&quot;14,40 € par 2&quot;</td><td>&quot;Vin Rouge / Bo…</td><td>[&quot;Fraîcheur&quot;, &quot;Elégant&quot;, &quot;Savoureux&quot;]</td><td>&quot;https://www.vi…</td><td>2016</td><td>&quot;Merlot&quot;</td><td>&quot;Rouge Puissant…</td><td>&quot;Puissant&quot;</td><td>&quot;Robe violette,…</td><td>&quot;Bleuets sauvag…</td><td>&quot;Fraîcheur, élé…</td><td>16.0</td><td>18.0</td><td>&quot;Ouvrir avant l…</td><td>&quot;Apéritif, Char…</td><td>null</td><td>17.0</td><td>2030</td><td>&quot;Fraîcheur&quot;</td><td>&quot;Elégant&quot;</td><td>&quot;Savoureux&quot;</td><td>0</td><td>0</td><td>0</td><td>0</td><td>0</td><td>0</td><td>13.5</td><td>&quot;Vin Rouge&quot;</td><td>&quot;France&quot;</td><td>&quot;FRA&quot;</td><td>0</td><td>null</td><td>0</td><td>14</td></tr><tr><td>&quot;MORGON - LE CL…</td><td>0.75</td><td>25.5</td><td>null</td><td>null</td><td>&quot;Vin Rouge / Be…</td><td>[&quot;Nature&quot;, &quot;Savoureux&quot;, &quot;Vigneron&quot;]</td><td>&quot;https://www.vi…</td><td>2019</td><td>&quot;Gamay&quot;</td><td>&quot;Rouge Léger et…</td><td>&quot;Fruité&quot;</td><td>&quot;Rouge vif.&quot;</td><td>&quot;Des notes de c…</td><td>&quot;Profond, équil…</td><td>13.0</td><td>16.0</td><td>&quot;En bouteille&quot;</td><td>&quot;Apéritif, Char…</td><td>&quot;Poularde de Br…</td><td>14.5</td><td>2032</td><td>&quot;Nature&quot;</td><td>&quot;Savoureux&quot;</td><td>&quot;Vigneron&quot;</td><td>0</td><td>0</td><td>0</td><td>0</td><td>0</td><td>0</td><td>13.0</td><td>&quot;Vin Rouge&quot;</td><td>&quot;France&quot;</td><td>&quot;FRA&quot;</td><td>0</td><td>null</td><td>0</td><td>13</td></tr><tr><td>&quot;GEWURZTRAMINER…</td><td>0.75</td><td>23.0</td><td>null</td><td>null</td><td>&quot;Vin Blanc / Al…</td><td>[&quot;Aromatique&quot;, &quot;Puissant&quot;, &quot;Remarquable&quot;]</td><td>&quot;https://www.vi…</td><td>2020</td><td>&quot;Gewurztraminer…</td><td>&quot;Blanc Demi-sec…</td><td>&quot;Puissant&quot;</td><td>&quot;Dense, couleur…</td><td>&quot;Arômes de frui…</td><td>&quot;Fraîcheur, moe…</td><td>10.0</td><td>10.0</td><td>&quot;En bouteille&quot;</td><td>&quot;Apéritif, entr…</td><td>&quot;Budha bowl, Pa…</td><td>10.0</td><td>2032</td><td>&quot;Aromatique&quot;</td><td>&quot;Puissant&quot;</td><td>&quot;Remarquable&quot;</td><td>1</td><td>0</td><td>0</td><td>0</td><td>0</td><td>0</td><td>12.0</td><td>&quot;Vin Blanc&quot;</td><td>&quot;France&quot;</td><td>&quot;FRA&quot;</td><td>0</td><td>null</td><td>0</td><td>12</td></tr><tr><td>&quot;POMMARD - LES …</td><td>0.75</td><td>41.5</td><td>null</td><td>null</td><td>&quot;Vin Rouge / Bo…</td><td>[&quot;Prix plaisir&quot;, &quot;Domaine montant&quot;]</td><td>&quot;https://www.vi…</td><td>2020</td><td>&quot;Pinot noir&quot;</td><td>&quot;Rouge Elégant …</td><td>&quot;Fruité&quot;</td><td>&quot;Robe rubis pro…</td><td>null</td><td>&quot;Gouleyant et o…</td><td>15.0</td><td>17.0</td><td>&quot;En bouteille&quot;</td><td>&quot;Viande rouge, …</td><td>&quot;Onglet de Bœuf…</td><td>16.0</td><td>2027</td><td>&quot;Prix plaisir&quot;</td><td>&quot;Domaine montan…</td><td>null</td><td>0</td><td>0</td><td>0</td><td>0</td><td>0</td><td>0</td><td>13.0</td><td>&quot;Vin Rouge&quot;</td><td>&quot;France&quot;</td><td>&quot;FRA&quot;</td><td>0</td><td>null</td><td>0</td><td>7</td></tr><tr><td>&quot;ROUSSANNE 2021…</td><td>0.75</td><td>21.8</td><td>null</td><td>null</td><td>&quot;Vin Blanc / Rh…</td><td>[&quot;Gastronomie&quot;, &quot;Exclusivité Vinatis&quot;, &quot;Vigneron Atypique&quot;]</td><td>&quot;https://www.vi…</td><td>2021</td><td>&quot;Roussanne&quot;</td><td>&quot;Blanc Sec très…</td><td>&quot;Fruité&quot;</td><td>&quot;Robe jaune or …</td><td>&quot;Nez de fleurs …</td><td>&quot;Bouche ample, …</td><td>16.0</td><td>18.0</td><td>&quot;Ouvrir avant l…</td><td>&quot;Apéritif, Entr…</td><td>&quot;Brillat savari…</td><td>17.0</td><td>2025</td><td>&quot;Gastronomie&quot;</td><td>&quot;Exclusivité Vi…</td><td>&quot;Vigneron Atypi…</td><td>0</td><td>0</td><td>0</td><td>0</td><td>0</td><td>0</td><td>13.5</td><td>&quot;Vin Blanc&quot;</td><td>&quot;France&quot;</td><td>&quot;FRA&quot;</td><td>0</td><td>null</td><td>0</td><td>4</td></tr><tr><td>&quot;TERRE DE GALET…</td><td>0.75</td><td>15.0</td><td>null</td><td>null</td><td>&quot;Vin Rouge / Rh…</td><td>[&quot;Fruité&quot;, &quot;Complexe&quot;, &quot;Gourmant&quot;]</td><td>&quot;https://www.vi…</td><td>2021</td><td>&quot;Mourvèdre&quot;</td><td>&quot;Rouge Complexe…</td><td>&quot;Fruité&quot;</td><td>&quot;Robe rouge fon…</td><td>&quot;Des arômes de …</td><td>&quot;Gourmand de fr…</td><td>16.0</td><td>18.0</td><td>&quot;Ouvrir avant l…</td><td>&quot;Charcuterie, V…</td><td>&quot;Plateau de cha…</td><td>17.0</td><td>2026</td><td>&quot;Fruité&quot;</td><td>&quot;Complexe&quot;</td><td>&quot;Gourmant&quot;</td><td>1</td><td>0</td><td>0</td><td>0</td><td>0</td><td>0</td><td>14.5</td><td>&quot;Vin Rouge&quot;</td><td>&quot;France&quot;</td><td>&quot;FRA&quot;</td><td>0</td><td>null</td><td>0</td><td>5</td></tr><tr><td>&quot;CHIANTI CLASSI…</td><td>0.75</td><td>46.9</td><td>null</td><td>null</td><td>&quot;Vin Rouge / It…</td><td>[&quot;Harmonieux&quot;, &quot;Caractère&quot;, &quot;Nuancé&quot;]</td><td>&quot;https://www.vi…</td><td>2020</td><td>&quot;Sangiovese&quot;</td><td>&quot;Rouge Elégant …</td><td>&quot;Fruité&quot;</td><td>&quot;Rouge rubis in…</td><td>&quot;Arômes de ceri…</td><td>&quot;La bouche prés…</td><td>16.0</td><td>18.0</td><td>&quot;Passer en cara…</td><td>&quot;Viande rouge, …</td><td>&quot;Viandes gmijot…</td><td>17.0</td><td>2047</td><td>&quot;Harmonieux&quot;</td><td>&quot;Caractère&quot;</td><td>&quot;Nuancé&quot;</td><td>0</td><td>0</td><td>0</td><td>0</td><td>0</td><td>0</td><td>14.0</td><td>&quot;Vin Rouge&quot;</td><td>&quot;Italie&quot;</td><td>&quot;ITA&quot;</td><td>0</td><td>null</td><td>0</td><td>27</td></tr><tr><td>&quot;ÁSTER CRIANZA …</td><td>0.75</td><td>20.9</td><td>null</td><td>&quot;17,50 € par 2&quot;</td><td>&quot;Vin Rouge / Es…</td><td>[&quot;Equilibre&quot;, &quot;Richesse&quot;, &quot;Caractère&quot;]</td><td>&quot;https://www.vi…</td><td>2020</td><td>&quot;Tinta roriz&quot;</td><td>&quot;Rouge Charnu e…</td><td>&quot;Fruité&quot;</td><td>&quot;Robe pourpre b…</td><td>&quot;Belle intensit…</td><td>&quot;Bouche équilib…</td><td>16.0</td><td>18.0</td><td>&quot;Passer en cara…</td><td>&quot;Charcuterie, V…</td><td>&quot;Tranche de Pat…</td><td>17.0</td><td>2032</td><td>&quot;Equilibre&quot;</td><td>&quot;Richesse&quot;</td><td>&quot;Caractère&quot;</td><td>0</td><td>0</td><td>1</td><td>0</td><td>0</td><td>0</td><td>14.5</td><td>&quot;Vin Rouge&quot;</td><td>&quot;Espagne&quot;</td><td>&quot;ESP&quot;</td><td>0</td><td>null</td><td>0</td><td>12</td></tr><tr><td>&quot;RIESLING AUSLE…</td><td>0.75</td><td>65.0</td><td>null</td><td>null</td><td>&quot;Vin Blanc / Al…</td><td>[&quot;100% Riesling&quot;, &quot;Cuvée Prestige&quot;, &quot;Vignes de 120 ans&quot;]</td><td>&quot;https://www.vi…</td><td>2020</td><td>&quot;Riesling&quot;</td><td>&quot;Blanc Sec très…</td><td>&quot;Fruité&quot;</td><td>&quot;Robe d&#x27;un clai…</td><td>&quot;Nez complexe a…</td><td>&quot;Concentré avec…</td><td>10.0</td><td>12.0</td><td>&quot;En bouteille o…</td><td>&quot;Apéritif, Entr…</td><td>&quot;Filet de Sole …</td><td>11.0</td><td>2035</td><td>&quot;100% Riesling&quot;</td><td>&quot;Cuvée Prestige…</td><td>&quot;Vignes de 120 …</td><td>0</td><td>0</td><td>0</td><td>0</td><td>0</td><td>0</td><td>12.0</td><td>&quot;Vin Blanc&quot;</td><td>&quot;Allemagne&quot;</td><td>null</td><td>0</td><td>null</td><td>0</td><td>15</td></tr><tr><td>&hellip;</td><td>&hellip;</td><td>&hellip;</td><td>&hellip;</td><td>&hellip;</td><td>&hellip;</td><td>&hellip;</td><td>&hellip;</td><td>&hellip;</td><td>&hellip;</td><td>&hellip;</td><td>&hellip;</td><td>&hellip;</td><td>&hellip;</td><td>&hellip;</td><td>&hellip;</td><td>&hellip;</td><td>&hellip;</td><td>&hellip;</td><td>&hellip;</td><td>&hellip;</td><td>&hellip;</td><td>&hellip;</td><td>&hellip;</td><td>&hellip;</td><td>&hellip;</td><td>&hellip;</td><td>&hellip;</td><td>&hellip;</td><td>&hellip;</td><td>&hellip;</td><td>&hellip;</td><td>&hellip;</td><td>&hellip;</td><td>&hellip;</td><td>&hellip;</td><td>&hellip;</td><td>&hellip;</td><td>&hellip;</td></tr><tr><td>&quot;FLEURIE - COUP…</td><td>0.75</td><td>23.9</td><td>null</td><td>null</td><td>&quot;Vin Rouge / Be…</td><td>[&quot;Fraîcheur&quot;, &quot;Caractère&quot;, &quot;Corps&quot;]</td><td>&quot;https://www.vi…</td><td>2021</td><td>&quot;Gamay&quot;</td><td>&quot;Rouge Léger et…</td><td>&quot;Fruité&quot;</td><td>&quot;Robe rouge vio…</td><td>&quot;Arômes délicat…</td><td>&quot;Bouche élégant…</td><td>17.0</td><td>18.0</td><td>&quot;En bouteille&quot;</td><td>&quot;Charcuterie, V…</td><td>null</td><td>17.5</td><td>2032</td><td>&quot;Fraîcheur&quot;</td><td>&quot;Caractère&quot;</td><td>&quot;Corps&quot;</td><td>1</td><td>0</td><td>0</td><td>0</td><td>0</td><td>0</td><td>12.0</td><td>&quot;Vin Rouge&quot;</td><td>&quot;France&quot;</td><td>&quot;FRA&quot;</td><td>0</td><td>null</td><td>0</td><td>11</td></tr><tr><td>&quot;BIB 3L - ENTRE…</td><td>3.0</td><td>28.8</td><td>21.9</td><td>null</td><td>&quot;Cubi Blanc / B…</td><td>[&quot;Fruité&quot;, &quot;Expressif&quot;, &quot;Belle longueur&quot;]</td><td>&quot;https://www.vi…</td><td>null</td><td>&quot;Sauvignon blan…</td><td>&quot;Blanc Sec très…</td><td>&quot;Minéral&quot;</td><td>&quot;Belle couleur …</td><td>&quot;Arômes intense…</td><td>&quot;Expressive, fr…</td><td>8.0</td><td>12.0</td><td>&quot;En bouteille&quot;</td><td>&quot;Apéritif, Pois…</td><td>null</td><td>10.0</td><td>2026</td><td>&quot;Fruité&quot;</td><td>&quot;Expressif&quot;</td><td>&quot;Belle longueur…</td><td>0</td><td>0</td><td>0</td><td>0</td><td>1</td><td>0</td><td>13.0</td><td>&quot;Vin Blanc&quot;</td><td>&quot;France&quot;</td><td>&quot;FRA&quot;</td><td>0</td><td>null</td><td>0</td><td>null</td></tr><tr><td>&quot;MINERVOIS BLAN…</td><td>0.75</td><td>7.9</td><td>null</td><td>&quot;5,90 € par 2&quot;</td><td>&quot;Vin Blanc / La…</td><td>[&quot;Aromatique&quot;, &quot;Onctueux&quot;, &quot;Rare&quot;]</td><td>&quot;https://www.vi…</td><td>2022</td><td>&quot;Grenache blanc…</td><td>&quot;Blanc Sec soup…</td><td>&quot;Fruité&quot;</td><td>&quot;Belle robe bri…</td><td>&quot;Arômes de pêch…</td><td>&quot;Bouche ronde e…</td><td>8.0</td><td>11.0</td><td>&quot;Non Renseigné&quot;</td><td>&quot;Apéritif, Entr…</td><td>&quot;Paëlla; Boudin…</td><td>9.5</td><td>2024</td><td>&quot;Aromatique&quot;</td><td>&quot;Onctueux&quot;</td><td>&quot;Rare&quot;</td><td>0</td><td>0</td><td>0</td><td>0</td><td>0</td><td>0</td><td>12.5</td><td>&quot;Vin Blanc&quot;</td><td>&quot;France&quot;</td><td>&quot;FRA&quot;</td><td>0</td><td>4.025</td><td>7</td><td>2</td></tr><tr><td>&quot;DAME HONNEUR 2…</td><td>0.75</td><td>55.0</td><td>null</td><td>null</td><td>&quot;Vin Rouge / Su…</td><td>[&quot;Complexe&quot;, &quot;Sublime&quot;, &quot;Sélection parcellaire&quot;]</td><td>&quot;https://www.vi…</td><td>2019</td><td>&quot;Malbec&quot;</td><td>&quot;Rouge Complexe…</td><td>&quot;Puissant&quot;</td><td>&quot;Robe pourpre p…</td><td>&quot;Arômes de frui…</td><td>&quot;Poivrée et reg…</td><td>16.0</td><td>18.0</td><td>&quot;Ouvrir avant l…</td><td>&quot;Foie gras, Via…</td><td>&quot;Avec un magret…</td><td>17.0</td><td>2025</td><td>&quot;Complexe&quot;</td><td>&quot;Sublime&quot;</td><td>&quot;Sélection parc…</td><td>0</td><td>0</td><td>0</td><td>0</td><td>0</td><td>0</td><td>14.5</td><td>&quot;Vin Rouge&quot;</td><td>&quot;France&quot;</td><td>&quot;FRA&quot;</td><td>0</td><td>null</td><td>0</td><td>6</td></tr><tr><td>&quot;CÔTES DU RHÔNE…</td><td>0.75</td><td>11.5</td><td>null</td><td>&quot;8,90 € par 2&quot;</td><td>&quot;Vin Rouge / Rh…</td><td>[&quot;Intense&quot;, &quot;Charmeur&quot;, &quot;Régal&quot;]</td><td>&quot;https://www.vi…</td><td>2018</td><td>&quot;Grenache&quot;</td><td>&quot;Rouge Puissant…</td><td>&quot;Fruité&quot;</td><td>&quot;Robe d&#x27;un roug…</td><td>&quot;Arômes de frui…</td><td>&quot;La bouche est …</td><td>16.0</td><td>17.0</td><td>&quot;En bouteille&quot;</td><td>&quot;Charcuterie, V…</td><td>&quot;Côtelettes d&#x27;a…</td><td>16.5</td><td>2026</td><td>&quot;Intense&quot;</td><td>&quot;Charmeur&quot;</td><td>&quot;Régal&quot;</td><td>1</td><td>0</td><td>0</td><td>0</td><td>0</td><td>0</td><td>13.5</td><td>&quot;Vin Rouge&quot;</td><td>&quot;France&quot;</td><td>&quot;FRA&quot;</td><td>0</td><td>3.925</td><td>9</td><td>8</td></tr><tr><td>&quot;CHATEAU CANTEM…</td><td>0.75</td><td>27.9</td><td>null</td><td>null</td><td>&quot;Vin Rouge / Bo…</td><td>[&quot;Gourmand&quot;, &quot;Elégant&quot;, &quot;Stylé&quot;]</td><td>&quot;https://www.vi…</td><td>2017</td><td>&quot;Cabernet-Sauvi…</td><td>&quot;Rouge Elégant …</td><td>&quot;Fruité&quot;</td><td>&quot;Belle robe som…</td><td>&quot;D&#x27;abord réserv…</td><td>&quot;Fruité, jeunes…</td><td>16.0</td><td>18.0</td><td>&quot;En bouteille&quot;</td><td>&quot;Charcuterie, V…</td><td>null</td><td>17.0</td><td>2036</td><td>&quot;Gourmand&quot;</td><td>&quot;Elégant&quot;</td><td>&quot;Stylé&quot;</td><td>0</td><td>0</td><td>0</td><td>0</td><td>0</td><td>0</td><td>13.0</td><td>&quot;Vin Rouge&quot;</td><td>&quot;France&quot;</td><td>&quot;FRA&quot;</td><td>0</td><td>null</td><td>0</td><td>19</td></tr><tr><td>&quot;CHÂTEAU MAZEYR…</td><td>0.75</td><td>34.0</td><td>null</td><td>null</td><td>&quot;Vin Rouge / Bo…</td><td>[&quot;Souplesse&quot;, &quot;Tension rafraîchissante&quot;, &quot;Expression du fruit&quot;]</td><td>&quot;https://www.vi…</td><td>2017</td><td>&quot;Merlot&quot;</td><td>&quot;Rouge Elégant …</td><td>null</td><td>&quot;Robe belle et …</td><td>&quot;Juteux, frais,…</td><td>&quot;Sur le fruit, …</td><td>16.0</td><td>18.0</td><td>&quot;Ouvrir avant l…</td><td>&quot;Charcuterie, V…</td><td>&quot;Palombe braisé…</td><td>17.0</td><td>2030</td><td>&quot;Souplesse&quot;</td><td>&quot;Tension rafraî…</td><td>&quot;Expression du …</td><td>1</td><td>0</td><td>0</td><td>0</td><td>0</td><td>0</td><td>13.0</td><td>&quot;Vin Rouge&quot;</td><td>&quot;France&quot;</td><td>&quot;FRA&quot;</td><td>0</td><td>null</td><td>0</td><td>13</td></tr><tr><td>&quot;MERCUREY BLANC…</td><td>0.75</td><td>30.0</td><td>null</td><td>null</td><td>&quot;Vin Blanc / Bo…</td><td>[&quot;Plaisir&quot;, &quot;Délicat&quot;, &quot;Tendresse&quot;]</td><td>&quot;https://www.vi…</td><td>2020</td><td>&quot;Chardonnay&quot;</td><td>&quot;Blanc Sec très…</td><td>&quot;Floral&quot;</td><td>&quot;Robe or pâle.&quot;</td><td>&quot;Un équilibre d…</td><td>&quot;Attaque franch…</td><td>13.0</td><td>14.0</td><td>&quot;En bouteille&quot;</td><td>&quot;Apéritif, Entr…</td><td>&quot;Tartare de Sau…</td><td>13.5</td><td>2029</td><td>&quot;Plaisir&quot;</td><td>&quot;Délicat&quot;</td><td>&quot;Tendresse&quot;</td><td>0</td><td>0</td><td>0</td><td>0</td><td>0</td><td>0</td><td>13.0</td><td>&quot;Vin Blanc&quot;</td><td>&quot;France&quot;</td><td>&quot;FRA&quot;</td><td>0</td><td>null</td><td>0</td><td>9</td></tr><tr><td>&quot;EL CHAVAL 2022…</td><td>0.75</td><td>7.5</td><td>null</td><td>&quot;5,99 € par 3&quot;</td><td>&quot;Vin Rouge / Es…</td><td>[&quot;Gouleyant&quot;, &quot;Prix Plaisir&quot;, &quot;Pour Changer&quot;]</td><td>&quot;https://www.vi…</td><td>2022</td><td>&quot;Bobal&quot;</td><td>&quot;Rouge Léger et…</td><td>&quot;Fruité&quot;</td><td>&quot;Robe rouge éca…</td><td>&quot;Arômes intense…</td><td>&quot;Une attaque tr…</td><td>15.0</td><td>17.0</td><td>&quot;En bouteille&quot;</td><td>&quot;Apéritif, Char…</td><td>&quot;Grillades au g…</td><td>16.0</td><td>2024</td><td>&quot;Gouleyant&quot;</td><td>&quot;Prix Plaisir&quot;</td><td>&quot;Pour Changer&quot;</td><td>1</td><td>0</td><td>0</td><td>0</td><td>0</td><td>0</td><td>13.0</td><td>&quot;Vin Rouge&quot;</td><td>&quot;Espagne&quot;</td><td>&quot;ESP&quot;</td><td>0</td><td>3.975</td><td>9</td><td>2</td></tr><tr><td>&quot;CHABLIS 1ER CR…</td><td>0.75</td><td>27.0</td><td>null</td><td>null</td><td>&quot;Vin Blanc / Bo…</td><td>[&quot;Fruité&quot;, &quot;Minéralité&quot;, &quot;Rondeur&quot;]</td><td>&quot;https://www.vi…</td><td>2022</td><td>&quot;Chardonnay&quot;</td><td>&quot;Blanc Sec soup…</td><td>&quot;Fruité&quot;</td><td>&quot;Jolie robe jau…</td><td>&quot;Nez ouvert sur…</td><td>&quot;Belle attaque,…</td><td>10.0</td><td>12.0</td><td>&quot;En bouteille&quot;</td><td>&quot;Entrée, Coquil…</td><td>&quot;Poissons noble…</td><td>11.0</td><td>2030</td><td>&quot;Fruité&quot;</td><td>&quot;Minéralité&quot;</td><td>&quot;Rondeur&quot;</td><td>1</td><td>0</td><td>1</td><td>0</td><td>0</td><td>0</td><td>13.0</td><td>&quot;Vin Blanc&quot;</td><td>&quot;France&quot;</td><td>&quot;FRA&quot;</td><td>0</td><td>null</td><td>0</td><td>8</td></tr><tr><td>&quot;BAROLO 2018 - …</td><td>0.75</td><td>29.9</td><td>25.9</td><td>null</td><td>&quot;Vin Rouge / It…</td><td>[&quot;Prêt à boire&quot;, &quot;Tanins satinés&quot;, &quot;Pépite Italienne&quot;]</td><td>&quot;https://www.vi…</td><td>2018</td><td>&quot;Nebbiolo&quot;</td><td>&quot;Rouge Complexe…</td><td>&quot;Puissant&quot;</td><td>&quot;Robe grenat&quot;</td><td>&quot;Arômes de ceri…</td><td>&quot;Bouche chaleur…</td><td>16.0</td><td>18.0</td><td>&quot;En bouteille o…</td><td>&quot;Charcuterie, V…</td><td>&quot;Agneau confit,…</td><td>17.0</td><td>2034</td><td>&quot;Prêt à boire&quot;</td><td>&quot;Tanins satinés…</td><td>&quot;Pépite Italien…</td><td>0</td><td>0</td><td>0</td><td>0</td><td>1</td><td>0</td><td>14.5</td><td>&quot;Vin Rouge&quot;</td><td>&quot;Italie&quot;</td><td>&quot;ITA&quot;</td><td>0</td><td>null</td><td>0</td><td>16</td></tr><tr><td>&quot;LANGUEDOC 2021…</td><td>0.75</td><td>10.6</td><td>null</td><td>&quot;8,05 € par 2&quot;</td><td>&quot;Vin Rouge / La…</td><td>[&quot;Rond&quot;, &quot;Vin de Copains&quot;, &quot;Grillades&quot;]</td><td>&quot;https://www.vi…</td><td>2021</td><td>&quot;Grenache&quot;</td><td>&quot;Rouge Puissant…</td><td>&quot;Fruité&quot;</td><td>&quot;Robe grenat fo…</td><td>&quot;Intense et san…</td><td>&quot;Ample et puiss…</td><td>14.0</td><td>16.0</td><td>&quot;En bouteille&quot;</td><td>&quot;Charcuterie, V…</td><td>&quot;Barbecue, plat…</td><td>15.0</td><td>2023</td><td>&quot;Rond&quot;</td><td>&quot;Vin de Copains…</td><td>&quot;Grillades&quot;</td><td>0</td><td>0</td><td>0</td><td>0</td><td>0</td><td>0</td><td>14.0</td><td>&quot;Vin Rouge&quot;</td><td>&quot;France&quot;</td><td>&quot;FRA&quot;</td><td>0</td><td>3.85</td><td>5</td><td>2</td></tr></tbody></table></div>"
      ],
      "text/plain": [
       "shape: (4_006, 39)\n",
       "┌────────────┬──────────┬────────────┬───────────┬───┬─────────┬───────────┬───────────┬───────────┐\n",
       "│ name       ┆ capacity ┆ unit_price ┆ offer_pri ┆ … ┆ bubbles ┆ wine_note ┆ nb_review ┆ conservat │\n",
       "│ ---        ┆ ---      ┆ ---        ┆ ce        ┆   ┆ ---     ┆ ---       ┆ s         ┆ ion_time  │\n",
       "│ str        ┆ f64      ┆ f64        ┆ ---       ┆   ┆ i32     ┆ f64       ┆ ---       ┆ ---       │\n",
       "│            ┆          ┆            ┆ f64       ┆   ┆         ┆           ┆ i64       ┆ i64       │\n",
       "╞════════════╪══════════╪════════════╪═══════════╪═══╪═════════╪═══════════╪═══════════╪═══════════╡\n",
       "│ ABYMES     ┆ 0.75     ┆ 9.5        ┆ null      ┆ … ┆ 0       ┆ 3.975     ┆ 10        ┆ 2         │\n",
       "│ 2021 -     ┆          ┆            ┆           ┆   ┆         ┆           ┆           ┆           │\n",
       "│ REMY       ┆          ┆            ┆           ┆   ┆         ┆           ┆           ┆           │\n",
       "│ BERLIOZ    ┆          ┆            ┆           ┆   ┆         ┆           ┆           ┆           │\n",
       "│ PINOT NOIR ┆ 0.75     ┆ 94.9       ┆ null      ┆ … ┆ 0       ┆ null      ┆ 0         ┆ 7         │\n",
       "│ 2019 LAS   ┆          ┆            ┆           ┆   ┆         ┆           ┆           ┆           │\n",
       "│ PIZARRAS - ┆          ┆            ┆           ┆   ┆         ┆           ┆           ┆           │\n",
       "│ E…         ┆          ┆            ┆           ┆   ┆         ┆           ┆           ┆           │\n",
       "│ SAUMUR     ┆ 0.75     ┆ 11.7       ┆ null      ┆ … ┆ 0       ┆ 4.3       ┆ 10        ┆ 5         │\n",
       "│ BLANC      ┆          ┆            ┆           ┆   ┆         ┆           ┆           ┆           │\n",
       "│ TANDEM     ┆          ┆            ┆           ┆   ┆         ┆           ┆           ┆           │\n",
       "│ 2022 -     ┆          ┆            ┆           ┆   ┆         ┆           ┆           ┆           │\n",
       "│ DOMAI…     ┆          ┆            ┆           ┆   ┆         ┆           ┆           ┆           │\n",
       "│ CHÂTEAU    ┆ 0.75     ┆ 16.95      ┆ null      ┆ … ┆ 0       ┆ null      ┆ 0         ┆ 14        │\n",
       "│ BELLE      ┆          ┆            ┆           ┆   ┆         ┆           ┆           ┆           │\n",
       "│ COLINE     ┆          ┆            ┆           ┆   ┆         ┆           ┆           ┆           │\n",
       "│ 2016       ┆          ┆            ┆           ┆   ┆         ┆           ┆           ┆           │\n",
       "│ …          ┆ …        ┆ …          ┆ …         ┆ … ┆ …       ┆ …         ┆ …         ┆ …         │\n",
       "│ EL CHAVAL  ┆ 0.75     ┆ 7.5        ┆ null      ┆ … ┆ 0       ┆ 3.975     ┆ 9         ┆ 2         │\n",
       "│ 2022 -     ┆          ┆            ┆           ┆   ┆         ┆           ┆           ┆           │\n",
       "│ BODEGAS    ┆          ┆            ┆           ┆   ┆         ┆           ┆           ┆           │\n",
       "│ NODUS      ┆          ┆            ┆           ┆   ┆         ┆           ┆           ┆           │\n",
       "│ CHABLIS    ┆ 0.75     ┆ 27.0       ┆ null      ┆ … ┆ 0       ┆ null      ┆ 0         ┆ 8         │\n",
       "│ 1ER CRU    ┆          ┆            ┆           ┆   ┆         ┆           ┆           ┆           │\n",
       "│ FOURCHAUME ┆          ┆            ┆           ┆   ┆         ┆           ┆           ┆           │\n",
       "│ 2022 …     ┆          ┆            ┆           ┆   ┆         ┆           ┆           ┆           │\n",
       "│ BAROLO     ┆ 0.75     ┆ 29.9       ┆ 25.9      ┆ … ┆ 0       ┆ null      ┆ 0         ┆ 16        │\n",
       "│ 2018 -     ┆          ┆            ┆           ┆   ┆         ┆           ┆           ┆           │\n",
       "│ MARIO      ┆          ┆            ┆           ┆   ┆         ┆           ┆           ┆           │\n",
       "│ GIRIBALDI  ┆          ┆            ┆           ┆   ┆         ┆           ┆           ┆           │\n",
       "│ LANGUEDOC  ┆ 0.75     ┆ 10.6       ┆ null      ┆ … ┆ 0       ┆ 3.85      ┆ 5         ┆ 2         │\n",
       "│ 2021 -     ┆          ┆            ┆           ┆   ┆         ┆           ┆           ┆           │\n",
       "│ MATHILDE   ┆          ┆            ┆           ┆   ┆         ┆           ┆           ┆           │\n",
       "│ CHAPOU…    ┆          ┆            ┆           ┆   ┆         ┆           ┆           ┆           │\n",
       "└────────────┴──────────┴────────────┴───────────┴───┴─────────┴───────────┴───────────┴───────────┘"
      ]
     },
     "execution_count": 46,
     "metadata": {},
     "output_type": "execute_result"
    }
   ],
   "source": [
    "df"
   ]
  },
  {
   "cell_type": "code",
   "execution_count": 8,
   "metadata": {},
   "outputs": [],
   "source": [
    "import plotly.express as px"
   ]
  },
  {
   "cell_type": "code",
   "execution_count": 52,
   "metadata": {},
   "outputs": [],
   "source": [
    "grouped_df = (\n",
    "    df.group_by(\"country\", \"iso_code\")\n",
    "    .count()\n",
    "    .sort(\"count\", descending=True)\n",
    "    .filter(pl.col(\"country\") != \"12,5 % vol\")\n",
    ")"
   ]
  },
  {
   "cell_type": "code",
   "execution_count": 54,
   "metadata": {},
   "outputs": [
    {
     "data": {
      "text/html": [
       "<div><style>\n",
       ".dataframe > thead > tr > th,\n",
       ".dataframe > tbody > tr > td {\n",
       "  text-align: right;\n",
       "  white-space: pre-wrap;\n",
       "}\n",
       "</style>\n",
       "<small>shape: (31, 3)</small><table border=\"1\" class=\"dataframe\"><thead><tr><th>country</th><th>iso_code</th><th>count</th></tr><tr><td>str</td><td>str</td><td>u32</td></tr></thead><tbody><tr><td>&quot;France&quot;</td><td>&quot;FRA&quot;</td><td>3203</td></tr><tr><td>&quot;Italie&quot;</td><td>&quot;ITA&quot;</td><td>226</td></tr><tr><td>&quot;Espagne&quot;</td><td>&quot;ESP&quot;</td><td>166</td></tr><tr><td>&quot;Argentine&quot;</td><td>&quot;ARG&quot;</td><td>59</td></tr><tr><td>&quot;Etats-Unis&quot;</td><td>&quot;USA&quot;</td><td>58</td></tr><tr><td>&quot;Australie&quot;</td><td>&quot;AUS&quot;</td><td>51</td></tr><tr><td>&quot;Chili&quot;</td><td>&quot;CHL&quot;</td><td>49</td></tr><tr><td>&quot;Allemagne&quot;</td><td>null</td><td>44</td></tr><tr><td>&quot;Afrique du Sud…</td><td>null</td><td>29</td></tr><tr><td>&quot;Portugal&quot;</td><td>null</td><td>23</td></tr><tr><td>&quot;Nouvelle-Zélan…</td><td>null</td><td>21</td></tr><tr><td>&quot;Suisse&quot;</td><td>null</td><td>16</td></tr><tr><td>&hellip;</td><td>&hellip;</td><td>&hellip;</td></tr><tr><td>&quot;Grèce&quot;</td><td>null</td><td>2</td></tr><tr><td>&quot;Syrie&quot;</td><td>null</td><td>2</td></tr><tr><td>&quot;Chine&quot;</td><td>null</td><td>2</td></tr><tr><td>&quot;Bulgarie&quot;</td><td>null</td><td>2</td></tr><tr><td>&quot;Slovénie&quot;</td><td>null</td><td>2</td></tr><tr><td>&quot;Uruguay&quot;</td><td>null</td><td>1</td></tr><tr><td>&quot;Arménie&quot;</td><td>null</td><td>1</td></tr><tr><td>&quot;Roumanie&quot;</td><td>null</td><td>1</td></tr><tr><td>&quot;Turquie&quot;</td><td>null</td><td>1</td></tr><tr><td>&quot;Maroc&quot;</td><td>null</td><td>1</td></tr><tr><td>&quot;Angleterre&quot;</td><td>null</td><td>1</td></tr><tr><td>&quot;Mexique&quot;</td><td>null</td><td>1</td></tr></tbody></table></div>"
      ],
      "text/plain": [
       "shape: (31, 3)\n",
       "┌────────────┬──────────┬───────┐\n",
       "│ country    ┆ iso_code ┆ count │\n",
       "│ ---        ┆ ---      ┆ ---   │\n",
       "│ str        ┆ str      ┆ u32   │\n",
       "╞════════════╪══════════╪═══════╡\n",
       "│ France     ┆ FRA      ┆ 3203  │\n",
       "│ Italie     ┆ ITA      ┆ 226   │\n",
       "│ Espagne    ┆ ESP      ┆ 166   │\n",
       "│ Argentine  ┆ ARG      ┆ 59    │\n",
       "│ …          ┆ …        ┆ …     │\n",
       "│ Turquie    ┆ null     ┆ 1     │\n",
       "│ Maroc      ┆ null     ┆ 1     │\n",
       "│ Angleterre ┆ null     ┆ 1     │\n",
       "│ Mexique    ┆ null     ┆ 1     │\n",
       "└────────────┴──────────┴───────┘"
      ]
     },
     "execution_count": 54,
     "metadata": {},
     "output_type": "execute_result"
    }
   ],
   "source": [
    "grouped_df"
   ]
  },
  {
   "cell_type": "code",
   "execution_count": 53,
   "metadata": {},
   "outputs": [
    {
     "data": {
      "application/vnd.plotly.v1+json": {
       "config": {
        "plotlyServerURL": "https://plot.ly"
       },
       "data": [
        {
         "alignmentgroup": "True",
         "hovertemplate": "country=%{x}<br>count=%{y}<extra></extra>",
         "legendgroup": "",
         "marker": {
          "color": "#636efa",
          "pattern": {
           "shape": ""
          }
         },
         "name": "",
         "offsetgroup": "",
         "orientation": "v",
         "showlegend": false,
         "textposition": "auto",
         "type": "bar",
         "x": [
          "France",
          "Italie",
          "Espagne",
          "Argentine",
          "Etats-Unis",
          "Australie",
          "Chili",
          "Allemagne",
          "Afrique du Sud",
          "Portugal",
          "Nouvelle-Zélande",
          "Suisse",
          "Autriche",
          "Hongrie",
          "Liban",
          "Géorgie",
          "Croatie",
          "Pérou",
          "Israël",
          "Grèce",
          "Syrie",
          "Chine",
          "Bulgarie",
          "Slovénie",
          "Uruguay",
          "Arménie",
          "Roumanie",
          "Turquie",
          "Maroc",
          "Angleterre",
          "Mexique"
         ],
         "xaxis": "x",
         "y": [
          3203,
          226,
          166,
          59,
          58,
          51,
          49,
          44,
          29,
          23,
          21,
          16,
          15,
          8,
          6,
          5,
          3,
          3,
          3,
          2,
          2,
          2,
          2,
          2,
          1,
          1,
          1,
          1,
          1,
          1,
          1
         ],
         "yaxis": "y"
        }
       ],
       "layout": {
        "barmode": "relative",
        "legend": {
         "tracegroupgap": 0
        },
        "margin": {
         "t": 60
        },
        "template": {
         "data": {
          "bar": [
           {
            "error_x": {
             "color": "#2a3f5f"
            },
            "error_y": {
             "color": "#2a3f5f"
            },
            "marker": {
             "line": {
              "color": "#E5ECF6",
              "width": 0.5
             },
             "pattern": {
              "fillmode": "overlay",
              "size": 10,
              "solidity": 0.2
             }
            },
            "type": "bar"
           }
          ],
          "barpolar": [
           {
            "marker": {
             "line": {
              "color": "#E5ECF6",
              "width": 0.5
             },
             "pattern": {
              "fillmode": "overlay",
              "size": 10,
              "solidity": 0.2
             }
            },
            "type": "barpolar"
           }
          ],
          "carpet": [
           {
            "aaxis": {
             "endlinecolor": "#2a3f5f",
             "gridcolor": "white",
             "linecolor": "white",
             "minorgridcolor": "white",
             "startlinecolor": "#2a3f5f"
            },
            "baxis": {
             "endlinecolor": "#2a3f5f",
             "gridcolor": "white",
             "linecolor": "white",
             "minorgridcolor": "white",
             "startlinecolor": "#2a3f5f"
            },
            "type": "carpet"
           }
          ],
          "choropleth": [
           {
            "colorbar": {
             "outlinewidth": 0,
             "ticks": ""
            },
            "type": "choropleth"
           }
          ],
          "contour": [
           {
            "colorbar": {
             "outlinewidth": 0,
             "ticks": ""
            },
            "colorscale": [
             [
              0,
              "#0d0887"
             ],
             [
              0.1111111111111111,
              "#46039f"
             ],
             [
              0.2222222222222222,
              "#7201a8"
             ],
             [
              0.3333333333333333,
              "#9c179e"
             ],
             [
              0.4444444444444444,
              "#bd3786"
             ],
             [
              0.5555555555555556,
              "#d8576b"
             ],
             [
              0.6666666666666666,
              "#ed7953"
             ],
             [
              0.7777777777777778,
              "#fb9f3a"
             ],
             [
              0.8888888888888888,
              "#fdca26"
             ],
             [
              1,
              "#f0f921"
             ]
            ],
            "type": "contour"
           }
          ],
          "contourcarpet": [
           {
            "colorbar": {
             "outlinewidth": 0,
             "ticks": ""
            },
            "type": "contourcarpet"
           }
          ],
          "heatmap": [
           {
            "colorbar": {
             "outlinewidth": 0,
             "ticks": ""
            },
            "colorscale": [
             [
              0,
              "#0d0887"
             ],
             [
              0.1111111111111111,
              "#46039f"
             ],
             [
              0.2222222222222222,
              "#7201a8"
             ],
             [
              0.3333333333333333,
              "#9c179e"
             ],
             [
              0.4444444444444444,
              "#bd3786"
             ],
             [
              0.5555555555555556,
              "#d8576b"
             ],
             [
              0.6666666666666666,
              "#ed7953"
             ],
             [
              0.7777777777777778,
              "#fb9f3a"
             ],
             [
              0.8888888888888888,
              "#fdca26"
             ],
             [
              1,
              "#f0f921"
             ]
            ],
            "type": "heatmap"
           }
          ],
          "heatmapgl": [
           {
            "colorbar": {
             "outlinewidth": 0,
             "ticks": ""
            },
            "colorscale": [
             [
              0,
              "#0d0887"
             ],
             [
              0.1111111111111111,
              "#46039f"
             ],
             [
              0.2222222222222222,
              "#7201a8"
             ],
             [
              0.3333333333333333,
              "#9c179e"
             ],
             [
              0.4444444444444444,
              "#bd3786"
             ],
             [
              0.5555555555555556,
              "#d8576b"
             ],
             [
              0.6666666666666666,
              "#ed7953"
             ],
             [
              0.7777777777777778,
              "#fb9f3a"
             ],
             [
              0.8888888888888888,
              "#fdca26"
             ],
             [
              1,
              "#f0f921"
             ]
            ],
            "type": "heatmapgl"
           }
          ],
          "histogram": [
           {
            "marker": {
             "pattern": {
              "fillmode": "overlay",
              "size": 10,
              "solidity": 0.2
             }
            },
            "type": "histogram"
           }
          ],
          "histogram2d": [
           {
            "colorbar": {
             "outlinewidth": 0,
             "ticks": ""
            },
            "colorscale": [
             [
              0,
              "#0d0887"
             ],
             [
              0.1111111111111111,
              "#46039f"
             ],
             [
              0.2222222222222222,
              "#7201a8"
             ],
             [
              0.3333333333333333,
              "#9c179e"
             ],
             [
              0.4444444444444444,
              "#bd3786"
             ],
             [
              0.5555555555555556,
              "#d8576b"
             ],
             [
              0.6666666666666666,
              "#ed7953"
             ],
             [
              0.7777777777777778,
              "#fb9f3a"
             ],
             [
              0.8888888888888888,
              "#fdca26"
             ],
             [
              1,
              "#f0f921"
             ]
            ],
            "type": "histogram2d"
           }
          ],
          "histogram2dcontour": [
           {
            "colorbar": {
             "outlinewidth": 0,
             "ticks": ""
            },
            "colorscale": [
             [
              0,
              "#0d0887"
             ],
             [
              0.1111111111111111,
              "#46039f"
             ],
             [
              0.2222222222222222,
              "#7201a8"
             ],
             [
              0.3333333333333333,
              "#9c179e"
             ],
             [
              0.4444444444444444,
              "#bd3786"
             ],
             [
              0.5555555555555556,
              "#d8576b"
             ],
             [
              0.6666666666666666,
              "#ed7953"
             ],
             [
              0.7777777777777778,
              "#fb9f3a"
             ],
             [
              0.8888888888888888,
              "#fdca26"
             ],
             [
              1,
              "#f0f921"
             ]
            ],
            "type": "histogram2dcontour"
           }
          ],
          "mesh3d": [
           {
            "colorbar": {
             "outlinewidth": 0,
             "ticks": ""
            },
            "type": "mesh3d"
           }
          ],
          "parcoords": [
           {
            "line": {
             "colorbar": {
              "outlinewidth": 0,
              "ticks": ""
             }
            },
            "type": "parcoords"
           }
          ],
          "pie": [
           {
            "automargin": true,
            "type": "pie"
           }
          ],
          "scatter": [
           {
            "fillpattern": {
             "fillmode": "overlay",
             "size": 10,
             "solidity": 0.2
            },
            "type": "scatter"
           }
          ],
          "scatter3d": [
           {
            "line": {
             "colorbar": {
              "outlinewidth": 0,
              "ticks": ""
             }
            },
            "marker": {
             "colorbar": {
              "outlinewidth": 0,
              "ticks": ""
             }
            },
            "type": "scatter3d"
           }
          ],
          "scattercarpet": [
           {
            "marker": {
             "colorbar": {
              "outlinewidth": 0,
              "ticks": ""
             }
            },
            "type": "scattercarpet"
           }
          ],
          "scattergeo": [
           {
            "marker": {
             "colorbar": {
              "outlinewidth": 0,
              "ticks": ""
             }
            },
            "type": "scattergeo"
           }
          ],
          "scattergl": [
           {
            "marker": {
             "colorbar": {
              "outlinewidth": 0,
              "ticks": ""
             }
            },
            "type": "scattergl"
           }
          ],
          "scattermapbox": [
           {
            "marker": {
             "colorbar": {
              "outlinewidth": 0,
              "ticks": ""
             }
            },
            "type": "scattermapbox"
           }
          ],
          "scatterpolar": [
           {
            "marker": {
             "colorbar": {
              "outlinewidth": 0,
              "ticks": ""
             }
            },
            "type": "scatterpolar"
           }
          ],
          "scatterpolargl": [
           {
            "marker": {
             "colorbar": {
              "outlinewidth": 0,
              "ticks": ""
             }
            },
            "type": "scatterpolargl"
           }
          ],
          "scatterternary": [
           {
            "marker": {
             "colorbar": {
              "outlinewidth": 0,
              "ticks": ""
             }
            },
            "type": "scatterternary"
           }
          ],
          "surface": [
           {
            "colorbar": {
             "outlinewidth": 0,
             "ticks": ""
            },
            "colorscale": [
             [
              0,
              "#0d0887"
             ],
             [
              0.1111111111111111,
              "#46039f"
             ],
             [
              0.2222222222222222,
              "#7201a8"
             ],
             [
              0.3333333333333333,
              "#9c179e"
             ],
             [
              0.4444444444444444,
              "#bd3786"
             ],
             [
              0.5555555555555556,
              "#d8576b"
             ],
             [
              0.6666666666666666,
              "#ed7953"
             ],
             [
              0.7777777777777778,
              "#fb9f3a"
             ],
             [
              0.8888888888888888,
              "#fdca26"
             ],
             [
              1,
              "#f0f921"
             ]
            ],
            "type": "surface"
           }
          ],
          "table": [
           {
            "cells": {
             "fill": {
              "color": "#EBF0F8"
             },
             "line": {
              "color": "white"
             }
            },
            "header": {
             "fill": {
              "color": "#C8D4E3"
             },
             "line": {
              "color": "white"
             }
            },
            "type": "table"
           }
          ]
         },
         "layout": {
          "annotationdefaults": {
           "arrowcolor": "#2a3f5f",
           "arrowhead": 0,
           "arrowwidth": 1
          },
          "autotypenumbers": "strict",
          "coloraxis": {
           "colorbar": {
            "outlinewidth": 0,
            "ticks": ""
           }
          },
          "colorscale": {
           "diverging": [
            [
             0,
             "#8e0152"
            ],
            [
             0.1,
             "#c51b7d"
            ],
            [
             0.2,
             "#de77ae"
            ],
            [
             0.3,
             "#f1b6da"
            ],
            [
             0.4,
             "#fde0ef"
            ],
            [
             0.5,
             "#f7f7f7"
            ],
            [
             0.6,
             "#e6f5d0"
            ],
            [
             0.7,
             "#b8e186"
            ],
            [
             0.8,
             "#7fbc41"
            ],
            [
             0.9,
             "#4d9221"
            ],
            [
             1,
             "#276419"
            ]
           ],
           "sequential": [
            [
             0,
             "#0d0887"
            ],
            [
             0.1111111111111111,
             "#46039f"
            ],
            [
             0.2222222222222222,
             "#7201a8"
            ],
            [
             0.3333333333333333,
             "#9c179e"
            ],
            [
             0.4444444444444444,
             "#bd3786"
            ],
            [
             0.5555555555555556,
             "#d8576b"
            ],
            [
             0.6666666666666666,
             "#ed7953"
            ],
            [
             0.7777777777777778,
             "#fb9f3a"
            ],
            [
             0.8888888888888888,
             "#fdca26"
            ],
            [
             1,
             "#f0f921"
            ]
           ],
           "sequentialminus": [
            [
             0,
             "#0d0887"
            ],
            [
             0.1111111111111111,
             "#46039f"
            ],
            [
             0.2222222222222222,
             "#7201a8"
            ],
            [
             0.3333333333333333,
             "#9c179e"
            ],
            [
             0.4444444444444444,
             "#bd3786"
            ],
            [
             0.5555555555555556,
             "#d8576b"
            ],
            [
             0.6666666666666666,
             "#ed7953"
            ],
            [
             0.7777777777777778,
             "#fb9f3a"
            ],
            [
             0.8888888888888888,
             "#fdca26"
            ],
            [
             1,
             "#f0f921"
            ]
           ]
          },
          "colorway": [
           "#636efa",
           "#EF553B",
           "#00cc96",
           "#ab63fa",
           "#FFA15A",
           "#19d3f3",
           "#FF6692",
           "#B6E880",
           "#FF97FF",
           "#FECB52"
          ],
          "font": {
           "color": "#2a3f5f"
          },
          "geo": {
           "bgcolor": "white",
           "lakecolor": "white",
           "landcolor": "#E5ECF6",
           "showlakes": true,
           "showland": true,
           "subunitcolor": "white"
          },
          "hoverlabel": {
           "align": "left"
          },
          "hovermode": "closest",
          "mapbox": {
           "style": "light"
          },
          "paper_bgcolor": "white",
          "plot_bgcolor": "#E5ECF6",
          "polar": {
           "angularaxis": {
            "gridcolor": "white",
            "linecolor": "white",
            "ticks": ""
           },
           "bgcolor": "#E5ECF6",
           "radialaxis": {
            "gridcolor": "white",
            "linecolor": "white",
            "ticks": ""
           }
          },
          "scene": {
           "xaxis": {
            "backgroundcolor": "#E5ECF6",
            "gridcolor": "white",
            "gridwidth": 2,
            "linecolor": "white",
            "showbackground": true,
            "ticks": "",
            "zerolinecolor": "white"
           },
           "yaxis": {
            "backgroundcolor": "#E5ECF6",
            "gridcolor": "white",
            "gridwidth": 2,
            "linecolor": "white",
            "showbackground": true,
            "ticks": "",
            "zerolinecolor": "white"
           },
           "zaxis": {
            "backgroundcolor": "#E5ECF6",
            "gridcolor": "white",
            "gridwidth": 2,
            "linecolor": "white",
            "showbackground": true,
            "ticks": "",
            "zerolinecolor": "white"
           }
          },
          "shapedefaults": {
           "line": {
            "color": "#2a3f5f"
           }
          },
          "ternary": {
           "aaxis": {
            "gridcolor": "white",
            "linecolor": "white",
            "ticks": ""
           },
           "baxis": {
            "gridcolor": "white",
            "linecolor": "white",
            "ticks": ""
           },
           "bgcolor": "#E5ECF6",
           "caxis": {
            "gridcolor": "white",
            "linecolor": "white",
            "ticks": ""
           }
          },
          "title": {
           "x": 0.05
          },
          "xaxis": {
           "automargin": true,
           "gridcolor": "white",
           "linecolor": "white",
           "ticks": "",
           "title": {
            "standoff": 15
           },
           "zerolinecolor": "white",
           "zerolinewidth": 2
          },
          "yaxis": {
           "automargin": true,
           "gridcolor": "white",
           "linecolor": "white",
           "ticks": "",
           "title": {
            "standoff": 15
           },
           "zerolinecolor": "white",
           "zerolinewidth": 2
          }
         }
        },
        "xaxis": {
         "anchor": "y",
         "domain": [
          0,
          1
         ],
         "title": {
          "text": "country"
         }
        },
        "yaxis": {
         "anchor": "x",
         "domain": [
          0,
          1
         ],
         "title": {
          "text": "count"
         }
        }
       }
      }
     },
     "metadata": {},
     "output_type": "display_data"
    }
   ],
   "source": [
    "px.bar(grouped_df, x=\"country\", y=\"count\")"
   ]
  },
  {
   "cell_type": "markdown",
   "metadata": {},
   "source": [
    "utiliser `df.write_database()` pour écrire le polars en base de données"
   ]
  }
 ],
 "metadata": {
  "kernelspec": {
   "display_name": "Python 3",
   "language": "python",
   "name": "python3"
  },
  "language_info": {
   "codemirror_mode": {
    "name": "ipython",
    "version": 3
   },
   "file_extension": ".py",
   "mimetype": "text/x-python",
   "name": "python",
   "nbconvert_exporter": "python",
   "pygments_lexer": "ipython3",
   "version": "3.11.1"
  }
 },
 "nbformat": 4,
 "nbformat_minor": 2
}
