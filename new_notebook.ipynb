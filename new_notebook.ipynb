{
 "cells": [
  {
   "cell_type": "code",
   "execution_count": 2,
   "metadata": {},
   "outputs": [],
   "source": [
    "from yarl import URL\n",
    "import requests\n",
    "from bs4 import BeautifulSoup"
   ]
  },
  {
   "cell_type": "code",
   "execution_count": 3,
   "metadata": {},
   "outputs": [],
   "source": [
    "def create_session() -> requests.Session:\n",
    "    \"\"\"`create_session`: Create a requests session with a custom header to make the server believe the scraper is actually a browser opened by a real user.\n",
    "\n",
    "    `Returns`\n",
    "    --------- ::\n",
    "\n",
    "        requests.Session\n",
    "\n",
    "    `Example(s)`\n",
    "    ---------\n",
    "\n",
    "    >>> create_session()\n",
    "    ... <requests.sessions.Session at 0x223e7834df0>\"\"\"\n",
    "    session = requests.Session()\n",
    "    session.headers.update(\n",
    "        {\n",
    "            \"User-Agent\": \"Mozilla/5.0 (Windows NT 10.0; Win64; x64) AppleWebKit/537.36 (KHTML, like Gecko) Chrome/102.0.0.0 Safari/537.36\"\n",
    "        }\n",
    "    )\n",
    "    return session\n"
   ]
  },
  {
   "cell_type": "code",
   "execution_count": 32,
   "metadata": {},
   "outputs": [],
   "source": [
    "URL_INIT = URL.build(scheme=\"https\", host=\"vinatis.com\")"
   ]
  },
  {
   "cell_type": "code",
   "execution_count": 34,
   "metadata": {},
   "outputs": [
    {
     "data": {
      "text/plain": [
       "URL('https://vinatis.com')"
      ]
     },
     "execution_count": 34,
     "metadata": {},
     "output_type": "execute_result"
    }
   ],
   "source": [
    "URL_INIT"
   ]
  },
  {
   "cell_type": "markdown",
   "metadata": {},
   "source": [
    "- Idée : on fait varier le $i$ des pages de 2 à 97, et le query string "
   ]
  },
  {
   "cell_type": "code",
   "execution_count": 35,
   "metadata": {},
   "outputs": [],
   "source": [
    "WHITE = \"achat-vin-blanc\"\n",
    "RED = \"achat-vin-rouge\"\n",
    "ROSE = \"achat-vin-rose\""
   ]
  },
  {
   "cell_type": "code",
   "execution_count": 36,
   "metadata": {},
   "outputs": [
    {
     "data": {
      "text/plain": [
       "URL('https://vinatis.com/achat-vin-rouge?page=2&tri=7')"
      ]
     },
     "execution_count": 36,
     "metadata": {},
     "output_type": "execute_result"
    }
   ],
   "source": [
    "URL_INIT / RED % {\"page\": 2, \"tri\":7}"
   ]
  }
 ],
 "metadata": {
  "kernelspec": {
   "display_name": "Python 3",
   "language": "python",
   "name": "python3"
  },
  "language_info": {
   "codemirror_mode": {
    "name": "ipython",
    "version": 3
   },
   "file_extension": ".py",
   "mimetype": "text/x-python",
   "name": "python",
   "nbconvert_exporter": "python",
   "pygments_lexer": "ipython3",
   "version": "3.10.6"
  }
 },
 "nbformat": 4,
 "nbformat_minor": 2
}
