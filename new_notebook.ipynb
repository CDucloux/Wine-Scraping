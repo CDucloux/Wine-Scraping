{
 "cells": [
  {
   "cell_type": "markdown",
   "metadata": {},
   "source": [
    "# Notebook `Data Extractor`\n",
    "***"
   ]
  },
  {
   "cell_type": "code",
   "execution_count": 1,
   "metadata": {},
   "outputs": [],
   "source": [
    "from yarl import URL\n",
    "from requests_html import HTMLSession\n",
    "from bs4 import BeautifulSoup\n",
    "from pathlib import Path\n",
    "from src.modules.scraping_functions import *\n",
    "import polars as pl"
   ]
  },
  {
   "cell_type": "markdown",
   "metadata": {},
   "source": [
    "**Note** : dans le folder `data`, tu trouveras le fichier `wine_links.csv`, il contient l'ensemble des href trouvés après le lancement du module `scraper.py`\n",
    "\n",
    "- Dans le fichier actuel, il y en a *540*, mais en modifiant les **range** de la fonction `create_urls_browse_list` du module `scraping_functions.py`, tu peux récupérer l'ensemble des hrefs.\n",
    "- `⚠` ! Pour récupérer les hrefs il faut obligatoirement faire tourner le module `scraper.py` car les hrefs sont générés post-javascript (évidemment ça ne marche pas dans les notebooks...) mais pour les caractéristiques des vins, prix et autres, c'est avant le javascript que c'est généré donc tu peux le faire ici ! "
   ]
  },
  {
   "cell_type": "code",
   "execution_count": 2,
   "metadata": {},
   "outputs": [],
   "source": [
    "root = Path(\".\").resolve()\n",
    "data_folder = root / \"data\"\n",
    "file_path = data_folder / \"wine_links.csv\"\n",
    "session = create_session()"
   ]
  },
  {
   "cell_type": "markdown",
   "metadata": {},
   "source": [
    "Autrement dit la fonction ci-dessous, `create_all_wine_urls` ne fonctionnera pas ici"
   ]
  },
  {
   "cell_type": "code",
   "execution_count": 23,
   "metadata": {},
   "outputs": [],
   "source": [
    "# create_all_wine_urls()"
   ]
  },
  {
   "cell_type": "markdown",
   "metadata": {},
   "source": [
    "Donc on importe plutôt les données du folder data en polars puis on retransforme en liste"
   ]
  },
  {
   "cell_type": "code",
   "execution_count": 3,
   "metadata": {},
   "outputs": [],
   "source": [
    "all_wine_urls = list(\n",
    "    chain.from_iterable(pl.read_csv(file_path, has_header=False).to_numpy().tolist())\n",
    ")"
   ]
  },
  {
   "cell_type": "code",
   "execution_count": 4,
   "metadata": {},
   "outputs": [
    {
     "data": {
      "text/plain": [
       "4341"
      ]
     },
     "execution_count": 4,
     "metadata": {},
     "output_type": "execute_result"
    }
   ],
   "source": [
    "len(all_wine_urls)"
   ]
  },
  {
   "cell_type": "code",
   "execution_count": 5,
   "metadata": {},
   "outputs": [],
   "source": [
    "all_wine_urls = all_wine_urls[0:100]"
   ]
  },
  {
   "cell_type": "code",
   "execution_count": 6,
   "metadata": {},
   "outputs": [
    {
     "data": {
      "text/plain": [
       "100"
      ]
     },
     "execution_count": 6,
     "metadata": {},
     "output_type": "execute_result"
    }
   ],
   "source": [
    "len(all_wine_urls)"
   ]
  },
  {
   "cell_type": "markdown",
   "metadata": {},
   "source": [
    "Enfin, on extrait tout le contenu des pages avec `extract_all_pages`. Ensuite..c'est à toi ! 🤪"
   ]
  },
  {
   "cell_type": "code",
   "execution_count": null,
   "metadata": {},
   "outputs": [],
   "source": [
    "all_html_pages = extract_all_pages(session, all_wine_urls)"
   ]
  },
  {
   "cell_type": "markdown",
   "metadata": {},
   "source": [
    "~ 5 minutes pour extraire **200** vins\n",
    "\n",
    "Donc ~ 50 minutes pour 2000\n",
    "\n",
    "Donc ~ 2h pour 1h50 pour ~ 4300"
   ]
  },
  {
   "cell_type": "markdown",
   "metadata": {},
   "source": [
    "**IDEE** : Faire une carte de la provenance géographique des vins\n",
    "\n",
    "- slicer par type de vin\n",
    "- par prix\n",
    "- etc."
   ]
  },
  {
   "cell_type": "code",
   "execution_count": 10,
   "metadata": {},
   "outputs": [],
   "source": [
    "from src.modules.mystical_soup import *"
   ]
  },
  {
   "cell_type": "code",
   "execution_count": 12,
   "metadata": {},
   "outputs": [
    {
     "name": "stdout",
     "output_type": "stream",
     "text": [
      "Export en JSON réalisé avec succès dans D:\\Cours Mecen (M2)\\Machine Learning\\Wine Scraping\\data !\n"
     ]
    }
   ],
   "source": [
    "create_json(all_html_pages)"
   ]
  },
  {
   "cell_type": "code",
   "execution_count": 13,
   "metadata": {},
   "outputs": [
    {
     "data": {
      "text/html": [
       "<div><style>\n",
       ".dataframe > thead > tr > th,\n",
       ".dataframe > tbody > tr > td {\n",
       "  text-align: right;\n",
       "  white-space: pre-wrap;\n",
       "}\n",
       "</style>\n",
       "<small>shape: (100, 22)</small><table border=\"1\" class=\"dataframe\"><thead><tr><th>name</th><th>capacity</th><th>price</th><th>price_bundle</th><th>characteristics</th><th>note</th><th>keywords</th><th>others</th><th>picture</th><th>millesime</th><th>cepage</th><th>gouts</th><th>par_gouts</th><th>oeil</th><th>nez</th><th>bouche</th><th>temperature</th><th>service</th><th>conservation_1</th><th>conservation_2</th><th>accords_vins</th><th>accords_reco</th></tr><tr><td>str</td><td>str</td><td>str</td><td>str</td><td>str</td><td>str</td><td>list[str]</td><td>str</td><td>str</td><td>str</td><td>str</td><td>str</td><td>str</td><td>str</td><td>str</td><td>str</td><td>str</td><td>str</td><td>str</td><td>str</td><td>str</td><td>str</td></tr></thead><tbody><tr><td>&quot;ABYMES 2021 - …</td><td>&quot;0,75 L&quot;</td><td>&quot;9,50 €&quot;</td><td>&quot;7,60 € par 2&quot;</td><td>&quot;Vin Blanc / Sa…</td><td>&quot;15.9/20  noté …</td><td>[&quot;Intense&quot;, &quot;Minéral&quot;, &quot;Superbe&quot;]</td><td>null</td><td>&quot;https://www.vi…</td><td>&quot;2021&quot;</td><td>&quot;100% Jacquère&quot;</td><td>&quot;Blanc Sec soup…</td><td>&quot;Fruité&quot;</td><td>&quot;Robe or blanc …</td><td>&quot;Des arômes de …</td><td>&quot;L&#x27;attaque est …</td><td>&quot;8-10°C&quot;</td><td>&quot;En bouteille&quot;</td><td>null</td><td>&quot;A boire dans l…</td><td>&quot;Apéritif, Entr…</td><td>&quot;Plateau de fru…</td></tr><tr><td>&quot;PINOT NOIR 201…</td><td>&quot;0,75 L&quot;</td><td>&quot;94,90 €&quot;</td><td>null</td><td>&quot;Vin Rouge / Ch…</td><td>null</td><td>[&quot;Elégance&quot;, &quot;Finesse&quot;, &quot;Harmonie&quot;]</td><td>null</td><td>&quot;https://www.vi…</td><td>&quot;2019&quot;</td><td>&quot;100% Pinot noi…</td><td>&quot;Rouge Charnu e…</td><td>&quot;Puissant&quot;</td><td>&quot;Robe rubis aux…</td><td>&quot;Nez complexe s…</td><td>&quot;Bouche fruitée…</td><td>&quot;8-10°C&quot;</td><td>&quot;En bouteille o…</td><td>&quot;2026&quot;</td><td>&quot;A boire et à g…</td><td>&quot;Apéritif, Entr…</td><td>&quot;Gigot d&#x27;agneau…</td></tr><tr><td>&quot;SAUMUR BLANC T…</td><td>&quot;0,75 L&quot;</td><td>&quot;11,70 €&quot;</td><td>&quot;9,90 € par 2&quot;</td><td>&quot;Vin Blanc / Lo…</td><td>&quot;17.2/20  noté …</td><td>[&quot;Fraîcheur&quot;, &quot;100% Chenin&quot;, &quot;Équilibre&quot;]</td><td>&quot;Coup de cœur C…</td><td>&quot;https://www.vi…</td><td>&quot;2022&quot;</td><td>&quot;100% Chenin&quot;</td><td>&quot;Blanc Sec soup…</td><td>&quot;Minéral&quot;</td><td>&quot;Couleur jaune …</td><td>&quot;Arômes de frui…</td><td>&quot;Frais et minér…</td><td>&quot;6-8°C&quot;</td><td>&quot;En bouteille&quot;</td><td>&quot;2027&quot;</td><td>&quot;A boire et à g…</td><td>&quot;Apéritif, Entr…</td><td>&quot;Apéritifs, poi…</td></tr><tr><td>&quot;CHÂTEAU BELLE …</td><td>&quot;0,75 L&quot;</td><td>&quot;16,95 €&quot;</td><td>&quot;14,40 € par 2&quot;</td><td>&quot;Vin Rouge / Bo…</td><td>null</td><td>[&quot;Fraîcheur&quot;, &quot;Elégant&quot;, &quot;Savoureux&quot;]</td><td>null</td><td>&quot;https://www.vi…</td><td>&quot;2016&quot;</td><td>&quot;91% Merlot, 9%…</td><td>&quot;Rouge Puissant…</td><td>&quot;Puissant&quot;</td><td>&quot;Robe violette,…</td><td>&quot;Bleuets sauvag…</td><td>&quot;Fraîcheur, élé…</td><td>&quot;16-18°C&quot;</td><td>&quot;Ouvrir 30 min …</td><td>&quot;2030&quot;</td><td>&quot;A boire et à g…</td><td>&quot;Apéritif, Char…</td><td>null</td></tr><tr><td>&quot;MORGON - LE CL…</td><td>&quot;0,75 L&quot;</td><td>&quot;25,50 €&quot;</td><td>null</td><td>&quot;Vin Rouge / Be…</td><td>null</td><td>[&quot;Nature&quot;, &quot;Savoureux&quot;, &quot;Vigneron&quot;]</td><td>null</td><td>&quot;https://www.vi…</td><td>&quot;2019&quot;</td><td>&quot;100% Gamay&quot;</td><td>&quot;Rouge Léger et…</td><td>&quot;Fruité&quot;</td><td>&quot;Rouge vif.&quot;</td><td>&quot;Des notes de c…</td><td>&quot;Profond, équil…</td><td>&quot;13-16°C&quot;</td><td>&quot;En bouteille&quot;</td><td>&quot;2032&quot;</td><td>&quot;A boire et à g…</td><td>&quot;Apéritif, Char…</td><td>&quot;Poularde de Br…</td></tr><tr><td>&quot;SAINT JOSEPH -…</td><td>&quot;0,75 L&quot;</td><td>null</td><td>null</td><td>&quot;Vin Rouge / Rh…</td><td>null</td><td>[&quot;Terroir&quot;, &quot;Juteux&quot;, &quot;Fraîcheur du fruit&quot;]</td><td>null</td><td>&quot;https://www.vi…</td><td>&quot;2021&quot;</td><td>&quot;100% Syrah&quot;</td><td>&quot;Rouge Charnu e…</td><td>&quot;Fruité&quot;</td><td>&quot;Robe rouge pro…</td><td>&quot;Arômes de frui…</td><td>&quot;Bouche souple …</td><td>&quot;17°C&quot;</td><td>&quot;Passer en cara…</td><td>&quot;2030&quot;</td><td>&quot;A boire et à g…</td><td>&quot;Viande rouge, …</td><td>&quot;Côte de veau a…</td></tr><tr><td>&quot;GEWURZTRAMINER…</td><td>&quot;0,75 L&quot;</td><td>&quot;23,00 €&quot;</td><td>null</td><td>&quot;Vin Blanc / Al…</td><td>null</td><td>[&quot;Aromatique&quot;, &quot;Puissant&quot;, &quot;Remarquable&quot;]</td><td>&quot;Bio&quot;</td><td>&quot;https://www.vi…</td><td>&quot;2020&quot;</td><td>&quot;100% Gewurztra…</td><td>&quot;Blanc Demi-sec…</td><td>&quot;Puissant&quot;</td><td>&quot;Dense, couleur…</td><td>&quot;Arômes de frui…</td><td>&quot;Fraîcheur, moe…</td><td>&quot;10°C&quot;</td><td>&quot;En bouteille&quot;</td><td>&quot;2032&quot;</td><td>&quot;A boire et à g…</td><td>&quot;Apéritif, entr…</td><td>&quot;Budha bowl, Pa…</td></tr><tr><td>&quot;POMMARD - LES …</td><td>&quot;0,75 L&quot;</td><td>&quot;41,50 €&quot;</td><td>null</td><td>&quot;Vin Rouge / Bo…</td><td>null</td><td>[&quot;Prix plaisir&quot;, &quot;Domaine montant&quot;]</td><td>null</td><td>&quot;https://www.vi…</td><td>&quot;2020&quot;</td><td>&quot;100% Pinot noi…</td><td>&quot;Rouge Elégant …</td><td>&quot;Fruité&quot;</td><td>&quot;Robe rubis pro…</td><td>null</td><td>&quot;Gouleyant et o…</td><td>&quot;15-17°C&quot;</td><td>&quot;En bouteille&quot;</td><td>&quot;2027&quot;</td><td>&quot;A boire et à g…</td><td>&quot;Viande rouge, …</td><td>&quot;Onglet de Bœuf…</td></tr><tr><td>&quot;ROUSSANNE 2021…</td><td>&quot;0,75 L&quot;</td><td>&quot;21,80 €&quot;</td><td>null</td><td>&quot;Vin Blanc / Rh…</td><td>null</td><td>[&quot;Gastronomie&quot;, &quot;Exclusivité Vinatis&quot;, &quot;Vigneron Atypique&quot;]</td><td>&quot;FIN DE LOTS&quot;</td><td>&quot;https://www.vi…</td><td>&quot;2021&quot;</td><td>&quot;100% Roussanne…</td><td>&quot;Blanc Sec très…</td><td>&quot;Fruité&quot;</td><td>&quot;Robe jaune or …</td><td>&quot;Nez de fleurs …</td><td>&quot;Bouche ample, …</td><td>&quot;16-18°C&quot;</td><td>&quot;Ouvrir 1h avan…</td><td>&quot;2025&quot;</td><td>&quot;A boire et à g…</td><td>&quot;Apéritif, Entr…</td><td>&quot;Brillat savari…</td></tr><tr><td>&quot;TERRE DE GALET…</td><td>&quot;0,75 L&quot;</td><td>&quot;15,00 €&quot;</td><td>null</td><td>&quot;Vin Rouge / Rh…</td><td>null</td><td>[&quot;Fruité&quot;, &quot;Complexe&quot;, &quot;Gourmant&quot;]</td><td>&quot;Bio&quot;</td><td>&quot;https://www.vi…</td><td>&quot;2021&quot;</td><td>&quot;40% Mourvèdre,…</td><td>&quot;Rouge Complexe…</td><td>&quot;Fruité&quot;</td><td>&quot;Robe rouge fon…</td><td>&quot;Des arômes de …</td><td>&quot;Gourmand de fr…</td><td>&quot;16-18°C&quot;</td><td>&quot;Ouvrir 30 min …</td><td>&quot;2026&quot;</td><td>&quot;A boire et à g…</td><td>&quot;Charcuterie, V…</td><td>&quot;Plateau de cha…</td></tr><tr><td>&quot;CHIANTI CLASSI…</td><td>&quot;0,75 L&quot;</td><td>&quot;46,90 €&quot;</td><td>null</td><td>&quot;Vin Rouge / It…</td><td>null</td><td>[&quot;Harmonieux&quot;, &quot;Caractère&quot;, &quot;Nuancé&quot;]</td><td>null</td><td>&quot;https://www.vi…</td><td>&quot;2020&quot;</td><td>&quot;90% Sangiovese…</td><td>&quot;Rouge Elégant …</td><td>&quot;Fruité&quot;</td><td>&quot;Rouge rubis in…</td><td>&quot;Arômes de ceri…</td><td>&quot;La bouche prés…</td><td>&quot;16-18°C&quot;</td><td>&quot;Passer en cara…</td><td>&quot;2047&quot;</td><td>&quot;A boire et à g…</td><td>&quot;Viande rouge, …</td><td>&quot;Viandes gmijot…</td></tr><tr><td>&quot;ÁSTER CRIANZA …</td><td>&quot;0,75 L&quot;</td><td>&quot;20,90 €&quot;</td><td>&quot;17,50 € par 2&quot;</td><td>&quot;Vin Rouge / Es…</td><td>null</td><td>[&quot;Equilibre&quot;, &quot;Richesse&quot;, &quot;Caractère&quot;]</td><td>&quot;Nouveauté&quot;</td><td>&quot;https://www.vi…</td><td>&quot;2020&quot;</td><td>&quot;100% Tinta ror…</td><td>&quot;Rouge Charnu e…</td><td>&quot;Fruité&quot;</td><td>&quot;Robe pourpre b…</td><td>&quot;Belle intensit…</td><td>&quot;Bouche équilib…</td><td>&quot;16-18°C&quot;</td><td>&quot;Passer en cara…</td><td>&quot;2032&quot;</td><td>&quot;A boire et à g…</td><td>&quot;Charcuterie, V…</td><td>&quot;Tranche de Pat…</td></tr><tr><td>&hellip;</td><td>&hellip;</td><td>&hellip;</td><td>&hellip;</td><td>&hellip;</td><td>&hellip;</td><td>&hellip;</td><td>&hellip;</td><td>&hellip;</td><td>&hellip;</td><td>&hellip;</td><td>&hellip;</td><td>&hellip;</td><td>&hellip;</td><td>&hellip;</td><td>&hellip;</td><td>&hellip;</td><td>&hellip;</td><td>&hellip;</td><td>&hellip;</td><td>&hellip;</td><td>&hellip;</td></tr><tr><td>&quot;ENIRA 2018 - B…</td><td>&quot;0,75 L&quot;</td><td>&quot;17,40 €&quot;</td><td>&quot;13,90 € par 2&quot;</td><td>&quot;Vin Rouge / Bu…</td><td>&quot;16.8/20  noté …</td><td>[&quot;Typique&quot;, &quot;Surprenant&quot;, &quot;cépage Bulgare&quot;]</td><td>null</td><td>&quot;https://www.vi…</td><td>&quot;2018&quot;</td><td>&quot;55% Merlot, 21…</td><td>&quot;Rouge Charnu e…</td><td>&quot;Fruité&quot;</td><td>&quot;Robe intense, …</td><td>&quot;Cerises mûres,…</td><td>&quot;Fruits rouges,…</td><td>&quot;16-18°C&quot;</td><td>&quot;En bouteille&quot;</td><td>&quot;2024&quot;</td><td>&quot;A boire et à g…</td><td>&quot;Charcuterie, V…</td><td>null</td></tr><tr><td>&quot;CLARENDELLE ME…</td><td>&quot;0,75 L&quot;</td><td>&quot;20,00 €&quot;</td><td>&quot;18,00 € par 2&quot;</td><td>&quot;Vin Rouge / Bo…</td><td>null</td><td>[&quot;Fraîcheur&quot;, &quot;Fruité&quot;, &quot;Elégance et puissance&quot;]</td><td>null</td><td>&quot;https://www.vi…</td><td>&quot;2018&quot;</td><td>&quot;51% Merlot, 49…</td><td>null</td><td>null</td><td>&quot;Rouge sombre&quot;</td><td>&quot;Notes de fruit…</td><td>&quot;Fraîcheur, bel…</td><td>&quot;16-18°C&quot;</td><td>&quot;En bouteille&quot;</td><td>&quot;2026&quot;</td><td>&quot;A boire et à g…</td><td>&quot;Viande rouge, …</td><td>null</td></tr><tr><td>&quot;CHATEAU BEAU-S…</td><td>&quot;0,75 L&quot;</td><td>&quot;76,50 €&quot;</td><td>&quot;68,80 € par 2&quot;</td><td>&quot;Vin Rouge / Bo…</td><td>null</td><td>[&quot;Pur&quot;, &quot;longueur exceptionnelle&quot;, &quot;Grande précision&quot;]</td><td>null</td><td>&quot;https://www.vi…</td><td>&quot;2017&quot;</td><td>&quot;80% Merlot, 15…</td><td>null</td><td>null</td><td>&quot;Rouge violet p…</td><td>&quot;Fruits noirs, …</td><td>&quot;Pur, fruité, m…</td><td>&quot;16-18°C&quot;</td><td>&quot;Ouvrir 30 min …</td><td>&quot;2050&quot;</td><td>&quot;A boire et à g…</td><td>&quot;Charcuterie, V…</td><td>null</td></tr><tr><td>&quot;TALMA VERDEJO …</td><td>&quot;0,75 L&quot;</td><td>&quot;7,20 €&quot;</td><td>&quot;5,70 € par 2&quot;</td><td>&quot;Vin Blanc / Es…</td><td>&quot;15.2/20  noté …</td><td>[&quot;Délicatesse&quot;, &quot;Saveurs&quot;, &quot;Brillante&quot;]</td><td>null</td><td>&quot;https://www.vi…</td><td>&quot;2022&quot;</td><td>&quot;100% Verdejo&quot;</td><td>&quot;Blanc Sec lége…</td><td>&quot;Sec&quot;</td><td>&quot;Jaune pâle bri…</td><td>&quot;Intensité arom…</td><td>&quot;En bouche, un …</td><td>&quot;8-10°C&quot;</td><td>&quot;En bouteille&quot;</td><td>null</td><td>&quot;A boire dans l…</td><td>&quot;Apéritif, Entr…</td><td>&quot;Apéritif, crus…</td></tr><tr><td>&quot;DEMI BOUTEILLE…</td><td>&quot;0,375 L  0,375…</td><td>&quot;12,20 €&quot;</td><td>null</td><td>&quot;Vin Rouge / Rh…</td><td>null</td><td>[&quot;Incontournable&quot;, &quot;Classique&quot;, &quot;Demi bouteille&quot;]</td><td>null</td><td>&quot;https://www.vi…</td><td>&quot;2020&quot;</td><td>&quot;100% Syrah&quot;</td><td>&quot;Rouge Puissant…</td><td>&quot;Puissant&quot;</td><td>&quot;Robe soutenu a…</td><td>&quot;Nez riche et c…</td><td>&quot;Bouche harmoni…</td><td>&quot;15-18°C&quot;</td><td>&quot;Ouvrir 30 min …</td><td>&quot;2030&quot;</td><td>&quot;A boire et à g…</td><td>&quot;Viande rouge, …</td><td>&quot;Boudin noir gr…</td></tr><tr><td>&quot;RÉSERVE MOUTON…</td><td>&quot;0,75 L&quot;</td><td>&quot;24,90 €&quot;</td><td>&quot;21,10 € par 2&quot;</td><td>&quot;Vin Blanc / Bo…</td><td>null</td><td>[&quot;Frais&quot;, &quot;Rond&quot;, &quot;Fruits jaunes&quot;]</td><td>null</td><td>&quot;https://www.vi…</td><td>&quot;2021&quot;</td><td>&quot;86% Sémillon, …</td><td>&quot;Blanc Demi-sec…</td><td>&quot;Fruité&quot;</td><td>&quot;Robe jaune or&quot;</td><td>&quot;Spectre aromat…</td><td>&quot;Gras et consis…</td><td>&quot;8-10°C&quot;</td><td>&quot;En bouteille&quot;</td><td>&quot;2026&quot;</td><td>&quot;A boire et à g…</td><td>&quot;Apéritif, Foie…</td><td>&quot;Salade de crev…</td></tr><tr><td>&quot;LA LANDONNE 20…</td><td>&quot;0,75 L&quot;</td><td>&quot;390,00 €&quot;</td><td>null</td><td>&quot;Vin Rouge / Rh…</td><td>null</td><td>[&quot;Finesse&quot;, &quot;Coffret bois&quot;, &quot;Légendaire&quot;]</td><td>null</td><td>&quot;https://www.vi…</td><td>&quot;2019&quot;</td><td>&quot;100% Syrah&quot;</td><td>&quot;Rouge Tannique…</td><td>&quot;Puissant&quot;</td><td>&quot;Robe rouge opa…</td><td>&quot;Nez incroyable…</td><td>&quot;Bouche impress…</td><td>&quot;16-17°C&quot;</td><td>&quot;Passer en cara…</td><td>&quot;2045&quot;</td><td>&quot;A boire et à g…</td><td>&quot;Charcuterie, V…</td><td>&quot;Caille farcie …</td></tr><tr><td>&quot;CABERNET SAUVI…</td><td>&quot;0,75 L&quot;</td><td>&quot;16,90 €&quot;</td><td>&quot;13,50 € par 2&quot;</td><td>&quot;Vin Rouge / Et…</td><td>null</td><td>[&quot;Fruits noirs&quot;, &quot;Fraicheur&quot;, &quot;Amérique&quot;]</td><td>null</td><td>&quot;https://www.vi…</td><td>&quot;2019&quot;</td><td>&quot;100% Cabernet-…</td><td>&quot;Rouge Puissant…</td><td>&quot;Floral&quot;</td><td>&quot;Robe rubis som…</td><td>&quot;Notes de grena…</td><td>&quot;Velouté, tanin…</td><td>&quot;16-18°C&quot;</td><td>&quot;Ouvrir 30 min …</td><td>&quot;2027&quot;</td><td>&quot;A boire et à g…</td><td>&quot;Charcuterie, V…</td><td>&quot;Viandes grillé…</td></tr><tr><td>&quot;PINTIA 2018 - …</td><td>&quot;0,75 L  0,75 L…</td><td>&quot;75,00 €&quot;</td><td>null</td><td>&quot;Vin Rouge / Es…</td><td>null</td><td>[&quot;Vieilles vignes&quot;, &quot;Merveilleux&quot;, &quot;Mythique&quot;]</td><td>null</td><td>&quot;https://www.vi…</td><td>&quot;2018&quot;</td><td>&quot;100% Tempranil…</td><td>&quot;Rouge Elégant …</td><td>&quot;Puissant&quot;</td><td>&quot;Robe couleur r…</td><td>&quot;Belle intensit…</td><td>&quot;Bouche fruitée…</td><td>&quot;16-18°C&quot;</td><td>&quot;Passer en cara…</td><td>&quot;2035&quot;</td><td>&quot;A boire et à g…</td><td>&quot;Charcuterie, V…</td><td>&quot;Tranche de Pat…</td></tr><tr><td>&quot;RIU BY TRIO IN…</td><td>&quot;0,75 L&quot;</td><td>&quot;25,00 €&quot;</td><td>&quot;22,00 € par 2&quot;</td><td>&quot;Vin Rouge / Es…</td><td>null</td><td>[&quot;Original&quot;, &quot;Puissance aromatique&quot;, &quot;Trio de Choc&quot;]</td><td>null</td><td>&quot;https://www.vi…</td><td>&quot;2018&quot;</td><td>&quot;33% Grenache, …</td><td>&quot;Rouge Charnu e…</td><td>&quot;Fruité&quot;</td><td>&quot;Robe intense c…</td><td>&quot;Au nez dominen…</td><td>&quot;Bouche savoure…</td><td>&quot;17°C&quot;</td><td>&quot;En bouteille&quot;</td><td>&quot;2025&quot;</td><td>&quot;A boire et à g…</td><td>&quot;Charcuterie, V…</td><td>&quot;Ragoûts, viand…</td></tr><tr><td>&quot;CHÂTEAU MUSAR …</td><td>&quot;0,75 L&quot;</td><td>&quot;56,50 €&quot;</td><td>null</td><td>&quot;Vin Rouge / Li…</td><td>null</td><td>[&quot;Racé&quot;, &quot;Mythique&quot;, &quot;Rarissime&quot;]</td><td>null</td><td>&quot;https://www.vi…</td><td>&quot;2016&quot;</td><td>&quot;35% Cabernet-S…</td><td>&quot;Rouge Elégant …</td><td>&quot;Boisé&quot;</td><td>&quot;Robe rouge rub…</td><td>&quot;Nez riche et p…</td><td>&quot;Bouche à l&#x27;équ…</td><td>&quot;16-18°C&quot;</td><td>&quot;Passer en cara…</td><td>&quot;2040&quot;</td><td>&quot;A boire et à g…</td><td>&quot;Viande rouge, …</td><td>&quot;Shawarma de bœ…</td></tr><tr><td>&quot;CHATEAU REYNAU…</td><td>&quot;0,75 L&quot;</td><td>&quot;5,50 €&quot;</td><td>&quot;4,95 € par 6&quot;</td><td>&quot;Vin Rouge / Bo…</td><td>&quot;15.7/20  noté …</td><td>[&quot;Gourmand&quot;, &quot;Soyeux&quot;, &quot;Top Affaire&quot;]</td><td>null</td><td>&quot;https://www.vi…</td><td>&quot;2019&quot;</td><td>&quot;60% Merlot, 30…</td><td>&quot;Rouge Léger et…</td><td>&quot;Fruité&quot;</td><td>&quot;Robe rouge viv…</td><td>&quot;Nez fruité, fr…</td><td>&quot;Bouche fruitée…</td><td>&quot;16-18°C&quot;</td><td>&quot;En bouteille&quot;</td><td>&quot;2025&quot;</td><td>&quot;A boire et à g…</td><td>&quot;Apéritif, Vian…</td><td>&quot;Charcuteries e…</td></tr></tbody></table></div>"
      ],
      "text/plain": [
       "shape: (100, 22)\n",
       "┌────────────┬───────────┬─────────┬───────────┬───┬───────────┬───────────┬───────────┬───────────┐\n",
       "│ name       ┆ capacity  ┆ price   ┆ price_bun ┆ … ┆ conservat ┆ conservat ┆ accords_v ┆ accords_r │\n",
       "│ ---        ┆ ---       ┆ ---     ┆ dle       ┆   ┆ ion_1     ┆ ion_2     ┆ ins       ┆ eco       │\n",
       "│ str        ┆ str       ┆ str     ┆ ---       ┆   ┆ ---       ┆ ---       ┆ ---       ┆ ---       │\n",
       "│            ┆           ┆         ┆ str       ┆   ┆ str       ┆ str       ┆ str       ┆ str       │\n",
       "╞════════════╪═══════════╪═════════╪═══════════╪═══╪═══════════╪═══════════╪═══════════╪═══════════╡\n",
       "│ ABYMES     ┆ 0,75 L    ┆ 9,50 €  ┆ 7,60 €    ┆ … ┆ null      ┆ A boire   ┆ Apéritif, ┆ Plateau   │\n",
       "│ 2021 -     ┆           ┆         ┆ par 2     ┆   ┆           ┆ dans les  ┆ Entrée,   ┆ de fruits │\n",
       "│ REMY       ┆           ┆         ┆           ┆   ┆           ┆ 2 ans     ┆ Poisson,  ┆ de mer,   │\n",
       "│ BERLIOZ    ┆           ┆         ┆           ┆   ┆           ┆           ┆ Coqui…    ┆ Fondue…   │\n",
       "│ PINOT NOIR ┆ 0,75 L    ┆ 94,90 € ┆ null      ┆ … ┆ 2026      ┆ A boire   ┆ Apéritif, ┆ Gigot     │\n",
       "│ 2019 LAS   ┆           ┆         ┆           ┆   ┆           ┆ et à      ┆ Entrée,   ┆ d'agneau  │\n",
       "│ PIZARRAS - ┆           ┆         ┆           ┆   ┆           ┆ garder    ┆ Charcuter ┆ aux       │\n",
       "│ E…         ┆           ┆         ┆           ┆   ┆           ┆           ┆ ie, V…    ┆ herbes de │\n",
       "│            ┆           ┆         ┆           ┆   ┆           ┆           ┆           ┆ Pro…      │\n",
       "│ SAUMUR     ┆ 0,75 L    ┆ 11,70 € ┆ 9,90 €    ┆ … ┆ 2027      ┆ A boire   ┆ Apéritif, ┆ Apéritifs │\n",
       "│ BLANC      ┆           ┆         ┆ par 2     ┆   ┆           ┆ et à      ┆ Entrée,   ┆ ,         │\n",
       "│ TANDEM     ┆           ┆         ┆           ┆   ┆           ┆ garder    ┆ Poisson,  ┆ poissons  │\n",
       "│ 2022 -     ┆           ┆         ┆           ┆   ┆           ┆           ┆ Coqui…    ┆ en sauce  │\n",
       "│ DOMAI…     ┆           ┆         ┆           ┆   ┆           ┆           ┆           ┆ ou …      │\n",
       "│ CHÂTEAU    ┆ 0,75 L    ┆ 16,95 € ┆ 14,40 €   ┆ … ┆ 2030      ┆ A boire   ┆ Apéritif, ┆ null      │\n",
       "│ BELLE      ┆           ┆         ┆ par 2     ┆   ┆           ┆ et à      ┆ Charcuter ┆           │\n",
       "│ COLINE     ┆           ┆         ┆           ┆   ┆           ┆ garder    ┆ ie,       ┆           │\n",
       "│ 2016       ┆           ┆         ┆           ┆   ┆           ┆           ┆ Viande    ┆           │\n",
       "│            ┆           ┆         ┆           ┆   ┆           ┆           ┆ bl…       ┆           │\n",
       "│ …          ┆ …         ┆ …       ┆ …         ┆ … ┆ …         ┆ …         ┆ …         ┆ …         │\n",
       "│ PINTIA     ┆ 0,75 L    ┆ 75,00 € ┆ null      ┆ … ┆ 2035      ┆ A boire   ┆ Charcuter ┆ Tranche   │\n",
       "│ 2018 -     ┆ 0,75 L1,5 ┆         ┆           ┆   ┆           ┆ et à      ┆ ie,       ┆ de Pata   │\n",
       "│ VEGA       ┆ L         ┆         ┆           ┆   ┆           ┆ garder    ┆ Viande    ┆ Negra,    │\n",
       "│ SICILIA    ┆           ┆         ┆           ┆   ┆           ┆           ┆ rouge,    ┆ filet     │\n",
       "│            ┆           ┆         ┆           ┆   ┆           ┆           ┆ Volai…    ┆ mig…      │\n",
       "│ RIU BY     ┆ 0,75 L    ┆ 25,00 € ┆ 22,00 €   ┆ … ┆ 2025      ┆ A boire   ┆ Charcuter ┆ Ragoûts,  │\n",
       "│ TRIO       ┆           ┆         ┆ par 2     ┆   ┆           ┆ et à      ┆ ie,       ┆ viandes   │\n",
       "│ INFERNAL   ┆           ┆         ┆           ┆   ┆           ┆ garder    ┆ Viande    ┆ grillées, │\n",
       "│ 2018 -     ┆           ┆         ┆           ┆   ┆           ┆           ┆ rouge,    ┆ riz à…    │\n",
       "│ COMB…      ┆           ┆         ┆           ┆   ┆           ┆           ┆ Viand…    ┆           │\n",
       "│ CHÂTEAU    ┆ 0,75 L    ┆ 56,50 € ┆ null      ┆ … ┆ 2040      ┆ A boire   ┆ Viande    ┆ Shawarma  │\n",
       "│ MUSAR      ┆           ┆         ┆           ┆   ┆           ┆ et à      ┆ rouge,    ┆ de bœuf,  │\n",
       "│ ROUGE 2016 ┆           ┆         ┆           ┆   ┆           ┆ garder    ┆ Gibier,   ┆ Brochette │\n",
       "│            ┆           ┆         ┆           ┆   ┆           ┆           ┆ Barbecue, ┆ s d'a…    │\n",
       "│            ┆           ┆         ┆           ┆   ┆           ┆           ┆ …         ┆           │\n",
       "│ CHATEAU    ┆ 0,75 L    ┆ 5,50 €  ┆ 4,95 €    ┆ … ┆ 2025      ┆ A boire   ┆ Apéritif, ┆ Charcuter │\n",
       "│ REYNAUD    ┆           ┆         ┆ par 6     ┆   ┆           ┆ et à      ┆ Viande    ┆ ies et    │\n",
       "│ LACOSTE    ┆           ┆         ┆           ┆   ┆           ┆ garder    ┆ rouge,    ┆ terrines, │\n",
       "│ 2019       ┆           ┆         ┆           ┆   ┆           ┆           ┆ Viande b… ┆ viande…   │\n",
       "└────────────┴───────────┴─────────┴───────────┴───┴───────────┴───────────┴───────────┴───────────┘"
      ]
     },
     "execution_count": 13,
     "metadata": {},
     "output_type": "execute_result"
    }
   ],
   "source": [
    "pl.read_json(data_folder / \"vins.json\")"
   ]
  },
  {
   "cell_type": "code",
   "execution_count": 27,
   "metadata": {},
   "outputs": [],
   "source": [
    "link = soup.find(\"img\", attrs={\"class\": \"img-full-width img-max-450 center-block\"}).get(\"src\")"
   ]
  },
  {
   "cell_type": "code",
   "execution_count": 40,
   "metadata": {},
   "outputs": [],
   "source": [
    "import pandas as pd\n",
    "from IPython.display import Image, HTML\n",
    "\n",
    "def path_to_image_html(path):\n",
    "    \"\"\"\n",
    "    This function essentially convert the image url to \n",
    "    '<img src=\"'+ path + '\"/>' format. And one can put any\n",
    "    formatting adjustments to control the height, aspect ratio, size etc.\n",
    "    within as in the below example. \n",
    "    \"\"\"\n",
    "\n",
    "    return f\"<img src= '{path}' style=max-height:248px;/>\""
   ]
  },
  {
   "cell_type": "code",
   "execution_count": 41,
   "metadata": {},
   "outputs": [],
   "source": [
    "df = pd.DataFrame({'col1': [1,2], 'link': [link, link]})"
   ]
  },
  {
   "cell_type": "code",
   "execution_count": 42,
   "metadata": {},
   "outputs": [
    {
     "data": {
      "text/html": [
       "<table border=\"1\" class=\"dataframe\">\n",
       "  <thead>\n",
       "    <tr style=\"text-align: right;\">\n",
       "      <th></th>\n",
       "      <th>col1</th>\n",
       "      <th>link</th>\n",
       "    </tr>\n",
       "  </thead>\n",
       "  <tbody>\n",
       "    <tr>\n",
       "      <th>0</th>\n",
       "      <td>1</td>\n",
       "      <td><img src= 'https://www.vinatis.com/78516-detail_default/grand-ferrage-2022-cuvee-orsuro-mathilde-chapoutier-selection.png' style=max-height:248px;/></td>\n",
       "    </tr>\n",
       "    <tr>\n",
       "      <th>1</th>\n",
       "      <td>2</td>\n",
       "      <td><img src= 'https://www.vinatis.com/78516-detail_default/grand-ferrage-2022-cuvee-orsuro-mathilde-chapoutier-selection.png' style=max-height:248px;/></td>\n",
       "    </tr>\n",
       "  </tbody>\n",
       "</table>"
      ],
      "text/plain": [
       "<IPython.core.display.HTML object>"
      ]
     },
     "execution_count": 42,
     "metadata": {},
     "output_type": "execute_result"
    }
   ],
   "source": [
    "HTML(\n",
    "    df.to_html(\n",
    "        escape=False, formatters=dict(link=path_to_image_html)\n",
    "    )\n",
    ")"
   ]
  }
 ],
 "metadata": {
  "kernelspec": {
   "display_name": "Python 3",
   "language": "python",
   "name": "python3"
  },
  "language_info": {
   "codemirror_mode": {
    "name": "ipython",
    "version": 3
   },
   "file_extension": ".py",
   "mimetype": "text/x-python",
   "name": "python",
   "nbconvert_exporter": "python",
   "pygments_lexer": "ipython3",
   "version": "3.10.6"
  }
 },
 "nbformat": 4,
 "nbformat_minor": 2
}
