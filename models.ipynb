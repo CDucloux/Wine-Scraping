{
 "cells": [
  {
   "cell_type": "code",
   "execution_count": 1,
   "metadata": {},
   "outputs": [],
   "source": [
    "from src.modules.bear_cleaner import *\n",
    "from sklearn.model_selection import train_test_split, GridSearchCV, cross_val_score\n",
    "from sklearn.neighbors import KNeighborsRegressor\n",
    "from sklearn.ensemble import RandomForestRegressor, GradientBoostingRegressor\n",
    "from sklearn.neural_network import MLPRegressor\n",
    "from sklearn.linear_model import Ridge\n",
    "from sklearn.svm import SVR\n",
    "from sklearn.impute import SimpleImputer, KNNImputer, MissingIndicator\n",
    "from sklearn.pipeline import Pipeline, FeatureUnion\n",
    "from sklearn.preprocessing import MinMaxScaler, StandardScaler\n",
    "from scipy.optimize import minimize_scalar, minimize, basinhopping\n",
    "from sklearn.linear_model import LogisticRegression\n",
    "from sklearn.naive_bayes import GaussianNB, MultinomialNB\n",
    "\n",
    "from prettytable import PrettyTable\n",
    "import numpy as np"
   ]
  },
  {
   "cell_type": "code",
   "execution_count": 2,
   "metadata": {},
   "outputs": [
    {
     "data": {
      "text/html": [
       "<div><style>\n",
       ".dataframe > thead > tr > th,\n",
       ".dataframe > tbody > tr > td {\n",
       "  text-align: right;\n",
       "  white-space: pre-wrap;\n",
       "}\n",
       "</style>\n",
       "<small>shape: (5, 36)</small><table border=\"1\" class=\"dataframe\"><thead><tr><th>name</th><th>capacity</th><th>unit_price</th><th>offer_price</th><th>price_bundle</th><th>characteristics</th><th>keyword_1</th><th>keyword_2</th><th>keyword_3</th><th>picture</th><th>millesime</th><th>cepage</th><th>gouts</th><th>par_gouts</th><th>oeil</th><th>nez</th><th>bouche</th><th>temp_low</th><th>temp_high</th><th>service</th><th>accords_vins</th><th>accords_reco</th><th>avg_temp</th><th>conservation_date</th><th>bio</th><th>customer_fav</th><th>is_new</th><th>top_100</th><th>destock</th><th>sulphite_free</th><th>alcohol_volume</th><th>type</th><th>country</th><th>bubbles</th><th>wine_note</th><th>nb_reviews</th></tr><tr><td>str</td><td>f64</td><td>f64</td><td>f64</td><td>str</td><td>str</td><td>str</td><td>str</td><td>str</td><td>str</td><td>i64</td><td>str</td><td>str</td><td>str</td><td>str</td><td>str</td><td>str</td><td>f64</td><td>f64</td><td>str</td><td>str</td><td>str</td><td>f64</td><td>i64</td><td>i32</td><td>i32</td><td>i32</td><td>i32</td><td>i32</td><td>i32</td><td>f64</td><td>str</td><td>str</td><td>i32</td><td>f64</td><td>i64</td></tr></thead><tbody><tr><td>&quot;ABYMES 2021 - …</td><td>0.75</td><td>9.5</td><td>null</td><td>&quot;7,60 € par 2&quot;</td><td>&quot;Vin Blanc / Sa…</td><td>&quot;Intense&quot;</td><td>&quot;Minéral&quot;</td><td>&quot;Superbe&quot;</td><td>&quot;https://www.vi…</td><td>2021</td><td>&quot;Jacquère&quot;</td><td>&quot;Blanc Sec soup…</td><td>&quot;Fruité&quot;</td><td>&quot;Robe or blanc …</td><td>&quot;Des arômes de …</td><td>&quot;L&#x27;attaque est …</td><td>8.0</td><td>10.0</td><td>&quot;En bouteille&quot;</td><td>&quot;Apéritif, Entr…</td><td>&quot;Plateau de fru…</td><td>9.0</td><td>2023</td><td>0</td><td>0</td><td>0</td><td>0</td><td>0</td><td>0</td><td>11.5</td><td>&quot;Vin Blanc&quot;</td><td>&quot;France&quot;</td><td>0</td><td>15.9</td><td>10</td></tr><tr><td>&quot;PINOT NOIR 201…</td><td>0.75</td><td>94.9</td><td>null</td><td>null</td><td>&quot;Vin Rouge / Ch…</td><td>&quot;Elégance&quot;</td><td>&quot;Finesse&quot;</td><td>&quot;Harmonie&quot;</td><td>&quot;https://www.vi…</td><td>2019</td><td>&quot;Pinot noir&quot;</td><td>&quot;Rouge Charnu e…</td><td>&quot;Puissant&quot;</td><td>&quot;Robe rubis aux…</td><td>&quot;Nez complexe s…</td><td>&quot;Bouche fruitée…</td><td>8.0</td><td>10.0</td><td>&quot;En bouteille o…</td><td>&quot;Apéritif, Entr…</td><td>&quot;Gigot d&#x27;agneau…</td><td>9.0</td><td>2026</td><td>0</td><td>0</td><td>0</td><td>0</td><td>0</td><td>0</td><td>13.5</td><td>&quot;Vin Rouge&quot;</td><td>&quot;Chili&quot;</td><td>0</td><td>null</td><td>0</td></tr><tr><td>&quot;SAUMUR BLANC T…</td><td>0.75</td><td>11.7</td><td>null</td><td>&quot;9,90 € par 2&quot;</td><td>&quot;Vin Blanc / Lo…</td><td>&quot;Fraîcheur&quot;</td><td>&quot;100% Chenin&quot;</td><td>&quot;Équilibre&quot;</td><td>&quot;https://www.vi…</td><td>2022</td><td>&quot;Chenin&quot;</td><td>&quot;Blanc Sec soup…</td><td>&quot;Minéral&quot;</td><td>&quot;Couleur jaune …</td><td>&quot;Arômes de frui…</td><td>&quot;Frais et minér…</td><td>6.0</td><td>8.0</td><td>&quot;En bouteille&quot;</td><td>&quot;Apéritif, Entr…</td><td>&quot;Apéritifs, poi…</td><td>7.0</td><td>2027</td><td>0</td><td>1</td><td>0</td><td>0</td><td>0</td><td>0</td><td>13.0</td><td>&quot;Vin Blanc&quot;</td><td>&quot;France&quot;</td><td>0</td><td>17.2</td><td>10</td></tr><tr><td>&quot;CHÂTEAU BELLE …</td><td>0.75</td><td>16.95</td><td>null</td><td>&quot;14,40 € par 2&quot;</td><td>&quot;Vin Rouge / Bo…</td><td>&quot;Fraîcheur&quot;</td><td>&quot;Elégant&quot;</td><td>&quot;Savoureux&quot;</td><td>&quot;https://www.vi…</td><td>2016</td><td>&quot;Merlot&quot;</td><td>&quot;Rouge Puissant…</td><td>&quot;Puissant&quot;</td><td>&quot;Robe violette,…</td><td>&quot;Bleuets sauvag…</td><td>&quot;Fraîcheur, élé…</td><td>16.0</td><td>18.0</td><td>&quot;Ouvrir avant l…</td><td>&quot;Apéritif, Char…</td><td>null</td><td>17.0</td><td>2030</td><td>0</td><td>0</td><td>0</td><td>0</td><td>0</td><td>0</td><td>13.5</td><td>&quot;Vin Rouge&quot;</td><td>&quot;France&quot;</td><td>0</td><td>null</td><td>0</td></tr><tr><td>&quot;MORGON - LE CL…</td><td>0.75</td><td>25.5</td><td>null</td><td>null</td><td>&quot;Vin Rouge / Be…</td><td>&quot;Nature&quot;</td><td>&quot;Savoureux&quot;</td><td>&quot;Vigneron&quot;</td><td>&quot;https://www.vi…</td><td>2019</td><td>&quot;Gamay&quot;</td><td>&quot;Rouge Léger et…</td><td>&quot;Fruité&quot;</td><td>&quot;Rouge vif.&quot;</td><td>&quot;Des notes de c…</td><td>&quot;Profond, équil…</td><td>13.0</td><td>16.0</td><td>&quot;En bouteille&quot;</td><td>&quot;Apéritif, Char…</td><td>&quot;Poularde de Br…</td><td>14.5</td><td>2032</td><td>0</td><td>0</td><td>0</td><td>0</td><td>0</td><td>0</td><td>13.0</td><td>&quot;Vin Rouge&quot;</td><td>&quot;France&quot;</td><td>0</td><td>null</td><td>0</td></tr></tbody></table></div>"
      ],
      "text/plain": [
       "shape: (5, 36)\n",
       "┌────────────┬──────────┬────────────┬────────────┬───┬─────────┬─────────┬───────────┬────────────┐\n",
       "│ name       ┆ capacity ┆ unit_price ┆ offer_pric ┆ … ┆ country ┆ bubbles ┆ wine_note ┆ nb_reviews │\n",
       "│ ---        ┆ ---      ┆ ---        ┆ e          ┆   ┆ ---     ┆ ---     ┆ ---       ┆ ---        │\n",
       "│ str        ┆ f64      ┆ f64        ┆ ---        ┆   ┆ str     ┆ i32     ┆ f64       ┆ i64        │\n",
       "│            ┆          ┆            ┆ f64        ┆   ┆         ┆         ┆           ┆            │\n",
       "╞════════════╪══════════╪════════════╪════════════╪═══╪═════════╪═════════╪═══════════╪════════════╡\n",
       "│ ABYMES     ┆ 0.75     ┆ 9.5        ┆ null       ┆ … ┆ France  ┆ 0       ┆ 15.9      ┆ 10         │\n",
       "│ 2021 -     ┆          ┆            ┆            ┆   ┆         ┆         ┆           ┆            │\n",
       "│ REMY       ┆          ┆            ┆            ┆   ┆         ┆         ┆           ┆            │\n",
       "│ BERLIOZ    ┆          ┆            ┆            ┆   ┆         ┆         ┆           ┆            │\n",
       "│ PINOT NOIR ┆ 0.75     ┆ 94.9       ┆ null       ┆ … ┆ Chili   ┆ 0       ┆ null      ┆ 0          │\n",
       "│ 2019 LAS   ┆          ┆            ┆            ┆   ┆         ┆         ┆           ┆            │\n",
       "│ PIZARRAS - ┆          ┆            ┆            ┆   ┆         ┆         ┆           ┆            │\n",
       "│ E…         ┆          ┆            ┆            ┆   ┆         ┆         ┆           ┆            │\n",
       "│ SAUMUR     ┆ 0.75     ┆ 11.7       ┆ null       ┆ … ┆ France  ┆ 0       ┆ 17.2      ┆ 10         │\n",
       "│ BLANC      ┆          ┆            ┆            ┆   ┆         ┆         ┆           ┆            │\n",
       "│ TANDEM     ┆          ┆            ┆            ┆   ┆         ┆         ┆           ┆            │\n",
       "│ 2022 -     ┆          ┆            ┆            ┆   ┆         ┆         ┆           ┆            │\n",
       "│ DOMAI…     ┆          ┆            ┆            ┆   ┆         ┆         ┆           ┆            │\n",
       "│ CHÂTEAU    ┆ 0.75     ┆ 16.95      ┆ null       ┆ … ┆ France  ┆ 0       ┆ null      ┆ 0          │\n",
       "│ BELLE      ┆          ┆            ┆            ┆   ┆         ┆         ┆           ┆            │\n",
       "│ COLINE     ┆          ┆            ┆            ┆   ┆         ┆         ┆           ┆            │\n",
       "│ 2016       ┆          ┆            ┆            ┆   ┆         ┆         ┆           ┆            │\n",
       "│ MORGON -   ┆ 0.75     ┆ 25.5       ┆ null       ┆ … ┆ France  ┆ 0       ┆ null      ┆ 0          │\n",
       "│ LE CLOS DE ┆          ┆            ┆            ┆   ┆         ┆         ┆           ┆            │\n",
       "│ LYS 2019 - ┆          ┆            ┆            ┆   ┆         ┆         ┆           ┆            │\n",
       "│ D…         ┆          ┆            ┆            ┆   ┆         ┆         ┆           ┆            │\n",
       "└────────────┴──────────┴────────────┴────────────┴───┴─────────┴─────────┴───────────┴────────────┘"
      ]
     },
     "execution_count": 2,
     "metadata": {},
     "output_type": "execute_result"
    }
   ],
   "source": [
    "df = pl.read_json(\"./data/vins.json\")\n",
    "df = super_pipe(df)\n",
    "df = df.filter(pl.col(\"unit_price\").is_not_null())\n",
    "df.head()"
   ]
  },
  {
   "cell_type": "markdown",
   "metadata": {},
   "source": [
    "models = train_model(X_train, y_train)"
   ]
  },
  {
   "cell_type": "markdown",
   "metadata": {},
   "source": [
    "model_result(knn = models[\"model_knn\"], rf = models[\"model_rf\"],\n",
    "             boost = models[\"model_boost\"], ridge = models[\"model_ridge\"], \n",
    "             svm = models[\"model_svm\"], mlp = models[\"model_mlp\"])"
   ]
  },
  {
   "cell_type": "markdown",
   "metadata": {},
   "source": [
    "model_param(models[\"model_knn\"], \"entrainement__n_neighbors\")"
   ]
  },
  {
   "cell_type": "markdown",
   "metadata": {},
   "source": [
    "model_result(knn=model_knn(X_train,y_train))"
   ]
  },
  {
   "cell_type": "code",
   "execution_count": 3,
   "metadata": {},
   "outputs": [],
   "source": [
    "from sklearn.preprocessing import LabelEncoder\n",
    "from src.modules.models import *"
   ]
  },
  {
   "cell_type": "code",
   "execution_count": 5,
   "metadata": {},
   "outputs": [],
   "source": [
    "df = prep_str(df)"
   ]
  },
  {
   "cell_type": "code",
   "execution_count": 6,
   "metadata": {},
   "outputs": [],
   "source": [
    "X = df[[\"avg_temp\", \"conservation_date\", \"bio\", \"customer_fav\", \"top_100\", \"destock\", \"sulphite_free\",\"alcohol_volume\", \n",
    "        \"bubbles\", \"wine_note\", \"keyword_1\",\"keyword_2\",\"keyword_3\",\"cepage\",\"par_gouts\", \"service\",\"type\",\"country\"]]\n",
    "y = df[\"unit_price\"]\n",
    "X_train, X_test, y_train, y_test = train_test_split(X, y, test_size=0.2)"
   ]
  },
  {
   "cell_type": "code",
   "execution_count": 7,
   "metadata": {},
   "outputs": [
    {
     "data": {
      "text/html": [
       "<div>\n",
       "<style scoped>\n",
       "    .dataframe tbody tr th:only-of-type {\n",
       "        vertical-align: middle;\n",
       "    }\n",
       "\n",
       "    .dataframe tbody tr th {\n",
       "        vertical-align: top;\n",
       "    }\n",
       "\n",
       "    .dataframe thead th {\n",
       "        text-align: right;\n",
       "    }\n",
       "</style>\n",
       "<table border=\"1\" class=\"dataframe\">\n",
       "  <thead>\n",
       "    <tr style=\"text-align: right;\">\n",
       "      <th></th>\n",
       "      <th>avg_temp</th>\n",
       "      <th>conservation_date</th>\n",
       "      <th>bio</th>\n",
       "      <th>customer_fav</th>\n",
       "      <th>top_100</th>\n",
       "      <th>destock</th>\n",
       "      <th>sulphite_free</th>\n",
       "      <th>alcohol_volume</th>\n",
       "      <th>bubbles</th>\n",
       "      <th>wine_note</th>\n",
       "      <th>keyword_1</th>\n",
       "      <th>keyword_2</th>\n",
       "      <th>keyword_3</th>\n",
       "      <th>cepage</th>\n",
       "      <th>par_gouts</th>\n",
       "      <th>service</th>\n",
       "      <th>type</th>\n",
       "      <th>country</th>\n",
       "    </tr>\n",
       "  </thead>\n",
       "  <tbody>\n",
       "    <tr>\n",
       "      <th>2008</th>\n",
       "      <td>7.5</td>\n",
       "      <td>2024.0</td>\n",
       "      <td>0</td>\n",
       "      <td>1</td>\n",
       "      <td>0</td>\n",
       "      <td>0</td>\n",
       "      <td>0</td>\n",
       "      <td>12.0</td>\n",
       "      <td>0</td>\n",
       "      <td>15.8</td>\n",
       "      <td>33</td>\n",
       "      <td>573</td>\n",
       "      <td>473</td>\n",
       "      <td>132</td>\n",
       "      <td>4</td>\n",
       "      <td>0</td>\n",
       "      <td>2</td>\n",
       "      <td>14</td>\n",
       "    </tr>\n",
       "    <tr>\n",
       "      <th>2506</th>\n",
       "      <td>13.5</td>\n",
       "      <td>2030.0</td>\n",
       "      <td>0</td>\n",
       "      <td>0</td>\n",
       "      <td>0</td>\n",
       "      <td>0</td>\n",
       "      <td>0</td>\n",
       "      <td>13.0</td>\n",
       "      <td>0</td>\n",
       "      <td>NaN</td>\n",
       "      <td>204</td>\n",
       "      <td>453</td>\n",
       "      <td>549</td>\n",
       "      <td>36</td>\n",
       "      <td>4</td>\n",
       "      <td>1</td>\n",
       "      <td>0</td>\n",
       "      <td>14</td>\n",
       "    </tr>\n",
       "    <tr>\n",
       "      <th>707</th>\n",
       "      <td>16.5</td>\n",
       "      <td>2029.0</td>\n",
       "      <td>0</td>\n",
       "      <td>0</td>\n",
       "      <td>0</td>\n",
       "      <td>0</td>\n",
       "      <td>0</td>\n",
       "      <td>13.5</td>\n",
       "      <td>0</td>\n",
       "      <td>NaN</td>\n",
       "      <td>164</td>\n",
       "      <td>149</td>\n",
       "      <td>718</td>\n",
       "      <td>154</td>\n",
       "      <td>6</td>\n",
       "      <td>3</td>\n",
       "      <td>2</td>\n",
       "      <td>14</td>\n",
       "    </tr>\n",
       "    <tr>\n",
       "      <th>1045</th>\n",
       "      <td>17.0</td>\n",
       "      <td>2075.0</td>\n",
       "      <td>0</td>\n",
       "      <td>0</td>\n",
       "      <td>0</td>\n",
       "      <td>0</td>\n",
       "      <td>0</td>\n",
       "      <td>13.0</td>\n",
       "      <td>0</td>\n",
       "      <td>NaN</td>\n",
       "      <td>226</td>\n",
       "      <td>237</td>\n",
       "      <td>1426</td>\n",
       "      <td>27</td>\n",
       "      <td>6</td>\n",
       "      <td>4</td>\n",
       "      <td>2</td>\n",
       "      <td>14</td>\n",
       "    </tr>\n",
       "    <tr>\n",
       "      <th>2545</th>\n",
       "      <td>13.0</td>\n",
       "      <td>2031.0</td>\n",
       "      <td>0</td>\n",
       "      <td>0</td>\n",
       "      <td>0</td>\n",
       "      <td>0</td>\n",
       "      <td>0</td>\n",
       "      <td>13.5</td>\n",
       "      <td>0</td>\n",
       "      <td>NaN</td>\n",
       "      <td>146</td>\n",
       "      <td>609</td>\n",
       "      <td>325</td>\n",
       "      <td>36</td>\n",
       "      <td>6</td>\n",
       "      <td>2</td>\n",
       "      <td>0</td>\n",
       "      <td>14</td>\n",
       "    </tr>\n",
       "  </tbody>\n",
       "</table>\n",
       "</div>"
      ],
      "text/plain": [
       "      avg_temp  conservation_date  bio  customer_fav  top_100  destock  \\\n",
       "2008       7.5             2024.0    0             1        0        0   \n",
       "2506      13.5             2030.0    0             0        0        0   \n",
       "707       16.5             2029.0    0             0        0        0   \n",
       "1045      17.0             2075.0    0             0        0        0   \n",
       "2545      13.0             2031.0    0             0        0        0   \n",
       "\n",
       "      sulphite_free  alcohol_volume  bubbles  wine_note  keyword_1  keyword_2  \\\n",
       "2008              0            12.0        0       15.8         33        573   \n",
       "2506              0            13.0        0        NaN        204        453   \n",
       "707               0            13.5        0        NaN        164        149   \n",
       "1045              0            13.0        0        NaN        226        237   \n",
       "2545              0            13.5        0        NaN        146        609   \n",
       "\n",
       "      keyword_3  cepage  par_gouts  service  type  country  \n",
       "2008        473     132          4        0     2       14  \n",
       "2506        549      36          4        1     0       14  \n",
       "707         718     154          6        3     2       14  \n",
       "1045       1426      27          6        4     2       14  \n",
       "2545        325      36          6        2     0       14  "
      ]
     },
     "execution_count": 7,
     "metadata": {},
     "output_type": "execute_result"
    }
   ],
   "source": [
    "X_train.head()"
   ]
  },
  {
   "cell_type": "markdown",
   "metadata": {},
   "source": [
    "models = train_model(X_train, y_train)"
   ]
  },
  {
   "cell_type": "markdown",
   "metadata": {},
   "source": [
    "model_result(knn = models[\"model_knn\"], rf = models[\"model_rf\"],\n",
    "             boost = models[\"model_boost\"], ridge = models[\"model_ridge\"], \n",
    "             svm = models[\"model_svm\"], mlp = models[\"model_mlp\"])"
   ]
  },
  {
   "cell_type": "code",
   "execution_count": 8,
   "metadata": {},
   "outputs": [
    {
     "name": "stderr",
     "output_type": "stream",
     "text": [
      "c:\\Users\\guill\\AppData\\Local\\Programs\\Python\\Python311\\Lib\\site-packages\\sklearn\\model_selection\\_validation.py:425: FitFailedWarning: \n",
      "2400 fits failed out of a total of 10800.\n",
      "The score on these train-test partitions for these parameters will be set to nan.\n",
      "If these failures are not expected, you can try to debug them by setting error_score='raise'.\n",
      "\n",
      "Below are more details about the failures:\n",
      "--------------------------------------------------------------------------------\n",
      "1200 fits failed with the following error:\n",
      "Traceback (most recent call last):\n",
      "  File \"c:\\Users\\guill\\AppData\\Local\\Programs\\Python\\Python311\\Lib\\site-packages\\sklearn\\model_selection\\_validation.py\", line 729, in _fit_and_score\n",
      "    estimator.fit(X_train, y_train, **fit_params)\n",
      "  File \"c:\\Users\\guill\\AppData\\Local\\Programs\\Python\\Python311\\Lib\\site-packages\\sklearn\\base.py\", line 1152, in wrapper\n",
      "    return fit_method(estimator, *args, **kwargs)\n",
      "           ^^^^^^^^^^^^^^^^^^^^^^^^^^^^^^^^^^^^^^\n",
      "  File \"c:\\Users\\guill\\AppData\\Local\\Programs\\Python\\Python311\\Lib\\site-packages\\sklearn\\pipeline.py\", line 427, in fit\n",
      "    self._final_estimator.fit(Xt, y, **fit_params_last_step)\n",
      "  File \"c:\\Users\\guill\\AppData\\Local\\Programs\\Python\\Python311\\Lib\\site-packages\\sklearn\\base.py\", line 1145, in wrapper\n",
      "    estimator._validate_params()\n",
      "  File \"c:\\Users\\guill\\AppData\\Local\\Programs\\Python\\Python311\\Lib\\site-packages\\sklearn\\base.py\", line 638, in _validate_params\n",
      "    validate_parameter_constraints(\n",
      "  File \"c:\\Users\\guill\\AppData\\Local\\Programs\\Python\\Python311\\Lib\\site-packages\\sklearn\\utils\\_param_validation.py\", line 95, in validate_parameter_constraints\n",
      "    raise InvalidParameterError(\n",
      "sklearn.utils._param_validation.InvalidParameterError: The 'alpha' parameter of GradientBoostingRegressor must be a float in the range (0.0, 1.0). Got 0.0 instead.\n",
      "\n",
      "--------------------------------------------------------------------------------\n",
      "1200 fits failed with the following error:\n",
      "Traceback (most recent call last):\n",
      "  File \"c:\\Users\\guill\\AppData\\Local\\Programs\\Python\\Python311\\Lib\\site-packages\\sklearn\\model_selection\\_validation.py\", line 729, in _fit_and_score\n",
      "    estimator.fit(X_train, y_train, **fit_params)\n",
      "  File \"c:\\Users\\guill\\AppData\\Local\\Programs\\Python\\Python311\\Lib\\site-packages\\sklearn\\base.py\", line 1152, in wrapper\n",
      "    return fit_method(estimator, *args, **kwargs)\n",
      "           ^^^^^^^^^^^^^^^^^^^^^^^^^^^^^^^^^^^^^^\n",
      "  File \"c:\\Users\\guill\\AppData\\Local\\Programs\\Python\\Python311\\Lib\\site-packages\\sklearn\\pipeline.py\", line 427, in fit\n",
      "    self._final_estimator.fit(Xt, y, **fit_params_last_step)\n",
      "  File \"c:\\Users\\guill\\AppData\\Local\\Programs\\Python\\Python311\\Lib\\site-packages\\sklearn\\base.py\", line 1145, in wrapper\n",
      "    estimator._validate_params()\n",
      "  File \"c:\\Users\\guill\\AppData\\Local\\Programs\\Python\\Python311\\Lib\\site-packages\\sklearn\\base.py\", line 638, in _validate_params\n",
      "    validate_parameter_constraints(\n",
      "  File \"c:\\Users\\guill\\AppData\\Local\\Programs\\Python\\Python311\\Lib\\site-packages\\sklearn\\utils\\_param_validation.py\", line 95, in validate_parameter_constraints\n",
      "    raise InvalidParameterError(\n",
      "sklearn.utils._param_validation.InvalidParameterError: The 'alpha' parameter of GradientBoostingRegressor must be a float in the range (0.0, 1.0). Got 1.0 instead.\n",
      "\n",
      "  warnings.warn(some_fits_failed_message, FitFailedWarning)\n",
      "c:\\Users\\guill\\AppData\\Local\\Programs\\Python\\Python311\\Lib\\site-packages\\sklearn\\model_selection\\_search.py:979: UserWarning: One or more of the test scores are non-finite: [nan nan nan ... nan nan nan]\n",
      "  warnings.warn(\n"
     ]
    }
   ],
   "source": [
    "model = model_boost(X_train, y_train)"
   ]
  },
  {
   "cell_type": "code",
   "execution_count": 12,
   "metadata": {},
   "outputs": [
    {
     "name": "stdout",
     "output_type": "stream",
     "text": [
      "+--------+-------+------+\n",
      "| Modèle | Score |  SD  |\n",
      "+--------+-------+------+\n",
      "| boost  | 0.305 | 0.06 |\n",
      "+--------+-------+------+\n"
     ]
    }
   ],
   "source": [
    "model_result(boost=model)"
   ]
  },
  {
   "cell_type": "code",
   "execution_count": 14,
   "metadata": {},
   "outputs": [
    {
     "name": "stdout",
     "output_type": "stream",
     "text": [
      "+-----------------------------+---------------+\n",
      "|          Parameter          |     Value     |\n",
      "+-----------------------------+---------------+\n",
      "|     imputation__strategy    | most_frequent |\n",
      "| entrainement__learning_rate |      0.01     |\n",
      "|     entrainement__alpha     |      0.75     |\n",
      "|      entrainement__loss     |    quantile   |\n",
      "+-----------------------------+---------------+\n"
     ]
    }
   ],
   "source": [
    "model_param(model, \n",
    "            \"imputation__strategy\",\n",
    "            \"entrainement__learning_rate\",\n",
    "            \n",
    "            \"entrainement__alpha\",\n",
    "            \"entrainement__loss\")"
   ]
  }
 ],
 "metadata": {
  "kernelspec": {
   "display_name": "Python 3",
   "language": "python",
   "name": "python3"
  },
  "language_info": {
   "codemirror_mode": {
    "name": "ipython",
    "version": 3
   },
   "file_extension": ".py",
   "mimetype": "text/x-python",
   "name": "python",
   "nbconvert_exporter": "python",
   "pygments_lexer": "ipython3",
   "version": "3.11.1"
  }
 },
 "nbformat": 4,
 "nbformat_minor": 2
}
