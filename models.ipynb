{
 "cells": [
  {
   "cell_type": "code",
   "execution_count": 2,
   "metadata": {},
   "outputs": [],
   "source": [
    "from src.modules.bear_cleaner import *\n",
    "from src.modules.models import *\n",
    "from sklearn.model_selection import train_test_split"
   ]
  },
  {
   "cell_type": "markdown",
   "metadata": {},
   "source": [
    "# Importation des données"
   ]
  },
  {
   "cell_type": "code",
   "execution_count": 3,
   "metadata": {},
   "outputs": [],
   "source": [
    "df = data_model(\"./data/vins.json\")\n",
    "df = df[0:100]"
   ]
  },
  {
   "cell_type": "markdown",
   "metadata": {},
   "source": [
    "# Choix des variables expliqués et explicatives "
   ]
  },
  {
   "cell_type": "code",
   "execution_count": 4,
   "metadata": {},
   "outputs": [],
   "source": [
    "X = df[[\"capacity\", \"keyword_1\", \"keyword_2\", \"keyword_3\", \"millesime\", \"cepage\", \"par_gouts\", \"service\",\n",
    "        \"avg_temp\",\"conservation_date\", \"bio\", \"customer_fav\", \"is_new\", \"top_100\", \"destock\", \"sulphite_free\",\n",
    "        \"alcohol_volume\", \"type\",\"country\", \"bubbles\", \"wine_note\", \"nb_reviews\"]]\n",
    "y = df[\"unit_price\"]\n",
    "X_train, X_test, y_train, y_test = train_test_split(X, y, test_size=0.2)"
   ]
  },
  {
   "cell_type": "markdown",
   "metadata": {},
   "source": [
    "# Modèles"
   ]
  },
  {
   "cell_type": "code",
   "execution_count": 5,
   "metadata": {},
   "outputs": [
    {
     "name": "stderr",
     "output_type": "stream",
     "text": [
      "c:\\Users\\guill\\AppData\\Local\\Programs\\Python\\Python311\\Lib\\site-packages\\sklearn\\neural_network\\_multilayer_perceptron.py:691: ConvergenceWarning: Stochastic Optimizer: Maximum iterations (1000) reached and the optimization hasn't converged yet.\n",
      "  warnings.warn(\n"
     ]
    }
   ],
   "source": [
    "model = train_model(X_train, y_train)"
   ]
  },
  {
   "cell_type": "code",
   "execution_count": 6,
   "metadata": {},
   "outputs": [
    {
     "name": "stdout",
     "output_type": "stream",
     "text": [
      "+--------+--------+-------+\n",
      "| Modèle | Score  |   SD  |\n",
      "+--------+--------+-------+\n",
      "|  knn   | 0.004  | 0.285 |\n",
      "|  svm   | 0.116  | 0.104 |\n",
      "|  mlp   | -0.211 | 0.999 |\n",
      "|   rf   | -0.052 | 0.455 |\n",
      "| boost  | -0.038 | 0.287 |\n",
      "| ridge  | -0.506 | 1.118 |\n",
      "+--------+--------+-------+\n"
     ]
    }
   ],
   "source": [
    "model_result(knn=model[\"model_knn\"],svm=model[\"model_svm\"],mlp=model[\"model_mlp\"],\n",
    "             rf=model[\"model_rf\"],boost=model[\"model_boost\"],ridge=model[\"model_ridge\"])"
   ]
  },
  {
   "cell_type": "markdown",
   "metadata": {},
   "source": [
    "Il faut bien mettre \"entrainement__nom_du_parametre_optimisé\""
   ]
  },
  {
   "cell_type": "code",
   "execution_count": 7,
   "metadata": {},
   "outputs": [
    {
     "name": "stdout",
     "output_type": "stream",
     "text": [
      "+----------------------------------+----------+\n",
      "|            Parameter             |  Value   |\n",
      "+----------------------------------+----------+\n",
      "|       imputation__strategy       |  median  |\n",
      "| entrainement__hidden_layer_sizes | (60, 60) |\n",
      "|       entrainement__solver       |   adam   |\n",
      "+----------------------------------+----------+\n"
     ]
    }
   ],
   "source": [
    "model_param(model[\"model_mlp\"], \n",
    "            \"imputation__strategy\",\n",
    "            \"entrainement__hidden_layer_sizes\",\n",
    "            \"entrainement__solver\")"
   ]
  },
  {
   "cell_type": "markdown",
   "metadata": {},
   "source": [
    "Remember (ne noter que si on trouve mieux) : \n",
    "Meilleurs modèles :\n",
    "- MLP - 0.419 imputation__strategy  : median  | entrainement__hidden_layer_sizes | (60, 60) | entrainement__solver : adam \n",
    "- RF - 0.422 - imputation__strategy : mean | entrainement__n_estimators :  20  |  entrainement__max_depth :  9 "
   ]
  },
  {
   "cell_type": "markdown",
   "metadata": {},
   "source": [
    "# Création DF pour résultat"
   ]
  },
  {
   "cell_type": "code",
   "execution_count": 8,
   "metadata": {},
   "outputs": [],
   "source": [
    "def score(model):\n",
    "    indice_meilleur =model.cv_results_[\"rank_test_score\"].argmin()\n",
    "    return round(model.cv_results_[\"mean_test_score\"][indice_meilleur], 3)"
   ]
  },
  {
   "cell_type": "code",
   "execution_count": 9,
   "metadata": {},
   "outputs": [],
   "source": [
    "def ecart_type(model):\n",
    "    indice_meilleur =model.cv_results_[\"rank_test_score\"].argmin()\n",
    "    return round(model.cv_results_[\"std_test_score\"][indice_meilleur], 3)"
   ]
  },
  {
   "cell_type": "code",
   "execution_count": 10,
   "metadata": {},
   "outputs": [],
   "source": [
    "def parametre(model) :\n",
    "    indice_meilleur = model.cv_results_[\"rank_test_score\"].argmin()\n",
    "    return str(model.cv_results_[\"params\"][indice_meilleur])"
   ]
  },
  {
   "cell_type": "code",
   "execution_count": 11,
   "metadata": {},
   "outputs": [],
   "source": [
    "def stockage_result_csv(model):\n",
    "    ml = {\"Modèle\": [\"Random Forest\", \"K Neighbors\",\n",
    "                    \"Réseaux de neurones\", \"Boosting\",\n",
    "                    \"Ridge\", \"Support Vector\"],\n",
    "        \"Score\": [score(model[\"model_rf\"]), score(model[\"model_knn\"]),\n",
    "                    score(model[\"model_mlp\"]), score(model[\"model_boost\"]),\n",
    "                    score(model[\"model_ridge\"]), score(model[\"model_svm\"])],\n",
    "        \"Ecart-Type\" : [ecart_type(model[\"model_rf\"]), ecart_type(model[\"model_knn\"]),\n",
    "                    ecart_type(model[\"model_mlp\"]), ecart_type(model[\"model_boost\"]),\n",
    "                    ecart_type(model[\"model_ridge\"]), ecart_type(model[\"model_svm\"])],\n",
    "        \"Paramètres\" : [parametre(model[\"model_rf\"]), parametre(model[\"model_knn\"]),\n",
    "                    parametre(model[\"model_mlp\"]), parametre(model[\"model_boost\"]),\n",
    "                    parametre(model[\"model_ridge\"]), parametre(model[\"model_svm\"])]}\n",
    "    ml = pl.DataFrame(ml)\n",
    "    ml.write_csv(\"./data/result_ml.csv\", separator=\",\")\n",
    "    return print(\"C'est bon ça a marché\")"
   ]
  },
  {
   "cell_type": "code",
   "execution_count": 12,
   "metadata": {},
   "outputs": [
    {
     "name": "stdout",
     "output_type": "stream",
     "text": [
      "C'est bon ça a marché\n"
     ]
    }
   ],
   "source": [
    "stockage_result_csv(model)"
   ]
  },
  {
   "cell_type": "code",
   "execution_count": 13,
   "metadata": {},
   "outputs": [
    {
     "data": {
      "text/html": [
       "<div><style>\n",
       ".dataframe > thead > tr > th,\n",
       ".dataframe > tbody > tr > td {\n",
       "  text-align: right;\n",
       "  white-space: pre-wrap;\n",
       "}\n",
       "</style>\n",
       "<small>shape: (6, 4)</small><table border=\"1\" class=\"dataframe\"><thead><tr><th>Modèle</th><th>Score</th><th>Ecart-Type</th><th>Paramètres</th></tr><tr><td>str</td><td>f64</td><td>f64</td><td>str</td></tr></thead><tbody><tr><td>&quot;Random Forest&quot;</td><td>-0.052</td><td>0.455</td><td>&quot;{&#x27;entrainement…</td></tr><tr><td>&quot;K Neighbors&quot;</td><td>0.004</td><td>0.285</td><td>&quot;{&#x27;entrainement…</td></tr><tr><td>&quot;Réseaux de neu…</td><td>-0.211</td><td>0.999</td><td>&quot;{&#x27;entrainement…</td></tr><tr><td>&quot;Boosting&quot;</td><td>-0.038</td><td>0.287</td><td>&quot;{&#x27;entrainement…</td></tr><tr><td>&quot;Ridge&quot;</td><td>-0.506</td><td>1.118</td><td>&quot;{&#x27;entrainement…</td></tr><tr><td>&quot;Support Vector…</td><td>0.116</td><td>0.104</td><td>&quot;{&#x27;entrainement…</td></tr></tbody></table></div>"
      ],
      "text/plain": [
       "shape: (6, 4)\n",
       "┌─────────────────────┬────────┬────────────┬───────────────────────────────────┐\n",
       "│ Modèle              ┆ Score  ┆ Ecart-Type ┆ Paramètres                        │\n",
       "│ ---                 ┆ ---    ┆ ---        ┆ ---                               │\n",
       "│ str                 ┆ f64    ┆ f64        ┆ str                               │\n",
       "╞═════════════════════╪════════╪════════════╪═══════════════════════════════════╡\n",
       "│ Random Forest       ┆ -0.052 ┆ 0.455      ┆ {'entrainement__max_depth': 9, '… │\n",
       "│ K Neighbors         ┆ 0.004  ┆ 0.285      ┆ {'entrainement__n_neighbors': 5,… │\n",
       "│ Réseaux de neurones ┆ -0.211 ┆ 0.999      ┆ {'entrainement__hidden_layer_siz… │\n",
       "│ Boosting            ┆ -0.038 ┆ 0.287      ┆ {'entrainement__learning_rate': … │\n",
       "│ Ridge               ┆ -0.506 ┆ 1.118      ┆ {'entrainement__alpha': 16, 'imp… │\n",
       "│ Support Vector      ┆ 0.116  ┆ 0.104      ┆ {'entrainement__C': 64.0, 'entra… │\n",
       "└─────────────────────┴────────┴────────────┴───────────────────────────────────┘"
      ]
     },
     "execution_count": 13,
     "metadata": {},
     "output_type": "execute_result"
    }
   ],
   "source": [
    "pl.read_csv('./data/result_ml.csv')"
   ]
  },
  {
   "cell_type": "markdown",
   "metadata": {},
   "source": [
    "# AUTRES"
   ]
  },
  {
   "cell_type": "code",
   "execution_count": 104,
   "metadata": {},
   "outputs": [],
   "source": [
    "df = pl.read_json(\"./data/vins.json\")\n",
    "df = super_pipe(df)\n",
    "df = df.filter(pl.col(\"unit_price\").is_not_null())"
   ]
  },
  {
   "cell_type": "code",
   "execution_count": 84,
   "metadata": {},
   "outputs": [],
   "source": [
    "variables = [\"capacity\", \"unit_price\",\"millesime\", \"avg_temp\", \"conservation_date\",\n",
    "           \"bio\",\"customer_fav\", \"is_new\",\"top_100\",\"destock\",\"sulphite_free\", \"alcohol_volume\",\n",
    "           \"bubbles\"]"
   ]
  },
  {
   "cell_type": "code",
   "execution_count": 85,
   "metadata": {},
   "outputs": [],
   "source": [
    "df_2 = df[variables].drop_nulls()"
   ]
  },
  {
   "cell_type": "code",
   "execution_count": 103,
   "metadata": {},
   "outputs": [
    {
     "data": {
      "application/vnd.plotly.v1+json": {
       "config": {
        "plotlyServerURL": "https://plot.ly"
       },
       "data": [
        {
         "colorscale": [
          [
           0,
           "#00224e"
          ],
          [
           0.1111111111111111,
           "#123570"
          ],
          [
           0.2222222222222222,
           "#3b496c"
          ],
          [
           0.3333333333333333,
           "#575d6d"
          ],
          [
           0.4444444444444444,
           "#707173"
          ],
          [
           0.5555555555555556,
           "#8a8678"
          ],
          [
           0.6666666666666666,
           "#a59c74"
          ],
          [
           0.7777777777777778,
           "#c3b369"
          ],
          [
           0.8888888888888888,
           "#e1cc55"
          ],
          [
           1,
           "#fee838"
          ]
         ],
         "reversescale": false,
         "showscale": false,
         "type": "heatmap",
         "x": [
          "capacity",
          "unit_price",
          "millesime",
          "avg_temp",
          "conservation_date",
          "bio",
          "customer_fav",
          "is_new",
          "top_100",
          "destock",
          "sulphite_free",
          "alcohol_volume",
          "bubbles"
         ],
         "y": [
          "capacity",
          "unit_price",
          "millesime",
          "avg_temp",
          "conservation_date",
          "bio",
          "customer_fav",
          "is_new",
          "top_100",
          "destock",
          "sulphite_free",
          "alcohol_volume",
          "bubbles"
         ],
         "z": [
          [
           1,
           0.17680250593877486,
           0.007428606369854355,
           0.01469370246330658,
           -0.02490347931257852,
           -0.006652383988939777,
           -0.04371561509246008,
           -0.012096192331741966,
           0.0017217775632253631,
           0.01886498012728215,
           -0.01571005682116379,
           -0.007196998403840392,
           -0.013057746983675345
          ],
          [
           0.17680250593877483,
           0.9999999999999998,
           -0.37780826228238773,
           0.17554800512450994,
           0.5233066767090498,
           -0.02372560501406237,
           -0.08394417153181995,
           0.067068305747733,
           0.16777478744683422,
           -0.05899370573496293,
           -0.03509075151818827,
           0.15871762562613892,
           -0.029111302377670636
          ],
          [
           0.007428606369854355,
           -0.37780826228238773,
           1,
           -0.2903469253257088,
           -0.37623515150125497,
           0.1216554887885677,
           -0.002227552870573435,
           0.04815317302776006,
           -0.014343071202648817,
           0.02681953650678751,
           0.04821651493317575,
           -0.2555528491499303,
           0.025885780211813317
          ],
          [
           0.01469370246330658,
           0.17554800512450994,
           -0.2903469253257089,
           1,
           0.29567908664111,
           0.00036845219372367557,
           -0.05471410128298726,
           0.010822765801416934,
           0.05451849390170944,
           -0.010950803009598529,
           0.0036854610772044313,
           0.4764340325383862,
           -0.1413269275270619
          ],
          [
           -0.024903479312578525,
           0.5233066767090498,
           -0.376235151501255,
           0.29567908664111003,
           1,
           -0.034983967777706966,
           -0.08173085131730541,
           0.03425166010925965,
           0.11671154714603127,
           -0.07503624266558159,
           -0.052796831676256116,
           0.2359234679158566,
           -0.05688999875409291
          ],
          [
           -0.006652383988939778,
           -0.02372560501406237,
           0.12165548878856772,
           0.00036845219372367557,
           -0.034983967777706966,
           0.9999999999999999,
           -0.07565049875601837,
           -0.027751767898164234,
           0.02978394528373092,
           0.009148302579158853,
           0.046149695905322856,
           0.008865382145182147,
           -0.019213830033364725
          ],
          [
           -0.04371561509246008,
           -0.08394417153181995,
           -0.0022275528705734352,
           -0.05471410128298726,
           -0.08173085131730541,
           -0.07565049875601837,
           1,
           -0.06769473336925028,
           -0.0004925132424226107,
           -0.017681669095164932,
           -0.019324808937845977,
           -0.0117900182813956,
           0.053249371387586966
          ],
          [
           -0.012096192331741968,
           0.06706830574773298,
           0.04815317302776006,
           0.010822765801416936,
           0.034251660109259646,
           -0.02775176789816423,
           -0.06769473336925028,
           1,
           -0.022431653376940364,
           -0.0633769840557308,
           0.019683520984949597,
           -0.007973662988681296,
           -0.007684394065360271
          ],
          [
           0.001721777563225363,
           0.16777478744683422,
           -0.014343071202648817,
           0.05451849390170944,
           0.11671154714603128,
           0.029783945283730916,
           -0.0004925132424226107,
           -0.02243165337694036,
           0.9999999999999998,
           -0.014925183144981053,
           -0.006027892062478213,
           0.05215731446606374,
           -0.005010210357145901
          ],
          [
           0.01886498012728215,
           -0.058993705734962924,
           0.02681953650678751,
           -0.01095080300959853,
           -0.07503624266558159,
           0.009148302579158853,
           -0.017681669095164932,
           -0.0633769840557308,
           -0.014925183144981053,
           1,
           -0.0008421837773202035,
           -0.012260540278267692,
           0.005280238704517616
          ],
          [
           -0.01571005682116379,
           -0.03509075151818827,
           0.04821651493317575,
           0.0036854610772044313,
           -0.052796831676256116,
           0.046149695905322856,
           -0.019324808937845977,
           0.019683520984949597,
           -0.006027892062478212,
           -0.0008421837773202034,
           1,
           -0.013356559285609575,
           -0.005717050671135102
          ],
          [
           -0.007196998403840392,
           0.15871762562613895,
           -0.2555528491499303,
           0.4764340325383862,
           0.23592346791585664,
           0.008865382145182147,
           -0.0117900182813956,
           -0.007973662988681298,
           0.05215731446606374,
           -0.012260540278267692,
           -0.013356559285609573,
           0.9999999999999999,
           -0.16208801643002754
          ],
          [
           -0.013057746983675343,
           -0.029111302377670636,
           0.025885780211813317,
           -0.14132692752706189,
           -0.05688999875409291,
           -0.019213830033364725,
           0.053249371387586966,
           -0.00768439406536027,
           -0.0050102103571459,
           0.005280238704517616,
           -0.005717050671135102,
           -0.16208801643002754,
           1
          ]
         ]
        }
       ],
       "layout": {
        "annotations": [
         {
          "font": {
           "color": "#000000"
          },
          "showarrow": false,
          "text": "1.0",
          "x": "capacity",
          "xref": "x",
          "y": "capacity",
          "yref": "y"
         },
         {
          "font": {
           "color": "#FFFFFF"
          },
          "showarrow": false,
          "text": "0.18",
          "x": "unit_price",
          "xref": "x",
          "y": "capacity",
          "yref": "y"
         },
         {
          "font": {
           "color": "#FFFFFF"
          },
          "showarrow": false,
          "text": "0.01",
          "x": "millesime",
          "xref": "x",
          "y": "capacity",
          "yref": "y"
         },
         {
          "font": {
           "color": "#FFFFFF"
          },
          "showarrow": false,
          "text": "0.01",
          "x": "avg_temp",
          "xref": "x",
          "y": "capacity",
          "yref": "y"
         },
         {
          "font": {
           "color": "#FFFFFF"
          },
          "showarrow": false,
          "text": "-0.02",
          "x": "conservation_date",
          "xref": "x",
          "y": "capacity",
          "yref": "y"
         },
         {
          "font": {
           "color": "#FFFFFF"
          },
          "showarrow": false,
          "text": "-0.01",
          "x": "bio",
          "xref": "x",
          "y": "capacity",
          "yref": "y"
         },
         {
          "font": {
           "color": "#FFFFFF"
          },
          "showarrow": false,
          "text": "-0.04",
          "x": "customer_fav",
          "xref": "x",
          "y": "capacity",
          "yref": "y"
         },
         {
          "font": {
           "color": "#FFFFFF"
          },
          "showarrow": false,
          "text": "-0.01",
          "x": "is_new",
          "xref": "x",
          "y": "capacity",
          "yref": "y"
         },
         {
          "font": {
           "color": "#FFFFFF"
          },
          "showarrow": false,
          "text": "0.0",
          "x": "top_100",
          "xref": "x",
          "y": "capacity",
          "yref": "y"
         },
         {
          "font": {
           "color": "#FFFFFF"
          },
          "showarrow": false,
          "text": "0.02",
          "x": "destock",
          "xref": "x",
          "y": "capacity",
          "yref": "y"
         },
         {
          "font": {
           "color": "#FFFFFF"
          },
          "showarrow": false,
          "text": "-0.02",
          "x": "sulphite_free",
          "xref": "x",
          "y": "capacity",
          "yref": "y"
         },
         {
          "font": {
           "color": "#FFFFFF"
          },
          "showarrow": false,
          "text": "-0.01",
          "x": "alcohol_volume",
          "xref": "x",
          "y": "capacity",
          "yref": "y"
         },
         {
          "font": {
           "color": "#FFFFFF"
          },
          "showarrow": false,
          "text": "-0.01",
          "x": "bubbles",
          "xref": "x",
          "y": "capacity",
          "yref": "y"
         },
         {
          "font": {
           "color": "#FFFFFF"
          },
          "showarrow": false,
          "text": "0.18",
          "x": "capacity",
          "xref": "x",
          "y": "unit_price",
          "yref": "y"
         },
         {
          "font": {
           "color": "#000000"
          },
          "showarrow": false,
          "text": "1.0",
          "x": "unit_price",
          "xref": "x",
          "y": "unit_price",
          "yref": "y"
         },
         {
          "font": {
           "color": "#FFFFFF"
          },
          "showarrow": false,
          "text": "-0.38",
          "x": "millesime",
          "xref": "x",
          "y": "unit_price",
          "yref": "y"
         },
         {
          "font": {
           "color": "#FFFFFF"
          },
          "showarrow": false,
          "text": "0.18",
          "x": "avg_temp",
          "xref": "x",
          "y": "unit_price",
          "yref": "y"
         },
         {
          "font": {
           "color": "#000000"
          },
          "showarrow": false,
          "text": "0.52",
          "x": "conservation_date",
          "xref": "x",
          "y": "unit_price",
          "yref": "y"
         },
         {
          "font": {
           "color": "#FFFFFF"
          },
          "showarrow": false,
          "text": "-0.02",
          "x": "bio",
          "xref": "x",
          "y": "unit_price",
          "yref": "y"
         },
         {
          "font": {
           "color": "#FFFFFF"
          },
          "showarrow": false,
          "text": "-0.08",
          "x": "customer_fav",
          "xref": "x",
          "y": "unit_price",
          "yref": "y"
         },
         {
          "font": {
           "color": "#FFFFFF"
          },
          "showarrow": false,
          "text": "0.07",
          "x": "is_new",
          "xref": "x",
          "y": "unit_price",
          "yref": "y"
         },
         {
          "font": {
           "color": "#FFFFFF"
          },
          "showarrow": false,
          "text": "0.17",
          "x": "top_100",
          "xref": "x",
          "y": "unit_price",
          "yref": "y"
         },
         {
          "font": {
           "color": "#FFFFFF"
          },
          "showarrow": false,
          "text": "-0.06",
          "x": "destock",
          "xref": "x",
          "y": "unit_price",
          "yref": "y"
         },
         {
          "font": {
           "color": "#FFFFFF"
          },
          "showarrow": false,
          "text": "-0.04",
          "x": "sulphite_free",
          "xref": "x",
          "y": "unit_price",
          "yref": "y"
         },
         {
          "font": {
           "color": "#FFFFFF"
          },
          "showarrow": false,
          "text": "0.16",
          "x": "alcohol_volume",
          "xref": "x",
          "y": "unit_price",
          "yref": "y"
         },
         {
          "font": {
           "color": "#FFFFFF"
          },
          "showarrow": false,
          "text": "-0.03",
          "x": "bubbles",
          "xref": "x",
          "y": "unit_price",
          "yref": "y"
         },
         {
          "font": {
           "color": "#FFFFFF"
          },
          "showarrow": false,
          "text": "0.01",
          "x": "capacity",
          "xref": "x",
          "y": "millesime",
          "yref": "y"
         },
         {
          "font": {
           "color": "#FFFFFF"
          },
          "showarrow": false,
          "text": "-0.38",
          "x": "unit_price",
          "xref": "x",
          "y": "millesime",
          "yref": "y"
         },
         {
          "font": {
           "color": "#000000"
          },
          "showarrow": false,
          "text": "1.0",
          "x": "millesime",
          "xref": "x",
          "y": "millesime",
          "yref": "y"
         },
         {
          "font": {
           "color": "#FFFFFF"
          },
          "showarrow": false,
          "text": "-0.29",
          "x": "avg_temp",
          "xref": "x",
          "y": "millesime",
          "yref": "y"
         },
         {
          "font": {
           "color": "#FFFFFF"
          },
          "showarrow": false,
          "text": "-0.38",
          "x": "conservation_date",
          "xref": "x",
          "y": "millesime",
          "yref": "y"
         },
         {
          "font": {
           "color": "#FFFFFF"
          },
          "showarrow": false,
          "text": "0.12",
          "x": "bio",
          "xref": "x",
          "y": "millesime",
          "yref": "y"
         },
         {
          "font": {
           "color": "#FFFFFF"
          },
          "showarrow": false,
          "text": "-0.0",
          "x": "customer_fav",
          "xref": "x",
          "y": "millesime",
          "yref": "y"
         },
         {
          "font": {
           "color": "#FFFFFF"
          },
          "showarrow": false,
          "text": "0.05",
          "x": "is_new",
          "xref": "x",
          "y": "millesime",
          "yref": "y"
         },
         {
          "font": {
           "color": "#FFFFFF"
          },
          "showarrow": false,
          "text": "-0.01",
          "x": "top_100",
          "xref": "x",
          "y": "millesime",
          "yref": "y"
         },
         {
          "font": {
           "color": "#FFFFFF"
          },
          "showarrow": false,
          "text": "0.03",
          "x": "destock",
          "xref": "x",
          "y": "millesime",
          "yref": "y"
         },
         {
          "font": {
           "color": "#FFFFFF"
          },
          "showarrow": false,
          "text": "0.05",
          "x": "sulphite_free",
          "xref": "x",
          "y": "millesime",
          "yref": "y"
         },
         {
          "font": {
           "color": "#FFFFFF"
          },
          "showarrow": false,
          "text": "-0.26",
          "x": "alcohol_volume",
          "xref": "x",
          "y": "millesime",
          "yref": "y"
         },
         {
          "font": {
           "color": "#FFFFFF"
          },
          "showarrow": false,
          "text": "0.03",
          "x": "bubbles",
          "xref": "x",
          "y": "millesime",
          "yref": "y"
         },
         {
          "font": {
           "color": "#FFFFFF"
          },
          "showarrow": false,
          "text": "0.01",
          "x": "capacity",
          "xref": "x",
          "y": "avg_temp",
          "yref": "y"
         },
         {
          "font": {
           "color": "#FFFFFF"
          },
          "showarrow": false,
          "text": "0.18",
          "x": "unit_price",
          "xref": "x",
          "y": "avg_temp",
          "yref": "y"
         },
         {
          "font": {
           "color": "#FFFFFF"
          },
          "showarrow": false,
          "text": "-0.29",
          "x": "millesime",
          "xref": "x",
          "y": "avg_temp",
          "yref": "y"
         },
         {
          "font": {
           "color": "#000000"
          },
          "showarrow": false,
          "text": "1.0",
          "x": "avg_temp",
          "xref": "x",
          "y": "avg_temp",
          "yref": "y"
         },
         {
          "font": {
           "color": "#FFFFFF"
          },
          "showarrow": false,
          "text": "0.3",
          "x": "conservation_date",
          "xref": "x",
          "y": "avg_temp",
          "yref": "y"
         },
         {
          "font": {
           "color": "#FFFFFF"
          },
          "showarrow": false,
          "text": "0.0",
          "x": "bio",
          "xref": "x",
          "y": "avg_temp",
          "yref": "y"
         },
         {
          "font": {
           "color": "#FFFFFF"
          },
          "showarrow": false,
          "text": "-0.05",
          "x": "customer_fav",
          "xref": "x",
          "y": "avg_temp",
          "yref": "y"
         },
         {
          "font": {
           "color": "#FFFFFF"
          },
          "showarrow": false,
          "text": "0.01",
          "x": "is_new",
          "xref": "x",
          "y": "avg_temp",
          "yref": "y"
         },
         {
          "font": {
           "color": "#FFFFFF"
          },
          "showarrow": false,
          "text": "0.05",
          "x": "top_100",
          "xref": "x",
          "y": "avg_temp",
          "yref": "y"
         },
         {
          "font": {
           "color": "#FFFFFF"
          },
          "showarrow": false,
          "text": "-0.01",
          "x": "destock",
          "xref": "x",
          "y": "avg_temp",
          "yref": "y"
         },
         {
          "font": {
           "color": "#FFFFFF"
          },
          "showarrow": false,
          "text": "0.0",
          "x": "sulphite_free",
          "xref": "x",
          "y": "avg_temp",
          "yref": "y"
         },
         {
          "font": {
           "color": "#000000"
          },
          "showarrow": false,
          "text": "0.48",
          "x": "alcohol_volume",
          "xref": "x",
          "y": "avg_temp",
          "yref": "y"
         },
         {
          "font": {
           "color": "#FFFFFF"
          },
          "showarrow": false,
          "text": "-0.14",
          "x": "bubbles",
          "xref": "x",
          "y": "avg_temp",
          "yref": "y"
         },
         {
          "font": {
           "color": "#FFFFFF"
          },
          "showarrow": false,
          "text": "-0.02",
          "x": "capacity",
          "xref": "x",
          "y": "conservation_date",
          "yref": "y"
         },
         {
          "font": {
           "color": "#000000"
          },
          "showarrow": false,
          "text": "0.52",
          "x": "unit_price",
          "xref": "x",
          "y": "conservation_date",
          "yref": "y"
         },
         {
          "font": {
           "color": "#FFFFFF"
          },
          "showarrow": false,
          "text": "-0.38",
          "x": "millesime",
          "xref": "x",
          "y": "conservation_date",
          "yref": "y"
         },
         {
          "font": {
           "color": "#FFFFFF"
          },
          "showarrow": false,
          "text": "0.3",
          "x": "avg_temp",
          "xref": "x",
          "y": "conservation_date",
          "yref": "y"
         },
         {
          "font": {
           "color": "#000000"
          },
          "showarrow": false,
          "text": "1.0",
          "x": "conservation_date",
          "xref": "x",
          "y": "conservation_date",
          "yref": "y"
         },
         {
          "font": {
           "color": "#FFFFFF"
          },
          "showarrow": false,
          "text": "-0.03",
          "x": "bio",
          "xref": "x",
          "y": "conservation_date",
          "yref": "y"
         },
         {
          "font": {
           "color": "#FFFFFF"
          },
          "showarrow": false,
          "text": "-0.08",
          "x": "customer_fav",
          "xref": "x",
          "y": "conservation_date",
          "yref": "y"
         },
         {
          "font": {
           "color": "#FFFFFF"
          },
          "showarrow": false,
          "text": "0.03",
          "x": "is_new",
          "xref": "x",
          "y": "conservation_date",
          "yref": "y"
         },
         {
          "font": {
           "color": "#FFFFFF"
          },
          "showarrow": false,
          "text": "0.12",
          "x": "top_100",
          "xref": "x",
          "y": "conservation_date",
          "yref": "y"
         },
         {
          "font": {
           "color": "#FFFFFF"
          },
          "showarrow": false,
          "text": "-0.08",
          "x": "destock",
          "xref": "x",
          "y": "conservation_date",
          "yref": "y"
         },
         {
          "font": {
           "color": "#FFFFFF"
          },
          "showarrow": false,
          "text": "-0.05",
          "x": "sulphite_free",
          "xref": "x",
          "y": "conservation_date",
          "yref": "y"
         },
         {
          "font": {
           "color": "#FFFFFF"
          },
          "showarrow": false,
          "text": "0.24",
          "x": "alcohol_volume",
          "xref": "x",
          "y": "conservation_date",
          "yref": "y"
         },
         {
          "font": {
           "color": "#FFFFFF"
          },
          "showarrow": false,
          "text": "-0.06",
          "x": "bubbles",
          "xref": "x",
          "y": "conservation_date",
          "yref": "y"
         },
         {
          "font": {
           "color": "#FFFFFF"
          },
          "showarrow": false,
          "text": "-0.01",
          "x": "capacity",
          "xref": "x",
          "y": "bio",
          "yref": "y"
         },
         {
          "font": {
           "color": "#FFFFFF"
          },
          "showarrow": false,
          "text": "-0.02",
          "x": "unit_price",
          "xref": "x",
          "y": "bio",
          "yref": "y"
         },
         {
          "font": {
           "color": "#FFFFFF"
          },
          "showarrow": false,
          "text": "0.12",
          "x": "millesime",
          "xref": "x",
          "y": "bio",
          "yref": "y"
         },
         {
          "font": {
           "color": "#FFFFFF"
          },
          "showarrow": false,
          "text": "0.0",
          "x": "avg_temp",
          "xref": "x",
          "y": "bio",
          "yref": "y"
         },
         {
          "font": {
           "color": "#FFFFFF"
          },
          "showarrow": false,
          "text": "-0.03",
          "x": "conservation_date",
          "xref": "x",
          "y": "bio",
          "yref": "y"
         },
         {
          "font": {
           "color": "#000000"
          },
          "showarrow": false,
          "text": "1.0",
          "x": "bio",
          "xref": "x",
          "y": "bio",
          "yref": "y"
         },
         {
          "font": {
           "color": "#FFFFFF"
          },
          "showarrow": false,
          "text": "-0.08",
          "x": "customer_fav",
          "xref": "x",
          "y": "bio",
          "yref": "y"
         },
         {
          "font": {
           "color": "#FFFFFF"
          },
          "showarrow": false,
          "text": "-0.03",
          "x": "is_new",
          "xref": "x",
          "y": "bio",
          "yref": "y"
         },
         {
          "font": {
           "color": "#FFFFFF"
          },
          "showarrow": false,
          "text": "0.03",
          "x": "top_100",
          "xref": "x",
          "y": "bio",
          "yref": "y"
         },
         {
          "font": {
           "color": "#FFFFFF"
          },
          "showarrow": false,
          "text": "0.01",
          "x": "destock",
          "xref": "x",
          "y": "bio",
          "yref": "y"
         },
         {
          "font": {
           "color": "#FFFFFF"
          },
          "showarrow": false,
          "text": "0.05",
          "x": "sulphite_free",
          "xref": "x",
          "y": "bio",
          "yref": "y"
         },
         {
          "font": {
           "color": "#FFFFFF"
          },
          "showarrow": false,
          "text": "0.01",
          "x": "alcohol_volume",
          "xref": "x",
          "y": "bio",
          "yref": "y"
         },
         {
          "font": {
           "color": "#FFFFFF"
          },
          "showarrow": false,
          "text": "-0.02",
          "x": "bubbles",
          "xref": "x",
          "y": "bio",
          "yref": "y"
         },
         {
          "font": {
           "color": "#FFFFFF"
          },
          "showarrow": false,
          "text": "-0.04",
          "x": "capacity",
          "xref": "x",
          "y": "customer_fav",
          "yref": "y"
         },
         {
          "font": {
           "color": "#FFFFFF"
          },
          "showarrow": false,
          "text": "-0.08",
          "x": "unit_price",
          "xref": "x",
          "y": "customer_fav",
          "yref": "y"
         },
         {
          "font": {
           "color": "#FFFFFF"
          },
          "showarrow": false,
          "text": "-0.0",
          "x": "millesime",
          "xref": "x",
          "y": "customer_fav",
          "yref": "y"
         },
         {
          "font": {
           "color": "#FFFFFF"
          },
          "showarrow": false,
          "text": "-0.05",
          "x": "avg_temp",
          "xref": "x",
          "y": "customer_fav",
          "yref": "y"
         },
         {
          "font": {
           "color": "#FFFFFF"
          },
          "showarrow": false,
          "text": "-0.08",
          "x": "conservation_date",
          "xref": "x",
          "y": "customer_fav",
          "yref": "y"
         },
         {
          "font": {
           "color": "#FFFFFF"
          },
          "showarrow": false,
          "text": "-0.08",
          "x": "bio",
          "xref": "x",
          "y": "customer_fav",
          "yref": "y"
         },
         {
          "font": {
           "color": "#000000"
          },
          "showarrow": false,
          "text": "1.0",
          "x": "customer_fav",
          "xref": "x",
          "y": "customer_fav",
          "yref": "y"
         },
         {
          "font": {
           "color": "#FFFFFF"
          },
          "showarrow": false,
          "text": "-0.07",
          "x": "is_new",
          "xref": "x",
          "y": "customer_fav",
          "yref": "y"
         },
         {
          "font": {
           "color": "#FFFFFF"
          },
          "showarrow": false,
          "text": "-0.0",
          "x": "top_100",
          "xref": "x",
          "y": "customer_fav",
          "yref": "y"
         },
         {
          "font": {
           "color": "#FFFFFF"
          },
          "showarrow": false,
          "text": "-0.02",
          "x": "destock",
          "xref": "x",
          "y": "customer_fav",
          "yref": "y"
         },
         {
          "font": {
           "color": "#FFFFFF"
          },
          "showarrow": false,
          "text": "-0.02",
          "x": "sulphite_free",
          "xref": "x",
          "y": "customer_fav",
          "yref": "y"
         },
         {
          "font": {
           "color": "#FFFFFF"
          },
          "showarrow": false,
          "text": "-0.01",
          "x": "alcohol_volume",
          "xref": "x",
          "y": "customer_fav",
          "yref": "y"
         },
         {
          "font": {
           "color": "#FFFFFF"
          },
          "showarrow": false,
          "text": "0.05",
          "x": "bubbles",
          "xref": "x",
          "y": "customer_fav",
          "yref": "y"
         },
         {
          "font": {
           "color": "#FFFFFF"
          },
          "showarrow": false,
          "text": "-0.01",
          "x": "capacity",
          "xref": "x",
          "y": "is_new",
          "yref": "y"
         },
         {
          "font": {
           "color": "#FFFFFF"
          },
          "showarrow": false,
          "text": "0.07",
          "x": "unit_price",
          "xref": "x",
          "y": "is_new",
          "yref": "y"
         },
         {
          "font": {
           "color": "#FFFFFF"
          },
          "showarrow": false,
          "text": "0.05",
          "x": "millesime",
          "xref": "x",
          "y": "is_new",
          "yref": "y"
         },
         {
          "font": {
           "color": "#FFFFFF"
          },
          "showarrow": false,
          "text": "0.01",
          "x": "avg_temp",
          "xref": "x",
          "y": "is_new",
          "yref": "y"
         },
         {
          "font": {
           "color": "#FFFFFF"
          },
          "showarrow": false,
          "text": "0.03",
          "x": "conservation_date",
          "xref": "x",
          "y": "is_new",
          "yref": "y"
         },
         {
          "font": {
           "color": "#FFFFFF"
          },
          "showarrow": false,
          "text": "-0.03",
          "x": "bio",
          "xref": "x",
          "y": "is_new",
          "yref": "y"
         },
         {
          "font": {
           "color": "#FFFFFF"
          },
          "showarrow": false,
          "text": "-0.07",
          "x": "customer_fav",
          "xref": "x",
          "y": "is_new",
          "yref": "y"
         },
         {
          "font": {
           "color": "#000000"
          },
          "showarrow": false,
          "text": "1.0",
          "x": "is_new",
          "xref": "x",
          "y": "is_new",
          "yref": "y"
         },
         {
          "font": {
           "color": "#FFFFFF"
          },
          "showarrow": false,
          "text": "-0.02",
          "x": "top_100",
          "xref": "x",
          "y": "is_new",
          "yref": "y"
         },
         {
          "font": {
           "color": "#FFFFFF"
          },
          "showarrow": false,
          "text": "-0.06",
          "x": "destock",
          "xref": "x",
          "y": "is_new",
          "yref": "y"
         },
         {
          "font": {
           "color": "#FFFFFF"
          },
          "showarrow": false,
          "text": "0.02",
          "x": "sulphite_free",
          "xref": "x",
          "y": "is_new",
          "yref": "y"
         },
         {
          "font": {
           "color": "#FFFFFF"
          },
          "showarrow": false,
          "text": "-0.01",
          "x": "alcohol_volume",
          "xref": "x",
          "y": "is_new",
          "yref": "y"
         },
         {
          "font": {
           "color": "#FFFFFF"
          },
          "showarrow": false,
          "text": "-0.01",
          "x": "bubbles",
          "xref": "x",
          "y": "is_new",
          "yref": "y"
         },
         {
          "font": {
           "color": "#FFFFFF"
          },
          "showarrow": false,
          "text": "0.0",
          "x": "capacity",
          "xref": "x",
          "y": "top_100",
          "yref": "y"
         },
         {
          "font": {
           "color": "#FFFFFF"
          },
          "showarrow": false,
          "text": "0.17",
          "x": "unit_price",
          "xref": "x",
          "y": "top_100",
          "yref": "y"
         },
         {
          "font": {
           "color": "#FFFFFF"
          },
          "showarrow": false,
          "text": "-0.01",
          "x": "millesime",
          "xref": "x",
          "y": "top_100",
          "yref": "y"
         },
         {
          "font": {
           "color": "#FFFFFF"
          },
          "showarrow": false,
          "text": "0.05",
          "x": "avg_temp",
          "xref": "x",
          "y": "top_100",
          "yref": "y"
         },
         {
          "font": {
           "color": "#FFFFFF"
          },
          "showarrow": false,
          "text": "0.12",
          "x": "conservation_date",
          "xref": "x",
          "y": "top_100",
          "yref": "y"
         },
         {
          "font": {
           "color": "#FFFFFF"
          },
          "showarrow": false,
          "text": "0.03",
          "x": "bio",
          "xref": "x",
          "y": "top_100",
          "yref": "y"
         },
         {
          "font": {
           "color": "#FFFFFF"
          },
          "showarrow": false,
          "text": "-0.0",
          "x": "customer_fav",
          "xref": "x",
          "y": "top_100",
          "yref": "y"
         },
         {
          "font": {
           "color": "#FFFFFF"
          },
          "showarrow": false,
          "text": "-0.02",
          "x": "is_new",
          "xref": "x",
          "y": "top_100",
          "yref": "y"
         },
         {
          "font": {
           "color": "#000000"
          },
          "showarrow": false,
          "text": "1.0",
          "x": "top_100",
          "xref": "x",
          "y": "top_100",
          "yref": "y"
         },
         {
          "font": {
           "color": "#FFFFFF"
          },
          "showarrow": false,
          "text": "-0.01",
          "x": "destock",
          "xref": "x",
          "y": "top_100",
          "yref": "y"
         },
         {
          "font": {
           "color": "#FFFFFF"
          },
          "showarrow": false,
          "text": "-0.01",
          "x": "sulphite_free",
          "xref": "x",
          "y": "top_100",
          "yref": "y"
         },
         {
          "font": {
           "color": "#FFFFFF"
          },
          "showarrow": false,
          "text": "0.05",
          "x": "alcohol_volume",
          "xref": "x",
          "y": "top_100",
          "yref": "y"
         },
         {
          "font": {
           "color": "#FFFFFF"
          },
          "showarrow": false,
          "text": "-0.01",
          "x": "bubbles",
          "xref": "x",
          "y": "top_100",
          "yref": "y"
         },
         {
          "font": {
           "color": "#FFFFFF"
          },
          "showarrow": false,
          "text": "0.02",
          "x": "capacity",
          "xref": "x",
          "y": "destock",
          "yref": "y"
         },
         {
          "font": {
           "color": "#FFFFFF"
          },
          "showarrow": false,
          "text": "-0.06",
          "x": "unit_price",
          "xref": "x",
          "y": "destock",
          "yref": "y"
         },
         {
          "font": {
           "color": "#FFFFFF"
          },
          "showarrow": false,
          "text": "0.03",
          "x": "millesime",
          "xref": "x",
          "y": "destock",
          "yref": "y"
         },
         {
          "font": {
           "color": "#FFFFFF"
          },
          "showarrow": false,
          "text": "-0.01",
          "x": "avg_temp",
          "xref": "x",
          "y": "destock",
          "yref": "y"
         },
         {
          "font": {
           "color": "#FFFFFF"
          },
          "showarrow": false,
          "text": "-0.08",
          "x": "conservation_date",
          "xref": "x",
          "y": "destock",
          "yref": "y"
         },
         {
          "font": {
           "color": "#FFFFFF"
          },
          "showarrow": false,
          "text": "0.01",
          "x": "bio",
          "xref": "x",
          "y": "destock",
          "yref": "y"
         },
         {
          "font": {
           "color": "#FFFFFF"
          },
          "showarrow": false,
          "text": "-0.02",
          "x": "customer_fav",
          "xref": "x",
          "y": "destock",
          "yref": "y"
         },
         {
          "font": {
           "color": "#FFFFFF"
          },
          "showarrow": false,
          "text": "-0.06",
          "x": "is_new",
          "xref": "x",
          "y": "destock",
          "yref": "y"
         },
         {
          "font": {
           "color": "#FFFFFF"
          },
          "showarrow": false,
          "text": "-0.01",
          "x": "top_100",
          "xref": "x",
          "y": "destock",
          "yref": "y"
         },
         {
          "font": {
           "color": "#000000"
          },
          "showarrow": false,
          "text": "1.0",
          "x": "destock",
          "xref": "x",
          "y": "destock",
          "yref": "y"
         },
         {
          "font": {
           "color": "#FFFFFF"
          },
          "showarrow": false,
          "text": "-0.0",
          "x": "sulphite_free",
          "xref": "x",
          "y": "destock",
          "yref": "y"
         },
         {
          "font": {
           "color": "#FFFFFF"
          },
          "showarrow": false,
          "text": "-0.01",
          "x": "alcohol_volume",
          "xref": "x",
          "y": "destock",
          "yref": "y"
         },
         {
          "font": {
           "color": "#FFFFFF"
          },
          "showarrow": false,
          "text": "0.01",
          "x": "bubbles",
          "xref": "x",
          "y": "destock",
          "yref": "y"
         },
         {
          "font": {
           "color": "#FFFFFF"
          },
          "showarrow": false,
          "text": "-0.02",
          "x": "capacity",
          "xref": "x",
          "y": "sulphite_free",
          "yref": "y"
         },
         {
          "font": {
           "color": "#FFFFFF"
          },
          "showarrow": false,
          "text": "-0.04",
          "x": "unit_price",
          "xref": "x",
          "y": "sulphite_free",
          "yref": "y"
         },
         {
          "font": {
           "color": "#FFFFFF"
          },
          "showarrow": false,
          "text": "0.05",
          "x": "millesime",
          "xref": "x",
          "y": "sulphite_free",
          "yref": "y"
         },
         {
          "font": {
           "color": "#FFFFFF"
          },
          "showarrow": false,
          "text": "0.0",
          "x": "avg_temp",
          "xref": "x",
          "y": "sulphite_free",
          "yref": "y"
         },
         {
          "font": {
           "color": "#FFFFFF"
          },
          "showarrow": false,
          "text": "-0.05",
          "x": "conservation_date",
          "xref": "x",
          "y": "sulphite_free",
          "yref": "y"
         },
         {
          "font": {
           "color": "#FFFFFF"
          },
          "showarrow": false,
          "text": "0.05",
          "x": "bio",
          "xref": "x",
          "y": "sulphite_free",
          "yref": "y"
         },
         {
          "font": {
           "color": "#FFFFFF"
          },
          "showarrow": false,
          "text": "-0.02",
          "x": "customer_fav",
          "xref": "x",
          "y": "sulphite_free",
          "yref": "y"
         },
         {
          "font": {
           "color": "#FFFFFF"
          },
          "showarrow": false,
          "text": "0.02",
          "x": "is_new",
          "xref": "x",
          "y": "sulphite_free",
          "yref": "y"
         },
         {
          "font": {
           "color": "#FFFFFF"
          },
          "showarrow": false,
          "text": "-0.01",
          "x": "top_100",
          "xref": "x",
          "y": "sulphite_free",
          "yref": "y"
         },
         {
          "font": {
           "color": "#FFFFFF"
          },
          "showarrow": false,
          "text": "-0.0",
          "x": "destock",
          "xref": "x",
          "y": "sulphite_free",
          "yref": "y"
         },
         {
          "font": {
           "color": "#000000"
          },
          "showarrow": false,
          "text": "1.0",
          "x": "sulphite_free",
          "xref": "x",
          "y": "sulphite_free",
          "yref": "y"
         },
         {
          "font": {
           "color": "#FFFFFF"
          },
          "showarrow": false,
          "text": "-0.01",
          "x": "alcohol_volume",
          "xref": "x",
          "y": "sulphite_free",
          "yref": "y"
         },
         {
          "font": {
           "color": "#FFFFFF"
          },
          "showarrow": false,
          "text": "-0.01",
          "x": "bubbles",
          "xref": "x",
          "y": "sulphite_free",
          "yref": "y"
         },
         {
          "font": {
           "color": "#FFFFFF"
          },
          "showarrow": false,
          "text": "-0.01",
          "x": "capacity",
          "xref": "x",
          "y": "alcohol_volume",
          "yref": "y"
         },
         {
          "font": {
           "color": "#FFFFFF"
          },
          "showarrow": false,
          "text": "0.16",
          "x": "unit_price",
          "xref": "x",
          "y": "alcohol_volume",
          "yref": "y"
         },
         {
          "font": {
           "color": "#FFFFFF"
          },
          "showarrow": false,
          "text": "-0.26",
          "x": "millesime",
          "xref": "x",
          "y": "alcohol_volume",
          "yref": "y"
         },
         {
          "font": {
           "color": "#000000"
          },
          "showarrow": false,
          "text": "0.48",
          "x": "avg_temp",
          "xref": "x",
          "y": "alcohol_volume",
          "yref": "y"
         },
         {
          "font": {
           "color": "#FFFFFF"
          },
          "showarrow": false,
          "text": "0.24",
          "x": "conservation_date",
          "xref": "x",
          "y": "alcohol_volume",
          "yref": "y"
         },
         {
          "font": {
           "color": "#FFFFFF"
          },
          "showarrow": false,
          "text": "0.01",
          "x": "bio",
          "xref": "x",
          "y": "alcohol_volume",
          "yref": "y"
         },
         {
          "font": {
           "color": "#FFFFFF"
          },
          "showarrow": false,
          "text": "-0.01",
          "x": "customer_fav",
          "xref": "x",
          "y": "alcohol_volume",
          "yref": "y"
         },
         {
          "font": {
           "color": "#FFFFFF"
          },
          "showarrow": false,
          "text": "-0.01",
          "x": "is_new",
          "xref": "x",
          "y": "alcohol_volume",
          "yref": "y"
         },
         {
          "font": {
           "color": "#FFFFFF"
          },
          "showarrow": false,
          "text": "0.05",
          "x": "top_100",
          "xref": "x",
          "y": "alcohol_volume",
          "yref": "y"
         },
         {
          "font": {
           "color": "#FFFFFF"
          },
          "showarrow": false,
          "text": "-0.01",
          "x": "destock",
          "xref": "x",
          "y": "alcohol_volume",
          "yref": "y"
         },
         {
          "font": {
           "color": "#FFFFFF"
          },
          "showarrow": false,
          "text": "-0.01",
          "x": "sulphite_free",
          "xref": "x",
          "y": "alcohol_volume",
          "yref": "y"
         },
         {
          "font": {
           "color": "#000000"
          },
          "showarrow": false,
          "text": "1.0",
          "x": "alcohol_volume",
          "xref": "x",
          "y": "alcohol_volume",
          "yref": "y"
         },
         {
          "font": {
           "color": "#FFFFFF"
          },
          "showarrow": false,
          "text": "-0.16",
          "x": "bubbles",
          "xref": "x",
          "y": "alcohol_volume",
          "yref": "y"
         },
         {
          "font": {
           "color": "#FFFFFF"
          },
          "showarrow": false,
          "text": "-0.01",
          "x": "capacity",
          "xref": "x",
          "y": "bubbles",
          "yref": "y"
         },
         {
          "font": {
           "color": "#FFFFFF"
          },
          "showarrow": false,
          "text": "-0.03",
          "x": "unit_price",
          "xref": "x",
          "y": "bubbles",
          "yref": "y"
         },
         {
          "font": {
           "color": "#FFFFFF"
          },
          "showarrow": false,
          "text": "0.03",
          "x": "millesime",
          "xref": "x",
          "y": "bubbles",
          "yref": "y"
         },
         {
          "font": {
           "color": "#FFFFFF"
          },
          "showarrow": false,
          "text": "-0.14",
          "x": "avg_temp",
          "xref": "x",
          "y": "bubbles",
          "yref": "y"
         },
         {
          "font": {
           "color": "#FFFFFF"
          },
          "showarrow": false,
          "text": "-0.06",
          "x": "conservation_date",
          "xref": "x",
          "y": "bubbles",
          "yref": "y"
         },
         {
          "font": {
           "color": "#FFFFFF"
          },
          "showarrow": false,
          "text": "-0.02",
          "x": "bio",
          "xref": "x",
          "y": "bubbles",
          "yref": "y"
         },
         {
          "font": {
           "color": "#FFFFFF"
          },
          "showarrow": false,
          "text": "0.05",
          "x": "customer_fav",
          "xref": "x",
          "y": "bubbles",
          "yref": "y"
         },
         {
          "font": {
           "color": "#FFFFFF"
          },
          "showarrow": false,
          "text": "-0.01",
          "x": "is_new",
          "xref": "x",
          "y": "bubbles",
          "yref": "y"
         },
         {
          "font": {
           "color": "#FFFFFF"
          },
          "showarrow": false,
          "text": "-0.01",
          "x": "top_100",
          "xref": "x",
          "y": "bubbles",
          "yref": "y"
         },
         {
          "font": {
           "color": "#FFFFFF"
          },
          "showarrow": false,
          "text": "0.01",
          "x": "destock",
          "xref": "x",
          "y": "bubbles",
          "yref": "y"
         },
         {
          "font": {
           "color": "#FFFFFF"
          },
          "showarrow": false,
          "text": "-0.01",
          "x": "sulphite_free",
          "xref": "x",
          "y": "bubbles",
          "yref": "y"
         },
         {
          "font": {
           "color": "#FFFFFF"
          },
          "showarrow": false,
          "text": "-0.16",
          "x": "alcohol_volume",
          "xref": "x",
          "y": "bubbles",
          "yref": "y"
         },
         {
          "font": {
           "color": "#000000"
          },
          "showarrow": false,
          "text": "1.0",
          "x": "bubbles",
          "xref": "x",
          "y": "bubbles",
          "yref": "y"
         }
        ],
        "template": {
         "data": {
          "bar": [
           {
            "error_x": {
             "color": "#2a3f5f"
            },
            "error_y": {
             "color": "#2a3f5f"
            },
            "marker": {
             "line": {
              "color": "#E5ECF6",
              "width": 0.5
             },
             "pattern": {
              "fillmode": "overlay",
              "size": 10,
              "solidity": 0.2
             }
            },
            "type": "bar"
           }
          ],
          "barpolar": [
           {
            "marker": {
             "line": {
              "color": "#E5ECF6",
              "width": 0.5
             },
             "pattern": {
              "fillmode": "overlay",
              "size": 10,
              "solidity": 0.2
             }
            },
            "type": "barpolar"
           }
          ],
          "carpet": [
           {
            "aaxis": {
             "endlinecolor": "#2a3f5f",
             "gridcolor": "white",
             "linecolor": "white",
             "minorgridcolor": "white",
             "startlinecolor": "#2a3f5f"
            },
            "baxis": {
             "endlinecolor": "#2a3f5f",
             "gridcolor": "white",
             "linecolor": "white",
             "minorgridcolor": "white",
             "startlinecolor": "#2a3f5f"
            },
            "type": "carpet"
           }
          ],
          "choropleth": [
           {
            "colorbar": {
             "outlinewidth": 0,
             "ticks": ""
            },
            "type": "choropleth"
           }
          ],
          "contour": [
           {
            "colorbar": {
             "outlinewidth": 0,
             "ticks": ""
            },
            "colorscale": [
             [
              0,
              "#0d0887"
             ],
             [
              0.1111111111111111,
              "#46039f"
             ],
             [
              0.2222222222222222,
              "#7201a8"
             ],
             [
              0.3333333333333333,
              "#9c179e"
             ],
             [
              0.4444444444444444,
              "#bd3786"
             ],
             [
              0.5555555555555556,
              "#d8576b"
             ],
             [
              0.6666666666666666,
              "#ed7953"
             ],
             [
              0.7777777777777778,
              "#fb9f3a"
             ],
             [
              0.8888888888888888,
              "#fdca26"
             ],
             [
              1,
              "#f0f921"
             ]
            ],
            "type": "contour"
           }
          ],
          "contourcarpet": [
           {
            "colorbar": {
             "outlinewidth": 0,
             "ticks": ""
            },
            "type": "contourcarpet"
           }
          ],
          "heatmap": [
           {
            "colorbar": {
             "outlinewidth": 0,
             "ticks": ""
            },
            "colorscale": [
             [
              0,
              "#0d0887"
             ],
             [
              0.1111111111111111,
              "#46039f"
             ],
             [
              0.2222222222222222,
              "#7201a8"
             ],
             [
              0.3333333333333333,
              "#9c179e"
             ],
             [
              0.4444444444444444,
              "#bd3786"
             ],
             [
              0.5555555555555556,
              "#d8576b"
             ],
             [
              0.6666666666666666,
              "#ed7953"
             ],
             [
              0.7777777777777778,
              "#fb9f3a"
             ],
             [
              0.8888888888888888,
              "#fdca26"
             ],
             [
              1,
              "#f0f921"
             ]
            ],
            "type": "heatmap"
           }
          ],
          "heatmapgl": [
           {
            "colorbar": {
             "outlinewidth": 0,
             "ticks": ""
            },
            "colorscale": [
             [
              0,
              "#0d0887"
             ],
             [
              0.1111111111111111,
              "#46039f"
             ],
             [
              0.2222222222222222,
              "#7201a8"
             ],
             [
              0.3333333333333333,
              "#9c179e"
             ],
             [
              0.4444444444444444,
              "#bd3786"
             ],
             [
              0.5555555555555556,
              "#d8576b"
             ],
             [
              0.6666666666666666,
              "#ed7953"
             ],
             [
              0.7777777777777778,
              "#fb9f3a"
             ],
             [
              0.8888888888888888,
              "#fdca26"
             ],
             [
              1,
              "#f0f921"
             ]
            ],
            "type": "heatmapgl"
           }
          ],
          "histogram": [
           {
            "marker": {
             "pattern": {
              "fillmode": "overlay",
              "size": 10,
              "solidity": 0.2
             }
            },
            "type": "histogram"
           }
          ],
          "histogram2d": [
           {
            "colorbar": {
             "outlinewidth": 0,
             "ticks": ""
            },
            "colorscale": [
             [
              0,
              "#0d0887"
             ],
             [
              0.1111111111111111,
              "#46039f"
             ],
             [
              0.2222222222222222,
              "#7201a8"
             ],
             [
              0.3333333333333333,
              "#9c179e"
             ],
             [
              0.4444444444444444,
              "#bd3786"
             ],
             [
              0.5555555555555556,
              "#d8576b"
             ],
             [
              0.6666666666666666,
              "#ed7953"
             ],
             [
              0.7777777777777778,
              "#fb9f3a"
             ],
             [
              0.8888888888888888,
              "#fdca26"
             ],
             [
              1,
              "#f0f921"
             ]
            ],
            "type": "histogram2d"
           }
          ],
          "histogram2dcontour": [
           {
            "colorbar": {
             "outlinewidth": 0,
             "ticks": ""
            },
            "colorscale": [
             [
              0,
              "#0d0887"
             ],
             [
              0.1111111111111111,
              "#46039f"
             ],
             [
              0.2222222222222222,
              "#7201a8"
             ],
             [
              0.3333333333333333,
              "#9c179e"
             ],
             [
              0.4444444444444444,
              "#bd3786"
             ],
             [
              0.5555555555555556,
              "#d8576b"
             ],
             [
              0.6666666666666666,
              "#ed7953"
             ],
             [
              0.7777777777777778,
              "#fb9f3a"
             ],
             [
              0.8888888888888888,
              "#fdca26"
             ],
             [
              1,
              "#f0f921"
             ]
            ],
            "type": "histogram2dcontour"
           }
          ],
          "mesh3d": [
           {
            "colorbar": {
             "outlinewidth": 0,
             "ticks": ""
            },
            "type": "mesh3d"
           }
          ],
          "parcoords": [
           {
            "line": {
             "colorbar": {
              "outlinewidth": 0,
              "ticks": ""
             }
            },
            "type": "parcoords"
           }
          ],
          "pie": [
           {
            "automargin": true,
            "type": "pie"
           }
          ],
          "scatter": [
           {
            "fillpattern": {
             "fillmode": "overlay",
             "size": 10,
             "solidity": 0.2
            },
            "type": "scatter"
           }
          ],
          "scatter3d": [
           {
            "line": {
             "colorbar": {
              "outlinewidth": 0,
              "ticks": ""
             }
            },
            "marker": {
             "colorbar": {
              "outlinewidth": 0,
              "ticks": ""
             }
            },
            "type": "scatter3d"
           }
          ],
          "scattercarpet": [
           {
            "marker": {
             "colorbar": {
              "outlinewidth": 0,
              "ticks": ""
             }
            },
            "type": "scattercarpet"
           }
          ],
          "scattergeo": [
           {
            "marker": {
             "colorbar": {
              "outlinewidth": 0,
              "ticks": ""
             }
            },
            "type": "scattergeo"
           }
          ],
          "scattergl": [
           {
            "marker": {
             "colorbar": {
              "outlinewidth": 0,
              "ticks": ""
             }
            },
            "type": "scattergl"
           }
          ],
          "scattermapbox": [
           {
            "marker": {
             "colorbar": {
              "outlinewidth": 0,
              "ticks": ""
             }
            },
            "type": "scattermapbox"
           }
          ],
          "scatterpolar": [
           {
            "marker": {
             "colorbar": {
              "outlinewidth": 0,
              "ticks": ""
             }
            },
            "type": "scatterpolar"
           }
          ],
          "scatterpolargl": [
           {
            "marker": {
             "colorbar": {
              "outlinewidth": 0,
              "ticks": ""
             }
            },
            "type": "scatterpolargl"
           }
          ],
          "scatterternary": [
           {
            "marker": {
             "colorbar": {
              "outlinewidth": 0,
              "ticks": ""
             }
            },
            "type": "scatterternary"
           }
          ],
          "surface": [
           {
            "colorbar": {
             "outlinewidth": 0,
             "ticks": ""
            },
            "colorscale": [
             [
              0,
              "#0d0887"
             ],
             [
              0.1111111111111111,
              "#46039f"
             ],
             [
              0.2222222222222222,
              "#7201a8"
             ],
             [
              0.3333333333333333,
              "#9c179e"
             ],
             [
              0.4444444444444444,
              "#bd3786"
             ],
             [
              0.5555555555555556,
              "#d8576b"
             ],
             [
              0.6666666666666666,
              "#ed7953"
             ],
             [
              0.7777777777777778,
              "#fb9f3a"
             ],
             [
              0.8888888888888888,
              "#fdca26"
             ],
             [
              1,
              "#f0f921"
             ]
            ],
            "type": "surface"
           }
          ],
          "table": [
           {
            "cells": {
             "fill": {
              "color": "#EBF0F8"
             },
             "line": {
              "color": "white"
             }
            },
            "header": {
             "fill": {
              "color": "#C8D4E3"
             },
             "line": {
              "color": "white"
             }
            },
            "type": "table"
           }
          ]
         },
         "layout": {
          "annotationdefaults": {
           "arrowcolor": "#2a3f5f",
           "arrowhead": 0,
           "arrowwidth": 1
          },
          "autotypenumbers": "strict",
          "coloraxis": {
           "colorbar": {
            "outlinewidth": 0,
            "ticks": ""
           }
          },
          "colorscale": {
           "diverging": [
            [
             0,
             "#8e0152"
            ],
            [
             0.1,
             "#c51b7d"
            ],
            [
             0.2,
             "#de77ae"
            ],
            [
             0.3,
             "#f1b6da"
            ],
            [
             0.4,
             "#fde0ef"
            ],
            [
             0.5,
             "#f7f7f7"
            ],
            [
             0.6,
             "#e6f5d0"
            ],
            [
             0.7,
             "#b8e186"
            ],
            [
             0.8,
             "#7fbc41"
            ],
            [
             0.9,
             "#4d9221"
            ],
            [
             1,
             "#276419"
            ]
           ],
           "sequential": [
            [
             0,
             "#0d0887"
            ],
            [
             0.1111111111111111,
             "#46039f"
            ],
            [
             0.2222222222222222,
             "#7201a8"
            ],
            [
             0.3333333333333333,
             "#9c179e"
            ],
            [
             0.4444444444444444,
             "#bd3786"
            ],
            [
             0.5555555555555556,
             "#d8576b"
            ],
            [
             0.6666666666666666,
             "#ed7953"
            ],
            [
             0.7777777777777778,
             "#fb9f3a"
            ],
            [
             0.8888888888888888,
             "#fdca26"
            ],
            [
             1,
             "#f0f921"
            ]
           ],
           "sequentialminus": [
            [
             0,
             "#0d0887"
            ],
            [
             0.1111111111111111,
             "#46039f"
            ],
            [
             0.2222222222222222,
             "#7201a8"
            ],
            [
             0.3333333333333333,
             "#9c179e"
            ],
            [
             0.4444444444444444,
             "#bd3786"
            ],
            [
             0.5555555555555556,
             "#d8576b"
            ],
            [
             0.6666666666666666,
             "#ed7953"
            ],
            [
             0.7777777777777778,
             "#fb9f3a"
            ],
            [
             0.8888888888888888,
             "#fdca26"
            ],
            [
             1,
             "#f0f921"
            ]
           ]
          },
          "colorway": [
           "#636efa",
           "#EF553B",
           "#00cc96",
           "#ab63fa",
           "#FFA15A",
           "#19d3f3",
           "#FF6692",
           "#B6E880",
           "#FF97FF",
           "#FECB52"
          ],
          "font": {
           "color": "#2a3f5f"
          },
          "geo": {
           "bgcolor": "white",
           "lakecolor": "white",
           "landcolor": "#E5ECF6",
           "showlakes": true,
           "showland": true,
           "subunitcolor": "white"
          },
          "hoverlabel": {
           "align": "left"
          },
          "hovermode": "closest",
          "mapbox": {
           "style": "light"
          },
          "paper_bgcolor": "white",
          "plot_bgcolor": "#E5ECF6",
          "polar": {
           "angularaxis": {
            "gridcolor": "white",
            "linecolor": "white",
            "ticks": ""
           },
           "bgcolor": "#E5ECF6",
           "radialaxis": {
            "gridcolor": "white",
            "linecolor": "white",
            "ticks": ""
           }
          },
          "scene": {
           "xaxis": {
            "backgroundcolor": "#E5ECF6",
            "gridcolor": "white",
            "gridwidth": 2,
            "linecolor": "white",
            "showbackground": true,
            "ticks": "",
            "zerolinecolor": "white"
           },
           "yaxis": {
            "backgroundcolor": "#E5ECF6",
            "gridcolor": "white",
            "gridwidth": 2,
            "linecolor": "white",
            "showbackground": true,
            "ticks": "",
            "zerolinecolor": "white"
           },
           "zaxis": {
            "backgroundcolor": "#E5ECF6",
            "gridcolor": "white",
            "gridwidth": 2,
            "linecolor": "white",
            "showbackground": true,
            "ticks": "",
            "zerolinecolor": "white"
           }
          },
          "shapedefaults": {
           "line": {
            "color": "#2a3f5f"
           }
          },
          "ternary": {
           "aaxis": {
            "gridcolor": "white",
            "linecolor": "white",
            "ticks": ""
           },
           "baxis": {
            "gridcolor": "white",
            "linecolor": "white",
            "ticks": ""
           },
           "bgcolor": "#E5ECF6",
           "caxis": {
            "gridcolor": "white",
            "linecolor": "white",
            "ticks": ""
           }
          },
          "title": {
           "x": 0.05
          },
          "xaxis": {
           "automargin": true,
           "gridcolor": "white",
           "linecolor": "white",
           "ticks": "",
           "title": {
            "standoff": 15
           },
           "zerolinecolor": "white",
           "zerolinewidth": 2
          },
          "yaxis": {
           "automargin": true,
           "gridcolor": "white",
           "linecolor": "white",
           "ticks": "",
           "title": {
            "standoff": 15
           },
           "zerolinecolor": "white",
           "zerolinewidth": 2
          }
         }
        },
        "title": {
         "text": "Matrice de corrélation"
        },
        "xaxis": {
         "dtick": 1,
         "gridcolor": "rgb(0, 0, 0)",
         "side": "top",
         "ticks": ""
        },
        "yaxis": {
         "dtick": 1,
         "ticks": "",
         "ticksuffix": "  "
        }
       }
      }
     },
     "metadata": {},
     "output_type": "display_data"
    }
   ],
   "source": [
    "import plotly.figure_factory as ff\n",
    "import numpy as np\n",
    "\n",
    "fig = ff.create_annotated_heatmap(z=np.array(df_2.corr()), x=variables, y=variables,\n",
    "                                  annotation_text = np.around(np.array(df_2.corr()), decimals=2),\n",
    "                                  colorscale='Cividis')\n",
    "fig.update_layout(title_text='Matrice de corrélation')\n",
    "\n",
    "# Affichage du graphique\n",
    "fig.show()"
   ]
  }
 ],
 "metadata": {
  "kernelspec": {
   "display_name": "Python 3",
   "language": "python",
   "name": "python3"
  },
  "language_info": {
   "codemirror_mode": {
    "name": "ipython",
    "version": 3
   },
   "file_extension": ".py",
   "mimetype": "text/x-python",
   "name": "python",
   "nbconvert_exporter": "python",
   "pygments_lexer": "ipython3",
   "version": "3.11.1"
  }
 },
 "nbformat": 4,
 "nbformat_minor": 2
}
