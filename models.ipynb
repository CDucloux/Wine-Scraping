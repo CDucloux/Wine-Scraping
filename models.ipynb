{
 "cells": [
  {
   "cell_type": "code",
   "execution_count": 127,
   "metadata": {},
   "outputs": [],
   "source": [
    "from src.modules.bear_cleaner import *\n",
    "from src.modules.models import *\n",
    "from sklearn.model_selection import train_test_split"
   ]
  },
  {
   "cell_type": "markdown",
   "metadata": {},
   "source": [
    "# Importation des données"
   ]
  },
  {
   "cell_type": "code",
   "execution_count": 128,
   "metadata": {},
   "outputs": [],
   "source": [
    "df = data_model(\"./data/vins.json\")\n",
    "df = df[0:100]"
   ]
  },
  {
   "cell_type": "markdown",
   "metadata": {},
   "source": [
    "# Choix des variables expliqués et explicatives "
   ]
  },
  {
   "cell_type": "code",
   "execution_count": 129,
   "metadata": {},
   "outputs": [],
   "source": [
    "X = df[[\"capacity\", \"keyword_1\", \"keyword_2\", \"keyword_3\", \"millesime\", \"cepage\", \"par_gouts\", \"service\",\n",
    "        \"avg_temp\",\"conservation_date\", \"bio\", \"customer_fav\", \"is_new\", \"top_100\", \"destock\", \"sulphite_free\",\n",
    "        \"alcohol_volume\", \"type\",\"country\", \"bubbles\", \"wine_note\", \"nb_reviews\"]]\n",
    "y = df[\"unit_price\"]\n",
    "X_train, X_test, y_train, y_test = train_test_split(X, y, test_size=0.2)"
   ]
  },
  {
   "cell_type": "markdown",
   "metadata": {},
   "source": [
    "# Modèles"
   ]
  },
  {
   "cell_type": "code",
   "execution_count": 130,
   "metadata": {},
   "outputs": [
    {
     "name": "stderr",
     "output_type": "stream",
     "text": [
      "c:\\Users\\guill\\AppData\\Local\\Programs\\Python\\Python311\\Lib\\site-packages\\sklearn\\neural_network\\_multilayer_perceptron.py:691: ConvergenceWarning:\n",
      "\n",
      "Stochastic Optimizer: Maximum iterations (1000) reached and the optimization hasn't converged yet.\n",
      "\n"
     ]
    }
   ],
   "source": [
    "model = train_model(X_train, y_train)"
   ]
  },
  {
   "cell_type": "code",
   "execution_count": 131,
   "metadata": {},
   "outputs": [
    {
     "name": "stdout",
     "output_type": "stream",
     "text": [
      "+--------+-------+-------+\n",
      "| Modèle | Score |   SD  |\n",
      "+--------+-------+-------+\n",
      "|  knn   | 0.178 | 0.203 |\n",
      "|  svm   | 0.273 | 0.165 |\n",
      "|  mlp   | 0.102 | 0.272 |\n",
      "|   rf   | 0.153 | 0.116 |\n",
      "| boost  |  0.1  | 0.223 |\n",
      "| ridge  | 0.105 | 0.144 |\n",
      "+--------+-------+-------+\n"
     ]
    }
   ],
   "source": [
    "model_result(knn=model[\"model_knn\"],svm=model[\"model_svm\"],mlp=model[\"model_mlp\"],\n",
    "             rf=model[\"model_rf\"],boost=model[\"model_boost\"],ridge=model[\"model_ridge\"])"
   ]
  },
  {
   "cell_type": "markdown",
   "metadata": {},
   "source": [
    "Il faut bien mettre \"entrainement__nom_du_parametre_optimisé\""
   ]
  },
  {
   "cell_type": "code",
   "execution_count": 132,
   "metadata": {},
   "outputs": [
    {
     "name": "stdout",
     "output_type": "stream",
     "text": [
      "+----------------------------------+--------+\n",
      "|            Parameter             | Value  |\n",
      "+----------------------------------+--------+\n",
      "|       imputation__strategy       |  mean  |\n",
      "| entrainement__hidden_layer_sizes | (100,) |\n",
      "|       entrainement__solver       |  adam  |\n",
      "+----------------------------------+--------+\n"
     ]
    }
   ],
   "source": [
    "model_param(model[\"model_mlp\"], \n",
    "            \"imputation__strategy\",\n",
    "            \"entrainement__hidden_layer_sizes\",\n",
    "            \"entrainement__solver\")"
   ]
  },
  {
   "cell_type": "markdown",
   "metadata": {},
   "source": [
    "Remember (ne noter que si on trouve mieux) : \n",
    "Meilleurs modèles :\n",
    "- MLP - 0.419 imputation__strategy  : median  | entrainement__hidden_layer_sizes | (60, 60) | entrainement__solver : adam \n",
    "- RF - 0.422 - imputation__strategy : mean | entrainement__n_estimators :  20  |  entrainement__max_depth :  9 "
   ]
  },
  {
   "cell_type": "markdown",
   "metadata": {},
   "source": [
    "# Création DF pour résultat"
   ]
  },
  {
   "cell_type": "code",
   "execution_count": 133,
   "metadata": {},
   "outputs": [],
   "source": [
    "def score(model):\n",
    "    indice_meilleur =model.cv_results_[\"rank_test_score\"].argmin()\n",
    "    return round(model.cv_results_[\"mean_test_score\"][indice_meilleur], 3)"
   ]
  },
  {
   "cell_type": "code",
   "execution_count": 134,
   "metadata": {},
   "outputs": [],
   "source": [
    "def ecart_type(model):\n",
    "    indice_meilleur =model.cv_results_[\"rank_test_score\"].argmin()\n",
    "    return round(model.cv_results_[\"std_test_score\"][indice_meilleur], 3)"
   ]
  },
  {
   "cell_type": "code",
   "execution_count": 135,
   "metadata": {},
   "outputs": [],
   "source": [
    "def parametre(model) :\n",
    "    indice_meilleur = model.cv_results_[\"rank_test_score\"].argmin()\n",
    "    return str(model.cv_results_[\"params\"][indice_meilleur])"
   ]
  },
  {
   "cell_type": "code",
   "execution_count": 136,
   "metadata": {},
   "outputs": [],
   "source": [
    "def stockage_result_csv(model):\n",
    "    ml = {\"Modèle\": [\"Random Forest\", \"K Neighbors\",\n",
    "                    \"Réseaux de neurones\", \"Boosting\",\n",
    "                    \"Ridge\", \"Support Vector\"],\n",
    "        \"Score\": [score(model[\"model_rf\"]), score(model[\"model_knn\"]),\n",
    "                    score(model[\"model_mlp\"]), score(model[\"model_boost\"]),\n",
    "                    score(model[\"model_ridge\"]), score(model[\"model_svm\"])],\n",
    "        \"Ecart-Type\" : [ecart_type(model[\"model_rf\"]), ecart_type(model[\"model_knn\"]),\n",
    "                    ecart_type(model[\"model_mlp\"]), ecart_type(model[\"model_boost\"]),\n",
    "                    ecart_type(model[\"model_ridge\"]), ecart_type(model[\"model_svm\"])],\n",
    "        \"Paramètres\" : [parametre(model[\"model_rf\"]), parametre(model[\"model_knn\"]),\n",
    "                    parametre(model[\"model_mlp\"]), parametre(model[\"model_boost\"]),\n",
    "                    parametre(model[\"model_ridge\"]), parametre(model[\"model_svm\"])]}\n",
    "    ml = pl.DataFrame(ml)\n",
    "    ml.write_csv(\"./data/result_ml.csv\", separator=\",\")\n",
    "    return print(\"C'est bon ça a marché\")"
   ]
  },
  {
   "cell_type": "code",
   "execution_count": 137,
   "metadata": {},
   "outputs": [
    {
     "name": "stdout",
     "output_type": "stream",
     "text": [
      "C'est bon ça a marché\n"
     ]
    }
   ],
   "source": [
    "stockage_result_csv(model)"
   ]
  },
  {
   "cell_type": "code",
   "execution_count": 138,
   "metadata": {},
   "outputs": [
    {
     "data": {
      "text/html": [
       "<div><style>\n",
       ".dataframe > thead > tr > th,\n",
       ".dataframe > tbody > tr > td {\n",
       "  text-align: right;\n",
       "  white-space: pre-wrap;\n",
       "}\n",
       "</style>\n",
       "<small>shape: (6, 4)</small><table border=\"1\" class=\"dataframe\"><thead><tr><th>Modèle</th><th>Score</th><th>Ecart-Type</th><th>Paramètres</th></tr><tr><td>str</td><td>f64</td><td>f64</td><td>str</td></tr></thead><tbody><tr><td>&quot;Random Forest&quot;</td><td>0.153</td><td>0.116</td><td>&quot;{&#x27;entrainement…</td></tr><tr><td>&quot;K Neighbors&quot;</td><td>0.178</td><td>0.203</td><td>&quot;{&#x27;entrainement…</td></tr><tr><td>&quot;Réseaux de neu…</td><td>0.102</td><td>0.272</td><td>&quot;{&#x27;entrainement…</td></tr><tr><td>&quot;Boosting&quot;</td><td>0.1</td><td>0.223</td><td>&quot;{&#x27;entrainement…</td></tr><tr><td>&quot;Ridge&quot;</td><td>0.105</td><td>0.144</td><td>&quot;{&#x27;entrainement…</td></tr><tr><td>&quot;Support Vector…</td><td>0.273</td><td>0.165</td><td>&quot;{&#x27;entrainement…</td></tr></tbody></table></div>"
      ],
      "text/plain": [
       "shape: (6, 4)\n",
       "┌─────────────────────┬───────┬────────────┬───────────────────────────────────┐\n",
       "│ Modèle              ┆ Score ┆ Ecart-Type ┆ Paramètres                        │\n",
       "│ ---                 ┆ ---   ┆ ---        ┆ ---                               │\n",
       "│ str                 ┆ f64   ┆ f64        ┆ str                               │\n",
       "╞═════════════════════╪═══════╪════════════╪═══════════════════════════════════╡\n",
       "│ Random Forest       ┆ 0.153 ┆ 0.116      ┆ {'entrainement__max_depth': 2, '… │\n",
       "│ K Neighbors         ┆ 0.178 ┆ 0.203      ┆ {'entrainement__n_neighbors': 4,… │\n",
       "│ Réseaux de neurones ┆ 0.102 ┆ 0.272      ┆ {'entrainement__hidden_layer_siz… │\n",
       "│ Boosting            ┆ 0.1   ┆ 0.223      ┆ {'entrainement__learning_rate': … │\n",
       "│ Ridge               ┆ 0.105 ┆ 0.144      ┆ {'entrainement__alpha': 8, 'impu… │\n",
       "│ Support Vector      ┆ 0.273 ┆ 0.165      ┆ {'entrainement__C': 172.27522465… │\n",
       "└─────────────────────┴───────┴────────────┴───────────────────────────────────┘"
      ]
     },
     "execution_count": 138,
     "metadata": {},
     "output_type": "execute_result"
    }
   ],
   "source": [
    "pl.read_csv('./data/result_ml.csv')"
   ]
  },
  {
   "cell_type": "markdown",
   "metadata": {},
   "source": [
    "# AUTRES"
   ]
  },
  {
   "cell_type": "code",
   "execution_count": 139,
   "metadata": {},
   "outputs": [],
   "source": [
    "df = pl.read_json(\"./data/vins.json\")\n",
    "df = super_pipe(df)\n",
    "df = df.filter(pl.col(\"unit_price\").is_not_null())"
   ]
  },
  {
   "cell_type": "code",
   "execution_count": 140,
   "metadata": {},
   "outputs": [],
   "source": [
    "variables = [\"capacity\", \"unit_price\",\"millesime\", \"avg_temp\", \"conservation_date\",\n",
    "           \"bio\",\"customer_fav\", \"is_new\",\"top_100\",\"destock\",\"sulphite_free\", \"alcohol_volume\",\n",
    "           \"bubbles\"]"
   ]
  },
  {
   "cell_type": "code",
   "execution_count": 141,
   "metadata": {},
   "outputs": [],
   "source": [
    "df_2 = df[variables].drop_nulls()"
   ]
  },
  {
   "cell_type": "markdown",
   "metadata": {},
   "source": [
    "# CLASSIFICATION"
   ]
  },
  {
   "cell_type": "markdown",
   "metadata": {},
   "source": [
    "Je dois transformer mes variables qualitative en quantitative avec LabelEncoder() pour attribuer à chaque modalité un nombre\n",
    "\n",
    "EDIT : => CHANGEMENT \n",
    "\n",
    "Je fais un MixMaxScaler() (=> ça entraine normalement une augmentation de mon score) mais ça modifie egalement pour mes variables qualitatives, je les passent en binaire pour eviter que le MixMaxScaler() les touches. "
   ]
  },
  {
   "cell_type": "code",
   "execution_count": 267,
   "metadata": {},
   "outputs": [],
   "source": [
    "from sklearn.neighbors import KNeighborsClassifier\n",
    "from sklearn.preprocessing import OneHotEncoder\n",
    "import pandas as pd\n",
    "import polars as pl"
   ]
  },
  {
   "cell_type": "code",
   "execution_count": 268,
   "metadata": {},
   "outputs": [],
   "source": [
    "df = pl.read_json(\"./data/vins.json\")\n",
    "df = super_pipe(df)\n",
    "df = df.filter(pl.col(\"type\").is_not_null())"
   ]
  },
  {
   "cell_type": "code",
   "execution_count": 269,
   "metadata": {},
   "outputs": [],
   "source": [
    "df = df.select(\"capacity\", \"unit_price\",\"millesime\", \"cepage\", \"par_gouts\",\n",
    "          \"service\", \"avg_temp\", \"conservation_date\", \"bio\", \"customer_fav\", \n",
    "          \"is_new\", \"top_100\", \"destock\", \"sulphite_free\", \"alcohol_volume\",\n",
    "          \"country\", \"bubbles\", \"wine_note\", \"nb_reviews\", \"conservation_time\",\n",
    "          \"type\")"
   ]
  },
  {
   "cell_type": "code",
   "execution_count": 270,
   "metadata": {},
   "outputs": [],
   "source": [
    "def prep_str(df):\n",
    "    \"\"\"Transforme les variables texte en colonne binaire grâce à OneHotEncoder()\n",
    "    \n",
    "    Etant donné qu'il y a 32 pays cela va entrainer 32 colonnes binaire.\"\"\"\n",
    "    df = df.to_pandas()\n",
    "    df_prep = df\n",
    "    encoder = OneHotEncoder()\n",
    "    categorical_cols = [\"cepage\", \"par_gouts\", \"service\", \"country\"]\n",
    "    \n",
    "    encoded = encoder.fit_transform(\n",
    "        df_prep[categorical_cols]\n",
    "        ).toarray()\n",
    "\n",
    "    df_encoded = pd.DataFrame(\n",
    "        encoded,\n",
    "        columns=encoder.get_feature_names_out(categorical_cols)\n",
    "        )\n",
    "\n",
    "    df_prep = pd.concat(\n",
    "        [df_prep.drop(columns=categorical_cols), df_encoded],axis=1)\n",
    "    \n",
    "    return df_prep\n"
   ]
  },
  {
   "cell_type": "code",
   "execution_count": 271,
   "metadata": {},
   "outputs": [],
   "source": [
    "df = prep_str(df)"
   ]
  },
  {
   "cell_type": "code",
   "execution_count": 272,
   "metadata": {},
   "outputs": [],
   "source": [
    "X = df.drop(columns=['type'])\n",
    "y = df[\"type\"]\n",
    "X_train, X_test, y_train, y_test = train_test_split(X, y, test_size=0.2)"
   ]
  },
  {
   "cell_type": "code",
   "execution_count": 273,
   "metadata": {},
   "outputs": [],
   "source": [
    "def model_knn(x_train, y_train):\n",
    "    \"\"\"\n",
    "    paramètres optimisés :\n",
    "    -n_neighbors\n",
    "    \"\"\"\n",
    "    model = Pipeline(\n",
    "        [\n",
    "            (\"imputation\", SimpleImputer()),\n",
    "            (\"echelle\", MinMaxScaler()),\n",
    "            (\"entrainement\", KNeighborsClassifier()),\n",
    "        ]\n",
    "    )\n",
    "    cv = GridSearchCV(\n",
    "        estimator=model,\n",
    "        param_grid={\n",
    "            \"imputation__strategy\": [\"mean\", \"median\", \"most_frequent\"],\n",
    "            \"entrainement__n_neighbors\": range(2, 15),\n",
    "        },\n",
    "        n_jobs=-1,\n",
    "    )\n",
    "    cv.fit(x_train, y_train)\n",
    "    return cv"
   ]
  },
  {
   "cell_type": "code",
   "execution_count": 274,
   "metadata": {},
   "outputs": [
    {
     "data": {
      "text/plain": [
       "0.959"
      ]
     },
     "execution_count": 274,
     "metadata": {},
     "output_type": "execute_result"
    }
   ],
   "source": [
    "score(model_knn(X_train, y_train))"
   ]
  },
  {
   "cell_type": "code",
   "execution_count": null,
   "metadata": {},
   "outputs": [],
   "source": []
  }
 ],
 "metadata": {
  "kernelspec": {
   "display_name": "Python 3",
   "language": "python",
   "name": "python3"
  },
  "language_info": {
   "codemirror_mode": {
    "name": "ipython",
    "version": 3
   },
   "file_extension": ".py",
   "mimetype": "text/x-python",
   "name": "python",
   "nbconvert_exporter": "python",
   "pygments_lexer": "ipython3",
   "version": "3.11.1"
  }
 },
 "nbformat": 4,
 "nbformat_minor": 2
}
