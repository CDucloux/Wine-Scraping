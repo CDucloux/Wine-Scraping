{
 "cells": [
  {
   "cell_type": "code",
   "execution_count": 1,
   "metadata": {},
   "outputs": [],
   "source": [
    "from src.modules.bear_cleaner import *\n",
    "from src.modules.models import *\n",
    "from sklearn.model_selection import train_test_split"
   ]
  },
  {
   "cell_type": "markdown",
   "metadata": {},
   "source": [
    "# Importation des données"
   ]
  },
  {
   "cell_type": "code",
   "execution_count": 2,
   "metadata": {},
   "outputs": [],
   "source": [
    "df = data_model(\"./data/vins.json\")"
   ]
  },
  {
   "cell_type": "markdown",
   "metadata": {},
   "source": [
    "# Choix des variables expliqués et explicatives "
   ]
  },
  {
   "cell_type": "code",
   "execution_count": 3,
   "metadata": {},
   "outputs": [],
   "source": [
    "X = df[[\"capacity\", \"keyword_1\", \"keyword_2\", \"keyword_3\", \"millesime\", \"cepage\", \"par_gouts\", \"service\",\n",
    "        \"avg_temp\",\"conservation_date\", \"bio\", \"customer_fav\", \"is_new\", \"top_100\", \"destock\", \"sulphite_free\",\n",
    "        \"alcohol_volume\", \"type\",\"country\", \"bubbles\", \"wine_note\", \"nb_reviews\"]]\n",
    "y = df[\"unit_price\"]\n",
    "X_train, X_test, y_train, y_test = train_test_split(X, y, test_size=0.2)"
   ]
  },
  {
   "cell_type": "markdown",
   "metadata": {},
   "source": [
    "# Modèles"
   ]
  },
  {
   "cell_type": "code",
   "execution_count": 4,
   "metadata": {},
   "outputs": [
    {
     "name": "stderr",
     "output_type": "stream",
     "text": [
      "c:\\Users\\guill\\AppData\\Local\\Programs\\Python\\Python311\\Lib\\site-packages\\sklearn\\neural_network\\_multilayer_perceptron.py:691: ConvergenceWarning: Stochastic Optimizer: Maximum iterations (200) reached and the optimization hasn't converged yet.\n",
      "  warnings.warn(\n"
     ]
    }
   ],
   "source": [
    "model = model_mlp(X_train, y_train)"
   ]
  },
  {
   "cell_type": "code",
   "execution_count": 5,
   "metadata": {},
   "outputs": [
    {
     "name": "stdout",
     "output_type": "stream",
     "text": [
      "+--------+-------+-------+\n",
      "| Modèle | Score |   SD  |\n",
      "+--------+-------+-------+\n",
      "| model  | 0.419 | 0.056 |\n",
      "+--------+-------+-------+\n"
     ]
    }
   ],
   "source": [
    "model_result(model=model)"
   ]
  },
  {
   "cell_type": "markdown",
   "metadata": {},
   "source": [
    "Il faut bien mettre \"entrainement__nom_du_parametre_optimisé\""
   ]
  },
  {
   "cell_type": "code",
   "execution_count": 6,
   "metadata": {},
   "outputs": [
    {
     "name": "stdout",
     "output_type": "stream",
     "text": [
      "+----------------------------------+----------+\n",
      "|            Parameter             |  Value   |\n",
      "+----------------------------------+----------+\n",
      "|       imputation__strategy       |  median  |\n",
      "| entrainement__hidden_layer_sizes | (60, 60) |\n",
      "|       entrainement__solver       |   adam   |\n",
      "+----------------------------------+----------+\n"
     ]
    }
   ],
   "source": [
    "model_param(model, \n",
    "            \"imputation__strategy\",\n",
    "            \"entrainement__hidden_layer_sizes\",\n",
    "            \"entrainement__solver\")"
   ]
  },
  {
   "cell_type": "markdown",
   "metadata": {},
   "source": [
    "Remember (ne noter que si on trouve mieux) : \n",
    "Meilleurs modèles :\n",
    "- MLP - 0.419 imputation__strategy  : median  | entrainement__hidden_layer_sizes | (60, 60) | entrainement__solver : adam \n",
    "- RF - 0.422 - imputation__strategy : mean | entrainement__n_estimators :  20  |  entrainement__max_depth :  9 "
   ]
  }
 ],
 "metadata": {
  "kernelspec": {
   "display_name": "Python 3",
   "language": "python",
   "name": "python3"
  },
  "language_info": {
   "codemirror_mode": {
    "name": "ipython",
    "version": 3
   },
   "file_extension": ".py",
   "mimetype": "text/x-python",
   "name": "python",
   "nbconvert_exporter": "python",
   "pygments_lexer": "ipython3",
   "version": "3.11.1"
  }
 },
 "nbformat": 4,
 "nbformat_minor": 2
}
