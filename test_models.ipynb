{
 "cells": [
  {
   "cell_type": "code",
   "execution_count": 3,
   "metadata": {},
   "outputs": [],
   "source": [
    "from src.modules.ml_models.prediction import _recup_param\n",
    "from src.modules.utils import *\n",
    "from src.modules.bear_cleaner import super_pipe"
   ]
  },
  {
   "cell_type": "code",
   "execution_count": 4,
   "metadata": {},
   "outputs": [],
   "source": [
    "from enum import Enum\n",
    "import polars as pl"
   ]
  },
  {
   "cell_type": "code",
   "execution_count": 6,
   "metadata": {},
   "outputs": [],
   "source": [
    "raw = pl.read_json(\"./data/vins.json\")"
   ]
  },
  {
   "cell_type": "code",
   "execution_count": 7,
   "metadata": {},
   "outputs": [
    {
     "data": {
      "text/html": [
       "<div><style>\n",
       ".dataframe > thead > tr > th,\n",
       ".dataframe > tbody > tr > td {\n",
       "  text-align: right;\n",
       "  white-space: pre-wrap;\n",
       "}\n",
       "</style>\n",
       "<small>shape: (4_006, 40)</small><table border=\"1\" class=\"dataframe\"><thead><tr><th>name</th><th>capacity</th><th>unit_price</th><th>offer_price</th><th>price_bundle</th><th>characteristics</th><th>keywords</th><th>picture</th><th>millesime</th><th>cepage</th><th>gouts</th><th>par_gouts</th><th>oeil</th><th>nez</th><th>bouche</th><th>temp_low</th><th>temp_high</th><th>service</th><th>accords_vins</th><th>accords_reco</th><th>avg_temp</th><th>conservation_date</th><th>keyword_1</th><th>keyword_2</th><th>keyword_3</th><th>bio</th><th>customer_fav</th><th>is_new</th><th>top_100</th><th>destock</th><th>sulphite_free</th><th>alcohol_volume</th><th>type</th><th>country</th><th>iso_code</th><th>bubbles</th><th>wine_note</th><th>nb_reviews</th><th>conservation_time</th><th>cru</th></tr><tr><td>str</td><td>f64</td><td>f64</td><td>f64</td><td>str</td><td>str</td><td>list[str]</td><td>str</td><td>i64</td><td>str</td><td>str</td><td>str</td><td>str</td><td>str</td><td>str</td><td>f64</td><td>f64</td><td>str</td><td>str</td><td>str</td><td>f64</td><td>i64</td><td>str</td><td>str</td><td>str</td><td>i32</td><td>i32</td><td>i32</td><td>i32</td><td>i32</td><td>i32</td><td>f64</td><td>str</td><td>str</td><td>str</td><td>i32</td><td>f64</td><td>i64</td><td>i64</td><td>i32</td></tr></thead><tbody><tr><td>&quot;ABYMES 2021 - …</td><td>0.75</td><td>9.5</td><td>null</td><td>&quot;7,60 € par 2&quot;</td><td>&quot;Vin Blanc / Sa…</td><td>[&quot;Intense&quot;, &quot;Minéral&quot;, &quot;Superbe&quot;]</td><td>&quot;https://www.vi…</td><td>2021</td><td>&quot;Jacquère&quot;</td><td>&quot;Blanc Sec soup…</td><td>&quot;Fruité&quot;</td><td>&quot;Robe or blanc …</td><td>&quot;Des arômes de …</td><td>&quot;L&#x27;attaque est …</td><td>8.0</td><td>10.0</td><td>&quot;En bouteille&quot;</td><td>&quot;Apéritif, Entr…</td><td>&quot;Plateau de fru…</td><td>9.0</td><td>2023</td><td>&quot;Intense&quot;</td><td>&quot;Minéral&quot;</td><td>&quot;Superbe&quot;</td><td>0</td><td>0</td><td>0</td><td>0</td><td>0</td><td>0</td><td>11.5</td><td>&quot;Vin Blanc&quot;</td><td>&quot;France&quot;</td><td>&quot;FRA&quot;</td><td>0</td><td>3.975</td><td>10</td><td>2</td><td>0</td></tr><tr><td>&quot;PINOT NOIR 201…</td><td>0.75</td><td>94.9</td><td>null</td><td>null</td><td>&quot;Vin Rouge / Ch…</td><td>[&quot;Elégance&quot;, &quot;Finesse&quot;, &quot;Harmonie&quot;]</td><td>&quot;https://www.vi…</td><td>2019</td><td>&quot;Pinot noir&quot;</td><td>&quot;Rouge Charnu e…</td><td>&quot;Puissant&quot;</td><td>&quot;Robe rubis aux…</td><td>&quot;Nez complexe s…</td><td>&quot;Bouche fruitée…</td><td>8.0</td><td>10.0</td><td>&quot;En bouteille o…</td><td>&quot;Apéritif, Entr…</td><td>&quot;Gigot d&#x27;agneau…</td><td>9.0</td><td>2026</td><td>&quot;Elégance&quot;</td><td>&quot;Finesse&quot;</td><td>&quot;Harmonie&quot;</td><td>0</td><td>0</td><td>0</td><td>0</td><td>0</td><td>0</td><td>13.5</td><td>&quot;Vin Rouge&quot;</td><td>&quot;Chili&quot;</td><td>&quot;CHL&quot;</td><td>0</td><td>null</td><td>0</td><td>7</td><td>0</td></tr><tr><td>&quot;SAUMUR BLANC T…</td><td>0.75</td><td>11.7</td><td>null</td><td>&quot;9,90 € par 2&quot;</td><td>&quot;Vin Blanc / Lo…</td><td>[&quot;Fraîcheur&quot;, &quot;100% Chenin&quot;, &quot;Équilibre&quot;]</td><td>&quot;https://www.vi…</td><td>2022</td><td>&quot;Chenin&quot;</td><td>&quot;Blanc Sec soup…</td><td>&quot;Minéral&quot;</td><td>&quot;Couleur jaune …</td><td>&quot;Arômes de frui…</td><td>&quot;Frais et minér…</td><td>6.0</td><td>8.0</td><td>&quot;En bouteille&quot;</td><td>&quot;Apéritif, Entr…</td><td>&quot;Apéritifs, poi…</td><td>7.0</td><td>2027</td><td>&quot;Fraîcheur&quot;</td><td>&quot;100% Chenin&quot;</td><td>&quot;Équilibre&quot;</td><td>0</td><td>1</td><td>0</td><td>0</td><td>0</td><td>0</td><td>13.0</td><td>&quot;Vin Blanc&quot;</td><td>&quot;France&quot;</td><td>&quot;FRA&quot;</td><td>0</td><td>4.3</td><td>10</td><td>5</td><td>0</td></tr><tr><td>&quot;CHÂTEAU BELLE …</td><td>0.75</td><td>16.95</td><td>null</td><td>&quot;14,40 € par 2&quot;</td><td>&quot;Vin Rouge / Bo…</td><td>[&quot;Fraîcheur&quot;, &quot;Elégant&quot;, &quot;Savoureux&quot;]</td><td>&quot;https://www.vi…</td><td>2016</td><td>&quot;Merlot&quot;</td><td>&quot;Rouge Puissant…</td><td>&quot;Puissant&quot;</td><td>&quot;Robe violette,…</td><td>&quot;Bleuets sauvag…</td><td>&quot;Fraîcheur, élé…</td><td>16.0</td><td>18.0</td><td>&quot;Ouvrir avant l…</td><td>&quot;Apéritif, Char…</td><td>null</td><td>17.0</td><td>2030</td><td>&quot;Fraîcheur&quot;</td><td>&quot;Elégant&quot;</td><td>&quot;Savoureux&quot;</td><td>0</td><td>0</td><td>0</td><td>0</td><td>0</td><td>0</td><td>13.5</td><td>&quot;Vin Rouge&quot;</td><td>&quot;France&quot;</td><td>&quot;FRA&quot;</td><td>0</td><td>null</td><td>0</td><td>14</td><td>0</td></tr><tr><td>&quot;MORGON - LE CL…</td><td>0.75</td><td>25.5</td><td>null</td><td>null</td><td>&quot;Vin Rouge / Be…</td><td>[&quot;Nature&quot;, &quot;Savoureux&quot;, &quot;Vigneron&quot;]</td><td>&quot;https://www.vi…</td><td>2019</td><td>&quot;Gamay&quot;</td><td>&quot;Rouge Léger et…</td><td>&quot;Fruité&quot;</td><td>&quot;Rouge vif.&quot;</td><td>&quot;Des notes de c…</td><td>&quot;Profond, équil…</td><td>13.0</td><td>16.0</td><td>&quot;En bouteille&quot;</td><td>&quot;Apéritif, Char…</td><td>&quot;Poularde de Br…</td><td>14.5</td><td>2032</td><td>&quot;Nature&quot;</td><td>&quot;Savoureux&quot;</td><td>&quot;Vigneron&quot;</td><td>0</td><td>0</td><td>0</td><td>0</td><td>0</td><td>0</td><td>13.0</td><td>&quot;Vin Rouge&quot;</td><td>&quot;France&quot;</td><td>&quot;FRA&quot;</td><td>0</td><td>null</td><td>0</td><td>13</td><td>0</td></tr><tr><td>&quot;GEWURZTRAMINER…</td><td>0.75</td><td>23.0</td><td>null</td><td>null</td><td>&quot;Vin Blanc / Al…</td><td>[&quot;Aromatique&quot;, &quot;Puissant&quot;, &quot;Remarquable&quot;]</td><td>&quot;https://www.vi…</td><td>2020</td><td>&quot;Gewurztraminer…</td><td>&quot;Blanc Demi-sec…</td><td>&quot;Puissant&quot;</td><td>&quot;Dense, couleur…</td><td>&quot;Arômes de frui…</td><td>&quot;Fraîcheur, moe…</td><td>10.0</td><td>10.0</td><td>&quot;En bouteille&quot;</td><td>&quot;Apéritif, entr…</td><td>&quot;Budha bowl, Pa…</td><td>10.0</td><td>2032</td><td>&quot;Aromatique&quot;</td><td>&quot;Puissant&quot;</td><td>&quot;Remarquable&quot;</td><td>1</td><td>0</td><td>0</td><td>0</td><td>0</td><td>0</td><td>12.0</td><td>&quot;Vin Blanc&quot;</td><td>&quot;France&quot;</td><td>&quot;FRA&quot;</td><td>0</td><td>null</td><td>0</td><td>12</td><td>1</td></tr><tr><td>&quot;POMMARD - LES …</td><td>0.75</td><td>41.5</td><td>null</td><td>null</td><td>&quot;Vin Rouge / Bo…</td><td>[&quot;Prix plaisir&quot;, &quot;Domaine montant&quot;]</td><td>&quot;https://www.vi…</td><td>2020</td><td>&quot;Pinot noir&quot;</td><td>&quot;Rouge Elégant …</td><td>&quot;Fruité&quot;</td><td>&quot;Robe rubis pro…</td><td>null</td><td>&quot;Gouleyant et o…</td><td>15.0</td><td>17.0</td><td>&quot;En bouteille&quot;</td><td>&quot;Viande rouge, …</td><td>&quot;Onglet de Bœuf…</td><td>16.0</td><td>2027</td><td>&quot;Prix plaisir&quot;</td><td>&quot;Domaine montan…</td><td>null</td><td>0</td><td>0</td><td>0</td><td>0</td><td>0</td><td>0</td><td>13.0</td><td>&quot;Vin Rouge&quot;</td><td>&quot;France&quot;</td><td>&quot;FRA&quot;</td><td>0</td><td>null</td><td>0</td><td>7</td><td>0</td></tr><tr><td>&quot;ROUSSANNE 2021…</td><td>0.75</td><td>21.8</td><td>null</td><td>null</td><td>&quot;Vin Blanc / Rh…</td><td>[&quot;Gastronomie&quot;, &quot;Exclusivité Vinatis&quot;, &quot;Vigneron Atypique&quot;]</td><td>&quot;https://www.vi…</td><td>2021</td><td>&quot;Roussanne&quot;</td><td>&quot;Blanc Sec très…</td><td>&quot;Fruité&quot;</td><td>&quot;Robe jaune or …</td><td>&quot;Nez de fleurs …</td><td>&quot;Bouche ample, …</td><td>16.0</td><td>18.0</td><td>&quot;Ouvrir avant l…</td><td>&quot;Apéritif, Entr…</td><td>&quot;Brillat savari…</td><td>17.0</td><td>2025</td><td>&quot;Gastronomie&quot;</td><td>&quot;Exclusivité Vi…</td><td>&quot;Vigneron Atypi…</td><td>0</td><td>0</td><td>0</td><td>0</td><td>0</td><td>0</td><td>13.5</td><td>&quot;Vin Blanc&quot;</td><td>&quot;France&quot;</td><td>&quot;FRA&quot;</td><td>0</td><td>null</td><td>0</td><td>4</td><td>0</td></tr><tr><td>&quot;TERRE DE GALET…</td><td>0.75</td><td>15.0</td><td>null</td><td>null</td><td>&quot;Vin Rouge / Rh…</td><td>[&quot;Fruité&quot;, &quot;Complexe&quot;, &quot;Gourmant&quot;]</td><td>&quot;https://www.vi…</td><td>2021</td><td>&quot;Mourvèdre&quot;</td><td>&quot;Rouge Complexe…</td><td>&quot;Fruité&quot;</td><td>&quot;Robe rouge fon…</td><td>&quot;Des arômes de …</td><td>&quot;Gourmand de fr…</td><td>16.0</td><td>18.0</td><td>&quot;Ouvrir avant l…</td><td>&quot;Charcuterie, V…</td><td>&quot;Plateau de cha…</td><td>17.0</td><td>2026</td><td>&quot;Fruité&quot;</td><td>&quot;Complexe&quot;</td><td>&quot;Gourmant&quot;</td><td>1</td><td>0</td><td>0</td><td>0</td><td>0</td><td>0</td><td>14.5</td><td>&quot;Vin Rouge&quot;</td><td>&quot;France&quot;</td><td>&quot;FRA&quot;</td><td>0</td><td>null</td><td>0</td><td>5</td><td>0</td></tr><tr><td>&quot;CHIANTI CLASSI…</td><td>0.75</td><td>46.9</td><td>null</td><td>null</td><td>&quot;Vin Rouge / It…</td><td>[&quot;Harmonieux&quot;, &quot;Caractère&quot;, &quot;Nuancé&quot;]</td><td>&quot;https://www.vi…</td><td>2020</td><td>&quot;Sangiovese&quot;</td><td>&quot;Rouge Elégant …</td><td>&quot;Fruité&quot;</td><td>&quot;Rouge rubis in…</td><td>&quot;Arômes de ceri…</td><td>&quot;La bouche prés…</td><td>16.0</td><td>18.0</td><td>&quot;Passer en cara…</td><td>&quot;Viande rouge, …</td><td>&quot;Viandes gmijot…</td><td>17.0</td><td>2047</td><td>&quot;Harmonieux&quot;</td><td>&quot;Caractère&quot;</td><td>&quot;Nuancé&quot;</td><td>0</td><td>0</td><td>0</td><td>0</td><td>0</td><td>0</td><td>14.0</td><td>&quot;Vin Rouge&quot;</td><td>&quot;Italie&quot;</td><td>&quot;ITA&quot;</td><td>0</td><td>null</td><td>0</td><td>27</td><td>0</td></tr><tr><td>&quot;ÁSTER CRIANZA …</td><td>0.75</td><td>20.9</td><td>null</td><td>&quot;17,50 € par 2&quot;</td><td>&quot;Vin Rouge / Es…</td><td>[&quot;Equilibre&quot;, &quot;Richesse&quot;, &quot;Caractère&quot;]</td><td>&quot;https://www.vi…</td><td>2020</td><td>&quot;Tinta roriz&quot;</td><td>&quot;Rouge Charnu e…</td><td>&quot;Fruité&quot;</td><td>&quot;Robe pourpre b…</td><td>&quot;Belle intensit…</td><td>&quot;Bouche équilib…</td><td>16.0</td><td>18.0</td><td>&quot;Passer en cara…</td><td>&quot;Charcuterie, V…</td><td>&quot;Tranche de Pat…</td><td>17.0</td><td>2032</td><td>&quot;Equilibre&quot;</td><td>&quot;Richesse&quot;</td><td>&quot;Caractère&quot;</td><td>0</td><td>0</td><td>1</td><td>0</td><td>0</td><td>0</td><td>14.5</td><td>&quot;Vin Rouge&quot;</td><td>&quot;Espagne&quot;</td><td>&quot;ESP&quot;</td><td>0</td><td>null</td><td>0</td><td>12</td><td>0</td></tr><tr><td>&quot;RIESLING AUSLE…</td><td>0.75</td><td>65.0</td><td>null</td><td>null</td><td>&quot;Vin Blanc / Al…</td><td>[&quot;100% Riesling&quot;, &quot;Cuvée Prestige&quot;, &quot;Vignes de 120 ans&quot;]</td><td>&quot;https://www.vi…</td><td>2020</td><td>&quot;Riesling&quot;</td><td>&quot;Blanc Sec très…</td><td>&quot;Fruité&quot;</td><td>&quot;Robe d&#x27;un clai…</td><td>&quot;Nez complexe a…</td><td>&quot;Concentré avec…</td><td>10.0</td><td>12.0</td><td>&quot;En bouteille o…</td><td>&quot;Apéritif, Entr…</td><td>&quot;Filet de Sole …</td><td>11.0</td><td>2035</td><td>&quot;100% Riesling&quot;</td><td>&quot;Cuvée Prestige…</td><td>&quot;Vignes de 120 …</td><td>0</td><td>0</td><td>0</td><td>0</td><td>0</td><td>0</td><td>12.0</td><td>&quot;Vin Blanc&quot;</td><td>&quot;Allemagne&quot;</td><td>&quot;DEU&quot;</td><td>0</td><td>null</td><td>0</td><td>15</td><td>0</td></tr><tr><td>&hellip;</td><td>&hellip;</td><td>&hellip;</td><td>&hellip;</td><td>&hellip;</td><td>&hellip;</td><td>&hellip;</td><td>&hellip;</td><td>&hellip;</td><td>&hellip;</td><td>&hellip;</td><td>&hellip;</td><td>&hellip;</td><td>&hellip;</td><td>&hellip;</td><td>&hellip;</td><td>&hellip;</td><td>&hellip;</td><td>&hellip;</td><td>&hellip;</td><td>&hellip;</td><td>&hellip;</td><td>&hellip;</td><td>&hellip;</td><td>&hellip;</td><td>&hellip;</td><td>&hellip;</td><td>&hellip;</td><td>&hellip;</td><td>&hellip;</td><td>&hellip;</td><td>&hellip;</td><td>&hellip;</td><td>&hellip;</td><td>&hellip;</td><td>&hellip;</td><td>&hellip;</td><td>&hellip;</td><td>&hellip;</td><td>&hellip;</td></tr><tr><td>&quot;FLEURIE - COUP…</td><td>0.75</td><td>23.9</td><td>null</td><td>null</td><td>&quot;Vin Rouge / Be…</td><td>[&quot;Fraîcheur&quot;, &quot;Caractère&quot;, &quot;Corps&quot;]</td><td>&quot;https://www.vi…</td><td>2021</td><td>&quot;Gamay&quot;</td><td>&quot;Rouge Léger et…</td><td>&quot;Fruité&quot;</td><td>&quot;Robe rouge vio…</td><td>&quot;Arômes délicat…</td><td>&quot;Bouche élégant…</td><td>17.0</td><td>18.0</td><td>&quot;En bouteille&quot;</td><td>&quot;Charcuterie, V…</td><td>null</td><td>17.5</td><td>2032</td><td>&quot;Fraîcheur&quot;</td><td>&quot;Caractère&quot;</td><td>&quot;Corps&quot;</td><td>1</td><td>0</td><td>0</td><td>0</td><td>0</td><td>0</td><td>12.0</td><td>&quot;Vin Rouge&quot;</td><td>&quot;France&quot;</td><td>&quot;FRA&quot;</td><td>0</td><td>null</td><td>0</td><td>11</td><td>0</td></tr><tr><td>&quot;BIB 3L - ENTRE…</td><td>3.0</td><td>28.8</td><td>21.9</td><td>null</td><td>&quot;Cubi Blanc / B…</td><td>[&quot;Fruité&quot;, &quot;Expressif&quot;, &quot;Belle longueur&quot;]</td><td>&quot;https://www.vi…</td><td>null</td><td>&quot;Sauvignon blan…</td><td>&quot;Blanc Sec très…</td><td>&quot;Minéral&quot;</td><td>&quot;Belle couleur …</td><td>&quot;Arômes intense…</td><td>&quot;Expressive, fr…</td><td>8.0</td><td>12.0</td><td>&quot;En bouteille&quot;</td><td>&quot;Apéritif, Pois…</td><td>null</td><td>10.0</td><td>2026</td><td>&quot;Fruité&quot;</td><td>&quot;Expressif&quot;</td><td>&quot;Belle longueur…</td><td>0</td><td>0</td><td>0</td><td>0</td><td>1</td><td>0</td><td>13.0</td><td>&quot;Vin Blanc&quot;</td><td>&quot;France&quot;</td><td>&quot;FRA&quot;</td><td>0</td><td>null</td><td>0</td><td>null</td><td>0</td></tr><tr><td>&quot;MINERVOIS BLAN…</td><td>0.75</td><td>7.9</td><td>null</td><td>&quot;5,90 € par 2&quot;</td><td>&quot;Vin Blanc / La…</td><td>[&quot;Aromatique&quot;, &quot;Onctueux&quot;, &quot;Rare&quot;]</td><td>&quot;https://www.vi…</td><td>2022</td><td>&quot;Grenache blanc…</td><td>&quot;Blanc Sec soup…</td><td>&quot;Fruité&quot;</td><td>&quot;Belle robe bri…</td><td>&quot;Arômes de pêch…</td><td>&quot;Bouche ronde e…</td><td>8.0</td><td>11.0</td><td>&quot;Non Renseigné&quot;</td><td>&quot;Apéritif, Entr…</td><td>&quot;Paëlla; Boudin…</td><td>9.5</td><td>2024</td><td>&quot;Aromatique&quot;</td><td>&quot;Onctueux&quot;</td><td>&quot;Rare&quot;</td><td>0</td><td>0</td><td>0</td><td>0</td><td>0</td><td>0</td><td>12.5</td><td>&quot;Vin Blanc&quot;</td><td>&quot;France&quot;</td><td>&quot;FRA&quot;</td><td>0</td><td>4.025</td><td>7</td><td>2</td><td>0</td></tr><tr><td>&quot;DAME HONNEUR 2…</td><td>0.75</td><td>55.0</td><td>null</td><td>null</td><td>&quot;Vin Rouge / Su…</td><td>[&quot;Complexe&quot;, &quot;Sublime&quot;, &quot;Sélection parcellaire&quot;]</td><td>&quot;https://www.vi…</td><td>2019</td><td>&quot;Malbec&quot;</td><td>&quot;Rouge Complexe…</td><td>&quot;Puissant&quot;</td><td>&quot;Robe pourpre p…</td><td>&quot;Arômes de frui…</td><td>&quot;Poivrée et reg…</td><td>16.0</td><td>18.0</td><td>&quot;Ouvrir avant l…</td><td>&quot;Foie gras, Via…</td><td>&quot;Avec un magret…</td><td>17.0</td><td>2025</td><td>&quot;Complexe&quot;</td><td>&quot;Sublime&quot;</td><td>&quot;Sélection parc…</td><td>0</td><td>0</td><td>0</td><td>0</td><td>0</td><td>0</td><td>14.5</td><td>&quot;Vin Rouge&quot;</td><td>&quot;France&quot;</td><td>&quot;FRA&quot;</td><td>0</td><td>null</td><td>0</td><td>6</td><td>0</td></tr><tr><td>&quot;CÔTES DU RHÔNE…</td><td>0.75</td><td>11.5</td><td>null</td><td>&quot;8,90 € par 2&quot;</td><td>&quot;Vin Rouge / Rh…</td><td>[&quot;Intense&quot;, &quot;Charmeur&quot;, &quot;Régal&quot;]</td><td>&quot;https://www.vi…</td><td>2018</td><td>&quot;Grenache&quot;</td><td>&quot;Rouge Puissant…</td><td>&quot;Fruité&quot;</td><td>&quot;Robe d&#x27;un roug…</td><td>&quot;Arômes de frui…</td><td>&quot;La bouche est …</td><td>16.0</td><td>17.0</td><td>&quot;En bouteille&quot;</td><td>&quot;Charcuterie, V…</td><td>&quot;Côtelettes d&#x27;a…</td><td>16.5</td><td>2026</td><td>&quot;Intense&quot;</td><td>&quot;Charmeur&quot;</td><td>&quot;Régal&quot;</td><td>1</td><td>0</td><td>0</td><td>0</td><td>0</td><td>0</td><td>13.5</td><td>&quot;Vin Rouge&quot;</td><td>&quot;France&quot;</td><td>&quot;FRA&quot;</td><td>0</td><td>3.925</td><td>9</td><td>8</td><td>0</td></tr><tr><td>&quot;CHATEAU CANTEM…</td><td>0.75</td><td>27.9</td><td>null</td><td>null</td><td>&quot;Vin Rouge / Bo…</td><td>[&quot;Gourmand&quot;, &quot;Elégant&quot;, &quot;Stylé&quot;]</td><td>&quot;https://www.vi…</td><td>2017</td><td>&quot;Cabernet-Sauvi…</td><td>&quot;Rouge Elégant …</td><td>&quot;Fruité&quot;</td><td>&quot;Belle robe som…</td><td>&quot;D&#x27;abord réserv…</td><td>&quot;Fruité, jeunes…</td><td>16.0</td><td>18.0</td><td>&quot;En bouteille&quot;</td><td>&quot;Charcuterie, V…</td><td>null</td><td>17.0</td><td>2036</td><td>&quot;Gourmand&quot;</td><td>&quot;Elégant&quot;</td><td>&quot;Stylé&quot;</td><td>0</td><td>0</td><td>0</td><td>0</td><td>0</td><td>0</td><td>13.0</td><td>&quot;Vin Rouge&quot;</td><td>&quot;France&quot;</td><td>&quot;FRA&quot;</td><td>0</td><td>null</td><td>0</td><td>19</td><td>1</td></tr><tr><td>&quot;CHÂTEAU MAZEYR…</td><td>0.75</td><td>34.0</td><td>null</td><td>null</td><td>&quot;Vin Rouge / Bo…</td><td>[&quot;Souplesse&quot;, &quot;Tension rafraîchissante&quot;, &quot;Expression du fruit&quot;]</td><td>&quot;https://www.vi…</td><td>2017</td><td>&quot;Merlot&quot;</td><td>&quot;Rouge Elégant …</td><td>null</td><td>&quot;Robe belle et …</td><td>&quot;Juteux, frais,…</td><td>&quot;Sur le fruit, …</td><td>16.0</td><td>18.0</td><td>&quot;Ouvrir avant l…</td><td>&quot;Charcuterie, V…</td><td>&quot;Palombe braisé…</td><td>17.0</td><td>2030</td><td>&quot;Souplesse&quot;</td><td>&quot;Tension rafraî…</td><td>&quot;Expression du …</td><td>1</td><td>0</td><td>0</td><td>0</td><td>0</td><td>0</td><td>13.0</td><td>&quot;Vin Rouge&quot;</td><td>&quot;France&quot;</td><td>&quot;FRA&quot;</td><td>0</td><td>null</td><td>0</td><td>13</td><td>0</td></tr><tr><td>&quot;MERCUREY BLANC…</td><td>0.75</td><td>30.0</td><td>null</td><td>null</td><td>&quot;Vin Blanc / Bo…</td><td>[&quot;Plaisir&quot;, &quot;Délicat&quot;, &quot;Tendresse&quot;]</td><td>&quot;https://www.vi…</td><td>2020</td><td>&quot;Chardonnay&quot;</td><td>&quot;Blanc Sec très…</td><td>&quot;Floral&quot;</td><td>&quot;Robe or pâle.&quot;</td><td>&quot;Un équilibre d…</td><td>&quot;Attaque franch…</td><td>13.0</td><td>14.0</td><td>&quot;En bouteille&quot;</td><td>&quot;Apéritif, Entr…</td><td>&quot;Tartare de Sau…</td><td>13.5</td><td>2029</td><td>&quot;Plaisir&quot;</td><td>&quot;Délicat&quot;</td><td>&quot;Tendresse&quot;</td><td>0</td><td>0</td><td>0</td><td>0</td><td>0</td><td>0</td><td>13.0</td><td>&quot;Vin Blanc&quot;</td><td>&quot;France&quot;</td><td>&quot;FRA&quot;</td><td>0</td><td>null</td><td>0</td><td>9</td><td>0</td></tr><tr><td>&quot;EL CHAVAL 2022…</td><td>0.75</td><td>7.5</td><td>null</td><td>&quot;5,99 € par 3&quot;</td><td>&quot;Vin Rouge / Es…</td><td>[&quot;Gouleyant&quot;, &quot;Prix Plaisir&quot;, &quot;Pour Changer&quot;]</td><td>&quot;https://www.vi…</td><td>2022</td><td>&quot;Bobal&quot;</td><td>&quot;Rouge Léger et…</td><td>&quot;Fruité&quot;</td><td>&quot;Robe rouge éca…</td><td>&quot;Arômes intense…</td><td>&quot;Une attaque tr…</td><td>15.0</td><td>17.0</td><td>&quot;En bouteille&quot;</td><td>&quot;Apéritif, Char…</td><td>&quot;Grillades au g…</td><td>16.0</td><td>2024</td><td>&quot;Gouleyant&quot;</td><td>&quot;Prix Plaisir&quot;</td><td>&quot;Pour Changer&quot;</td><td>1</td><td>0</td><td>0</td><td>0</td><td>0</td><td>0</td><td>13.0</td><td>&quot;Vin Rouge&quot;</td><td>&quot;Espagne&quot;</td><td>&quot;ESP&quot;</td><td>0</td><td>3.975</td><td>9</td><td>2</td><td>0</td></tr><tr><td>&quot;CHABLIS 1ER CR…</td><td>0.75</td><td>27.0</td><td>null</td><td>null</td><td>&quot;Vin Blanc / Bo…</td><td>[&quot;Fruité&quot;, &quot;Minéralité&quot;, &quot;Rondeur&quot;]</td><td>&quot;https://www.vi…</td><td>2022</td><td>&quot;Chardonnay&quot;</td><td>&quot;Blanc Sec soup…</td><td>&quot;Fruité&quot;</td><td>&quot;Jolie robe jau…</td><td>&quot;Nez ouvert sur…</td><td>&quot;Belle attaque,…</td><td>10.0</td><td>12.0</td><td>&quot;En bouteille&quot;</td><td>&quot;Entrée, Coquil…</td><td>&quot;Poissons noble…</td><td>11.0</td><td>2030</td><td>&quot;Fruité&quot;</td><td>&quot;Minéralité&quot;</td><td>&quot;Rondeur&quot;</td><td>1</td><td>0</td><td>1</td><td>0</td><td>0</td><td>0</td><td>13.0</td><td>&quot;Vin Blanc&quot;</td><td>&quot;France&quot;</td><td>&quot;FRA&quot;</td><td>0</td><td>null</td><td>0</td><td>8</td><td>1</td></tr><tr><td>&quot;BAROLO 2018 - …</td><td>0.75</td><td>29.9</td><td>25.9</td><td>null</td><td>&quot;Vin Rouge / It…</td><td>[&quot;Prêt à boire&quot;, &quot;Tanins satinés&quot;, &quot;Pépite Italienne&quot;]</td><td>&quot;https://www.vi…</td><td>2018</td><td>&quot;Nebbiolo&quot;</td><td>&quot;Rouge Complexe…</td><td>&quot;Puissant&quot;</td><td>&quot;Robe grenat&quot;</td><td>&quot;Arômes de ceri…</td><td>&quot;Bouche chaleur…</td><td>16.0</td><td>18.0</td><td>&quot;En bouteille o…</td><td>&quot;Charcuterie, V…</td><td>&quot;Agneau confit,…</td><td>17.0</td><td>2034</td><td>&quot;Prêt à boire&quot;</td><td>&quot;Tanins satinés…</td><td>&quot;Pépite Italien…</td><td>0</td><td>0</td><td>0</td><td>0</td><td>1</td><td>0</td><td>14.5</td><td>&quot;Vin Rouge&quot;</td><td>&quot;Italie&quot;</td><td>&quot;ITA&quot;</td><td>0</td><td>null</td><td>0</td><td>16</td><td>0</td></tr><tr><td>&quot;LANGUEDOC 2021…</td><td>0.75</td><td>10.6</td><td>null</td><td>&quot;8,05 € par 2&quot;</td><td>&quot;Vin Rouge / La…</td><td>[&quot;Rond&quot;, &quot;Vin de Copains&quot;, &quot;Grillades&quot;]</td><td>&quot;https://www.vi…</td><td>2021</td><td>&quot;Grenache&quot;</td><td>&quot;Rouge Puissant…</td><td>&quot;Fruité&quot;</td><td>&quot;Robe grenat fo…</td><td>&quot;Intense et san…</td><td>&quot;Ample et puiss…</td><td>14.0</td><td>16.0</td><td>&quot;En bouteille&quot;</td><td>&quot;Charcuterie, V…</td><td>&quot;Barbecue, plat…</td><td>15.0</td><td>2023</td><td>&quot;Rond&quot;</td><td>&quot;Vin de Copains…</td><td>&quot;Grillades&quot;</td><td>0</td><td>0</td><td>0</td><td>0</td><td>0</td><td>0</td><td>14.0</td><td>&quot;Vin Rouge&quot;</td><td>&quot;France&quot;</td><td>&quot;FRA&quot;</td><td>0</td><td>3.85</td><td>5</td><td>2</td><td>0</td></tr></tbody></table></div>"
      ],
      "text/plain": [
       "shape: (4_006, 40)\n",
       "┌─────────────┬──────────┬────────────┬────────────┬───┬───────────┬────────────┬────────────┬─────┐\n",
       "│ name        ┆ capacity ┆ unit_price ┆ offer_pric ┆ … ┆ wine_note ┆ nb_reviews ┆ conservati ┆ cru │\n",
       "│ ---         ┆ ---      ┆ ---        ┆ e          ┆   ┆ ---       ┆ ---        ┆ on_time    ┆ --- │\n",
       "│ str         ┆ f64      ┆ f64        ┆ ---        ┆   ┆ f64       ┆ i64        ┆ ---        ┆ i32 │\n",
       "│             ┆          ┆            ┆ f64        ┆   ┆           ┆            ┆ i64        ┆     │\n",
       "╞═════════════╪══════════╪════════════╪════════════╪═══╪═══════════╪════════════╪════════════╪═════╡\n",
       "│ ABYMES 2021 ┆ 0.75     ┆ 9.5        ┆ null       ┆ … ┆ 3.975     ┆ 10         ┆ 2          ┆ 0   │\n",
       "│ - REMY      ┆          ┆            ┆            ┆   ┆           ┆            ┆            ┆     │\n",
       "│ BERLIOZ     ┆          ┆            ┆            ┆   ┆           ┆            ┆            ┆     │\n",
       "│ PINOT NOIR  ┆ 0.75     ┆ 94.9       ┆ null       ┆ … ┆ null      ┆ 0          ┆ 7          ┆ 0   │\n",
       "│ 2019 LAS    ┆          ┆            ┆            ┆   ┆           ┆            ┆            ┆     │\n",
       "│ PIZARRAS -  ┆          ┆            ┆            ┆   ┆           ┆            ┆            ┆     │\n",
       "│ E…          ┆          ┆            ┆            ┆   ┆           ┆            ┆            ┆     │\n",
       "│ SAUMUR      ┆ 0.75     ┆ 11.7       ┆ null       ┆ … ┆ 4.3       ┆ 10         ┆ 5          ┆ 0   │\n",
       "│ BLANC       ┆          ┆            ┆            ┆   ┆           ┆            ┆            ┆     │\n",
       "│ TANDEM 2022 ┆          ┆            ┆            ┆   ┆           ┆            ┆            ┆     │\n",
       "│ - DOMAI…    ┆          ┆            ┆            ┆   ┆           ┆            ┆            ┆     │\n",
       "│ CHÂTEAU     ┆ 0.75     ┆ 16.95      ┆ null       ┆ … ┆ null      ┆ 0          ┆ 14         ┆ 0   │\n",
       "│ BELLE       ┆          ┆            ┆            ┆   ┆           ┆            ┆            ┆     │\n",
       "│ COLINE 2016 ┆          ┆            ┆            ┆   ┆           ┆            ┆            ┆     │\n",
       "│ …           ┆ …        ┆ …          ┆ …          ┆ … ┆ …         ┆ …          ┆ …          ┆ …   │\n",
       "│ EL CHAVAL   ┆ 0.75     ┆ 7.5        ┆ null       ┆ … ┆ 3.975     ┆ 9          ┆ 2          ┆ 0   │\n",
       "│ 2022 -      ┆          ┆            ┆            ┆   ┆           ┆            ┆            ┆     │\n",
       "│ BODEGAS     ┆          ┆            ┆            ┆   ┆           ┆            ┆            ┆     │\n",
       "│ NODUS       ┆          ┆            ┆            ┆   ┆           ┆            ┆            ┆     │\n",
       "│ CHABLIS 1ER ┆ 0.75     ┆ 27.0       ┆ null       ┆ … ┆ null      ┆ 0          ┆ 8          ┆ 1   │\n",
       "│ CRU         ┆          ┆            ┆            ┆   ┆           ┆            ┆            ┆     │\n",
       "│ FOURCHAUME  ┆          ┆            ┆            ┆   ┆           ┆            ┆            ┆     │\n",
       "│ 2022 …      ┆          ┆            ┆            ┆   ┆           ┆            ┆            ┆     │\n",
       "│ BAROLO 2018 ┆ 0.75     ┆ 29.9       ┆ 25.9       ┆ … ┆ null      ┆ 0          ┆ 16         ┆ 0   │\n",
       "│ - MARIO     ┆          ┆            ┆            ┆   ┆           ┆            ┆            ┆     │\n",
       "│ GIRIBALDI   ┆          ┆            ┆            ┆   ┆           ┆            ┆            ┆     │\n",
       "│ LANGUEDOC   ┆ 0.75     ┆ 10.6       ┆ null       ┆ … ┆ 3.85      ┆ 5          ┆ 2          ┆ 0   │\n",
       "│ 2021 -      ┆          ┆            ┆            ┆   ┆           ┆            ┆            ┆     │\n",
       "│ MATHILDE    ┆          ┆            ┆            ┆   ┆           ┆            ┆            ┆     │\n",
       "│ CHAPOU…     ┆          ┆            ┆            ┆   ┆           ┆            ┆            ┆     │\n",
       "└─────────────┴──────────┴────────────┴────────────┴───┴───────────┴────────────┴────────────┴─────┘"
      ]
     },
     "execution_count": 7,
     "metadata": {},
     "output_type": "execute_result"
    }
   ],
   "source": [
    "super_pipe(raw)"
   ]
  },
  {
   "cell_type": "code",
   "execution_count": 3,
   "metadata": {},
   "outputs": [],
   "source": [
    "class targets(Enum):\n",
    "    \"\"\"Enumération modélisant les 2 variables à prédire possibles.\"\"\"\n",
    "    PRICE = \"unit_price\"\n",
    "    TYPE = \"type\""
   ]
  },
  {
   "cell_type": "code",
   "execution_count": 14,
   "metadata": {},
   "outputs": [
    {
     "data": {
      "text/html": [
       "<pre style=\"white-space:pre;overflow-x:auto;line-height:normal;font-family:Menlo,'DejaVu Sans Mono',consolas,'Courier New',monospace\">Entrainement du modèle : <span style=\"font-weight: bold\">Random Forest</span>\n",
       "</pre>\n"
      ],
      "text/plain": [
       "Entrainement du modèle : \u001b[1mRandom Forest\u001b[0m\n"
      ]
     },
     "metadata": {},
     "output_type": "display_data"
    },
    {
     "data": {
      "text/html": [
       "<style>#sk-container-id-1 {color: black;background-color: white;}#sk-container-id-1 pre{padding: 0;}#sk-container-id-1 div.sk-toggleable {background-color: white;}#sk-container-id-1 label.sk-toggleable__label {cursor: pointer;display: block;width: 100%;margin-bottom: 0;padding: 0.3em;box-sizing: border-box;text-align: center;}#sk-container-id-1 label.sk-toggleable__label-arrow:before {content: \"▸\";float: left;margin-right: 0.25em;color: #696969;}#sk-container-id-1 label.sk-toggleable__label-arrow:hover:before {color: black;}#sk-container-id-1 div.sk-estimator:hover label.sk-toggleable__label-arrow:before {color: black;}#sk-container-id-1 div.sk-toggleable__content {max-height: 0;max-width: 0;overflow: hidden;text-align: left;background-color: #f0f8ff;}#sk-container-id-1 div.sk-toggleable__content pre {margin: 0.2em;color: black;border-radius: 0.25em;background-color: #f0f8ff;}#sk-container-id-1 input.sk-toggleable__control:checked~div.sk-toggleable__content {max-height: 200px;max-width: 100%;overflow: auto;}#sk-container-id-1 input.sk-toggleable__control:checked~label.sk-toggleable__label-arrow:before {content: \"▾\";}#sk-container-id-1 div.sk-estimator input.sk-toggleable__control:checked~label.sk-toggleable__label {background-color: #d4ebff;}#sk-container-id-1 div.sk-label input.sk-toggleable__control:checked~label.sk-toggleable__label {background-color: #d4ebff;}#sk-container-id-1 input.sk-hidden--visually {border: 0;clip: rect(1px 1px 1px 1px);clip: rect(1px, 1px, 1px, 1px);height: 1px;margin: -1px;overflow: hidden;padding: 0;position: absolute;width: 1px;}#sk-container-id-1 div.sk-estimator {font-family: monospace;background-color: #f0f8ff;border: 1px dotted black;border-radius: 0.25em;box-sizing: border-box;margin-bottom: 0.5em;}#sk-container-id-1 div.sk-estimator:hover {background-color: #d4ebff;}#sk-container-id-1 div.sk-parallel-item::after {content: \"\";width: 100%;border-bottom: 1px solid gray;flex-grow: 1;}#sk-container-id-1 div.sk-label:hover label.sk-toggleable__label {background-color: #d4ebff;}#sk-container-id-1 div.sk-serial::before {content: \"\";position: absolute;border-left: 1px solid gray;box-sizing: border-box;top: 0;bottom: 0;left: 50%;z-index: 0;}#sk-container-id-1 div.sk-serial {display: flex;flex-direction: column;align-items: center;background-color: white;padding-right: 0.2em;padding-left: 0.2em;position: relative;}#sk-container-id-1 div.sk-item {position: relative;z-index: 1;}#sk-container-id-1 div.sk-parallel {display: flex;align-items: stretch;justify-content: center;background-color: white;position: relative;}#sk-container-id-1 div.sk-item::before, #sk-container-id-1 div.sk-parallel-item::before {content: \"\";position: absolute;border-left: 1px solid gray;box-sizing: border-box;top: 0;bottom: 0;left: 50%;z-index: -1;}#sk-container-id-1 div.sk-parallel-item {display: flex;flex-direction: column;z-index: 1;position: relative;background-color: white;}#sk-container-id-1 div.sk-parallel-item:first-child::after {align-self: flex-end;width: 50%;}#sk-container-id-1 div.sk-parallel-item:last-child::after {align-self: flex-start;width: 50%;}#sk-container-id-1 div.sk-parallel-item:only-child::after {width: 0;}#sk-container-id-1 div.sk-dashed-wrapped {border: 1px dashed gray;margin: 0 0.4em 0.5em 0.4em;box-sizing: border-box;padding-bottom: 0.4em;background-color: white;}#sk-container-id-1 div.sk-label label {font-family: monospace;font-weight: bold;display: inline-block;line-height: 1.2em;}#sk-container-id-1 div.sk-label-container {text-align: center;}#sk-container-id-1 div.sk-container {/* jupyter's `normalize.less` sets `[hidden] { display: none; }` but bootstrap.min.css set `[hidden] { display: none !important; }` so we also need the `!important` here to be able to override the default hidden behavior on the sphinx rendered scikit-learn.org. See: https://github.com/scikit-learn/scikit-learn/issues/21755 */display: inline-block !important;position: relative;}#sk-container-id-1 div.sk-text-repr-fallback {display: none;}</style><div id=\"sk-container-id-1\" class=\"sk-top-container\"><div class=\"sk-text-repr-fallback\"><pre>GridSearchCV(estimator=Pipeline(steps=[(&#x27;imputation&#x27;, SimpleImputer()),\n",
       "                                       (&#x27;echelle&#x27;, MinMaxScaler()),\n",
       "                                       (&#x27;entrainement&#x27;,\n",
       "                                        RandomForestRegressor())]),\n",
       "             n_jobs=-1,\n",
       "             param_grid={&#x27;entrainement__max_depth&#x27;: range(1, 10),\n",
       "                         &#x27;entrainement__n_estimators&#x27;: range(10, 50, 10),\n",
       "                         &#x27;imputation__strategy&#x27;: [&#x27;mean&#x27;, &#x27;median&#x27;,\n",
       "                                                  &#x27;most_frequent&#x27;]},\n",
       "             return_train_score=True)</pre><b>In a Jupyter environment, please rerun this cell to show the HTML representation or trust the notebook. <br />On GitHub, the HTML representation is unable to render, please try loading this page with nbviewer.org.</b></div><div class=\"sk-container\" hidden><div class=\"sk-item sk-dashed-wrapped\"><div class=\"sk-label-container\"><div class=\"sk-label sk-toggleable\"><input class=\"sk-toggleable__control sk-hidden--visually\" id=\"sk-estimator-id-1\" type=\"checkbox\" ><label for=\"sk-estimator-id-1\" class=\"sk-toggleable__label sk-toggleable__label-arrow\">GridSearchCV</label><div class=\"sk-toggleable__content\"><pre>GridSearchCV(estimator=Pipeline(steps=[(&#x27;imputation&#x27;, SimpleImputer()),\n",
       "                                       (&#x27;echelle&#x27;, MinMaxScaler()),\n",
       "                                       (&#x27;entrainement&#x27;,\n",
       "                                        RandomForestRegressor())]),\n",
       "             n_jobs=-1,\n",
       "             param_grid={&#x27;entrainement__max_depth&#x27;: range(1, 10),\n",
       "                         &#x27;entrainement__n_estimators&#x27;: range(10, 50, 10),\n",
       "                         &#x27;imputation__strategy&#x27;: [&#x27;mean&#x27;, &#x27;median&#x27;,\n",
       "                                                  &#x27;most_frequent&#x27;]},\n",
       "             return_train_score=True)</pre></div></div></div><div class=\"sk-parallel\"><div class=\"sk-parallel-item\"><div class=\"sk-item\"><div class=\"sk-label-container\"><div class=\"sk-label sk-toggleable\"><input class=\"sk-toggleable__control sk-hidden--visually\" id=\"sk-estimator-id-2\" type=\"checkbox\" ><label for=\"sk-estimator-id-2\" class=\"sk-toggleable__label sk-toggleable__label-arrow\">estimator: Pipeline</label><div class=\"sk-toggleable__content\"><pre>Pipeline(steps=[(&#x27;imputation&#x27;, SimpleImputer()), (&#x27;echelle&#x27;, MinMaxScaler()),\n",
       "                (&#x27;entrainement&#x27;, RandomForestRegressor())])</pre></div></div></div><div class=\"sk-serial\"><div class=\"sk-item\"><div class=\"sk-serial\"><div class=\"sk-item\"><div class=\"sk-estimator sk-toggleable\"><input class=\"sk-toggleable__control sk-hidden--visually\" id=\"sk-estimator-id-3\" type=\"checkbox\" ><label for=\"sk-estimator-id-3\" class=\"sk-toggleable__label sk-toggleable__label-arrow\">SimpleImputer</label><div class=\"sk-toggleable__content\"><pre>SimpleImputer()</pre></div></div></div><div class=\"sk-item\"><div class=\"sk-estimator sk-toggleable\"><input class=\"sk-toggleable__control sk-hidden--visually\" id=\"sk-estimator-id-4\" type=\"checkbox\" ><label for=\"sk-estimator-id-4\" class=\"sk-toggleable__label sk-toggleable__label-arrow\">MinMaxScaler</label><div class=\"sk-toggleable__content\"><pre>MinMaxScaler()</pre></div></div></div><div class=\"sk-item\"><div class=\"sk-estimator sk-toggleable\"><input class=\"sk-toggleable__control sk-hidden--visually\" id=\"sk-estimator-id-5\" type=\"checkbox\" ><label for=\"sk-estimator-id-5\" class=\"sk-toggleable__label sk-toggleable__label-arrow\">RandomForestRegressor</label><div class=\"sk-toggleable__content\"><pre>RandomForestRegressor()</pre></div></div></div></div></div></div></div></div></div></div></div></div>"
      ],
      "text/plain": [
       "GridSearchCV(estimator=Pipeline(steps=[('imputation', SimpleImputer()),\n",
       "                                       ('echelle', MinMaxScaler()),\n",
       "                                       ('entrainement',\n",
       "                                        RandomForestRegressor())]),\n",
       "             n_jobs=-1,\n",
       "             param_grid={'entrainement__max_depth': range(1, 10),\n",
       "                         'entrainement__n_estimators': range(10, 50, 10),\n",
       "                         'imputation__strategy': ['mean', 'median',\n",
       "                                                  'most_frequent']},\n",
       "             return_train_score=True)"
      ]
     },
     "execution_count": 14,
     "metadata": {},
     "output_type": "execute_result"
    }
   ],
   "source": [
    "model_rf(x_train=X_train, y_train=y_train, mode = \"regression\")"
   ]
  },
  {
   "cell_type": "code",
   "execution_count": 2,
   "metadata": {},
   "outputs": [
    {
     "data": {
      "text/plain": [
       "{'entrainement__learning_rate': 0.1,\n",
       " 'entrainement__n_estimators': 150,\n",
       " 'imputation__strategy': 'most_frequent'}"
      ]
     },
     "execution_count": 2,
     "metadata": {},
     "output_type": "execute_result"
    }
   ],
   "source": [
    "_recup_param(\"Boosting\", \"unit_price\")"
   ]
  }
 ],
 "metadata": {
  "kernelspec": {
   "display_name": "Python 3",
   "language": "python",
   "name": "python3"
  },
  "language_info": {
   "codemirror_mode": {
    "name": "ipython",
    "version": 3
   },
   "file_extension": ".py",
   "mimetype": "text/x-python",
   "name": "python",
   "nbconvert_exporter": "python",
   "pygments_lexer": "ipython3",
   "version": "3.10.6"
  }
 },
 "nbformat": 4,
 "nbformat_minor": 2
}
