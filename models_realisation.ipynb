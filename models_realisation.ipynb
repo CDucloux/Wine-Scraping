{
 "cells": [
  {
   "cell_type": "code",
   "execution_count": 2,
   "metadata": {},
   "outputs": [],
   "source": [
    "from src.modules.models import *\n",
    "from sklearn.model_selection import train_test_split\n",
    "from src.modules.prediction import *"
   ]
  },
  {
   "cell_type": "code",
   "execution_count": 11,
   "metadata": {},
   "outputs": [],
   "source": [
    "EXPLIQUEE = \"unit_price\" #\"type\" => Classification ou \"unit_price\" => Regression"
   ]
  },
  {
   "cell_type": "code",
   "execution_count": 12,
   "metadata": {},
   "outputs": [],
   "source": [
    "if EXPLIQUEE == \"type\":\n",
    "    CATEGORICALS = [\"cepage\", \"par_gouts\", \"service\", \"country\"]\n",
    "    MODE = \"classification\"\n",
    "elif EXPLIQUEE == \"unit_price\":\n",
    "    CATEGORICALS = [\"cepage\", \"par_gouts\", \"service\", \"country\", \"type\"]\n",
    "    MODE = \"regression\""
   ]
  },
  {
   "cell_type": "code",
   "execution_count": 13,
   "metadata": {},
   "outputs": [],
   "source": [
    "df = data_model(chemin= \"./data/vins.json\",\n",
    "                variable_a_predire= EXPLIQUEE)"
   ]
  },
  {
   "cell_type": "code",
   "execution_count": 14,
   "metadata": {},
   "outputs": [],
   "source": [
    "df = df.select(\"capacity\", \"unit_price\",\"millesime\", \"cepage\", \"par_gouts\",\n",
    "          \"service\", \"avg_temp\", \"conservation_date\", \"bio\", \"customer_fav\", \n",
    "          \"is_new\", \"top_100\", \"destock\", \"sulphite_free\", \"alcohol_volume\",\n",
    "          \"country\", \"bubbles\", \"wine_note\", \"nb_reviews\", \"conservation_time\",\"type\")"
   ]
  },
  {
   "cell_type": "code",
   "execution_count": 15,
   "metadata": {},
   "outputs": [],
   "source": [
    "df = prep_str(df, categorical_cols=CATEGORICALS)"
   ]
  },
  {
   "cell_type": "code",
   "execution_count": 16,
   "metadata": {},
   "outputs": [],
   "source": [
    "X = df.drop(columns=[EXPLIQUEE])\n",
    "y = df[EXPLIQUEE]\n",
    "X_train, X_test, y_train, y_test = train_test_split(X, y, test_size=0.2)"
   ]
  },
  {
   "cell_type": "markdown",
   "metadata": {},
   "source": [
    "from sklearn.metrics import accuracy_score, classification_report, confusion_matrix"
   ]
  },
  {
   "cell_type": "markdown",
   "metadata": {},
   "source": [
    "model = Pipeline(\n",
    "            [\n",
    "                (\"imputation\", SimpleImputer()),\n",
    "                (\"echelle\", MinMaxScaler()),\n",
    "                (\"entrainement\", RandomForestClassifier(max_depth=9, n_estimators=30)),\n",
    "            ])\n",
    "model.fit(X_train, y_train)"
   ]
  },
  {
   "cell_type": "markdown",
   "metadata": {},
   "source": [
    "y_pred = model.predict(X_test)"
   ]
  },
  {
   "cell_type": "markdown",
   "metadata": {},
   "source": [
    "print(\"Accuracy:\", accuracy_score(y_test, y_pred))\n",
    "print(\"\\nConfusion Matrix:\\n\", confusion_matrix(y_test, y_pred))\n",
    "print(\"\\nClassification Report:\\n\", classification_report(y_test, y_pred))"
   ]
  },
  {
   "cell_type": "markdown",
   "metadata": {},
   "source": [
    "from sklearn.metrics import mean_squared_error, mean_absolute_error\n",
    "print(\"Mean Absolute Error:\", mean_absolute_error(y_test, y_pred))"
   ]
  },
  {
   "cell_type": "markdown",
   "metadata": {},
   "source": [
    "import matplotlib.pyplot as plt\n",
    "importances = importances[0:20]\n",
    "indices = np.argsort(importances)\n",
    "fig, ax = plt.subplots()\n",
    "ax.barh(range(len(importances)), importances[indices])\n",
    "ax.set_yticks(range(len(importances)))\n",
    "_ = ax.set_yticklabels(np.array(X_train.columns)[indices], fontsize = 8)"
   ]
  },
  {
   "cell_type": "code",
   "execution_count": 17,
   "metadata": {},
   "outputs": [
    {
     "name": "stderr",
     "output_type": "stream",
     "text": [
      "c:\\Users\\guill\\AppData\\Local\\Programs\\Python\\Python311\\Lib\\site-packages\\sklearn\\neural_network\\_multilayer_perceptron.py:691: ConvergenceWarning: Stochastic Optimizer: Maximum iterations (1000) reached and the optimization hasn't converged yet.\n",
      "  warnings.warn(\n"
     ]
    }
   ],
   "source": [
    "models = train_model(X_train, y_train, \"regression\")"
   ]
  },
  {
   "cell_type": "code",
   "execution_count": 18,
   "metadata": {},
   "outputs": [
    {
     "name": "stderr",
     "output_type": "stream",
     "text": [
      "c:\\Users\\guill\\AppData\\Local\\Programs\\Python\\Python311\\Lib\\site-packages\\sklearn\\neural_network\\_multilayer_perceptron.py:691: ConvergenceWarning: Stochastic Optimizer: Maximum iterations (1000) reached and the optimization hasn't converged yet.\n",
      "  warnings.warn(\n",
      "c:\\Users\\guill\\AppData\\Local\\Programs\\Python\\Python311\\Lib\\site-packages\\sklearn\\neural_network\\_multilayer_perceptron.py:691: ConvergenceWarning: Stochastic Optimizer: Maximum iterations (1000) reached and the optimization hasn't converged yet.\n",
      "  warnings.warn(\n",
      "c:\\Users\\guill\\AppData\\Local\\Programs\\Python\\Python311\\Lib\\site-packages\\sklearn\\neural_network\\_multilayer_perceptron.py:691: ConvergenceWarning: Stochastic Optimizer: Maximum iterations (1000) reached and the optimization hasn't converged yet.\n",
      "  warnings.warn(\n",
      "c:\\Users\\guill\\AppData\\Local\\Programs\\Python\\Python311\\Lib\\site-packages\\sklearn\\neural_network\\_multilayer_perceptron.py:691: ConvergenceWarning: Stochastic Optimizer: Maximum iterations (1000) reached and the optimization hasn't converged yet.\n",
      "  warnings.warn(\n",
      "c:\\Users\\guill\\AppData\\Local\\Programs\\Python\\Python311\\Lib\\site-packages\\sklearn\\neural_network\\_multilayer_perceptron.py:691: ConvergenceWarning: Stochastic Optimizer: Maximum iterations (1000) reached and the optimization hasn't converged yet.\n",
      "  warnings.warn(\n"
     ]
    },
    {
     "name": "stdout",
     "output_type": "stream",
     "text": [
      "C'est bon ça a marché\n"
     ]
    }
   ],
   "source": [
    "stockage_result_csv(models, \"regression\")"
   ]
  },
  {
   "cell_type": "code",
   "execution_count": 12,
   "metadata": {},
   "outputs": [],
   "source": [
    "import polars as pl\n",
    "from src.modules.models import *\n",
    "from src.modules.prediction import * "
   ]
  },
  {
   "cell_type": "code",
   "execution_count": 13,
   "metadata": {},
   "outputs": [],
   "source": [
    "VARIABLE = \"type\""
   ]
  },
  {
   "cell_type": "code",
   "execution_count": 14,
   "metadata": {},
   "outputs": [],
   "source": [
    "X_train, X_test, y_train, y_test, data = init(VARIABLE)"
   ]
  },
  {
   "cell_type": "code",
   "execution_count": 15,
   "metadata": {},
   "outputs": [],
   "source": [
    "masque = data.index.isin(y_test.index)"
   ]
  },
  {
   "cell_type": "code",
   "execution_count": 16,
   "metadata": {},
   "outputs": [],
   "source": [
    "df = data[masque]"
   ]
  },
  {
   "cell_type": "code",
   "execution_count": 17,
   "metadata": {},
   "outputs": [],
   "source": [
    "model_rf = random_forest(VARIABLE, \"Random Forest\")\n",
    "model_boost = boosting(VARIABLE, \"Boosting\")\n",
    "model_ridge = ridge(VARIABLE, \"Ridge\")\n",
    "model_knn = knn(VARIABLE, \"K Neighbors\")\n",
    "model_mlp = mlp(VARIABLE, \"Réseaux de neurones\")\n",
    "model_sv = support_vector(VARIABLE, \"Support Vector\")"
   ]
  },
  {
   "cell_type": "code",
   "execution_count": 18,
   "metadata": {},
   "outputs": [],
   "source": [
    "models = [model_rf, model_boost, model_ridge, model_knn, model_mlp, model_sv]"
   ]
  },
  {
   "cell_type": "code",
   "execution_count": 19,
   "metadata": {},
   "outputs": [],
   "source": [
    "for model in models:\n",
    "    model.fit(X_train, y_train)"
   ]
  },
  {
   "cell_type": "code",
   "execution_count": 20,
   "metadata": {},
   "outputs": [],
   "source": [
    "preds_rf = model_rf.predict(X_test).astype(str)\n",
    "preds_boost = model_boost.predict(X_test).astype(str)\n",
    "preds_ridge = model_ridge.predict(X_test).astype(str)\n",
    "preds_knn = model_knn.predict(X_test).astype(str)\n",
    "preds_mlp = model_mlp.predict(X_test).astype(str)\n",
    "preds_sv = model_sv.predict(X_test).astype(str)"
   ]
  },
  {
   "cell_type": "code",
   "execution_count": 21,
   "metadata": {},
   "outputs": [],
   "source": [
    "df = pl.DataFrame(data[masque])\n",
    "df = df.select(\n",
    "    pl.col(\"name\"),\n",
    "    pl.col(VARIABLE),\n",
    "    random_forest = pl.lit(preds_rf),\n",
    "    boosting = pl.lit(preds_boost),\n",
    "    ridge = pl.lit(preds_ridge),\n",
    "    knn = pl.lit(preds_knn),\n",
    "    mlp = pl.lit(preds_mlp),\n",
    "    support_vector = pl.lit(preds_sv)\n",
    ")"
   ]
  },
  {
   "cell_type": "code",
   "execution_count": 22,
   "metadata": {},
   "outputs": [],
   "source": [
    "df.write_csv(f\"./data/pred_classification.csv\", separator=\",\")"
   ]
  },
  {
   "cell_type": "code",
   "execution_count": 3,
   "metadata": {},
   "outputs": [],
   "source": [
    "EXPLIQUEE = \"unit_price\" #type or unit_price\n",
    "\n",
    "if EXPLIQUEE == \"type\":\n",
    "    CATEGORICALS = [\"cepage\", \"par_gouts\", \"service\", \"country\"]\n",
    "    MODE = \"classification\"\n",
    "elif EXPLIQUEE == \"unit_price\":\n",
    "    CATEGORICALS = [\"cepage\", \"par_gouts\", \"service\", \"country\", \"type\"]\n",
    "    MODE = \"regression\"\n",
    "    \n",
    "df = data_model(chemin= \"./data/vins.json\",\n",
    "                variable_a_predire= EXPLIQUEE)"
   ]
  },
  {
   "cell_type": "code",
   "execution_count": 16,
   "metadata": {},
   "outputs": [],
   "source": [
    "df = df.select(\"capacity\", \"unit_price\",\"millesime\", \"cepage\", \"par_gouts\",\n",
    "          \"service\", \"avg_temp\", \"conservation_date\", \"bio\", \"customer_fav\", \n",
    "          \"is_new\", \"top_100\", \"destock\", \"sulphite_free\", \"alcohol_volume\",\n",
    "          \"country\", \"bubbles\", \"wine_note\", \"nb_reviews\", \"conservation_time\", \"cru\",\n",
    "          \"type\")\n",
    "\n",
    "df = prep_str(df, categorical_cols=CATEGORICALS)"
   ]
  },
  {
   "cell_type": "code",
   "execution_count": 17,
   "metadata": {},
   "outputs": [],
   "source": [
    "X = df.drop(columns=[EXPLIQUEE])"
   ]
  }
 ],
 "metadata": {
  "kernelspec": {
   "display_name": "Python 3",
   "language": "python",
   "name": "python3"
  },
  "language_info": {
   "codemirror_mode": {
    "name": "ipython",
    "version": 3
   },
   "file_extension": ".py",
   "mimetype": "text/x-python",
   "name": "python",
   "nbconvert_exporter": "python",
   "pygments_lexer": "ipython3",
   "version": "3.11.1"
  }
 },
 "nbformat": 4,
 "nbformat_minor": 2
}
