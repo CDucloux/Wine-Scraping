{
 "cells": [
  {
   "cell_type": "code",
   "execution_count": 3,
   "metadata": {},
   "outputs": [
    {
     "ename": "ModuleNotFoundError",
     "evalue": "No module named 'bear_cleaner'",
     "output_type": "error",
     "traceback": [
      "\u001b[1;31m---------------------------------------------------------------------------\u001b[0m",
      "\u001b[1;31mModuleNotFoundError\u001b[0m                       Traceback (most recent call last)",
      "\u001b[1;32mc:\\Users\\guill\\OneDrive - Université de Tours\\Bureau\\M2\\ML\\Wine-Scraping\\models_realisation.ipynb Cellule 1\u001b[0m line \u001b[0;36m1\n\u001b[1;32m----> <a href='vscode-notebook-cell:/c%3A/Users/guill/OneDrive%20-%20Universit%C3%A9%20de%20Tours/Bureau/M2/ML/Wine-Scraping/models_realisation.ipynb#W0sZmlsZQ%3D%3D?line=0'>1</a>\u001b[0m \u001b[39mfrom\u001b[39;00m \u001b[39msrc\u001b[39;00m\u001b[39m.\u001b[39;00m\u001b[39mmodules\u001b[39;00m\u001b[39m.\u001b[39;00m\u001b[39mmodels\u001b[39;00m \u001b[39mimport\u001b[39;00m \u001b[39m*\u001b[39m\n\u001b[0;32m      <a href='vscode-notebook-cell:/c%3A/Users/guill/OneDrive%20-%20Universit%C3%A9%20de%20Tours/Bureau/M2/ML/Wine-Scraping/models_realisation.ipynb#W0sZmlsZQ%3D%3D?line=1'>2</a>\u001b[0m \u001b[39mfrom\u001b[39;00m \u001b[39msklearn\u001b[39;00m\u001b[39m.\u001b[39;00m\u001b[39mmodel_selection\u001b[39;00m \u001b[39mimport\u001b[39;00m train_test_split\n\u001b[0;32m      <a href='vscode-notebook-cell:/c%3A/Users/guill/OneDrive%20-%20Universit%C3%A9%20de%20Tours/Bureau/M2/ML/Wine-Scraping/models_realisation.ipynb#W0sZmlsZQ%3D%3D?line=2'>3</a>\u001b[0m \u001b[39mfrom\u001b[39;00m \u001b[39msrc\u001b[39;00m\u001b[39m.\u001b[39;00m\u001b[39mmodules\u001b[39;00m\u001b[39m.\u001b[39;00m\u001b[39mprediction\u001b[39;00m \u001b[39mimport\u001b[39;00m \u001b[39m*\u001b[39m\n",
      "File \u001b[1;32mc:\\Users\\guill\\OneDrive - Université de Tours\\Bureau\\M2\\ML\\Wine-Scraping\\src\\modules\\models.py:29\u001b[0m\n\u001b[0;32m     27\u001b[0m \u001b[39mimport\u001b[39;00m \u001b[39mpolars\u001b[39;00m \u001b[39mas\u001b[39;00m \u001b[39mpl\u001b[39;00m\n\u001b[0;32m     28\u001b[0m \u001b[39mimport\u001b[39;00m \u001b[39mpandas\u001b[39;00m \u001b[39mas\u001b[39;00m \u001b[39mpd\u001b[39;00m\n\u001b[1;32m---> 29\u001b[0m \u001b[39mfrom\u001b[39;00m \u001b[39mbear_cleaner\u001b[39;00m \u001b[39mimport\u001b[39;00m super_pipe\n\u001b[0;32m     31\u001b[0m \u001b[39m# Preparation\u001b[39;00m\n\u001b[0;32m     32\u001b[0m \u001b[39mdef\u001b[39;00m \u001b[39mdata_model\u001b[39m(chemin: \u001b[39mstr\u001b[39m, variable_a_predire: \u001b[39mstr\u001b[39m):\n",
      "\u001b[1;31mModuleNotFoundError\u001b[0m: No module named 'bear_cleaner'"
     ]
    }
   ],
   "source": [
    "from src.modules.models import *\n",
    "from sklearn.model_selection import train_test_split\n",
    "from src.modules.prediction import *"
   ]
  },
  {
   "cell_type": "code",
   "execution_count": 11,
   "metadata": {},
   "outputs": [],
   "source": [
    "EXPLIQUEE = \"unit_price\" #\"type\" => Classification ou \"unit_price\" => Regression"
   ]
  },
  {
   "cell_type": "code",
   "execution_count": 12,
   "metadata": {},
   "outputs": [],
   "source": [
    "if EXPLIQUEE == \"type\":\n",
    "    CATEGORICALS = [\"cepage\", \"par_gouts\", \"service\", \"country\"]\n",
    "    MODE = \"classification\"\n",
    "elif EXPLIQUEE == \"unit_price\":\n",
    "    CATEGORICALS = [\"cepage\", \"par_gouts\", \"service\", \"country\", \"type\"]\n",
    "    MODE = \"regression\""
   ]
  },
  {
   "cell_type": "code",
   "execution_count": 13,
   "metadata": {},
   "outputs": [],
   "source": [
    "df = data_model(chemin= \"./data/vins.json\",\n",
    "                variable_a_predire= EXPLIQUEE)"
   ]
  },
  {
   "cell_type": "code",
   "execution_count": 14,
   "metadata": {},
   "outputs": [],
   "source": [
    "df = df.select(\"capacity\", \"unit_price\",\"millesime\", \"cepage\", \"par_gouts\",\n",
    "          \"service\", \"avg_temp\", \"conservation_date\", \"bio\", \"customer_fav\", \n",
    "          \"is_new\", \"top_100\", \"destock\", \"sulphite_free\", \"alcohol_volume\",\n",
    "          \"country\", \"bubbles\", \"wine_note\", \"nb_reviews\", \"conservation_time\",\"type\")"
   ]
  },
  {
   "cell_type": "code",
   "execution_count": 15,
   "metadata": {},
   "outputs": [],
   "source": [
    "df = prep_str(df, categorical_cols=CATEGORICALS)"
   ]
  },
  {
   "cell_type": "code",
   "execution_count": 16,
   "metadata": {},
   "outputs": [],
   "source": [
    "X = df.drop(columns=[EXPLIQUEE])\n",
    "y = df[EXPLIQUEE]\n",
    "X_train, X_test, y_train, y_test = train_test_split(X, y, test_size=0.2)"
   ]
  },
  {
   "cell_type": "markdown",
   "metadata": {},
   "source": [
    "from sklearn.metrics import accuracy_score, classification_report, confusion_matrix"
   ]
  },
  {
   "cell_type": "markdown",
   "metadata": {},
   "source": [
    "model = Pipeline(\n",
    "            [\n",
    "                (\"imputation\", SimpleImputer()),\n",
    "                (\"echelle\", MinMaxScaler()),\n",
    "                (\"entrainement\", RandomForestClassifier(max_depth=9, n_estimators=30)),\n",
    "            ])\n",
    "model.fit(X_train, y_train)"
   ]
  },
  {
   "cell_type": "markdown",
   "metadata": {},
   "source": [
    "y_pred = model.predict(X_test)"
   ]
  },
  {
   "cell_type": "markdown",
   "metadata": {},
   "source": [
    "print(\"Accuracy:\", accuracy_score(y_test, y_pred))\n",
    "print(\"\\nConfusion Matrix:\\n\", confusion_matrix(y_test, y_pred))\n",
    "print(\"\\nClassification Report:\\n\", classification_report(y_test, y_pred))"
   ]
  },
  {
   "cell_type": "markdown",
   "metadata": {},
   "source": [
    "from sklearn.metrics import mean_squared_error, mean_absolute_error\n",
    "print(\"Mean Absolute Error:\", mean_absolute_error(y_test, y_pred))"
   ]
  },
  {
   "cell_type": "markdown",
   "metadata": {},
   "source": [
    "import matplotlib.pyplot as plt\n",
    "importances = importances[0:20]\n",
    "indices = np.argsort(importances)\n",
    "fig, ax = plt.subplots()\n",
    "ax.barh(range(len(importances)), importances[indices])\n",
    "ax.set_yticks(range(len(importances)))\n",
    "_ = ax.set_yticklabels(np.array(X_train.columns)[indices], fontsize = 8)"
   ]
  },
  {
   "cell_type": "code",
   "execution_count": 17,
   "metadata": {},
   "outputs": [
    {
     "name": "stderr",
     "output_type": "stream",
     "text": [
      "c:\\Users\\guill\\AppData\\Local\\Programs\\Python\\Python311\\Lib\\site-packages\\sklearn\\neural_network\\_multilayer_perceptron.py:691: ConvergenceWarning: Stochastic Optimizer: Maximum iterations (1000) reached and the optimization hasn't converged yet.\n",
      "  warnings.warn(\n"
     ]
    }
   ],
   "source": [
    "models = train_model(X_train, y_train, \"regression\")"
   ]
  },
  {
   "cell_type": "code",
   "execution_count": 18,
   "metadata": {},
   "outputs": [
    {
     "name": "stderr",
     "output_type": "stream",
     "text": [
      "c:\\Users\\guill\\AppData\\Local\\Programs\\Python\\Python311\\Lib\\site-packages\\sklearn\\neural_network\\_multilayer_perceptron.py:691: ConvergenceWarning: Stochastic Optimizer: Maximum iterations (1000) reached and the optimization hasn't converged yet.\n",
      "  warnings.warn(\n",
      "c:\\Users\\guill\\AppData\\Local\\Programs\\Python\\Python311\\Lib\\site-packages\\sklearn\\neural_network\\_multilayer_perceptron.py:691: ConvergenceWarning: Stochastic Optimizer: Maximum iterations (1000) reached and the optimization hasn't converged yet.\n",
      "  warnings.warn(\n",
      "c:\\Users\\guill\\AppData\\Local\\Programs\\Python\\Python311\\Lib\\site-packages\\sklearn\\neural_network\\_multilayer_perceptron.py:691: ConvergenceWarning: Stochastic Optimizer: Maximum iterations (1000) reached and the optimization hasn't converged yet.\n",
      "  warnings.warn(\n",
      "c:\\Users\\guill\\AppData\\Local\\Programs\\Python\\Python311\\Lib\\site-packages\\sklearn\\neural_network\\_multilayer_perceptron.py:691: ConvergenceWarning: Stochastic Optimizer: Maximum iterations (1000) reached and the optimization hasn't converged yet.\n",
      "  warnings.warn(\n",
      "c:\\Users\\guill\\AppData\\Local\\Programs\\Python\\Python311\\Lib\\site-packages\\sklearn\\neural_network\\_multilayer_perceptron.py:691: ConvergenceWarning: Stochastic Optimizer: Maximum iterations (1000) reached and the optimization hasn't converged yet.\n",
      "  warnings.warn(\n"
     ]
    },
    {
     "name": "stdout",
     "output_type": "stream",
     "text": [
      "C'est bon ça a marché\n"
     ]
    }
   ],
   "source": [
    "stockage_result_csv(models, \"regression\")"
   ]
  },
  {
   "cell_type": "code",
   "execution_count": 3,
   "metadata": {},
   "outputs": [],
   "source": [
    "import polars as pl\n",
    "from src.modules.bear_cleaner import *"
   ]
  },
  {
   "cell_type": "code",
   "execution_count": 4,
   "metadata": {},
   "outputs": [],
   "source": [
    "df = pl.read_json(\"./data/vins.json\")\n",
    "df = super_pipe(df)"
   ]
  },
  {
   "cell_type": "code",
   "execution_count": 6,
   "metadata": {},
   "outputs": [
    {
     "data": {
      "text/html": [
       "<div><style>\n",
       ".dataframe > thead > tr > th,\n",
       ".dataframe > tbody > tr > td {\n",
       "  text-align: right;\n",
       "  white-space: pre-wrap;\n",
       "}\n",
       "</style>\n",
       "<small>shape: (5, 39)</small><table border=\"1\" class=\"dataframe\"><thead><tr><th>name</th><th>capacity</th><th>unit_price</th><th>offer_price</th><th>price_bundle</th><th>characteristics</th><th>keywords</th><th>picture</th><th>millesime</th><th>cepage</th><th>gouts</th><th>par_gouts</th><th>oeil</th><th>nez</th><th>bouche</th><th>temp_low</th><th>temp_high</th><th>service</th><th>accords_vins</th><th>accords_reco</th><th>avg_temp</th><th>conservation_date</th><th>keyword_1</th><th>keyword_2</th><th>keyword_3</th><th>bio</th><th>customer_fav</th><th>is_new</th><th>top_100</th><th>destock</th><th>sulphite_free</th><th>alcohol_volume</th><th>type</th><th>country</th><th>iso_code</th><th>bubbles</th><th>wine_note</th><th>nb_reviews</th><th>conservation_time</th></tr><tr><td>str</td><td>f64</td><td>f64</td><td>f64</td><td>str</td><td>str</td><td>list[str]</td><td>str</td><td>i64</td><td>str</td><td>str</td><td>str</td><td>str</td><td>str</td><td>str</td><td>f64</td><td>f64</td><td>str</td><td>str</td><td>str</td><td>f64</td><td>i64</td><td>str</td><td>str</td><td>str</td><td>i32</td><td>i32</td><td>i32</td><td>i32</td><td>i32</td><td>i32</td><td>f64</td><td>str</td><td>str</td><td>str</td><td>i32</td><td>f64</td><td>i64</td><td>i64</td></tr></thead><tbody><tr><td>&quot;ABYMES 2021 - …</td><td>0.75</td><td>9.5</td><td>null</td><td>&quot;7,60 € par 2&quot;</td><td>&quot;Vin Blanc / Sa…</td><td>[&quot;Intense&quot;, &quot;Minéral&quot;, &quot;Superbe&quot;]</td><td>&quot;https://www.vi…</td><td>2021</td><td>&quot;Jacquère&quot;</td><td>&quot;Blanc Sec soup…</td><td>&quot;Fruité&quot;</td><td>&quot;Robe or blanc …</td><td>&quot;Des arômes de …</td><td>&quot;L&#x27;attaque est …</td><td>8.0</td><td>10.0</td><td>&quot;En bouteille&quot;</td><td>&quot;Apéritif, Entr…</td><td>&quot;Plateau de fru…</td><td>9.0</td><td>2023</td><td>&quot;Intense&quot;</td><td>&quot;Minéral&quot;</td><td>&quot;Superbe&quot;</td><td>0</td><td>0</td><td>0</td><td>0</td><td>0</td><td>0</td><td>11.5</td><td>&quot;Vin Blanc&quot;</td><td>&quot;France&quot;</td><td>&quot;FRA&quot;</td><td>0</td><td>3.975</td><td>10</td><td>2</td></tr><tr><td>&quot;PINOT NOIR 201…</td><td>0.75</td><td>94.9</td><td>null</td><td>null</td><td>&quot;Vin Rouge / Ch…</td><td>[&quot;Elégance&quot;, &quot;Finesse&quot;, &quot;Harmonie&quot;]</td><td>&quot;https://www.vi…</td><td>2019</td><td>&quot;Pinot noir&quot;</td><td>&quot;Rouge Charnu e…</td><td>&quot;Puissant&quot;</td><td>&quot;Robe rubis aux…</td><td>&quot;Nez complexe s…</td><td>&quot;Bouche fruitée…</td><td>8.0</td><td>10.0</td><td>&quot;En bouteille o…</td><td>&quot;Apéritif, Entr…</td><td>&quot;Gigot d&#x27;agneau…</td><td>9.0</td><td>2026</td><td>&quot;Elégance&quot;</td><td>&quot;Finesse&quot;</td><td>&quot;Harmonie&quot;</td><td>0</td><td>0</td><td>0</td><td>0</td><td>0</td><td>0</td><td>13.5</td><td>&quot;Vin Rouge&quot;</td><td>&quot;Chili&quot;</td><td>&quot;CHL&quot;</td><td>0</td><td>null</td><td>0</td><td>7</td></tr><tr><td>&quot;SAUMUR BLANC T…</td><td>0.75</td><td>11.7</td><td>null</td><td>&quot;9,90 € par 2&quot;</td><td>&quot;Vin Blanc / Lo…</td><td>[&quot;Fraîcheur&quot;, &quot;100% Chenin&quot;, &quot;Équilibre&quot;]</td><td>&quot;https://www.vi…</td><td>2022</td><td>&quot;Chenin&quot;</td><td>&quot;Blanc Sec soup…</td><td>&quot;Minéral&quot;</td><td>&quot;Couleur jaune …</td><td>&quot;Arômes de frui…</td><td>&quot;Frais et minér…</td><td>6.0</td><td>8.0</td><td>&quot;En bouteille&quot;</td><td>&quot;Apéritif, Entr…</td><td>&quot;Apéritifs, poi…</td><td>7.0</td><td>2027</td><td>&quot;Fraîcheur&quot;</td><td>&quot;100% Chenin&quot;</td><td>&quot;Équilibre&quot;</td><td>0</td><td>1</td><td>0</td><td>0</td><td>0</td><td>0</td><td>13.0</td><td>&quot;Vin Blanc&quot;</td><td>&quot;France&quot;</td><td>&quot;FRA&quot;</td><td>0</td><td>4.3</td><td>10</td><td>5</td></tr><tr><td>&quot;CHÂTEAU BELLE …</td><td>0.75</td><td>16.95</td><td>null</td><td>&quot;14,40 € par 2&quot;</td><td>&quot;Vin Rouge / Bo…</td><td>[&quot;Fraîcheur&quot;, &quot;Elégant&quot;, &quot;Savoureux&quot;]</td><td>&quot;https://www.vi…</td><td>2016</td><td>&quot;Merlot&quot;</td><td>&quot;Rouge Puissant…</td><td>&quot;Puissant&quot;</td><td>&quot;Robe violette,…</td><td>&quot;Bleuets sauvag…</td><td>&quot;Fraîcheur, élé…</td><td>16.0</td><td>18.0</td><td>&quot;Ouvrir avant l…</td><td>&quot;Apéritif, Char…</td><td>null</td><td>17.0</td><td>2030</td><td>&quot;Fraîcheur&quot;</td><td>&quot;Elégant&quot;</td><td>&quot;Savoureux&quot;</td><td>0</td><td>0</td><td>0</td><td>0</td><td>0</td><td>0</td><td>13.5</td><td>&quot;Vin Rouge&quot;</td><td>&quot;France&quot;</td><td>&quot;FRA&quot;</td><td>0</td><td>null</td><td>0</td><td>14</td></tr><tr><td>&quot;MORGON - LE CL…</td><td>0.75</td><td>25.5</td><td>null</td><td>null</td><td>&quot;Vin Rouge / Be…</td><td>[&quot;Nature&quot;, &quot;Savoureux&quot;, &quot;Vigneron&quot;]</td><td>&quot;https://www.vi…</td><td>2019</td><td>&quot;Gamay&quot;</td><td>&quot;Rouge Léger et…</td><td>&quot;Fruité&quot;</td><td>&quot;Rouge vif.&quot;</td><td>&quot;Des notes de c…</td><td>&quot;Profond, équil…</td><td>13.0</td><td>16.0</td><td>&quot;En bouteille&quot;</td><td>&quot;Apéritif, Char…</td><td>&quot;Poularde de Br…</td><td>14.5</td><td>2032</td><td>&quot;Nature&quot;</td><td>&quot;Savoureux&quot;</td><td>&quot;Vigneron&quot;</td><td>0</td><td>0</td><td>0</td><td>0</td><td>0</td><td>0</td><td>13.0</td><td>&quot;Vin Rouge&quot;</td><td>&quot;France&quot;</td><td>&quot;FRA&quot;</td><td>0</td><td>null</td><td>0</td><td>13</td></tr></tbody></table></div>"
      ],
      "text/plain": [
       "shape: (5, 39)\n",
       "┌────────────┬──────────┬────────────┬───────────┬───┬─────────┬───────────┬───────────┬───────────┐\n",
       "│ name       ┆ capacity ┆ unit_price ┆ offer_pri ┆ … ┆ bubbles ┆ wine_note ┆ nb_review ┆ conservat │\n",
       "│ ---        ┆ ---      ┆ ---        ┆ ce        ┆   ┆ ---     ┆ ---       ┆ s         ┆ ion_time  │\n",
       "│ str        ┆ f64      ┆ f64        ┆ ---       ┆   ┆ i32     ┆ f64       ┆ ---       ┆ ---       │\n",
       "│            ┆          ┆            ┆ f64       ┆   ┆         ┆           ┆ i64       ┆ i64       │\n",
       "╞════════════╪══════════╪════════════╪═══════════╪═══╪═════════╪═══════════╪═══════════╪═══════════╡\n",
       "│ ABYMES     ┆ 0.75     ┆ 9.5        ┆ null      ┆ … ┆ 0       ┆ 3.975     ┆ 10        ┆ 2         │\n",
       "│ 2021 -     ┆          ┆            ┆           ┆   ┆         ┆           ┆           ┆           │\n",
       "│ REMY       ┆          ┆            ┆           ┆   ┆         ┆           ┆           ┆           │\n",
       "│ BERLIOZ    ┆          ┆            ┆           ┆   ┆         ┆           ┆           ┆           │\n",
       "│ PINOT NOIR ┆ 0.75     ┆ 94.9       ┆ null      ┆ … ┆ 0       ┆ null      ┆ 0         ┆ 7         │\n",
       "│ 2019 LAS   ┆          ┆            ┆           ┆   ┆         ┆           ┆           ┆           │\n",
       "│ PIZARRAS - ┆          ┆            ┆           ┆   ┆         ┆           ┆           ┆           │\n",
       "│ E…         ┆          ┆            ┆           ┆   ┆         ┆           ┆           ┆           │\n",
       "│ SAUMUR     ┆ 0.75     ┆ 11.7       ┆ null      ┆ … ┆ 0       ┆ 4.3       ┆ 10        ┆ 5         │\n",
       "│ BLANC      ┆          ┆            ┆           ┆   ┆         ┆           ┆           ┆           │\n",
       "│ TANDEM     ┆          ┆            ┆           ┆   ┆         ┆           ┆           ┆           │\n",
       "│ 2022 -     ┆          ┆            ┆           ┆   ┆         ┆           ┆           ┆           │\n",
       "│ DOMAI…     ┆          ┆            ┆           ┆   ┆         ┆           ┆           ┆           │\n",
       "│ CHÂTEAU    ┆ 0.75     ┆ 16.95      ┆ null      ┆ … ┆ 0       ┆ null      ┆ 0         ┆ 14        │\n",
       "│ BELLE      ┆          ┆            ┆           ┆   ┆         ┆           ┆           ┆           │\n",
       "│ COLINE     ┆          ┆            ┆           ┆   ┆         ┆           ┆           ┆           │\n",
       "│ 2016       ┆          ┆            ┆           ┆   ┆         ┆           ┆           ┆           │\n",
       "│ MORGON -   ┆ 0.75     ┆ 25.5       ┆ null      ┆ … ┆ 0       ┆ null      ┆ 0         ┆ 13        │\n",
       "│ LE CLOS DE ┆          ┆            ┆           ┆   ┆         ┆           ┆           ┆           │\n",
       "│ LYS 2019 - ┆          ┆            ┆           ┆   ┆         ┆           ┆           ┆           │\n",
       "│ D…         ┆          ┆            ┆           ┆   ┆         ┆           ┆           ┆           │\n",
       "└────────────┴──────────┴────────────┴───────────┴───┴─────────┴───────────┴───────────┴───────────┘"
      ]
     },
     "execution_count": 6,
     "metadata": {},
     "output_type": "execute_result"
    }
   ],
   "source": [
    "df.head()"
   ]
  },
  {
   "cell_type": "code",
   "execution_count": 13,
   "metadata": {},
   "outputs": [
    {
     "name": "stderr",
     "output_type": "stream",
     "text": [
      "C:\\Users\\guill\\AppData\\Local\\Temp\\ipykernel_16672\\496122005.py:1: DeprecationWarning: `groupby` is deprecated. It has been renamed to `group_by`.\n",
      "  cepage_counts = df.groupby(\"cepage\").agg(pl.col(\"cepage\").count().alias(\"count\"))\n"
     ]
    },
    {
     "data": {
      "text/html": [
       "<div><style>\n",
       ".dataframe > thead > tr > th,\n",
       ".dataframe > tbody > tr > td {\n",
       "  text-align: right;\n",
       "  white-space: pre-wrap;\n",
       "}\n",
       "</style>\n",
       "<small>shape: (3_617, 40)</small><table border=\"1\" class=\"dataframe\"><thead><tr><th>name</th><th>capacity</th><th>unit_price</th><th>offer_price</th><th>price_bundle</th><th>characteristics</th><th>keywords</th><th>picture</th><th>millesime</th><th>cepage</th><th>gouts</th><th>par_gouts</th><th>oeil</th><th>nez</th><th>bouche</th><th>temp_low</th><th>temp_high</th><th>service</th><th>accords_vins</th><th>accords_reco</th><th>avg_temp</th><th>conservation_date</th><th>keyword_1</th><th>keyword_2</th><th>keyword_3</th><th>bio</th><th>customer_fav</th><th>is_new</th><th>top_100</th><th>destock</th><th>sulphite_free</th><th>alcohol_volume</th><th>type</th><th>country</th><th>iso_code</th><th>bubbles</th><th>wine_note</th><th>nb_reviews</th><th>conservation_time</th><th>count</th></tr><tr><td>str</td><td>f64</td><td>f64</td><td>f64</td><td>str</td><td>str</td><td>list[str]</td><td>str</td><td>i64</td><td>str</td><td>str</td><td>str</td><td>str</td><td>str</td><td>str</td><td>f64</td><td>f64</td><td>str</td><td>str</td><td>str</td><td>f64</td><td>i64</td><td>str</td><td>str</td><td>str</td><td>i32</td><td>i32</td><td>i32</td><td>i32</td><td>i32</td><td>i32</td><td>f64</td><td>str</td><td>str</td><td>str</td><td>i32</td><td>f64</td><td>i64</td><td>i64</td><td>u32</td></tr></thead><tbody><tr><td>&quot;ABYMES 2021 - …</td><td>0.75</td><td>9.5</td><td>null</td><td>&quot;7,60 € par 2&quot;</td><td>&quot;Vin Blanc / Sa…</td><td>[&quot;Intense&quot;, &quot;Minéral&quot;, &quot;Superbe&quot;]</td><td>&quot;https://www.vi…</td><td>2021</td><td>&quot;Jacquère&quot;</td><td>&quot;Blanc Sec soup…</td><td>&quot;Fruité&quot;</td><td>&quot;Robe or blanc …</td><td>&quot;Des arômes de …</td><td>&quot;L&#x27;attaque est …</td><td>8.0</td><td>10.0</td><td>&quot;En bouteille&quot;</td><td>&quot;Apéritif, Entr…</td><td>&quot;Plateau de fru…</td><td>9.0</td><td>2023</td><td>&quot;Intense&quot;</td><td>&quot;Minéral&quot;</td><td>&quot;Superbe&quot;</td><td>0</td><td>0</td><td>0</td><td>0</td><td>0</td><td>0</td><td>11.5</td><td>&quot;Vin Blanc&quot;</td><td>&quot;France&quot;</td><td>&quot;FRA&quot;</td><td>0</td><td>3.975</td><td>10</td><td>2</td><td>27</td></tr><tr><td>&quot;PINOT NOIR 201…</td><td>0.75</td><td>94.9</td><td>null</td><td>null</td><td>&quot;Vin Rouge / Ch…</td><td>[&quot;Elégance&quot;, &quot;Finesse&quot;, &quot;Harmonie&quot;]</td><td>&quot;https://www.vi…</td><td>2019</td><td>&quot;Pinot noir&quot;</td><td>&quot;Rouge Charnu e…</td><td>&quot;Puissant&quot;</td><td>&quot;Robe rubis aux…</td><td>&quot;Nez complexe s…</td><td>&quot;Bouche fruitée…</td><td>8.0</td><td>10.0</td><td>&quot;En bouteille o…</td><td>&quot;Apéritif, Entr…</td><td>&quot;Gigot d&#x27;agneau…</td><td>9.0</td><td>2026</td><td>&quot;Elégance&quot;</td><td>&quot;Finesse&quot;</td><td>&quot;Harmonie&quot;</td><td>0</td><td>0</td><td>0</td><td>0</td><td>0</td><td>0</td><td>13.5</td><td>&quot;Vin Rouge&quot;</td><td>&quot;Chili&quot;</td><td>&quot;CHL&quot;</td><td>0</td><td>null</td><td>0</td><td>7</td><td>318</td></tr><tr><td>&quot;SAUMUR BLANC T…</td><td>0.75</td><td>11.7</td><td>null</td><td>&quot;9,90 € par 2&quot;</td><td>&quot;Vin Blanc / Lo…</td><td>[&quot;Fraîcheur&quot;, &quot;100% Chenin&quot;, &quot;Équilibre&quot;]</td><td>&quot;https://www.vi…</td><td>2022</td><td>&quot;Chenin&quot;</td><td>&quot;Blanc Sec soup…</td><td>&quot;Minéral&quot;</td><td>&quot;Couleur jaune …</td><td>&quot;Arômes de frui…</td><td>&quot;Frais et minér…</td><td>6.0</td><td>8.0</td><td>&quot;En bouteille&quot;</td><td>&quot;Apéritif, Entr…</td><td>&quot;Apéritifs, poi…</td><td>7.0</td><td>2027</td><td>&quot;Fraîcheur&quot;</td><td>&quot;100% Chenin&quot;</td><td>&quot;Équilibre&quot;</td><td>0</td><td>1</td><td>0</td><td>0</td><td>0</td><td>0</td><td>13.0</td><td>&quot;Vin Blanc&quot;</td><td>&quot;France&quot;</td><td>&quot;FRA&quot;</td><td>0</td><td>4.3</td><td>10</td><td>5</td><td>71</td></tr><tr><td>&quot;CHÂTEAU BELLE …</td><td>0.75</td><td>16.95</td><td>null</td><td>&quot;14,40 € par 2&quot;</td><td>&quot;Vin Rouge / Bo…</td><td>[&quot;Fraîcheur&quot;, &quot;Elégant&quot;, &quot;Savoureux&quot;]</td><td>&quot;https://www.vi…</td><td>2016</td><td>&quot;Merlot&quot;</td><td>&quot;Rouge Puissant…</td><td>&quot;Puissant&quot;</td><td>&quot;Robe violette,…</td><td>&quot;Bleuets sauvag…</td><td>&quot;Fraîcheur, élé…</td><td>16.0</td><td>18.0</td><td>&quot;Ouvrir avant l…</td><td>&quot;Apéritif, Char…</td><td>null</td><td>17.0</td><td>2030</td><td>&quot;Fraîcheur&quot;</td><td>&quot;Elégant&quot;</td><td>&quot;Savoureux&quot;</td><td>0</td><td>0</td><td>0</td><td>0</td><td>0</td><td>0</td><td>13.5</td><td>&quot;Vin Rouge&quot;</td><td>&quot;France&quot;</td><td>&quot;FRA&quot;</td><td>0</td><td>null</td><td>0</td><td>14</td><td>375</td></tr><tr><td>&quot;MORGON - LE CL…</td><td>0.75</td><td>25.5</td><td>null</td><td>null</td><td>&quot;Vin Rouge / Be…</td><td>[&quot;Nature&quot;, &quot;Savoureux&quot;, &quot;Vigneron&quot;]</td><td>&quot;https://www.vi…</td><td>2019</td><td>&quot;Gamay&quot;</td><td>&quot;Rouge Léger et…</td><td>&quot;Fruité&quot;</td><td>&quot;Rouge vif.&quot;</td><td>&quot;Des notes de c…</td><td>&quot;Profond, équil…</td><td>13.0</td><td>16.0</td><td>&quot;En bouteille&quot;</td><td>&quot;Apéritif, Char…</td><td>&quot;Poularde de Br…</td><td>14.5</td><td>2032</td><td>&quot;Nature&quot;</td><td>&quot;Savoureux&quot;</td><td>&quot;Vigneron&quot;</td><td>0</td><td>0</td><td>0</td><td>0</td><td>0</td><td>0</td><td>13.0</td><td>&quot;Vin Rouge&quot;</td><td>&quot;France&quot;</td><td>&quot;FRA&quot;</td><td>0</td><td>null</td><td>0</td><td>13</td><td>137</td></tr><tr><td>&quot;GEWURZTRAMINER…</td><td>0.75</td><td>23.0</td><td>null</td><td>null</td><td>&quot;Vin Blanc / Al…</td><td>[&quot;Aromatique&quot;, &quot;Puissant&quot;, &quot;Remarquable&quot;]</td><td>&quot;https://www.vi…</td><td>2020</td><td>&quot;Gewurztraminer…</td><td>&quot;Blanc Demi-sec…</td><td>&quot;Puissant&quot;</td><td>&quot;Dense, couleur…</td><td>&quot;Arômes de frui…</td><td>&quot;Fraîcheur, moe…</td><td>10.0</td><td>10.0</td><td>&quot;En bouteille&quot;</td><td>&quot;Apéritif, entr…</td><td>&quot;Budha bowl, Pa…</td><td>10.0</td><td>2032</td><td>&quot;Aromatique&quot;</td><td>&quot;Puissant&quot;</td><td>&quot;Remarquable&quot;</td><td>1</td><td>0</td><td>0</td><td>0</td><td>0</td><td>0</td><td>12.0</td><td>&quot;Vin Blanc&quot;</td><td>&quot;France&quot;</td><td>&quot;FRA&quot;</td><td>0</td><td>null</td><td>0</td><td>12</td><td>22</td></tr><tr><td>&quot;POMMARD - LES …</td><td>0.75</td><td>41.5</td><td>null</td><td>null</td><td>&quot;Vin Rouge / Bo…</td><td>[&quot;Prix plaisir&quot;, &quot;Domaine montant&quot;]</td><td>&quot;https://www.vi…</td><td>2020</td><td>&quot;Pinot noir&quot;</td><td>&quot;Rouge Elégant …</td><td>&quot;Fruité&quot;</td><td>&quot;Robe rubis pro…</td><td>null</td><td>&quot;Gouleyant et o…</td><td>15.0</td><td>17.0</td><td>&quot;En bouteille&quot;</td><td>&quot;Viande rouge, …</td><td>&quot;Onglet de Bœuf…</td><td>16.0</td><td>2027</td><td>&quot;Prix plaisir&quot;</td><td>&quot;Domaine montan…</td><td>null</td><td>0</td><td>0</td><td>0</td><td>0</td><td>0</td><td>0</td><td>13.0</td><td>&quot;Vin Rouge&quot;</td><td>&quot;France&quot;</td><td>&quot;FRA&quot;</td><td>0</td><td>null</td><td>0</td><td>7</td><td>318</td></tr><tr><td>&quot;ROUSSANNE 2021…</td><td>0.75</td><td>21.8</td><td>null</td><td>null</td><td>&quot;Vin Blanc / Rh…</td><td>[&quot;Gastronomie&quot;, &quot;Exclusivité Vinatis&quot;, &quot;Vigneron Atypique&quot;]</td><td>&quot;https://www.vi…</td><td>2021</td><td>&quot;Roussanne&quot;</td><td>&quot;Blanc Sec très…</td><td>&quot;Fruité&quot;</td><td>&quot;Robe jaune or …</td><td>&quot;Nez de fleurs …</td><td>&quot;Bouche ample, …</td><td>16.0</td><td>18.0</td><td>&quot;Ouvrir avant l…</td><td>&quot;Apéritif, Entr…</td><td>&quot;Brillat savari…</td><td>17.0</td><td>2025</td><td>&quot;Gastronomie&quot;</td><td>&quot;Exclusivité Vi…</td><td>&quot;Vigneron Atypi…</td><td>0</td><td>0</td><td>0</td><td>0</td><td>0</td><td>0</td><td>13.5</td><td>&quot;Vin Blanc&quot;</td><td>&quot;France&quot;</td><td>&quot;FRA&quot;</td><td>0</td><td>null</td><td>0</td><td>4</td><td>41</td></tr><tr><td>&quot;TERRE DE GALET…</td><td>0.75</td><td>15.0</td><td>null</td><td>null</td><td>&quot;Vin Rouge / Rh…</td><td>[&quot;Fruité&quot;, &quot;Complexe&quot;, &quot;Gourmant&quot;]</td><td>&quot;https://www.vi…</td><td>2021</td><td>&quot;Mourvèdre&quot;</td><td>&quot;Rouge Complexe…</td><td>&quot;Fruité&quot;</td><td>&quot;Robe rouge fon…</td><td>&quot;Des arômes de …</td><td>&quot;Gourmand de fr…</td><td>16.0</td><td>18.0</td><td>&quot;Ouvrir avant l…</td><td>&quot;Charcuterie, V…</td><td>&quot;Plateau de cha…</td><td>17.0</td><td>2026</td><td>&quot;Fruité&quot;</td><td>&quot;Complexe&quot;</td><td>&quot;Gourmant&quot;</td><td>1</td><td>0</td><td>0</td><td>0</td><td>0</td><td>0</td><td>14.5</td><td>&quot;Vin Rouge&quot;</td><td>&quot;France&quot;</td><td>&quot;FRA&quot;</td><td>0</td><td>null</td><td>0</td><td>5</td><td>51</td></tr><tr><td>&quot;CHIANTI CLASSI…</td><td>0.75</td><td>46.9</td><td>null</td><td>null</td><td>&quot;Vin Rouge / It…</td><td>[&quot;Harmonieux&quot;, &quot;Caractère&quot;, &quot;Nuancé&quot;]</td><td>&quot;https://www.vi…</td><td>2020</td><td>&quot;Sangiovese&quot;</td><td>&quot;Rouge Elégant …</td><td>&quot;Fruité&quot;</td><td>&quot;Rouge rubis in…</td><td>&quot;Arômes de ceri…</td><td>&quot;La bouche prés…</td><td>16.0</td><td>18.0</td><td>&quot;Passer en cara…</td><td>&quot;Viande rouge, …</td><td>&quot;Viandes gmijot…</td><td>17.0</td><td>2047</td><td>&quot;Harmonieux&quot;</td><td>&quot;Caractère&quot;</td><td>&quot;Nuancé&quot;</td><td>0</td><td>0</td><td>0</td><td>0</td><td>0</td><td>0</td><td>14.0</td><td>&quot;Vin Rouge&quot;</td><td>&quot;Italie&quot;</td><td>&quot;ITA&quot;</td><td>0</td><td>null</td><td>0</td><td>27</td><td>50</td></tr><tr><td>&quot;RIESLING AUSLE…</td><td>0.75</td><td>65.0</td><td>null</td><td>null</td><td>&quot;Vin Blanc / Al…</td><td>[&quot;100% Riesling&quot;, &quot;Cuvée Prestige&quot;, &quot;Vignes de 120 ans&quot;]</td><td>&quot;https://www.vi…</td><td>2020</td><td>&quot;Riesling&quot;</td><td>&quot;Blanc Sec très…</td><td>&quot;Fruité&quot;</td><td>&quot;Robe d&#x27;un clai…</td><td>&quot;Nez complexe a…</td><td>&quot;Concentré avec…</td><td>10.0</td><td>12.0</td><td>&quot;En bouteille o…</td><td>&quot;Apéritif, Entr…</td><td>&quot;Filet de Sole …</td><td>11.0</td><td>2035</td><td>&quot;100% Riesling&quot;</td><td>&quot;Cuvée Prestige…</td><td>&quot;Vignes de 120 …</td><td>0</td><td>0</td><td>0</td><td>0</td><td>0</td><td>0</td><td>12.0</td><td>&quot;Vin Blanc&quot;</td><td>&quot;Allemagne&quot;</td><td>&quot;DEU&quot;</td><td>0</td><td>null</td><td>0</td><td>15</td><td>96</td></tr><tr><td>&quot;MOMENT DE PLAI…</td><td>0.75</td><td>8.0</td><td>null</td><td>&quot;6,95 € par 2&quot;</td><td>&quot;Vin Rosé / Lan…</td><td>[&quot;Fruité&quot;, &quot;Intense&quot;, &quot;Fraicheur&quot;]</td><td>&quot;https://www.vi…</td><td>2022</td><td>&quot;Grenache&quot;</td><td>&quot;Rosé d&#x27;apériti…</td><td>&quot;Fruité&quot;</td><td>&quot;Robe rose très…</td><td>&quot;Notes de fruit…</td><td>&quot;Belle finesse …</td><td>8.0</td><td>12.0</td><td>&quot;Non Renseigné&quot;</td><td>&quot;Apéritif, Entr…</td><td>&quot;Aubergines à l…</td><td>10.0</td><td>2024</td><td>&quot;Fruité&quot;</td><td>&quot;Intense&quot;</td><td>&quot;Fraicheur&quot;</td><td>0</td><td>1</td><td>0</td><td>0</td><td>0</td><td>0</td><td>12.5</td><td>&quot;Vin Rosé&quot;</td><td>&quot;France&quot;</td><td>&quot;FRA&quot;</td><td>0</td><td>4.25</td><td>18</td><td>2</td><td>378</td></tr><tr><td>&hellip;</td><td>&hellip;</td><td>&hellip;</td><td>&hellip;</td><td>&hellip;</td><td>&hellip;</td><td>&hellip;</td><td>&hellip;</td><td>&hellip;</td><td>&hellip;</td><td>&hellip;</td><td>&hellip;</td><td>&hellip;</td><td>&hellip;</td><td>&hellip;</td><td>&hellip;</td><td>&hellip;</td><td>&hellip;</td><td>&hellip;</td><td>&hellip;</td><td>&hellip;</td><td>&hellip;</td><td>&hellip;</td><td>&hellip;</td><td>&hellip;</td><td>&hellip;</td><td>&hellip;</td><td>&hellip;</td><td>&hellip;</td><td>&hellip;</td><td>&hellip;</td><td>&hellip;</td><td>&hellip;</td><td>&hellip;</td><td>&hellip;</td><td>&hellip;</td><td>&hellip;</td><td>&hellip;</td><td>&hellip;</td><td>&hellip;</td></tr><tr><td>&quot;BIB 3L - MÂCON…</td><td>3.0</td><td>32.9</td><td>null</td><td>null</td><td>&quot;Cubi Blanc / B…</td><td>[&quot;Finesse&quot;, &quot;Arômes&quot;, &quot;Format plaisir&quot;]</td><td>&quot;https://www.vi…</td><td>2022</td><td>&quot;Chardonnay&quot;</td><td>&quot;Blanc Sec lége…</td><td>&quot;Sec&quot;</td><td>&quot;Robe or pâle a…</td><td>&quot;Arômes de frui…</td><td>&quot;Bouche vive et…</td><td>12.0</td><td>13.0</td><td>&quot;Non Renseigné&quot;</td><td>&quot;Poisson, Coqui…</td><td>&quot;Filet de sole …</td><td>12.5</td><td>2022</td><td>&quot;Finesse&quot;</td><td>&quot;Arômes&quot;</td><td>&quot;Format plaisir…</td><td>0</td><td>0</td><td>0</td><td>0</td><td>0</td><td>0</td><td>12.5</td><td>&quot;Vin Blanc&quot;</td><td>&quot;France&quot;</td><td>&quot;FRA&quot;</td><td>0</td><td>null</td><td>0</td><td>0</td><td>336</td></tr><tr><td>&quot;FLEURIE - COUP…</td><td>0.75</td><td>23.9</td><td>null</td><td>null</td><td>&quot;Vin Rouge / Be…</td><td>[&quot;Fraîcheur&quot;, &quot;Caractère&quot;, &quot;Corps&quot;]</td><td>&quot;https://www.vi…</td><td>2021</td><td>&quot;Gamay&quot;</td><td>&quot;Rouge Léger et…</td><td>&quot;Fruité&quot;</td><td>&quot;Robe rouge vio…</td><td>&quot;Arômes délicat…</td><td>&quot;Bouche élégant…</td><td>17.0</td><td>18.0</td><td>&quot;En bouteille&quot;</td><td>&quot;Charcuterie, V…</td><td>null</td><td>17.5</td><td>2032</td><td>&quot;Fraîcheur&quot;</td><td>&quot;Caractère&quot;</td><td>&quot;Corps&quot;</td><td>1</td><td>0</td><td>0</td><td>0</td><td>0</td><td>0</td><td>12.0</td><td>&quot;Vin Rouge&quot;</td><td>&quot;France&quot;</td><td>&quot;FRA&quot;</td><td>0</td><td>null</td><td>0</td><td>11</td><td>137</td></tr><tr><td>&quot;BIB 3L - ENTRE…</td><td>3.0</td><td>28.8</td><td>21.9</td><td>null</td><td>&quot;Cubi Blanc / B…</td><td>[&quot;Fruité&quot;, &quot;Expressif&quot;, &quot;Belle longueur&quot;]</td><td>&quot;https://www.vi…</td><td>null</td><td>&quot;Sauvignon blan…</td><td>&quot;Blanc Sec très…</td><td>&quot;Minéral&quot;</td><td>&quot;Belle couleur …</td><td>&quot;Arômes intense…</td><td>&quot;Expressive, fr…</td><td>8.0</td><td>12.0</td><td>&quot;En bouteille&quot;</td><td>&quot;Apéritif, Pois…</td><td>null</td><td>10.0</td><td>2026</td><td>&quot;Fruité&quot;</td><td>&quot;Expressif&quot;</td><td>&quot;Belle longueur…</td><td>0</td><td>0</td><td>0</td><td>0</td><td>1</td><td>0</td><td>13.0</td><td>&quot;Vin Blanc&quot;</td><td>&quot;France&quot;</td><td>&quot;FRA&quot;</td><td>0</td><td>null</td><td>0</td><td>null</td><td>154</td></tr><tr><td>&quot;MINERVOIS BLAN…</td><td>0.75</td><td>7.9</td><td>null</td><td>&quot;5,90 € par 2&quot;</td><td>&quot;Vin Blanc / La…</td><td>[&quot;Aromatique&quot;, &quot;Onctueux&quot;, &quot;Rare&quot;]</td><td>&quot;https://www.vi…</td><td>2022</td><td>&quot;Grenache blanc…</td><td>&quot;Blanc Sec soup…</td><td>&quot;Fruité&quot;</td><td>&quot;Belle robe bri…</td><td>&quot;Arômes de pêch…</td><td>&quot;Bouche ronde e…</td><td>8.0</td><td>11.0</td><td>&quot;Non Renseigné&quot;</td><td>&quot;Apéritif, Entr…</td><td>&quot;Paëlla; Boudin…</td><td>9.5</td><td>2024</td><td>&quot;Aromatique&quot;</td><td>&quot;Onctueux&quot;</td><td>&quot;Rare&quot;</td><td>0</td><td>0</td><td>0</td><td>0</td><td>0</td><td>0</td><td>12.5</td><td>&quot;Vin Blanc&quot;</td><td>&quot;France&quot;</td><td>&quot;FRA&quot;</td><td>0</td><td>4.025</td><td>7</td><td>2</td><td>37</td></tr><tr><td>&quot;DAME HONNEUR 2…</td><td>0.75</td><td>55.0</td><td>null</td><td>null</td><td>&quot;Vin Rouge / Su…</td><td>[&quot;Complexe&quot;, &quot;Sublime&quot;, &quot;Sélection parcellaire&quot;]</td><td>&quot;https://www.vi…</td><td>2019</td><td>&quot;Malbec&quot;</td><td>&quot;Rouge Complexe…</td><td>&quot;Puissant&quot;</td><td>&quot;Robe pourpre p…</td><td>&quot;Arômes de frui…</td><td>&quot;Poivrée et reg…</td><td>16.0</td><td>18.0</td><td>&quot;Ouvrir avant l…</td><td>&quot;Foie gras, Via…</td><td>&quot;Avec un magret…</td><td>17.0</td><td>2025</td><td>&quot;Complexe&quot;</td><td>&quot;Sublime&quot;</td><td>&quot;Sélection parc…</td><td>0</td><td>0</td><td>0</td><td>0</td><td>0</td><td>0</td><td>14.5</td><td>&quot;Vin Rouge&quot;</td><td>&quot;France&quot;</td><td>&quot;FRA&quot;</td><td>0</td><td>null</td><td>0</td><td>6</td><td>65</td></tr><tr><td>&quot;CÔTES DU RHÔNE…</td><td>0.75</td><td>11.5</td><td>null</td><td>&quot;8,90 € par 2&quot;</td><td>&quot;Vin Rouge / Rh…</td><td>[&quot;Intense&quot;, &quot;Charmeur&quot;, &quot;Régal&quot;]</td><td>&quot;https://www.vi…</td><td>2018</td><td>&quot;Grenache&quot;</td><td>&quot;Rouge Puissant…</td><td>&quot;Fruité&quot;</td><td>&quot;Robe d&#x27;un roug…</td><td>&quot;Arômes de frui…</td><td>&quot;La bouche est …</td><td>16.0</td><td>17.0</td><td>&quot;En bouteille&quot;</td><td>&quot;Charcuterie, V…</td><td>&quot;Côtelettes d&#x27;a…</td><td>16.5</td><td>2026</td><td>&quot;Intense&quot;</td><td>&quot;Charmeur&quot;</td><td>&quot;Régal&quot;</td><td>1</td><td>0</td><td>0</td><td>0</td><td>0</td><td>0</td><td>13.5</td><td>&quot;Vin Rouge&quot;</td><td>&quot;France&quot;</td><td>&quot;FRA&quot;</td><td>0</td><td>3.925</td><td>9</td><td>8</td><td>378</td></tr><tr><td>&quot;CHATEAU CANTEM…</td><td>0.75</td><td>27.9</td><td>null</td><td>null</td><td>&quot;Vin Rouge / Bo…</td><td>[&quot;Gourmand&quot;, &quot;Elégant&quot;, &quot;Stylé&quot;]</td><td>&quot;https://www.vi…</td><td>2017</td><td>&quot;Cabernet-Sauvi…</td><td>&quot;Rouge Elégant …</td><td>&quot;Fruité&quot;</td><td>&quot;Belle robe som…</td><td>&quot;D&#x27;abord réserv…</td><td>&quot;Fruité, jeunes…</td><td>16.0</td><td>18.0</td><td>&quot;En bouteille&quot;</td><td>&quot;Charcuterie, V…</td><td>null</td><td>17.0</td><td>2036</td><td>&quot;Gourmand&quot;</td><td>&quot;Elégant&quot;</td><td>&quot;Stylé&quot;</td><td>0</td><td>0</td><td>0</td><td>0</td><td>0</td><td>0</td><td>13.0</td><td>&quot;Vin Rouge&quot;</td><td>&quot;France&quot;</td><td>&quot;FRA&quot;</td><td>0</td><td>null</td><td>0</td><td>19</td><td>240</td></tr><tr><td>&quot;CHÂTEAU MAZEYR…</td><td>0.75</td><td>34.0</td><td>null</td><td>null</td><td>&quot;Vin Rouge / Bo…</td><td>[&quot;Souplesse&quot;, &quot;Tension rafraîchissante&quot;, &quot;Expression du fruit&quot;]</td><td>&quot;https://www.vi…</td><td>2017</td><td>&quot;Merlot&quot;</td><td>&quot;Rouge Elégant …</td><td>null</td><td>&quot;Robe belle et …</td><td>&quot;Juteux, frais,…</td><td>&quot;Sur le fruit, …</td><td>16.0</td><td>18.0</td><td>&quot;Ouvrir avant l…</td><td>&quot;Charcuterie, V…</td><td>&quot;Palombe braisé…</td><td>17.0</td><td>2030</td><td>&quot;Souplesse&quot;</td><td>&quot;Tension rafraî…</td><td>&quot;Expression du …</td><td>1</td><td>0</td><td>0</td><td>0</td><td>0</td><td>0</td><td>13.0</td><td>&quot;Vin Rouge&quot;</td><td>&quot;France&quot;</td><td>&quot;FRA&quot;</td><td>0</td><td>null</td><td>0</td><td>13</td><td>375</td></tr><tr><td>&quot;MERCUREY BLANC…</td><td>0.75</td><td>30.0</td><td>null</td><td>null</td><td>&quot;Vin Blanc / Bo…</td><td>[&quot;Plaisir&quot;, &quot;Délicat&quot;, &quot;Tendresse&quot;]</td><td>&quot;https://www.vi…</td><td>2020</td><td>&quot;Chardonnay&quot;</td><td>&quot;Blanc Sec très…</td><td>&quot;Floral&quot;</td><td>&quot;Robe or pâle.&quot;</td><td>&quot;Un équilibre d…</td><td>&quot;Attaque franch…</td><td>13.0</td><td>14.0</td><td>&quot;En bouteille&quot;</td><td>&quot;Apéritif, Entr…</td><td>&quot;Tartare de Sau…</td><td>13.5</td><td>2029</td><td>&quot;Plaisir&quot;</td><td>&quot;Délicat&quot;</td><td>&quot;Tendresse&quot;</td><td>0</td><td>0</td><td>0</td><td>0</td><td>0</td><td>0</td><td>13.0</td><td>&quot;Vin Blanc&quot;</td><td>&quot;France&quot;</td><td>&quot;FRA&quot;</td><td>0</td><td>null</td><td>0</td><td>9</td><td>336</td></tr><tr><td>&quot;CHABLIS 1ER CR…</td><td>0.75</td><td>27.0</td><td>null</td><td>null</td><td>&quot;Vin Blanc / Bo…</td><td>[&quot;Fruité&quot;, &quot;Minéralité&quot;, &quot;Rondeur&quot;]</td><td>&quot;https://www.vi…</td><td>2022</td><td>&quot;Chardonnay&quot;</td><td>&quot;Blanc Sec soup…</td><td>&quot;Fruité&quot;</td><td>&quot;Jolie robe jau…</td><td>&quot;Nez ouvert sur…</td><td>&quot;Belle attaque,…</td><td>10.0</td><td>12.0</td><td>&quot;En bouteille&quot;</td><td>&quot;Entrée, Coquil…</td><td>&quot;Poissons noble…</td><td>11.0</td><td>2030</td><td>&quot;Fruité&quot;</td><td>&quot;Minéralité&quot;</td><td>&quot;Rondeur&quot;</td><td>1</td><td>0</td><td>1</td><td>0</td><td>0</td><td>0</td><td>13.0</td><td>&quot;Vin Blanc&quot;</td><td>&quot;France&quot;</td><td>&quot;FRA&quot;</td><td>0</td><td>null</td><td>0</td><td>8</td><td>336</td></tr><tr><td>&quot;BAROLO 2018 - …</td><td>0.75</td><td>29.9</td><td>25.9</td><td>null</td><td>&quot;Vin Rouge / It…</td><td>[&quot;Prêt à boire&quot;, &quot;Tanins satinés&quot;, &quot;Pépite Italienne&quot;]</td><td>&quot;https://www.vi…</td><td>2018</td><td>&quot;Nebbiolo&quot;</td><td>&quot;Rouge Complexe…</td><td>&quot;Puissant&quot;</td><td>&quot;Robe grenat&quot;</td><td>&quot;Arômes de ceri…</td><td>&quot;Bouche chaleur…</td><td>16.0</td><td>18.0</td><td>&quot;En bouteille o…</td><td>&quot;Charcuterie, V…</td><td>&quot;Agneau confit,…</td><td>17.0</td><td>2034</td><td>&quot;Prêt à boire&quot;</td><td>&quot;Tanins satinés…</td><td>&quot;Pépite Italien…</td><td>0</td><td>0</td><td>0</td><td>0</td><td>1</td><td>0</td><td>14.5</td><td>&quot;Vin Rouge&quot;</td><td>&quot;Italie&quot;</td><td>&quot;ITA&quot;</td><td>0</td><td>null</td><td>0</td><td>16</td><td>29</td></tr><tr><td>&quot;LANGUEDOC 2021…</td><td>0.75</td><td>10.6</td><td>null</td><td>&quot;8,05 € par 2&quot;</td><td>&quot;Vin Rouge / La…</td><td>[&quot;Rond&quot;, &quot;Vin de Copains&quot;, &quot;Grillades&quot;]</td><td>&quot;https://www.vi…</td><td>2021</td><td>&quot;Grenache&quot;</td><td>&quot;Rouge Puissant…</td><td>&quot;Fruité&quot;</td><td>&quot;Robe grenat fo…</td><td>&quot;Intense et san…</td><td>&quot;Ample et puiss…</td><td>14.0</td><td>16.0</td><td>&quot;En bouteille&quot;</td><td>&quot;Charcuterie, V…</td><td>&quot;Barbecue, plat…</td><td>15.0</td><td>2023</td><td>&quot;Rond&quot;</td><td>&quot;Vin de Copains…</td><td>&quot;Grillades&quot;</td><td>0</td><td>0</td><td>0</td><td>0</td><td>0</td><td>0</td><td>14.0</td><td>&quot;Vin Rouge&quot;</td><td>&quot;France&quot;</td><td>&quot;FRA&quot;</td><td>0</td><td>3.85</td><td>5</td><td>2</td><td>378</td></tr></tbody></table></div>"
      ],
      "text/plain": [
       "shape: (3_617, 40)\n",
       "┌────────────┬──────────┬────────────┬────────────┬───┬───────────┬────────────┬───────────┬───────┐\n",
       "│ name       ┆ capacity ┆ unit_price ┆ offer_pric ┆ … ┆ wine_note ┆ nb_reviews ┆ conservat ┆ count │\n",
       "│ ---        ┆ ---      ┆ ---        ┆ e          ┆   ┆ ---       ┆ ---        ┆ ion_time  ┆ ---   │\n",
       "│ str        ┆ f64      ┆ f64        ┆ ---        ┆   ┆ f64       ┆ i64        ┆ ---       ┆ u32   │\n",
       "│            ┆          ┆            ┆ f64        ┆   ┆           ┆            ┆ i64       ┆       │\n",
       "╞════════════╪══════════╪════════════╪════════════╪═══╪═══════════╪════════════╪═══════════╪═══════╡\n",
       "│ ABYMES     ┆ 0.75     ┆ 9.5        ┆ null       ┆ … ┆ 3.975     ┆ 10         ┆ 2         ┆ 27    │\n",
       "│ 2021 -     ┆          ┆            ┆            ┆   ┆           ┆            ┆           ┆       │\n",
       "│ REMY       ┆          ┆            ┆            ┆   ┆           ┆            ┆           ┆       │\n",
       "│ BERLIOZ    ┆          ┆            ┆            ┆   ┆           ┆            ┆           ┆       │\n",
       "│ PINOT NOIR ┆ 0.75     ┆ 94.9       ┆ null       ┆ … ┆ null      ┆ 0          ┆ 7         ┆ 318   │\n",
       "│ 2019 LAS   ┆          ┆            ┆            ┆   ┆           ┆            ┆           ┆       │\n",
       "│ PIZARRAS - ┆          ┆            ┆            ┆   ┆           ┆            ┆           ┆       │\n",
       "│ E…         ┆          ┆            ┆            ┆   ┆           ┆            ┆           ┆       │\n",
       "│ SAUMUR     ┆ 0.75     ┆ 11.7       ┆ null       ┆ … ┆ 4.3       ┆ 10         ┆ 5         ┆ 71    │\n",
       "│ BLANC      ┆          ┆            ┆            ┆   ┆           ┆            ┆           ┆       │\n",
       "│ TANDEM     ┆          ┆            ┆            ┆   ┆           ┆            ┆           ┆       │\n",
       "│ 2022 -     ┆          ┆            ┆            ┆   ┆           ┆            ┆           ┆       │\n",
       "│ DOMAI…     ┆          ┆            ┆            ┆   ┆           ┆            ┆           ┆       │\n",
       "│ CHÂTEAU    ┆ 0.75     ┆ 16.95      ┆ null       ┆ … ┆ null      ┆ 0          ┆ 14        ┆ 375   │\n",
       "│ BELLE      ┆          ┆            ┆            ┆   ┆           ┆            ┆           ┆       │\n",
       "│ COLINE     ┆          ┆            ┆            ┆   ┆           ┆            ┆           ┆       │\n",
       "│ 2016       ┆          ┆            ┆            ┆   ┆           ┆            ┆           ┆       │\n",
       "│ …          ┆ …        ┆ …          ┆ …          ┆ … ┆ …         ┆ …          ┆ …         ┆ …     │\n",
       "│ MERCUREY   ┆ 0.75     ┆ 30.0       ┆ null       ┆ … ┆ null      ┆ 0          ┆ 9         ┆ 336   │\n",
       "│ BLANC 2020 ┆          ┆            ┆            ┆   ┆           ┆            ┆           ┆       │\n",
       "│ - CHATEAU  ┆          ┆            ┆            ┆   ┆           ┆            ┆           ┆       │\n",
       "│ DE…        ┆          ┆            ┆            ┆   ┆           ┆            ┆           ┆       │\n",
       "│ CHABLIS    ┆ 0.75     ┆ 27.0       ┆ null       ┆ … ┆ null      ┆ 0          ┆ 8         ┆ 336   │\n",
       "│ 1ER CRU    ┆          ┆            ┆            ┆   ┆           ┆            ┆           ┆       │\n",
       "│ FOURCHAUME ┆          ┆            ┆            ┆   ┆           ┆            ┆           ┆       │\n",
       "│ 2022 …     ┆          ┆            ┆            ┆   ┆           ┆            ┆           ┆       │\n",
       "│ BAROLO     ┆ 0.75     ┆ 29.9       ┆ 25.9       ┆ … ┆ null      ┆ 0          ┆ 16        ┆ 29    │\n",
       "│ 2018 -     ┆          ┆            ┆            ┆   ┆           ┆            ┆           ┆       │\n",
       "│ MARIO      ┆          ┆            ┆            ┆   ┆           ┆            ┆           ┆       │\n",
       "│ GIRIBALDI  ┆          ┆            ┆            ┆   ┆           ┆            ┆           ┆       │\n",
       "│ LANGUEDOC  ┆ 0.75     ┆ 10.6       ┆ null       ┆ … ┆ 3.85      ┆ 5          ┆ 2         ┆ 378   │\n",
       "│ 2021 -     ┆          ┆            ┆            ┆   ┆           ┆            ┆           ┆       │\n",
       "│ MATHILDE   ┆          ┆            ┆            ┆   ┆           ┆            ┆           ┆       │\n",
       "│ CHAPOU…    ┆          ┆            ┆            ┆   ┆           ┆            ┆           ┆       │\n",
       "└────────────┴──────────┴────────────┴────────────┴───┴───────────┴────────────┴───────────┴───────┘"
      ]
     },
     "execution_count": 13,
     "metadata": {},
     "output_type": "execute_result"
    }
   ],
   "source": [
    "cepage_counts = df.groupby(\"cepage\").agg(pl.col(\"cepage\").count().alias(\"count\"))\n",
    "cepage_filtre = cepage_counts.filter(cepage_counts[\"count\"] >= 10)\n",
    "df.join(cepage_filtre, on=\"cepage\")"
   ]
  }
 ],
 "metadata": {
  "kernelspec": {
   "display_name": "Python 3",
   "language": "python",
   "name": "python3"
  },
  "language_info": {
   "codemirror_mode": {
    "name": "ipython",
    "version": 3
   },
   "file_extension": ".py",
   "mimetype": "text/x-python",
   "name": "python",
   "nbconvert_exporter": "python",
   "pygments_lexer": "ipython3",
   "version": "3.11.1"
  }
 },
 "nbformat": 4,
 "nbformat_minor": 2
}
