{
 "cells": [
  {
   "cell_type": "code",
   "execution_count": 9,
   "metadata": {},
   "outputs": [],
   "source": [
    "import requests as rq\n",
    "import re\n",
    "from bs4 import BeautifulSoup as BS"
   ]
  },
  {
   "cell_type": "code",
   "execution_count": 10,
   "metadata": {},
   "outputs": [],
   "source": [
    "ADDRESSE = \"https://www.vinatis.com/61101-les-darons-2022-by-jeff-carrel\"\n",
    "ADDRESSE2 =  \"https://www.vinatis.com/42172-pinot-noir-harmonie-bollenberg-2015-domaine-valentin-zusslin\""
   ]
  },
  {
   "cell_type": "code",
   "execution_count": 11,
   "metadata": {},
   "outputs": [],
   "source": [
    "def _scrap_soupe(adresse:str) -> BS:\n",
    "    requete = rq.get(url=adresse, timeout=10)\n",
    "    soupe = BS(requete.text)\n",
    "    return soupe"
   ]
  },
  {
   "cell_type": "code",
   "execution_count": 12,
   "metadata": {},
   "outputs": [],
   "source": [
    "def _scrap_name(soupe:BS) -> str:\n",
    "    name = soupe.find_all(name=\"span\", attrs={\"itemprop\": \"name\"})[0].text\n",
    "    return name"
   ]
  },
  {
   "cell_type": "code",
   "execution_count": 13,
   "metadata": {},
   "outputs": [],
   "source": [
    "def _scrap_capacity(soupe:BS) -> str:\n",
    "    capacity = soupe.find_all(name=\"span\", attrs={\"inline-block\"})[0].text\n",
    "    return capacity"
   ]
  },
  {
   "cell_type": "code",
   "execution_count": 14,
   "metadata": {},
   "outputs": [],
   "source": [
    "def _scrap_price(soupe:BS) -> str:\n",
    "    price = soupe.find_all(name=\"span\", attrs={\"id\" : \"our_price_display\"})[0].text\n",
    "    \n",
    "    try:\n",
    "        price_discount_1 = soupe.find_all(name=\"span\", attrs={\"id\" : \"quantity_discount_pretaxe\"})[0].text\n",
    "    except:\n",
    "        price_discount_1 = None\n",
    "        \n",
    "    try:\n",
    "        price_discount_2 = soupe.find_all(name=\"span\", attrs={\"id\" : \"quantity_discount_pretaxe\"})[1].text\n",
    "    except:\n",
    "        price_discount_2 = None\n",
    "    return price, price_discount_1, price_discount_2"
   ]
  },
  {
   "cell_type": "code",
   "execution_count": 15,
   "metadata": {},
   "outputs": [],
   "source": [
    "def _scrap_characteristic(soupe:BS)->str:\n",
    "    characteristic = soupe.find_all(name=\"span\", attrs={\"class\": \"no-padding-horizontal\"})[0].text\n",
    "    return characteristic"
   ]
  },
  {
   "cell_type": "code",
   "execution_count": 16,
   "metadata": {},
   "outputs": [],
   "source": [
    "def _scrap_note(soupe:BS)-> str:\n",
    "    note = soupe.find_all(name=\"div\", attrs={\"class\": \"col-xs-12 padding-bottom-10\"})[0].text\n",
    "    return note"
   ]
  },
  {
   "cell_type": "code",
   "execution_count": 17,
   "metadata": {},
   "outputs": [],
   "source": [
    "def _scrap_keyword(soupe:BS)-> list:\n",
    "    keyword = []\n",
    "    class_k = \"margin-right margin-bottom bg-gray-dark taille-md padding-horizontal-30 padding-vertical-5 rounded-corner-3 label\"\n",
    "    result = soupe.find_all(name = \"span\", attrs={\"class\": class_k})\n",
    "    for res in result:\n",
    "        keyword.append(res.text)\n",
    "    return keyword\n"
   ]
  },
  {
   "cell_type": "code",
   "execution_count": 18,
   "metadata": {},
   "outputs": [],
   "source": [
    "def _scrap_informations(soupe:BS) -> str:\n",
    "    class_ = \"table-cell-css vertical-align-top padding-vertical-5 taille-xs color-gray-darker text-bold\"\n",
    "    vintage = soupe.find_all(name=\"div\", attrs={\"class\": class_})[0].text\n",
    "    grap_variety = soupe.find_all(name=\"div\", attrs={\"class\": class_})[1].text\n",
    "    \n",
    "    taste = soupe.find_all(name=\"div\", attrs={\"class\": class_})[2].text\n",
    "    taste_group = soupe.find_all(name=\"div\", attrs={\"class\": class_})[3].text\n",
    "    eyes = soupe.find_all(name=\"div\", attrs={\"class\": class_})[4].text\n",
    "    nose = soupe.find_all(name=\"div\", attrs={\"class\": class_})[5].text\n",
    "    mouth = soupe.find_all(name=\"div\", attrs={\"class\": class_})[6].text\n",
    "    \n",
    "    temperature = soupe.find_all(name=\"div\", attrs={\"class\": class_})[7].text\n",
    "    indication = soupe.find_all(name=\"div\", attrs={\"class\": class_})[8].text\n",
    "    conservation = soupe.find_all(name=\"div\", attrs={\"class\": class_})[9].text\n",
    "    max_date = soupe.find_all(name=\"div\", attrs={\"class\": class_})[10].text\n",
    "    \n",
    "    accompaniement = soupe.find_all(name=\"div\", attrs={\"class\": class_})[11].text\n",
    "    \n",
    "    return vintage, grap_variety, taste, taste_group, eyes, nose, mouth, temperature, indication, conservation, max_date, accompaniement"
   ]
  },
  {
   "cell_type": "code",
   "execution_count": 19,
   "metadata": {},
   "outputs": [],
   "source": [
    "def _scrap_img(soupe:BS) -> str:\n",
    "    picture = soupe.find(name = \"img\", attrs={\"class\":\"img-full-width img-max-450 center-block\"}).get('src')\n",
    "    return picture"
   ]
  },
  {
   "cell_type": "code",
   "execution_count": 20,
   "metadata": {},
   "outputs": [],
   "source": [
    "from dataclasses import dataclass\n",
    "from serde import serialize\n",
    "from serde.json import to_json\n",
    "\n",
    "@serialize\n",
    "@dataclass\n",
    "class Vin:\n",
    "    \"\"\"This dataclass represents all characteristics associated with a Wine.\"\"\"\n",
    "\n",
    "    name: str\n",
    "    capacity: str\n",
    "    prices : str\n",
    "    characteristic : str\n",
    "    note: str\n",
    "    keyword : str\n",
    "    informations : str\n",
    "    picture : str\n"
   ]
  },
  {
   "cell_type": "code",
   "execution_count": 21,
   "metadata": {},
   "outputs": [],
   "source": [
    "def _scraping(adresse):\n",
    "    soupe = _scrap_soupe(adresse)\n",
    "    \n",
    "    results = Vin(\n",
    "        _scrap_name(soupe),\n",
    "        _scrap_capacity(soupe),\n",
    "        _scrap_price(soupe),\n",
    "        _scrap_characteristic(soupe),\n",
    "        _scrap_note(soupe),\n",
    "        _scrap_keyword(soupe),\n",
    "        _scrap_informations(soupe),\n",
    "        _scrap_img(soupe)\n",
    "        )\n",
    "    \n",
    "    return results"
   ]
  },
  {
   "cell_type": "code",
   "execution_count": 22,
   "metadata": {},
   "outputs": [],
   "source": [
    "def json_brut(adresse):\n",
    "    vins = _scraping(adresse)\n",
    "    vins_json = to_json(vins)\n",
    "    \n",
    "    file_path = \"data/vins.json\"\n",
    "\n",
    "    with open(file_path, \"w\",  encoding='utf-8') as json_file:\n",
    "        json_file.write(vins_json)"
   ]
  },
  {
   "cell_type": "code",
   "execution_count": 23,
   "metadata": {},
   "outputs": [],
   "source": [
    "json_brut(ADDRESSE2)"
   ]
  },
  {
   "cell_type": "code",
   "execution_count": 24,
   "metadata": {},
   "outputs": [],
   "source": [
    "import src.modules.scraping as sc"
   ]
  },
  {
   "cell_type": "code",
   "execution_count": 25,
   "metadata": {},
   "outputs": [
    {
     "name": "stderr",
     "output_type": "stream",
     "text": [
      "c:\\Users\\guill\\OneDrive - Université de Tours\\Bureau\\M2\\ML\\Wine-Scraping\\src\\modules\\scraping.py:9: GuessedAtParserWarning: No parser was explicitly specified, so I'm using the best available HTML parser for this system (\"lxml\"). This usually isn't a problem, but if you run this code on another system, or in a different virtual environment, it may use a different parser and behave differently.\n",
      "\n",
      "The code that caused this warning is on line 9 of the file c:\\Users\\guill\\OneDrive - Université de Tours\\Bureau\\M2\\ML\\Wine-Scraping\\src\\modules\\scraping.py. To get rid of this warning, pass the additional argument 'features=\"lxml\"' to the BeautifulSoup constructor.\n",
      "\n",
      "  soupe = BS(requete.text)\n"
     ]
    },
    {
     "data": {
      "text/plain": [
       "Vin(name='MONSIEUR N ROUGE - GRENACHE, SYRAH - MAISON FRANÇOIS-XAVIER NICOLAS', capacity=' 0,75 L ', prices=('  7,00 €    ', ' 6,30 € ', None), characteristic='Vin Rouge / Vin de France / 13,5 % vol', note='', keyword=['Gourmandise', 'Grenache', 'Syrah'], informations=(' non millésimé', ' Grenache, Syrah', ' Rouge Charnu et fruité', ' Fruité', ' Robe pourpre aux reflets vifs', \" Nez intense de fruits rouges (framboises) et des notes d'épices douces\", ' Le grenache apporte une bouche très riche et équilibrée, toute en rondeur et offre des arômes de coulis de petits fruits frais. la Syrah, elle, apporte le côté fruits sauvages et floral (cassis et violette)', ' 17-18°C', ' En bouteille', ' A boire et à garder', ' 2028', ' Apéritif, Charcuterie, Viande rouge, Viande blanche, Volaille, Barbecue, Cuisine du monde'), picture='https://www.vinatis.com/78203-detail_default/monsieur-n-rouge-grenache-syrah-maison-francois-xavier-nicolas.png')"
      ]
     },
     "execution_count": 25,
     "metadata": {},
     "output_type": "execute_result"
    }
   ],
   "source": [
    "sc.scraping(\"https://www.vinatis.com/60060-monsieur-n-rouge-grenache-syrah-maison-francois-xavier-nicolas\")"
   ]
  },
  {
   "cell_type": "code",
   "execution_count": 159,
   "metadata": {},
   "outputs": [],
   "source": [
    "def _scrap_informations(soupe:BS) -> str:\n",
    "    class_n = \"table-cell-css vertical-align-top padding-vertical-5 nowrap padding-right-10 taille-xs color-gray-darker\"\n",
    "    class_value = \"table-cell-css vertical-align-top padding-vertical-5 taille-xs color-gray-darker text-bold\"\n",
    "    \n",
    "    details = [' \\xa0\\xa0Millésime',' \\xa0\\xa0Cépage',' \\xa0\\xa0Goûts',\n",
    "           ' \\xa0\\xa0Par Goûts', \" \\xa0\\xa0A l'oeil\", ' \\xa0\\xa0Au nez',\n",
    "           ' \\xa0\\xa0En bouche',' \\xa0\\xa0Température de service',' \\xa0\\xa0Service', \n",
    "           ' \\xa0\\xa0Conservation', \" \\xa0\\xa0Jusqu'à\", ' \\xa0\\xa0Accords mets-vin',\n",
    "           ' \\xa0\\xa0Accords recommandés']\n",
    "   \n",
    "    dictionnaire_vin = {\n",
    "        ' \\xa0\\xa0Millésime': [],\n",
    "        ' \\xa0\\xa0Cépage': [],\n",
    "        ' \\xa0\\xa0Goûts': [],\n",
    "        ' \\xa0\\xa0Par Goûts': [],\n",
    "        \" \\xa0\\xa0A l'oeil\": [],\n",
    "        ' \\xa0\\xa0Au nez': [],\n",
    "        ' \\xa0\\xa0En bouche': [],\n",
    "        ' \\xa0\\xa0Température de service': [],\n",
    "        ' \\xa0\\xa0Service': [],\n",
    "        ' \\xa0\\xa0Conservation': [],\n",
    "        \" \\xa0\\xa0Jusqu'à\": [],\n",
    "        ' \\xa0\\xa0Accords mets-vin': [],\n",
    "        ' \\xa0\\xa0Accords recommandés': []\n",
    "    }\n",
    "   \n",
    "    place_element = soupe.find_all(name=\"div\", attrs={\"class\": class_n})\n",
    "    value_element = soupe.find_all(name=\"div\", attrs={\"class\": class_value})\n",
    "    details_page = [place_element[i].text for i in range(len(place_element))]\n",
    "    value_page = [value_element[i].text for i in range(len(value_element))]\n",
    "    \n",
    "    j = 0\n",
    "    for i, detail in zip(range(13),details):\n",
    "        try:\n",
    "            details_page.index(details[i])\n",
    "            dictionnaire_vin[detail] = value_page[j]\n",
    "            j = j+1\n",
    "        except:\n",
    "            dictionnaire_vin[detail] = None\n",
    "        \n",
    "    \n",
    "    return dictionnaire_vin"
   ]
  },
  {
   "cell_type": "code",
   "execution_count": 160,
   "metadata": {},
   "outputs": [
    {
     "data": {
      "text/plain": [
       "{' \\xa0\\xa0Millésime': ' 2020',\n",
       " ' \\xa0\\xa0Cépage': None,\n",
       " ' \\xa0\\xa0Goûts': ' Rouge Puissant et généreux',\n",
       " ' \\xa0\\xa0Par Goûts': ' Puissant',\n",
       " \" \\xa0\\xa0A l'oeil\": ' Belle robe grenat.',\n",
       " ' \\xa0\\xa0Au nez': ' Complexe et très gourmand sur les fruits mûrs et compotés complété par des nuances épicées.',\n",
       " ' \\xa0\\xa0En bouche': ' Une bouche intense et structurée, aux saveurs de fruits (fruits rouges, pruneaux, figue), et jolies notes épicées en finale.',\n",
       " ' \\xa0\\xa0Température de service': ' 16-18°C',\n",
       " ' \\xa0\\xa0Service': ' Ouvrir 1h avant le service',\n",
       " ' \\xa0\\xa0Conservation': ' A boire et à garder',\n",
       " \" \\xa0\\xa0Jusqu'à\": ' 2032',\n",
       " ' \\xa0\\xa0Accords mets-vin': ' Charcuterie, Viande rouge, Viande blanche, Barbecue, Cuisine du monde, Fromage',\n",
       " ' \\xa0\\xa0Accords recommandés': ' Grillades, entrecôte, sauté de canard, poivrons farcis, risotto au chorizo'}"
      ]
     },
     "execution_count": 160,
     "metadata": {},
     "output_type": "execute_result"
    }
   ],
   "source": [
    "soupe = _scrap_soupe(\"https://www.vinatis.com/52605-vacqueyras-vieilles-vignes-2020-domaine-sandilaure\")\n",
    "_scrap_informations(soupe)"
   ]
  },
  {
   "cell_type": "code",
   "execution_count": 129,
   "metadata": {},
   "outputs": [],
   "source": [
    "class_n = \"table-cell-css vertical-align-top padding-vertical-5 nowrap padding-right-10 taille-xs color-gray-darker\"\n",
    "class_value = \"table-cell-css vertical-align-top padding-vertical-5 taille-xs color-gray-darker text-bold\""
   ]
  },
  {
   "cell_type": "code",
   "execution_count": 130,
   "metadata": {},
   "outputs": [],
   "source": [
    "details = [' \\xa0\\xa0Millésime',' \\xa0\\xa0Cépage',' \\xa0\\xa0Goûts',\n",
    "           ' \\xa0\\xa0Par Goûts', \" \\xa0\\xa0A l'oeil\", ' \\xa0\\xa0Au nez',\n",
    "           ' \\xa0\\xa0En bouche',' \\xa0\\xa0Température de service',' \\xa0\\xa0Service', \n",
    "           ' \\xa0\\xa0Conservation', \" \\xa0\\xa0Jusqu'à\", ' \\xa0\\xa0Accords mets-vin',\n",
    "           ' \\xa0\\xa0Accords recommandés']"
   ]
  },
  {
   "cell_type": "code",
   "execution_count": 131,
   "metadata": {},
   "outputs": [],
   "source": [
    "place_element = soupe.find_all(name=\"div\", attrs={\"class\": class_n})\n",
    "value_element = soupe.find_all(name=\"div\", attrs={\"class\": class_value})\n",
    "details_page = [place_element[i].text for i in range(len(place_element))]\n",
    "value_page = [value_element[i].text for i in range(len(value_element))]"
   ]
  },
  {
   "cell_type": "code",
   "execution_count": 122,
   "metadata": {},
   "outputs": [],
   "source": [
    "dictionnaire_vin = {\n",
    "    ' \\xa0\\xa0Millésime': [],\n",
    "    ' \\xa0\\xa0Cépage': [],\n",
    "    ' \\xa0\\xa0Goûts': [],\n",
    "    ' \\xa0\\xa0Par Goûts': [],\n",
    "    \" \\xa0\\xa0A l'oeil\": [],\n",
    "    ' \\xa0\\xa0Au nez': [],\n",
    "    ' \\xa0\\xa0En bouche': [],\n",
    "    ' \\xa0\\xa0Température de service': [],\n",
    "    ' \\xa0\\xa0Service': [],\n",
    "    ' \\xa0\\xa0Conservation': [],\n",
    "    \" \\xa0\\xa0Jusqu'à\": [],\n",
    "    ' \\xa0\\xa0Accords mets-vin': [],\n",
    "    ' \\xa0\\xa0Accords recommandés': []\n",
    "}"
   ]
  },
  {
   "cell_type": "code",
   "execution_count": 154,
   "metadata": {},
   "outputs": [],
   "source": [
    "j = 0\n",
    "for i, detail in zip(range(13),details):\n",
    "    try:\n",
    "        details_page.index(details[i])\n",
    "        dictionnaire_vin[detail] = value_page[j]\n",
    "        j = j+1\n",
    "    except:\n",
    "        dictionnaire_vin[detail] = None\n",
    "    "
   ]
  },
  {
   "cell_type": "code",
   "execution_count": 156,
   "metadata": {},
   "outputs": [
    {
     "data": {
      "text/plain": [
       "{' \\xa0\\xa0Millésime': ' 2020',\n",
       " ' \\xa0\\xa0Cépage': None,\n",
       " ' \\xa0\\xa0Goûts': ' Rouge Puissant et généreux',\n",
       " ' \\xa0\\xa0Par Goûts': ' Puissant',\n",
       " \" \\xa0\\xa0A l'oeil\": ' Belle robe grenat.',\n",
       " ' \\xa0\\xa0Au nez': ' Complexe et très gourmand sur les fruits mûrs et compotés complété par des nuances épicées.',\n",
       " ' \\xa0\\xa0En bouche': ' Une bouche intense et structurée, aux saveurs de fruits (fruits rouges, pruneaux, figue), et jolies notes épicées en finale.',\n",
       " ' \\xa0\\xa0Température de service': ' 16-18°C',\n",
       " ' \\xa0\\xa0Service': ' Ouvrir 1h avant le service',\n",
       " ' \\xa0\\xa0Conservation': ' A boire et à garder',\n",
       " \" \\xa0\\xa0Jusqu'à\": ' 2032',\n",
       " ' \\xa0\\xa0Accords mets-vin': ' Charcuterie, Viande rouge, Viande blanche, Barbecue, Cuisine du monde, Fromage',\n",
       " ' \\xa0\\xa0Accords recommandés': ' Grillades, entrecôte, sauté de canard, poivrons farcis, risotto au chorizo'}"
      ]
     },
     "execution_count": 156,
     "metadata": {},
     "output_type": "execute_result"
    }
   ],
   "source": [
    "dictionnaire_vin"
   ]
  },
  {
   "cell_type": "code",
   "execution_count": 1,
   "metadata": {},
   "outputs": [],
   "source": [
    "import src.modules.scraping as sc"
   ]
  },
  {
   "cell_type": "code",
   "execution_count": 2,
   "metadata": {},
   "outputs": [
    {
     "name": "stderr",
     "output_type": "stream",
     "text": [
      "c:\\Users\\guill\\OneDrive - Université de Tours\\Bureau\\M2\\ML\\Wine-Scraping\\src\\modules\\scraping.py:9: GuessedAtParserWarning: No parser was explicitly specified, so I'm using the best available HTML parser for this system (\"lxml\"). This usually isn't a problem, but if you run this code on another system, or in a different virtual environment, it may use a different parser and behave differently.\n",
      "\n",
      "The code that caused this warning is on line 9 of the file c:\\Users\\guill\\OneDrive - Université de Tours\\Bureau\\M2\\ML\\Wine-Scraping\\src\\modules\\scraping.py. To get rid of this warning, pass the additional argument 'features=\"lxml\"' to the BeautifulSoup constructor.\n",
      "\n",
      "  soupe = BS(requete.text)\n"
     ]
    },
    {
     "data": {
      "text/plain": [
       "Vin(name='VACQUEYRAS VIEILLES VIGNES 2020 - DOMAINE SANDILAURE', capacity=' 0,75 L ', prices=('  15,50 €    ', ' 11,90 € ', None), characteristic='Vin Rouge / Rhône / Vacqueyras AOC / 14 % vol', note=' 16.9/20  noté par 13 clients ', keyword=['Epicé', 'Charpenté', 'Maison incontournable'], informations={' \\xa0\\xa0Millésime': ' 2020', ' \\xa0\\xa0Cépage': None, ' \\xa0\\xa0Goûts': ' Rouge Puissant et généreux', ' \\xa0\\xa0Par Goûts': ' Puissant', \" \\xa0\\xa0A l'oeil\": ' Belle robe grenat.', ' \\xa0\\xa0Au nez': ' Complexe et très gourmand sur les fruits mûrs et compotés complété par des nuances épicées.', ' \\xa0\\xa0En bouche': ' Une bouche intense et structurée, aux saveurs de fruits (fruits rouges, pruneaux, figue), et jolies notes épicées en finale.', ' \\xa0\\xa0Température de service': ' 16-18°C', ' \\xa0\\xa0Service': ' Ouvrir 1h avant le service', ' \\xa0\\xa0Conservation': ' A boire et à garder', \" \\xa0\\xa0Jusqu'à\": ' 2032', ' \\xa0\\xa0Accords mets-vin': ' Charcuterie, Viande rouge, Viande blanche, Barbecue, Cuisine du monde, Fromage', ' \\xa0\\xa0Accords recommandés': ' Grillades, entrecôte, sauté de canard, poivrons farcis, risotto au chorizo'}, picture='https://www.vinatis.com/65936-detail_default/vacqueyras-vieilles-vignes-2020-domaine-sandilaure.png')"
      ]
     },
     "execution_count": 2,
     "metadata": {},
     "output_type": "execute_result"
    }
   ],
   "source": [
    "sc.scraping(\"https://www.vinatis.com/52605-vacqueyras-vieilles-vignes-2020-domaine-sandilaure\")"
   ]
  },
  {
   "cell_type": "code",
   "execution_count": 3,
   "metadata": {},
   "outputs": [
    {
     "name": "stderr",
     "output_type": "stream",
     "text": [
      "c:\\Users\\guill\\OneDrive - Université de Tours\\Bureau\\M2\\ML\\Wine-Scraping\\src\\modules\\scraping.py:9: GuessedAtParserWarning: No parser was explicitly specified, so I'm using the best available HTML parser for this system (\"lxml\"). This usually isn't a problem, but if you run this code on another system, or in a different virtual environment, it may use a different parser and behave differently.\n",
      "\n",
      "The code that caused this warning is on line 9 of the file c:\\Users\\guill\\OneDrive - Université de Tours\\Bureau\\M2\\ML\\Wine-Scraping\\src\\modules\\scraping.py. To get rid of this warning, pass the additional argument 'features=\"lxml\"' to the BeautifulSoup constructor.\n",
      "\n",
      "  soupe = BS(requete.text)\n"
     ]
    }
   ],
   "source": [
    "sc.json_brut(sc.scraping(\"https://www.vinatis.com/52605-vacqueyras-vieilles-vignes-2020-domaine-sandilaure\"))"
   ]
  }
 ],
 "metadata": {
  "kernelspec": {
   "display_name": "Python 3",
   "language": "python",
   "name": "python3"
  },
  "language_info": {
   "codemirror_mode": {
    "name": "ipython",
    "version": 3
   },
   "file_extension": ".py",
   "mimetype": "text/x-python",
   "name": "python",
   "nbconvert_exporter": "python",
   "pygments_lexer": "ipython3",
   "version": "3.11.1"
  }
 },
 "nbformat": 4,
 "nbformat_minor": 2
}
