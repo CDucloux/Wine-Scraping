{
 "cells": [
  {
   "cell_type": "code",
   "execution_count": 1,
   "metadata": {},
   "outputs": [],
   "source": [
    "from src.modules.vin_dataclass import Vin\n",
    "import src.modules.data_extractor as de\n",
    "from bs4 import BeautifulSoup as BS\n",
    "from pathlib import Path\n",
    "from serde.json import to_json\n",
    "import polars as pl"
   ]
  },
  {
   "cell_type": "code",
   "execution_count": 2,
   "metadata": {},
   "outputs": [],
   "source": [
    "racine = Path(\".\").resolve()\n",
    "test_pages = racine / \"test_pages\""
   ]
  },
  {
   "cell_type": "code",
   "execution_count": 3,
   "metadata": {},
   "outputs": [],
   "source": [
    "htmls = list()\n",
    "for chemin in test_pages.glob(\"*.html\"):\n",
    "    htmls.append(chemin.read_text(encoding=\"utf8\"))"
   ]
  },
  {
   "cell_type": "code",
   "execution_count": 4,
   "metadata": {},
   "outputs": [],
   "source": [
    "vins = list()\n",
    "for html in htmls:\n",
    "    soupe = BS(html)\n",
    "    for (item_1, item_2, item_3, item_4) in zip(\n",
    "        de.extract_result(soupe)[\"result_title\"], \n",
    "        de.extract_result(soupe)[\"result_price\"], \n",
    "        de.extract_result(soupe)[\"result_avis\"],\n",
    "        de.extract_result(soupe)[\"result_type\"]\n",
    "    ):\n",
    "        vins.append(de.extract_vin(item_1, item_2, item_3, item_4))"
   ]
  },
  {
   "cell_type": "code",
   "execution_count": 5,
   "metadata": {},
   "outputs": [],
   "source": [
    "vins_json = to_json(vins)"
   ]
  },
  {
   "cell_type": "code",
   "execution_count": 6,
   "metadata": {},
   "outputs": [],
   "source": [
    "file_path = \"data/vins.json\"\n",
    "\n",
    "with open(file_path, \"w\",  encoding='utf-8') as json_file:\n",
    "    json_file.write(vins_json)"
   ]
  },
  {
   "cell_type": "code",
   "execution_count": 7,
   "metadata": {},
   "outputs": [
    {
     "data": {
      "text/html": [
       "<div><style>\n",
       ".dataframe > thead > tr > th,\n",
       ".dataframe > tbody > tr > td {\n",
       "  text-align: right;\n",
       "  white-space: pre-wrap;\n",
       "}\n",
       "</style>\n",
       "<small>shape: (134, 9)</small><table border=\"1\" class=\"dataframe\"><thead><tr><th>name</th><th>capacity</th><th>year</th><th>price</th><th>promo</th><th>prix_promo</th><th>note</th><th>nb_avis</th><th>type</th></tr><tr><td>str</td><td>f64</td><td>i64</td><td>f64</td><td>str</td><td>f64</td><td>f64</td><td>i64</td><td>str</td></tr></thead><tbody><tr><td>&quot;BLANC 2022 - D…</td><td>0.75</td><td>2022</td><td>28.45</td><td>&quot;-22%&quot;</td><td>null</td><td>null</td><td>0</td><td>&quot;VIN BLANC&quot;</td></tr><tr><td>&quot;DESTINEA 2022 …</td><td>0.75</td><td>2022</td><td>11.9</td><td>&quot;-34%&quot;</td><td>7.8</td><td>16.8</td><td>5</td><td>&quot;VIN BLANC&quot;</td></tr><tr><td>&quot;COLOMBARD-SAUV…</td><td>0.75</td><td>2022</td><td>7.5</td><td>&quot;-34%&quot;</td><td>4.95</td><td>17.0</td><td>188</td><td>&quot;VIN BLANC&quot;</td></tr><tr><td>&quot;POUILLY FUME 2…</td><td>0.75</td><td>2022</td><td>14.9</td><td>&quot;-21%&quot;</td><td>11.75</td><td>17.3</td><td>7</td><td>&quot;VIN BLANC&quot;</td></tr><tr><td>&quot;PAS VU PAS PRI…</td><td>0.75</td><td>2022</td><td>9.9</td><td>&quot;-27%&quot;</td><td>7.2</td><td>16.6</td><td>11</td><td>&quot;VIN BLANC&quot;</td></tr><tr><td>&quot;L&#x27;ETE GASCON B…</td><td>0.75</td><td>2022</td><td>10.5</td><td>&quot;-33%&quot;</td><td>6.95</td><td>16.7</td><td>6</td><td>&quot;VIN BLANC&quot;</td></tr><tr><td>&quot;COLOMBARD-SAUV…</td><td>0.75</td><td>2022</td><td>7.5</td><td>&quot;-34%&quot;</td><td>4.95</td><td>17.0</td><td>188</td><td>&quot;VIN BLANC&quot;</td></tr><tr><td>&quot;LE BAL DES PAP…</td><td>0.75</td><td>2022</td><td>67.3</td><td>&quot;-25%&quot;</td><td>null</td><td>18.0</td><td>63</td><td>&quot;VIN BLANC&quot;</td></tr><tr><td>&quot;CHARDONNAY VIO…</td><td>0.75</td><td>2021</td><td>7.6</td><td>&quot;-34%&quot;</td><td>5.0</td><td>16.3</td><td>19</td><td>&quot;VIN BLANC&quot;</td></tr><tr><td>&quot;COLOMBARD-SAUV…</td><td>0.75</td><td>2022</td><td>65.7</td><td>&quot;-25%&quot;</td><td>null</td><td>16.8</td><td>67</td><td>&quot;VIN BLANC&quot;</td></tr><tr><td>&quot;GRAND ARDECHE …</td><td>0.75</td><td>2021</td><td>17.9</td><td>&quot;-27%&quot;</td><td>12.9</td><td>17.1</td><td>12</td><td>&quot;VIN BLANC&quot;</td></tr><tr><td>&quot;PREMIERES GRIV…</td><td>0.75</td><td>2022</td><td>69.6</td><td>&quot;-20%&quot;</td><td>null</td><td>18.0</td><td>46</td><td>&quot;VIN BLANC&quot;</td></tr><tr><td>&hellip;</td><td>&hellip;</td><td>&hellip;</td><td>&hellip;</td><td>&hellip;</td><td>&hellip;</td><td>&hellip;</td><td>&hellip;</td><td>&hellip;</td></tr><tr><td>&quot;COTES DU RHONE…</td><td>0.75</td><td>2019</td><td>7.99</td><td>&quot;-27%&quot;</td><td>5.8</td><td>15.7</td><td>149</td><td>&quot;VIN ROUGE&quot;</td></tr><tr><td>&quot;LA TERRE DU MI…</td><td>0.75</td><td>2020</td><td>10.3</td><td>&quot;-32%&quot;</td><td>6.95</td><td>16.7</td><td>20</td><td>&quot;VIN ROUGE&quot;</td></tr><tr><td>&quot;MORGON  - LES …</td><td>0.75</td><td>2022</td><td>11.99</td><td>&quot;-30%&quot;</td><td>8.35</td><td>18.0</td><td>2</td><td>&quot;VIN ROUGE&quot;</td></tr><tr><td>&quot;IGP VAUCLUSE R…</td><td>0.75</td><td>null</td><td>25.9</td><td>&quot;-30%&quot;</td><td>null</td><td>15.7</td><td>43</td><td>&quot;VIN ROUGE&quot;</td></tr><tr><td>&quot;CÔTES DU RHÔNE…</td><td>0.75</td><td>2019</td><td>210.8</td><td>&quot;-20%&quot;</td><td>null</td><td>16.1</td><td>53</td><td>&quot;VIN ROUGE&quot;</td></tr><tr><td>&quot;RIOJA RESERVA …</td><td>0.75</td><td>2018</td><td>17.9</td><td>&quot;-30%&quot;</td><td>12.5</td><td>16.4</td><td>17</td><td>&quot;VIN ROUGE&quot;</td></tr><tr><td>&quot;CHATEAU TOUR B…</td><td>0.75</td><td>2020</td><td>13.0</td><td>&quot;-23%&quot;</td><td>9.9</td><td>17.0</td><td>1</td><td>&quot;VIN ROUGE&quot;</td></tr><tr><td>&quot;LIRAC 2019 - X…</td><td>0.75</td><td>2019</td><td>11.95</td><td>&quot;-34%&quot;</td><td>7.8</td><td>16.3</td><td>152</td><td>&quot;VIN ROUGE&quot;</td></tr><tr><td>&quot;BASTIDE MIRAFL…</td><td>0.75</td><td>2020</td><td>6.5</td><td>&quot;-33%&quot;</td><td>4.3</td><td>16.1</td><td>9</td><td>&quot;VIN ROUGE&quot;</td></tr><tr><td>&quot;LE TRIPORTEUR …</td><td>0.75</td><td>2020</td><td>7.9</td><td>&quot;-29%&quot;</td><td>5.6</td><td>15.6</td><td>94</td><td>&quot;VIN ROUGE&quot;</td></tr><tr><td>&quot;VIGNÉ-LOURAC -…</td><td>0.75</td><td>2021</td><td>12.5</td><td>&quot;-33%&quot;</td><td>8.3</td><td>17.0</td><td>13</td><td>&quot;VIN ROUGE&quot;</td></tr><tr><td>&quot;LE TIGRE 2020 …</td><td>0.75</td><td>2020</td><td>16.9</td><td>&quot;-23%&quot;</td><td>12.9</td><td>17.5</td><td>2</td><td>&quot;VIN ROUGE&quot;</td></tr></tbody></table></div>"
      ],
      "text/plain": [
       "shape: (134, 9)\n",
       "┌──────────────────────────┬──────────┬──────┬───────┬───┬────────────┬──────┬─────────┬───────────┐\n",
       "│ name                     ┆ capacity ┆ year ┆ price ┆ … ┆ prix_promo ┆ note ┆ nb_avis ┆ type      │\n",
       "│ ---                      ┆ ---      ┆ ---  ┆ ---   ┆   ┆ ---        ┆ ---  ┆ ---     ┆ ---       │\n",
       "│ str                      ┆ f64      ┆ i64  ┆ f64   ┆   ┆ f64        ┆ f64  ┆ i64     ┆ str       │\n",
       "╞══════════════════════════╪══════════╪══════╪═══════╪═══╪════════════╪══════╪═════════╪═══════════╡\n",
       "│ BLANC 2022 - DOMAINE DE  ┆ 0.75     ┆ 2022 ┆ 28.45 ┆ … ┆ null       ┆ null ┆ 0       ┆ VIN BLANC │\n",
       "│ BILA HAU…                ┆          ┆      ┆       ┆   ┆            ┆      ┆         ┆           │\n",
       "│ DESTINEA 2022 - JOSEPH   ┆ 0.75     ┆ 2022 ┆ 11.9  ┆ … ┆ 7.8        ┆ 16.8 ┆ 5       ┆ VIN BLANC │\n",
       "│ MELLOT                   ┆          ┆      ┆       ┆   ┆            ┆      ┆         ┆           │\n",
       "│ COLOMBARD-SAUVIGNON 2022 ┆ 0.75     ┆ 2022 ┆ 7.5   ┆ … ┆ 4.95       ┆ 17.0 ┆ 188     ┆ VIN BLANC │\n",
       "│ - DOMAI…                 ┆          ┆      ┆       ┆   ┆            ┆      ┆         ┆           │\n",
       "│ POUILLY FUME 2022 -      ┆ 0.75     ┆ 2022 ┆ 14.9  ┆ … ┆ 11.75      ┆ 17.3 ┆ 7       ┆ VIN BLANC │\n",
       "│ DOMAINE LES …            ┆          ┆      ┆       ┆   ┆            ┆      ┆         ┆           │\n",
       "│ …                        ┆ …        ┆ …    ┆ …     ┆ … ┆ …          ┆ …    ┆ …       ┆ …         │\n",
       "│ BASTIDE MIRAFLORS 2020 - ┆ 0.75     ┆ 2020 ┆ 6.5   ┆ … ┆ 4.3        ┆ 16.1 ┆ 9       ┆ VIN ROUGE │\n",
       "│ DOMAINE…                 ┆          ┆      ┆       ┆   ┆            ┆      ┆         ┆           │\n",
       "│ LE TRIPORTEUR ROUGE 2020 ┆ 0.75     ┆ 2020 ┆ 7.9   ┆ … ┆ 5.6        ┆ 15.6 ┆ 94      ┆ VIN ROUGE │\n",
       "│ VIGNÉ-LOURAC - MERLOT    ┆ 0.75     ┆ 2021 ┆ 12.5  ┆ … ┆ 8.3        ┆ 17.0 ┆ 13      ┆ VIN ROUGE │\n",
       "│ PRESTIGE 2…              ┆          ┆      ┆       ┆   ┆            ┆      ┆         ┆           │\n",
       "│ LE TIGRE 2020 - CHÂTEAU  ┆ 0.75     ┆ 2020 ┆ 16.9  ┆ … ┆ 12.9       ┆ 17.5 ┆ 2       ┆ VIN ROUGE │\n",
       "│ DES ADOU…                ┆          ┆      ┆       ┆   ┆            ┆      ┆         ┆           │\n",
       "└──────────────────────────┴──────────┴──────┴───────┴───┴────────────┴──────┴─────────┴───────────┘"
      ]
     },
     "execution_count": 7,
     "metadata": {},
     "output_type": "execute_result"
    }
   ],
   "source": [
    "pl.read_json(file_path) # if nb_avis = 0 alors note = null à intégrer !"
   ]
  }
 ],
 "metadata": {
  "kernelspec": {
   "display_name": "Python 3",
   "language": "python",
   "name": "python3"
  },
  "language_info": {
   "codemirror_mode": {
    "name": "ipython",
    "version": 3
   },
   "file_extension": ".py",
   "mimetype": "text/x-python",
   "name": "python",
   "nbconvert_exporter": "python",
   "pygments_lexer": "ipython3",
   "version": "3.10.6"
  },
  "orig_nbformat": 4
 },
 "nbformat": 4,
 "nbformat_minor": 2
}
