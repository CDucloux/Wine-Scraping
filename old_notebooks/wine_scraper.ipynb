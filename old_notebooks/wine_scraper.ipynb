{
 "cells": [
  {
   "cell_type": "markdown",
   "metadata": {},
   "source": [
    "# `Wine Scraping` 🍷\n",
    "***\n",
    "\n",
    "![Image](https://img.passeportsante.net/1200x675/2021-05-03/i102200-vin.webp)"
   ]
  },
  {
   "cell_type": "code",
   "execution_count": 288,
   "metadata": {},
   "outputs": [],
   "source": [
    "from bs4 import BeautifulSoup as BS\n",
    "from pathlib import Path\n",
    "import polars as pl\n",
    "import re\n",
    "from dataclasses import dataclass\n",
    "from serde import serialize\n",
    "from serde.json import to_json\n",
    "from rich import print"
   ]
  },
  {
   "cell_type": "code",
   "execution_count": 2,
   "metadata": {},
   "outputs": [
    {
     "name": "stdout",
     "output_type": "stream",
     "text": [
      "D:\\Cours Mecen (M2)\\Machine Learning\\Wine Scraping\n"
     ]
    }
   ],
   "source": [
    "racine = Path(\".\").resolve()\n",
    "print(racine)"
   ]
  },
  {
   "cell_type": "code",
   "execution_count": 3,
   "metadata": {},
   "outputs": [
    {
     "name": "stdout",
     "output_type": "stream",
     "text": [
      "D:\\Cours Mecen (M2)\\Machine Learning\\Wine Scraping\\test_pages\n"
     ]
    }
   ],
   "source": [
    "test_pages = racine / \"test_pages\"\n",
    "print(test_pages)"
   ]
  },
  {
   "cell_type": "code",
   "execution_count": 5,
   "metadata": {},
   "outputs": [],
   "source": [
    "htmls = list()\n",
    "for chemin in test_pages.glob(\"*.html\"):\n",
    "    htmls.append(chemin.read_text(encoding=\"utf8\"))"
   ]
  },
  {
   "cell_type": "code",
   "execution_count": 490,
   "metadata": {},
   "outputs": [],
   "source": [
    "soupe = BS(htmls[0])"
   ]
  },
  {
   "cell_type": "code",
   "execution_count": 468,
   "metadata": {},
   "outputs": [],
   "source": [
    "type_test = soupe.find_all(name=\"title\")"
   ]
  },
  {
   "cell_type": "code",
   "execution_count": 470,
   "metadata": {},
   "outputs": [],
   "source": [
    "type_test = [x.text for x in type_test]"
   ]
  },
  {
   "cell_type": "code",
   "execution_count": 471,
   "metadata": {},
   "outputs": [
    {
     "data": {
      "text/plain": [
       "['🍇 Achat VIN ROUGE : découvrez notre sélection des meilleurs vins rouges']"
      ]
     },
     "execution_count": 471,
     "metadata": {},
     "output_type": "execute_result"
    }
   ],
   "source": [
    "type_test"
   ]
  },
  {
   "cell_type": "code",
   "execution_count": 472,
   "metadata": {},
   "outputs": [
    {
     "data": {
      "text/plain": [
       "'🍇 Achat VIN ROUGE'"
      ]
     },
     "execution_count": 472,
     "metadata": {},
     "output_type": "execute_result"
    }
   ],
   "source": [
    "type_test[0].split(\":\")[0].strip()#[type[0].split(\":\")[0].find(\"VIN\"):]"
   ]
  },
  {
   "cell_type": "code",
   "execution_count": 514,
   "metadata": {},
   "outputs": [],
   "source": [
    "def extract_type(text: str) -> str:\n",
    "    type = text.split(\":\")[0].strip()[text.split(\":\")[0].find(\"VIN\"):]\n",
    "    return type"
   ]
  },
  {
   "cell_type": "markdown",
   "metadata": {},
   "source": [
    "# NOM / ANNEE / LIEU"
   ]
  },
  {
   "cell_type": "code",
   "execution_count": 233,
   "metadata": {},
   "outputs": [],
   "source": [
    "result_items = soupe.find_all(name=\"div\", attrs={\"class\": \"vue-product-name\"})"
   ]
  },
  {
   "cell_type": "code",
   "execution_count": 228,
   "metadata": {},
   "outputs": [],
   "source": [
    "def extract_name(text:str) -> str:\n",
    "    \"\"\"\n",
    "    Extract the `name` of the wine from unstructured text.\n",
    "    \"\"\"\n",
    "    name = text.replace('\\xa0', '_').split(\"_\")[0]\n",
    "    return name"
   ]
  },
  {
   "cell_type": "code",
   "execution_count": 230,
   "metadata": {},
   "outputs": [],
   "source": [
    "result_title = [extract_name(x.text) for x in result_items]"
   ]
  },
  {
   "cell_type": "code",
   "execution_count": 241,
   "metadata": {},
   "outputs": [],
   "source": [
    "def extract_capacity(text:str) -> float:\n",
    "    \"\"\"\n",
    "    Extract the `capacity` of the wine from unstructured text.\n",
    "    \"\"\"\n",
    "    capacity = float(\n",
    "        text.replace('\\xa0', '_')[text.replace('\\xa0', '_').find(\"_\")+1:] # remplacement des valeurs xa0 par _\n",
    "        .replace(\"L\",\"\") # remplacement de l'indicateur litres \"L\" par rien\n",
    "        .strip() # on retire ensuite les caractères vides\n",
    "        )\n",
    "    return capacity"
   ]
  },
  {
   "cell_type": "code",
   "execution_count": 242,
   "metadata": {},
   "outputs": [],
   "source": [
    "capacity = [extract_capacity(x.text) for x in result_items]"
   ]
  },
  {
   "cell_type": "code",
   "execution_count": 243,
   "metadata": {},
   "outputs": [],
   "source": [
    "def extract_year(text:str) -> int | None:\n",
    "    \"\"\"\n",
    "    Extract the `year` of the wine from unstructured text using a regular expression pattern.\n",
    "    \"\"\"\n",
    "    match = re.search(r'\\b\\d{4}\\b', text)\n",
    "    if match:\n",
    "        return int(match.group())\n",
    "    else:\n",
    "        return None"
   ]
  },
  {
   "cell_type": "code",
   "execution_count": 244,
   "metadata": {},
   "outputs": [],
   "source": [
    "years = [extract_year(item) for item in result_title]"
   ]
  },
  {
   "cell_type": "markdown",
   "metadata": {},
   "source": [
    "# PRIX"
   ]
  },
  {
   "cell_type": "code",
   "execution_count": 198,
   "metadata": {},
   "outputs": [],
   "source": [
    "result_find_price = soupe.find_all(name=\"div\", attrs={\"class\": \"vue-product-prices\"})"
   ]
  },
  {
   "cell_type": "code",
   "execution_count": 199,
   "metadata": {},
   "outputs": [],
   "source": [
    "result_price = [x.text for x in result_find_price]"
   ]
  },
  {
   "cell_type": "code",
   "execution_count": null,
   "metadata": {},
   "outputs": [],
   "source": [
    "result_price[0]"
   ]
  },
  {
   "cell_type": "code",
   "execution_count": 140,
   "metadata": {},
   "outputs": [],
   "source": [
    "def extract_promo(text):\n",
    "    match = re.search(r'-\\d+%', text)\n",
    "    if match:\n",
    "        return match.group()\n",
    "    else:\n",
    "        return None"
   ]
  },
  {
   "cell_type": "code",
   "execution_count": 290,
   "metadata": {},
   "outputs": [],
   "source": [
    "def extract_prix_vente(text):\n",
    "    match = re.search(r'\\d+,\\d+', text)\n",
    "    if match:\n",
    "        return float(match.group().replace(\",\",\".\"))\n",
    "    else:\n",
    "        return None"
   ]
  },
  {
   "cell_type": "code",
   "execution_count": 291,
   "metadata": {},
   "outputs": [],
   "source": [
    "def extract_prix_apres_promo(text):\n",
    "    match = re.search(r'€(\\d+,\\d+)', text)\n",
    "    if match:\n",
    "        return match.group(1).replace(\",\",\".\")\n",
    "    else:\n",
    "        return None"
   ]
  },
  {
   "cell_type": "code",
   "execution_count": null,
   "metadata": {},
   "outputs": [],
   "source": [
    "result_price"
   ]
  },
  {
   "cell_type": "code",
   "execution_count": null,
   "metadata": {},
   "outputs": [],
   "source": [
    "[extract_prix_vente(item) for item in result_price]\n",
    "\n",
    "# Attention aux prix à l'unité et aux promos groupées."
   ]
  },
  {
   "cell_type": "markdown",
   "metadata": {},
   "source": [
    "# c bon ou pas mon reuf ? (autrement appelé **AVIS**)\n",
    "quand-est ce qu'on se descend une teille ?"
   ]
  },
  {
   "cell_type": "code",
   "execution_count": 474,
   "metadata": {},
   "outputs": [],
   "source": [
    "result_find_avis = soupe.find_all(name=\"div\", attrs={\"class\": \"vue-avis-block\"})"
   ]
  },
  {
   "cell_type": "code",
   "execution_count": 475,
   "metadata": {},
   "outputs": [],
   "source": [
    "result_avis = [x.text for x in result_find_avis]"
   ]
  },
  {
   "cell_type": "code",
   "execution_count": null,
   "metadata": {},
   "outputs": [],
   "source": [
    "result_avis"
   ]
  },
  {
   "cell_type": "code",
   "execution_count": 526,
   "metadata": {},
   "outputs": [],
   "source": [
    "def extract_note(text: str) -> float | None:\n",
    "    match = re.search(r'([+-]?(?=\\.\\d|\\d)(?:\\d+)?(?:\\.?\\d*))(?:[Ee]([+-]?\\d+))?/20', text[:10])\n",
    "    if match:\n",
    "        return float(match.group(1))\n",
    "    else:\n",
    "        return None"
   ]
  },
  {
   "cell_type": "code",
   "execution_count": 527,
   "metadata": {},
   "outputs": [],
   "source": [
    "def extract_nb_avis(text: str) -> int:\n",
    "    match = re.search(r'(\\d+) notes', text)\n",
    "    if match:\n",
    "        return int(match.group(1))\n",
    "    else:\n",
    "        return 0"
   ]
  },
  {
   "cell_type": "code",
   "execution_count": null,
   "metadata": {},
   "outputs": [],
   "source": [
    "[extract_note(item) for item in result_avis]"
   ]
  },
  {
   "cell_type": "markdown",
   "metadata": {},
   "source": [
    "# La soupe ça fait grandir ?"
   ]
  },
  {
   "cell_type": "code",
   "execution_count": 520,
   "metadata": {},
   "outputs": [],
   "source": [
    "def extract_result(soupe: BS) -> dict:\n",
    "    result_find_title = soupe.find_all(name=\"div\", attrs={\"class\": \"vue-product-name\"})\n",
    "    result_title = [x.text for x in result_find_title]\n",
    "    result_find_avis = soupe.find_all(name=\"div\", attrs={\"class\": \"vue-avis-block\"})\n",
    "    result_avis = [x.text for x in result_find_avis]\n",
    "    result_find_price = soupe.find_all(name=\"div\", attrs={\"class\": \"vue-product-prices\"})\n",
    "    result_price = [x.text for x in result_find_price]\n",
    "    result_find_type = soupe.find_all(name=\"title\")\n",
    "    result_type = [x.text for x in result_find_type] * len(result_title) # comme il n'y a qu'un seul résultat\n",
    "    return {\n",
    "        \"result_title\": result_title,\n",
    "        \"result_price\": result_price,\n",
    "        \"result_avis\": result_avis,\n",
    "        \"result_type\": result_type\n",
    "    }"
   ]
  },
  {
   "cell_type": "markdown",
   "metadata": {},
   "source": [
    "# 💥 FUSIONNNNNNNNNNNNNNNN 💥"
   ]
  },
  {
   "cell_type": "code",
   "execution_count": 516,
   "metadata": {},
   "outputs": [],
   "source": [
    "@serialize\n",
    "@dataclass\n",
    "class Vin:\n",
    "    \"\"\"This dataclass represents all characteristics associated with a Wine.\"\"\"\n",
    "    name: str\n",
    "    capacity: float\n",
    "    year: int\n",
    "    price: str\n",
    "    promo: str\n",
    "    prix_promo: str\n",
    "    note : float\n",
    "    nb_avis : int\n",
    "    type: str"
   ]
  },
  {
   "cell_type": "code",
   "execution_count": 523,
   "metadata": {},
   "outputs": [],
   "source": [
    "def extract_vin(resultset_1, resultset_2, resultset_3 ,resultset_4) -> Vin:\n",
    "    name = extract_name(resultset_1)\n",
    "    capacity = extract_capacity(resultset_1)\n",
    "    year = extract_year(resultset_1)\n",
    "    price = extract_prix_vente(resultset_2)\n",
    "    promo = extract_promo(resultset_2)\n",
    "    prix_promo = extract_prix_apres_promo(resultset_2)\n",
    "    note = extract_note(resultset_3)\n",
    "    nb_avis = extract_nb_avis(resultset_3)\n",
    "    type = extract_type(resultset_4)\n",
    "    \n",
    "    return Vin(\n",
    "        name = name,\n",
    "        capacity = capacity,\n",
    "        year = year,\n",
    "        price = price,\n",
    "        promo = promo,\n",
    "        prix_promo=prix_promo,\n",
    "        note = note,\n",
    "        nb_avis = nb_avis,\n",
    "        type = type\n",
    "    )"
   ]
  },
  {
   "cell_type": "code",
   "execution_count": 518,
   "metadata": {},
   "outputs": [],
   "source": [
    "vins = [\n",
    "    extract_vin(item_1, item_2, item_3, item_4) \n",
    "    for (item_1, item_2, item_3, item_4) in \n",
    "    zip(\n",
    "        extract_result(soupe)[\"result_title\"], \n",
    "        extract_result(soupe)[\"result_price\"], \n",
    "        extract_result(soupe)[\"result_avis\"],\n",
    "        extract_result(soupe)[\"result_type\"])\n",
    "]\n"
   ]
  }
 ],
 "metadata": {
  "kernelspec": {
   "display_name": "Python 3",
   "language": "python",
   "name": "python3"
  },
  "language_info": {
   "codemirror_mode": {
    "name": "ipython",
    "version": 3
   },
   "file_extension": ".py",
   "mimetype": "text/x-python",
   "name": "python",
   "nbconvert_exporter": "python",
   "pygments_lexer": "ipython3",
   "version": "3.10.6"
  },
  "orig_nbformat": 4
 },
 "nbformat": 4,
 "nbformat_minor": 2
}
