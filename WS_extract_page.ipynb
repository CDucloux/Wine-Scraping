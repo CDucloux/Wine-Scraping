{
 "cells": [
  {
   "cell_type": "code",
   "execution_count": 201,
   "metadata": {},
   "outputs": [],
   "source": [
    "import requests as rq\n",
    "import re\n",
    "from bs4 import BeautifulSoup as BS"
   ]
  },
  {
   "cell_type": "code",
   "execution_count": 202,
   "metadata": {},
   "outputs": [],
   "source": [
    "ADDRESSE = \"https://www.vinatis.com/61101-les-darons-2022-by-jeff-carrel\"\n",
    "ADDRESSE2 =  \"https://www.vinatis.com/42172-pinot-noir-harmonie-bollenberg-2015-domaine-valentin-zusslin\""
   ]
  },
  {
   "cell_type": "code",
   "execution_count": 203,
   "metadata": {},
   "outputs": [],
   "source": [
    "def _scrap_soupe(adresse:str) -> BS:\n",
    "    requete = rq.get(url=adresse, timeout=10)\n",
    "    soupe = BS(requete.text)\n",
    "    return soupe"
   ]
  },
  {
   "cell_type": "code",
   "execution_count": 204,
   "metadata": {},
   "outputs": [],
   "source": [
    "def _scrap_name(soupe:BS) -> str:\n",
    "    name = soupe.find_all(name=\"span\", attrs={\"itemprop\": \"name\"})[0].text\n",
    "    return name"
   ]
  },
  {
   "cell_type": "code",
   "execution_count": 205,
   "metadata": {},
   "outputs": [],
   "source": [
    "def _scrap_capacity(soupe:BS) -> str:\n",
    "    capacity = soupe.find_all(name=\"span\", attrs={\"inline-block\"})[0].text\n",
    "    return capacity"
   ]
  },
  {
   "cell_type": "code",
   "execution_count": 206,
   "metadata": {},
   "outputs": [],
   "source": [
    "def _scrap_price(soupe:BS) -> str:\n",
    "    price = soupe.find_all(name=\"span\", attrs={\"id\" : \"our_price_display\"})[0].text\n",
    "    \n",
    "    try:\n",
    "        price_discount_1 = soupe.find_all(name=\"span\", attrs={\"id\" : \"quantity_discount_pretaxe\"})[0].text\n",
    "    except:\n",
    "        price_discount_1 = None\n",
    "        \n",
    "    try:\n",
    "        price_discount_2 = soupe.find_all(name=\"span\", attrs={\"id\" : \"quantity_discount_pretaxe\"})[1].text\n",
    "    except:\n",
    "        price_discount_2 = None\n",
    "    return price, price_discount_1, price_discount_2"
   ]
  },
  {
   "cell_type": "code",
   "execution_count": 207,
   "metadata": {},
   "outputs": [],
   "source": [
    "def _scrap_characteristic(soupe:BS)->str:\n",
    "    characteristic = soupe.find_all(name=\"span\", attrs={\"class\": \"no-padding-horizontal\"})[0].text\n",
    "    return characteristic"
   ]
  },
  {
   "cell_type": "code",
   "execution_count": 208,
   "metadata": {},
   "outputs": [],
   "source": [
    "def _scrap_note(soupe:BS)-> str:\n",
    "    note = soupe.find_all(name=\"div\", attrs={\"class\": \"col-xs-12 padding-bottom-10\"})[0].text\n",
    "    return note"
   ]
  },
  {
   "cell_type": "code",
   "execution_count": 209,
   "metadata": {},
   "outputs": [],
   "source": [
    "def _scrap_keyword(soupe:BS)-> list:\n",
    "    keyword = []\n",
    "    class_k = \"margin-right margin-bottom bg-gray-dark taille-md padding-horizontal-30 padding-vertical-5 rounded-corner-3 label\"\n",
    "    result = soupe.find_all(name = \"span\", attrs={\"class\": class_k})\n",
    "    for res in result:\n",
    "        keyword.append(res.text)\n",
    "    return keyword\n"
   ]
  },
  {
   "cell_type": "code",
   "execution_count": 210,
   "metadata": {},
   "outputs": [],
   "source": [
    "def _scrap_informations(soupe:BS) -> str:\n",
    "    class_ = \"table-cell-css vertical-align-top padding-vertical-5 taille-xs color-gray-darker text-bold\"\n",
    "    vintage = soupe.find_all(name=\"div\", attrs={\"class\": class_})[0].text\n",
    "    grap_variety = soupe.find_all(name=\"div\", attrs={\"class\": class_})[1].text\n",
    "    \n",
    "    taste = soupe.find_all(name=\"div\", attrs={\"class\": class_})[2].text\n",
    "    taste_group = soupe.find_all(name=\"div\", attrs={\"class\": class_})[3].text\n",
    "    eyes = soupe.find_all(name=\"div\", attrs={\"class\": class_})[4].text\n",
    "    nose = soupe.find_all(name=\"div\", attrs={\"class\": class_})[5].text\n",
    "    mouth = soupe.find_all(name=\"div\", attrs={\"class\": class_})[6].text\n",
    "    \n",
    "    temperature = soupe.find_all(name=\"div\", attrs={\"class\": class_})[7].text\n",
    "    indication = soupe.find_all(name=\"div\", attrs={\"class\": class_})[8].text\n",
    "    conservation = soupe.find_all(name=\"div\", attrs={\"class\": class_})[9].text\n",
    "    max_date = soupe.find_all(name=\"div\", attrs={\"class\": class_})[10].text\n",
    "    \n",
    "    accompaniement = soupe.find_all(name=\"div\", attrs={\"class\": class_})[11].text\n",
    "    \n",
    "    return vintage, grap_variety, taste, taste_group, eyes, nose, mouth, temperature, indication, conservation, max_date, accompaniement"
   ]
  },
  {
   "cell_type": "code",
   "execution_count": 211,
   "metadata": {},
   "outputs": [],
   "source": [
    "def _scrap_img(soupe:BS) -> str:\n",
    "    picture = soupe.find(name = \"img\", attrs={\"class\":\"img-full-width img-max-450 center-block\"}).get('src')\n",
    "    return picture"
   ]
  },
  {
   "cell_type": "code",
   "execution_count": 212,
   "metadata": {},
   "outputs": [],
   "source": [
    "from dataclasses import dataclass\n",
    "from serde import serialize\n",
    "from serde.json import to_json\n",
    "\n",
    "@serialize\n",
    "@dataclass\n",
    "class Vin:\n",
    "    \"\"\"This dataclass represents all characteristics associated with a Wine.\"\"\"\n",
    "\n",
    "    name: str\n",
    "    capacity: str\n",
    "    prices : str\n",
    "    characteristic : str\n",
    "    note: str\n",
    "    keyword : str\n",
    "    informations : str\n",
    "    picture : str\n"
   ]
  },
  {
   "cell_type": "code",
   "execution_count": 213,
   "metadata": {},
   "outputs": [],
   "source": [
    "def _scraping(adresse):\n",
    "    soupe = _scrap_soupe(adresse=adresse)\n",
    "    \n",
    "    results = Vin(\n",
    "        _scrap_name(soupe),\n",
    "        _scrap_capacity(soupe),\n",
    "        _scrap_price(soupe),\n",
    "        _scrap_characteristic(soupe),\n",
    "        _scrap_note(soupe),\n",
    "        _scrap_keyword(soupe),\n",
    "        _scrap_informations(soupe),\n",
    "        _scrap_img(soupe)\n",
    "        )\n",
    "    \n",
    "    return results"
   ]
  },
  {
   "cell_type": "code",
   "execution_count": 215,
   "metadata": {},
   "outputs": [],
   "source": [
    "def json_brut(adresse):\n",
    "    vins = _scraping(adresse=adresse)\n",
    "    vins_json = to_json(vins)\n",
    "    \n",
    "    file_path = \"data/vins.json\"\n",
    "\n",
    "    with open(file_path, \"w\",  encoding='utf-8') as json_file:\n",
    "        json_file.write(vins_json)"
   ]
  },
  {
   "cell_type": "code",
   "execution_count": 216,
   "metadata": {},
   "outputs": [],
   "source": [
    "json_brut(ADDRESSE2)"
   ]
  }
 ],
 "metadata": {
  "kernelspec": {
   "display_name": "Python 3",
   "language": "python",
   "name": "python3"
  },
  "language_info": {
   "codemirror_mode": {
    "name": "ipython",
    "version": 3
   },
   "file_extension": ".py",
   "mimetype": "text/x-python",
   "name": "python",
   "nbconvert_exporter": "python",
   "pygments_lexer": "ipython3",
   "version": "3.11.1"
  }
 },
 "nbformat": 4,
 "nbformat_minor": 2
}
