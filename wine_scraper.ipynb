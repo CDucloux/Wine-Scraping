{
 "cells": [
  {
   "cell_type": "markdown",
   "metadata": {},
   "source": [
    "# `Wine Scraping` 🍷\n",
    "***\n",
    "\n",
    "![Image](https://img.passeportsante.net/1200x675/2021-05-03/i102200-vin.webp)"
   ]
  },
  {
   "cell_type": "code",
   "execution_count": 99,
   "metadata": {},
   "outputs": [],
   "source": [
    "from bs4 import BeautifulSoup as BS\n",
    "from pathlib import Path\n",
    "import polars as pl\n",
    "import re\n",
    "from dataclasses import dataclass"
   ]
  },
  {
   "cell_type": "code",
   "execution_count": 4,
   "metadata": {},
   "outputs": [
    {
     "name": "stdout",
     "output_type": "stream",
     "text": [
      "C:\\Users\\guill\\OneDrive - Université de Tours\\Bureau\\M2\\ML\\Wine-Scraping\n"
     ]
    }
   ],
   "source": [
    "racine = Path(\".\").resolve()\n",
    "print(racine)"
   ]
  },
  {
   "cell_type": "code",
   "execution_count": 5,
   "metadata": {},
   "outputs": [
    {
     "name": "stdout",
     "output_type": "stream",
     "text": [
      "C:\\Users\\guill\\OneDrive - Université de Tours\\Bureau\\M2\\ML\\Wine-Scraping\\test_pages\n"
     ]
    }
   ],
   "source": [
    "test_pages = racine / \"test_pages\"\n",
    "print(test_pages)"
   ]
  },
  {
   "cell_type": "code",
   "execution_count": 6,
   "metadata": {},
   "outputs": [
    {
     "name": "stdout",
     "output_type": "stream",
     "text": [
      "C:\\Users\\guill\\OneDrive - Université de Tours\\Bureau\\M2\\ML\\Wine-Scraping\\test_pages\\vin_blanc_page_1.html\n",
      "C:\\Users\\guill\\OneDrive - Université de Tours\\Bureau\\M2\\ML\\Wine-Scraping\\test_pages\\vin_rose_page_1.html\n",
      "C:\\Users\\guill\\OneDrive - Université de Tours\\Bureau\\M2\\ML\\Wine-Scraping\\test_pages\\vin_rouge_page_1.html\n"
     ]
    }
   ],
   "source": [
    "for chemin in test_pages.glob(\"*.html\"):\n",
    "    print(chemin)"
   ]
  },
  {
   "cell_type": "code",
   "execution_count": 7,
   "metadata": {},
   "outputs": [],
   "source": [
    "htmls = list()\n",
    "for chemin in test_pages.glob(\"*.html\"):\n",
    "    htmls.append(chemin.read_text(encoding=\"utf8\"))"
   ]
  },
  {
   "cell_type": "code",
   "execution_count": 8,
   "metadata": {},
   "outputs": [],
   "source": [
    "soupe = BS(htmls[1])"
   ]
  },
  {
   "cell_type": "markdown",
   "metadata": {},
   "source": [
    "# NOM / ANNEE / LIEU"
   ]
  },
  {
   "cell_type": "code",
   "execution_count": 9,
   "metadata": {},
   "outputs": [],
   "source": [
    "result_items = soupe.find_all(name=\"div\", attrs={\"class\": \"vue-product-name\"})"
   ]
  },
  {
   "cell_type": "code",
   "execution_count": 10,
   "metadata": {},
   "outputs": [],
   "source": [
    "result_title = [x.text for x in result_items]"
   ]
  },
  {
   "cell_type": "code",
   "execution_count": 11,
   "metadata": {},
   "outputs": [],
   "source": [
    "contenance = [x[-6:] for x in result_title]"
   ]
  },
  {
   "cell_type": "code",
   "execution_count": 46,
   "metadata": {},
   "outputs": [
    {
     "data": {
      "text/plain": [
       "['EZ\\xa03 L',\n",
       " '0.75 L',\n",
       " '0.75 L',\n",
       " '0.75 L',\n",
       " '0.75 L',\n",
       " '0.75 L',\n",
       " '0.75 L',\n",
       " '0.75 L',\n",
       " '0.75 L',\n",
       " '0.75 L',\n",
       " '0.75 L',\n",
       " '0.75 L',\n",
       " '0.75 L',\n",
       " '0.75 L',\n",
       " '0.75 L',\n",
       " '0.75 L',\n",
       " '0.75 L',\n",
       " '0.75 L',\n",
       " '0.75 L',\n",
       " '0.75 L',\n",
       " '0.75 L',\n",
       " '0.75 L',\n",
       " '0.75 L',\n",
       " '0.75 L',\n",
       " '0.75 L',\n",
       " '0.75 L',\n",
       " '0.75 L',\n",
       " '0.75 L',\n",
       " '0.75 L',\n",
       " '0.75 L']"
      ]
     },
     "execution_count": 46,
     "metadata": {},
     "output_type": "execute_result"
    }
   ],
   "source": [
    "contenance"
   ]
  },
  {
   "cell_type": "code",
   "execution_count": 13,
   "metadata": {},
   "outputs": [],
   "source": [
    "def extract_year(text):\n",
    "    match = re.search(r'\\b\\d{4}\\b', text)\n",
    "    if match:\n",
    "        return int(match.group())\n",
    "    else:\n",
    "        return None"
   ]
  },
  {
   "cell_type": "code",
   "execution_count": 14,
   "metadata": {},
   "outputs": [],
   "source": [
    "years = [extract_year(item) for item in result_title]"
   ]
  },
  {
   "cell_type": "code",
   "execution_count": 15,
   "metadata": {},
   "outputs": [
    {
     "data": {
      "text/plain": [
       "[2021,\n",
       " 2022,\n",
       " 2022,\n",
       " 2020,\n",
       " 2022,\n",
       " 2022,\n",
       " 2022,\n",
       " 2022,\n",
       " 2022,\n",
       " None,\n",
       " 2022,\n",
       " 2022,\n",
       " 2022,\n",
       " 2022,\n",
       " 2022,\n",
       " 2022,\n",
       " 2022,\n",
       " 2022,\n",
       " 2021,\n",
       " 2022,\n",
       " 2022,\n",
       " 2022,\n",
       " 2022,\n",
       " 2022,\n",
       " 2022,\n",
       " 2022,\n",
       " 2022,\n",
       " 2022,\n",
       " 2022,\n",
       " None]"
      ]
     },
     "execution_count": 15,
     "metadata": {},
     "output_type": "execute_result"
    }
   ],
   "source": [
    "years"
   ]
  },
  {
   "cell_type": "markdown",
   "metadata": {},
   "source": [
    "# PRIX"
   ]
  },
  {
   "cell_type": "code",
   "execution_count": 104,
   "metadata": {},
   "outputs": [],
   "source": [
    "result_find_price = soupe.find_all(name=\"div\", attrs={\"class\": \"vue-product-prices\"})"
   ]
  },
  {
   "cell_type": "code",
   "execution_count": 105,
   "metadata": {},
   "outputs": [],
   "source": [
    "result_price = [x.text for x in result_find_price]"
   ]
  },
  {
   "cell_type": "code",
   "execution_count": 106,
   "metadata": {},
   "outputs": [
    {
     "data": {
      "text/plain": [
       "'-20%49,90\\xa0€39,90\\xa0€'"
      ]
     },
     "execution_count": 106,
     "metadata": {},
     "output_type": "execute_result"
    }
   ],
   "source": [
    "result_price[0]"
   ]
  },
  {
   "cell_type": "code",
   "execution_count": 107,
   "metadata": {},
   "outputs": [],
   "source": [
    "def extract_promo(text):\n",
    "    match = re.search(r'-\\d+%', text)\n",
    "    if match:\n",
    "        return match.group()\n",
    "    else:\n",
    "        return None"
   ]
  },
  {
   "cell_type": "code",
   "execution_count": 108,
   "metadata": {},
   "outputs": [],
   "source": [
    "def extract_prix_vente(text):\n",
    "    match = re.search(r'\\d+,\\d+', text)\n",
    "    if match:\n",
    "        return match.group()\n",
    "    else:\n",
    "        return None"
   ]
  },
  {
   "cell_type": "code",
   "execution_count": 109,
   "metadata": {},
   "outputs": [],
   "source": [
    "def extract_prix_apres_promo(text):\n",
    "    match = re.search(r'€(\\d+,\\d+)', text)\n",
    "    if match:\n",
    "        return match.group(1)\n",
    "    else:\n",
    "        return None"
   ]
  },
  {
   "cell_type": "code",
   "execution_count": 110,
   "metadata": {},
   "outputs": [
    {
     "data": {
      "text/plain": [
       "['39,90',\n",
       " '6,80',\n",
       " '11,80',\n",
       " '32,90',\n",
       " '7,95',\n",
       " '5,95',\n",
       " '13,40',\n",
       " '7,40',\n",
       " '17,90',\n",
       " None,\n",
       " '4,95',\n",
       " '5,99',\n",
       " '5,20',\n",
       " '5,99',\n",
       " None,\n",
       " None,\n",
       " None,\n",
       " '11,00',\n",
       " '12,20',\n",
       " None,\n",
       " '13,50',\n",
       " '8,50',\n",
       " None,\n",
       " None,\n",
       " None,\n",
       " '7,85',\n",
       " None,\n",
       " '12,90',\n",
       " '6,10',\n",
       " None]"
      ]
     },
     "execution_count": 110,
     "metadata": {},
     "output_type": "execute_result"
    }
   ],
   "source": [
    "[extract_prix_apres_promo(item) for item in result_price]"
   ]
  },
  {
   "cell_type": "markdown",
   "metadata": {},
   "source": [
    "# c bon ou pas mon reuf ? (autrement appelé **AVIS**)\n",
    "quand-est ce qu'on se descend une teille ?"
   ]
  },
  {
   "cell_type": "code",
   "execution_count": 149,
   "metadata": {},
   "outputs": [],
   "source": [
    "result_find_avis = soupe.find_all(name=\"div\", attrs={\"class\": \"vue-avis-block\"})"
   ]
  },
  {
   "cell_type": "code",
   "execution_count": 150,
   "metadata": {},
   "outputs": [],
   "source": [
    "result_avis = [x.text for x in result_find_avis]"
   ]
  },
  {
   "cell_type": "code",
   "execution_count": 153,
   "metadata": {},
   "outputs": [
    {
     "data": {
      "text/plain": [
       "\"16.2/20\\xa0 26 notesJ'ai bu : Nadine B30/03/2023Achat confirméUn\\n rosé léger, fruité, clair, avec des notes d'agrumes et de pêche, \\npersonnellement, je le trouve très agréable. En apéritif, ou en \\naccompagnement de grillades, il est parfait.Voir tous les commentairesLire le top avis\""
      ]
     },
     "execution_count": 153,
     "metadata": {},
     "output_type": "execute_result"
    }
   ],
   "source": [
    "result_avis[10]"
   ]
  },
  {
   "cell_type": "code",
   "execution_count": 154,
   "metadata": {},
   "outputs": [],
   "source": [
    "def extract_note(text):\n",
    "    match = re.search(r'(\\d+)/20', text)\n",
    "    if match:\n",
    "        return match.group(1)\n",
    "    else:\n",
    "        return None"
   ]
  },
  {
   "cell_type": "code",
   "execution_count": 155,
   "metadata": {},
   "outputs": [],
   "source": [
    "def extract_nb_avis(text):\n",
    "    match = re.search(r'(\\d+) notes', text)\n",
    "    if match:\n",
    "        return match.group(1)\n",
    "    else:\n",
    "        return None"
   ]
  },
  {
   "cell_type": "code",
   "execution_count": 156,
   "metadata": {},
   "outputs": [
    {
     "data": {
      "text/plain": [
       "['1',\n",
       " '3',\n",
       " '2',\n",
       " None,\n",
       " '10',\n",
       " '5',\n",
       " None,\n",
       " '2',\n",
       " None,\n",
       " '47',\n",
       " '26',\n",
       " '57',\n",
       " '51',\n",
       " '37',\n",
       " '23',\n",
       " '10',\n",
       " '22',\n",
       " '5',\n",
       " None,\n",
       " '24',\n",
       " '18',\n",
       " '27',\n",
       " '16',\n",
       " '18',\n",
       " '27',\n",
       " '4',\n",
       " '3',\n",
       " '17',\n",
       " '3',\n",
       " '107']"
      ]
     },
     "execution_count": 156,
     "metadata": {},
     "output_type": "execute_result"
    }
   ],
   "source": [
    "[extract_nb_avis(item) for item in result_avis]"
   ]
  },
  {
   "cell_type": "markdown",
   "metadata": {},
   "source": [
    "# La soupe ça fait grandir ?"
   ]
  },
  {
   "cell_type": "code",
   "execution_count": 183,
   "metadata": {},
   "outputs": [],
   "source": [
    "def extract_result(soupe):\n",
    "    result_find_avis = soupe.find_all(name=\"div\", attrs={\"class\": \"vue-avis-block\"})\n",
    "    result_avis = [x.text for x in result_find_avis]\n",
    "    result_find_price = soupe.find_all(name=\"div\", attrs={\"class\": \"vue-product-prices\"})\n",
    "    result_price = [x.text for x in result_find_price]\n",
    "    return {\n",
    "        \"result_avis\": result_avis,\n",
    "        \"result_price\" : result_price\n",
    "    }"
   ]
  },
  {
   "cell_type": "markdown",
   "metadata": {},
   "source": [
    "# 💥 FUSIONNNNNNNNNNNNNNNN 💥"
   ]
  },
  {
   "cell_type": "code",
   "execution_count": 175,
   "metadata": {},
   "outputs": [],
   "source": [
    "@dataclass\n",
    "class Vin:\n",
    "    prix: str\n",
    "    promo: str\n",
    "    prix_promo: str\n",
    "    note : str\n",
    "    nb_avis : str"
   ]
  },
  {
   "cell_type": "code",
   "execution_count": 176,
   "metadata": {},
   "outputs": [],
   "source": [
    "def extract_vin_avis(text1, text2)-> Vin:\n",
    "    prix = extract_prix_vente(text1)\n",
    "    promo = extract_promo(text1)\n",
    "    prix_promo = extract_prix_apres_promo(text1)\n",
    "    note = extract_note(text2)\n",
    "    nb_avis = extract_nb_avis(text2)\n",
    "    \n",
    "    return Vin(\n",
    "        prix = prix,\n",
    "        promo = promo,\n",
    "        prix_promo=prix_promo,\n",
    "        note = note,\n",
    "        nb_avis = nb_avis\n",
    "    )"
   ]
  },
  {
   "cell_type": "code",
   "execution_count": 186,
   "metadata": {},
   "outputs": [
    {
     "data": {
      "text/plain": [
       "[Vin(prix='49,90', promo='-20%', prix_promo='39,90', note='16', nb_avis='1'),\n",
       " Vin(prix='8,60', promo='-20%', prix_promo='6,80', note='3', nb_avis='3'),\n",
       " Vin(prix='16,00', promo='-26%', prix_promo='11,80', note='5', nb_avis='2'),\n",
       " Vin(prix='40,00', promo='-17%', prix_promo='32,90', note='07', nb_avis=None),\n",
       " Vin(prix='10,70', promo='-25%', prix_promo='7,95', note='6', nb_avis='10'),\n",
       " Vin(prix='8,50', promo='-30%', prix_promo='5,95', note='6', nb_avis='5'),\n",
       " Vin(prix='14,90', promo='-10%', prix_promo='13,40', note='03', nb_avis=None),\n",
       " Vin(prix='9,90', promo='-25%', prix_promo='7,40', note='16', nb_avis='2'),\n",
       " Vin(prix='19,90', promo='-10%', prix_promo='17,90', note='03', nb_avis=None),\n",
       " Vin(prix='212,80', promo='-14%', prix_promo=None, note='7', nb_avis='47'),\n",
       " Vin(prix='7,50', promo='-34%', prix_promo='4,95', note='2', nb_avis='26'),\n",
       " Vin(prix='8,95', promo='-33%', prix_promo='5,99', note='2', nb_avis='57'),\n",
       " Vin(prix='7,50', promo='-30%', prix_promo='5,20', note='4', nb_avis='51'),\n",
       " Vin(prix='8,50', promo='-29%', prix_promo='5,99', note='9', nb_avis='37'),\n",
       " Vin(prix='310,95', promo='-20%', prix_promo=None, note='17', nb_avis='23'),\n",
       " Vin(prix='66,80', promo='-20%', prix_promo=None, note='3', nb_avis='10'),\n",
       " Vin(prix='65,80', promo='-26%', prix_promo=None, note='3', nb_avis='22'),\n",
       " Vin(prix='13,00', promo='-15%', prix_promo='11,00', note='4', nb_avis='5'),\n",
       " Vin(prix='16,50', promo='-26%', prix_promo='12,20', note='06', nb_avis=None),\n",
       " Vin(prix='65,50', promo='-26%', prix_promo=None, note='3', nb_avis='24'),\n",
       " Vin(prix='16,90', promo='-20%', prix_promo='13,50', note='17', nb_avis='18'),\n",
       " Vin(prix='12,00', promo='-29%', prix_promo='8,50', note='9', nb_avis='27'),\n",
       " Vin(prix='24,90', promo='-24%', prix_promo=None, note='3', nb_avis='16'),\n",
       " Vin(prix='64,90', promo='-28%', prix_promo=None, note='6', nb_avis='18'),\n",
       " Vin(prix='39,45', promo='-10%', prix_promo=None, note='16', nb_avis='27'),\n",
       " Vin(prix='10,50', promo='-25%', prix_promo='7,85', note='3', nb_avis='4'),\n",
       " Vin(prix='66,50', promo='-17%', prix_promo=None, note='7', nb_avis='3'),\n",
       " Vin(prix='17,90', promo='-27%', prix_promo='12,90', note='18', nb_avis='17'),\n",
       " Vin(prix='8,50', promo='-28%', prix_promo='6,10', note='7', nb_avis='3'),\n",
       " Vin(prix='64,95', promo='-25%', prix_promo=None, note='9', nb_avis='107')]"
      ]
     },
     "execution_count": 186,
     "metadata": {},
     "output_type": "execute_result"
    }
   ],
   "source": [
    "[extract_vin_avis(item, item2) for (item, item2) in zip(extract_result(soupe)[\"result_price\"], extract_result(soupe)[\"result_avis\"])]\n"
   ]
  }
 ],
 "metadata": {
  "kernelspec": {
   "display_name": "Python 3",
   "language": "python",
   "name": "python3"
  },
  "language_info": {
   "codemirror_mode": {
    "name": "ipython",
    "version": 3
   },
   "file_extension": ".py",
   "mimetype": "text/x-python",
   "name": "python",
   "nbconvert_exporter": "python",
   "pygments_lexer": "ipython3",
   "version": "3.11.1"
  },
  "orig_nbformat": 4
 },
 "nbformat": 4,
 "nbformat_minor": 2
}
