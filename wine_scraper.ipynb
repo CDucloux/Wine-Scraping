{
 "cells": [
  {
   "cell_type": "markdown",
   "metadata": {},
   "source": [
    "# `Wine Scraping` 🍷\n",
    "***\n",
    "\n",
    "![Image](https://img.passeportsante.net/1200x675/2021-05-03/i102200-vin.webp)"
   ]
  },
  {
   "cell_type": "code",
   "execution_count": 49,
   "metadata": {},
   "outputs": [],
   "source": [
    "from bs4 import BeautifulSoup as BS\n",
    "from pathlib import Path\n",
    "import polars as pl\n",
    "import re"
   ]
  },
  {
   "cell_type": "code",
   "execution_count": 6,
   "metadata": {},
   "outputs": [
    {
     "name": "stdout",
     "output_type": "stream",
     "text": [
      "D:\\Cours Mecen (M2)\\Machine Learning\\Wine Scraping\n"
     ]
    }
   ],
   "source": [
    "racine = Path(\".\").resolve()\n",
    "print(racine)"
   ]
  },
  {
   "cell_type": "code",
   "execution_count": 9,
   "metadata": {},
   "outputs": [
    {
     "name": "stdout",
     "output_type": "stream",
     "text": [
      "D:\\Cours Mecen (M2)\\Machine Learning\\Wine Scraping\\test_pages\n"
     ]
    }
   ],
   "source": [
    "test_pages = racine / \"test_pages\"\n",
    "print(test_pages)"
   ]
  },
  {
   "cell_type": "code",
   "execution_count": 11,
   "metadata": {},
   "outputs": [
    {
     "name": "stdout",
     "output_type": "stream",
     "text": [
      "D:\\Cours Mecen (M2)\\Machine Learning\\Wine Scraping\\test_pages\\vin_blanc_page_1.html\n",
      "D:\\Cours Mecen (M2)\\Machine Learning\\Wine Scraping\\test_pages\\vin_rose_page_1.html\n",
      "D:\\Cours Mecen (M2)\\Machine Learning\\Wine Scraping\\test_pages\\vin_rouge_page_1.html\n"
     ]
    }
   ],
   "source": [
    "for chemin in test_pages.glob(\"*.html\"):\n",
    "    print(chemin)"
   ]
  },
  {
   "cell_type": "code",
   "execution_count": 12,
   "metadata": {},
   "outputs": [],
   "source": [
    "htmls = list()\n",
    "for chemin in test_pages.glob(\"*.html\"):\n",
    "    htmls.append(chemin.read_text(encoding=\"utf8\"))"
   ]
  },
  {
   "cell_type": "code",
   "execution_count": 99,
   "metadata": {},
   "outputs": [],
   "source": [
    "soupe = BS(htmls[1])"
   ]
  },
  {
   "cell_type": "code",
   "execution_count": 100,
   "metadata": {},
   "outputs": [],
   "source": [
    "result_items = soupe.find_all(name=\"div\", attrs={\"class\": \"vue-product-name\"})"
   ]
  },
  {
   "cell_type": "code",
   "execution_count": 101,
   "metadata": {},
   "outputs": [],
   "source": [
    "result_title = [x.text for x in result_items]"
   ]
  },
  {
   "cell_type": "code",
   "execution_count": 102,
   "metadata": {},
   "outputs": [],
   "source": [
    "contenance = [x[-6:] for x in result_title]"
   ]
  },
  {
   "cell_type": "code",
   "execution_count": 103,
   "metadata": {},
   "outputs": [
    {
     "data": {
      "text/plain": [
       "['EZ\\xa03 L',\n",
       " '0.75 L',\n",
       " '0.75 L',\n",
       " '0.75 L',\n",
       " '0.75 L',\n",
       " '0.75 L',\n",
       " '0.75 L',\n",
       " '0.75 L',\n",
       " '0.75 L',\n",
       " '0.75 L',\n",
       " '0.75 L',\n",
       " '0.75 L',\n",
       " '0.75 L',\n",
       " '0.75 L',\n",
       " '0.75 L',\n",
       " '0.75 L',\n",
       " '0.75 L',\n",
       " '0.75 L',\n",
       " '0.75 L',\n",
       " '0.75 L',\n",
       " '0.75 L',\n",
       " '0.75 L',\n",
       " '0.75 L',\n",
       " '0.75 L',\n",
       " '0.75 L',\n",
       " '0.75 L',\n",
       " '0.75 L',\n",
       " '0.75 L',\n",
       " '0.75 L',\n",
       " '0.75 L']"
      ]
     },
     "execution_count": 103,
     "metadata": {},
     "output_type": "execute_result"
    }
   ],
   "source": [
    "contenance"
   ]
  },
  {
   "cell_type": "code",
   "execution_count": 57,
   "metadata": {},
   "outputs": [],
   "source": [
    "def extract_year(text):\n",
    "    match = re.search(r'\\b\\d{4}\\b', text)\n",
    "    if match:\n",
    "        return int(match.group())\n",
    "    else:\n",
    "        return None"
   ]
  },
  {
   "cell_type": "code",
   "execution_count": 2,
   "metadata": {},
   "outputs": [
    {
     "name": "stdout",
     "output_type": "stream",
     "text": [
      "wine haram brother\n",
      " bro\n"
     ]
    }
   ],
   "source": [
    "print(\"wine haram brother\\n bro\")"
   ]
  },
  {
   "cell_type": "code",
   "execution_count": 58,
   "metadata": {},
   "outputs": [],
   "source": [
    "years = [extract_year(item) for item in result_title]"
   ]
  },
  {
   "cell_type": "code",
   "execution_count": 59,
   "metadata": {},
   "outputs": [
    {
     "data": {
      "text/plain": [
       "[2019,\n",
       " 2019,\n",
       " 2021,\n",
       " 2021,\n",
       " 2020,\n",
       " 2022,\n",
       " 2019,\n",
       " 2020,\n",
       " 2020,\n",
       " 2022,\n",
       " 2020,\n",
       " 2020,\n",
       " 2019,\n",
       " 2020,\n",
       " 2019,\n",
       " 2017,\n",
       " 2022,\n",
       " 2016,\n",
       " 2022,\n",
       " 2016,\n",
       " 2019,\n",
       " 2019,\n",
       " 2021,\n",
       " 2021,\n",
       " 2020,\n",
       " 2022,\n",
       " 2020,\n",
       " 2020,\n",
       " 2019,\n",
       " 2019,\n",
       " 2019,\n",
       " 2019,\n",
       " 2020,\n",
       " 2019,\n",
       " None,\n",
       " 2020,\n",
       " 2019,\n",
       " 2018,\n",
       " 2020,\n",
       " 2020,\n",
       " 2021,\n",
       " 2022,\n",
       " 2019,\n",
       " 2019,\n",
       " 2020,\n",
       " 2022,\n",
       " None,\n",
       " 2019,\n",
       " 2018,\n",
       " 2020,\n",
       " 2019,\n",
       " 2020,\n",
       " 2020,\n",
       " 2021,\n",
       " 2020,\n",
       " 2019]"
      ]
     },
     "execution_count": 59,
     "metadata": {},
     "output_type": "execute_result"
    }
   ],
   "source": [
    "years"
   ]
  }
 ],
 "metadata": {
  "kernelspec": {
   "display_name": "Python 3",
   "language": "python",
   "name": "python3"
  },
  "language_info": {
   "codemirror_mode": {
    "name": "ipython",
    "version": 3
   },
   "file_extension": ".py",
   "mimetype": "text/x-python",
   "name": "python",
   "nbconvert_exporter": "python",
   "pygments_lexer": "ipython3",
   "version": "3.11.1"
  },
  "orig_nbformat": 4
 },
 "nbformat": 4,
 "nbformat_minor": 2
}
